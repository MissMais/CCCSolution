{
 "cells": [
  {
   "cell_type": "markdown",
   "id": "7698e9b3",
   "metadata": {},
   "source": [
    "# Intraday Option Vol Surfaces"
   ]
  },
  {
   "cell_type": "code",
   "execution_count": 1,
   "id": "9a374082",
   "metadata": {},
   "outputs": [],
   "source": [
    "import os\n",
    "import time\n",
    "import pickle\n",
    "import numpy as np\n",
    "import pandas as pd\n",
    "import concurrent.futures as cf\n",
    "import matplotlib.pyplot as plt\n",
    "\n",
    "from datetime import timedelta, datetime, date\n",
    "from thetadata import ThetaClient, OptionReqType, OptionRight, DateRange, DataType"
   ]
  },
  {
   "cell_type": "markdown",
   "id": "939dc8f6",
   "metadata": {},
   "source": [
    "# Get all Expirations for SPY Options"
   ]
  },
  {
   "cell_type": "code",
   "execution_count": 2,
   "id": "b1fa978a",
   "metadata": {},
   "outputs": [
    {
     "name": "stdout",
     "output_type": "stream",
     "text": [
      "If you require API support, feel free to join our discord server! http://discord.thetadata.us\n",
      "Unable to fetch the latest terminal version. Please contact support.\n"
     ]
    },
    {
     "ename": "ConnectionError",
     "evalue": "Unable to connect to the local Theta Terminal process. Try restarting your system.",
     "output_type": "error",
     "traceback": [
      "\u001b[1;31m---------------------------------------------------------------------------\u001b[0m",
      "\u001b[1;31mConnectionRefusedError\u001b[0m                    Traceback (most recent call last)",
      "File \u001b[1;32m~\\AppData\\Local\\Programs\\Python\\Python311\\Lib\\site-packages\\thetadata\\client.py:351\u001b[0m, in \u001b[0;36mThetaClient.connect\u001b[1;34m(self)\u001b[0m\n\u001b[0;32m    350\u001b[0m \u001b[38;5;28mself\u001b[39m\u001b[38;5;241m.\u001b[39m_server \u001b[38;5;241m=\u001b[39m socket\u001b[38;5;241m.\u001b[39msocket()\n\u001b[1;32m--> 351\u001b[0m \u001b[38;5;28mself\u001b[39m\u001b[38;5;241m.\u001b[39m_server\u001b[38;5;241m.\u001b[39mconnect((\u001b[38;5;28mself\u001b[39m\u001b[38;5;241m.\u001b[39mhost, \u001b[38;5;28mself\u001b[39m\u001b[38;5;241m.\u001b[39mport))\n\u001b[0;32m    352\u001b[0m \u001b[38;5;28mself\u001b[39m\u001b[38;5;241m.\u001b[39m_server\u001b[38;5;241m.\u001b[39msettimeout(\u001b[38;5;241m1\u001b[39m)\n",
      "\u001b[1;31mConnectionRefusedError\u001b[0m: [WinError 10061] No connection could be made because the target machine actively refused it",
      "\nDuring handling of the above exception, another exception occurred:\n",
      "\u001b[1;31mConnectionError\u001b[0m                           Traceback (most recent call last)",
      "Cell \u001b[1;32mIn[2], line 20\u001b[0m\n\u001b[0;32m     17\u001b[0m     \u001b[38;5;28;01mreturn\u001b[39;00m data\n\u001b[0;32m     19\u001b[0m root_ticker \u001b[38;5;241m=\u001b[39m \u001b[38;5;124m'\u001b[39m\u001b[38;5;124mSPY\u001b[39m\u001b[38;5;124m'\u001b[39m\n\u001b[1;32m---> 20\u001b[0m expirations \u001b[38;5;241m=\u001b[39m \u001b[43mget_expirations\u001b[49m\u001b[43m(\u001b[49m\u001b[43mroot_ticker\u001b[49m\u001b[43m)\u001b[49m\n\u001b[0;32m     22\u001b[0m root_ticker \u001b[38;5;241m=\u001b[39m \u001b[38;5;124m'\u001b[39m\u001b[38;5;124mSPY\u001b[39m\u001b[38;5;124m'\u001b[39m\n\u001b[0;32m     23\u001b[0m expirations \u001b[38;5;241m=\u001b[39m get_expirations(root_ticker)\n",
      "Cell \u001b[1;32mIn[2], line 10\u001b[0m, in \u001b[0;36mget_expirations\u001b[1;34m(root_ticker)\u001b[0m\n\u001b[0;32m      7\u001b[0m client \u001b[38;5;241m=\u001b[39m ThetaClient(username\u001b[38;5;241m=\u001b[39myour_username, passwd\u001b[38;5;241m=\u001b[39myour_password, timeout\u001b[38;5;241m=\u001b[39m\u001b[38;5;241m15\u001b[39m)\n\u001b[0;32m      9\u001b[0m \u001b[38;5;66;03m# Connect to the Terminal\u001b[39;00m\n\u001b[1;32m---> 10\u001b[0m \u001b[43m\u001b[49m\u001b[38;5;28;43;01mwith\u001b[39;49;00m\u001b[43m \u001b[49m\u001b[43mclient\u001b[49m\u001b[38;5;241;43m.\u001b[39;49m\u001b[43mconnect\u001b[49m\u001b[43m(\u001b[49m\u001b[43m)\u001b[49m\u001b[43m:\u001b[49m\n\u001b[0;32m     11\u001b[0m \n\u001b[0;32m     12\u001b[0m \u001b[43m    \u001b[49m\u001b[38;5;66;43;03m# Make the request\u001b[39;49;00m\n\u001b[0;32m     13\u001b[0m \u001b[43m    \u001b[49m\u001b[43mdata\u001b[49m\u001b[43m \u001b[49m\u001b[38;5;241;43m=\u001b[39;49m\u001b[43m \u001b[49m\u001b[43mclient\u001b[49m\u001b[38;5;241;43m.\u001b[39;49m\u001b[43mget_expirations\u001b[49m\u001b[43m(\u001b[49m\n\u001b[0;32m     14\u001b[0m \u001b[43m        \u001b[49m\u001b[43mroot\u001b[49m\u001b[38;5;241;43m=\u001b[39;49m\u001b[43mroot_ticker\u001b[49m\u001b[43m,\u001b[49m\n\u001b[0;32m     15\u001b[0m \u001b[43m    \u001b[49m\u001b[43m)\u001b[49m\n\u001b[0;32m     17\u001b[0m \u001b[38;5;28;01mreturn\u001b[39;00m data\n",
      "File \u001b[1;32m~\\AppData\\Local\\Programs\\Python\\Python311\\Lib\\contextlib.py:137\u001b[0m, in \u001b[0;36m_GeneratorContextManager.__enter__\u001b[1;34m(self)\u001b[0m\n\u001b[0;32m    135\u001b[0m \u001b[38;5;28;01mdel\u001b[39;00m \u001b[38;5;28mself\u001b[39m\u001b[38;5;241m.\u001b[39margs, \u001b[38;5;28mself\u001b[39m\u001b[38;5;241m.\u001b[39mkwds, \u001b[38;5;28mself\u001b[39m\u001b[38;5;241m.\u001b[39mfunc\n\u001b[0;32m    136\u001b[0m \u001b[38;5;28;01mtry\u001b[39;00m:\n\u001b[1;32m--> 137\u001b[0m     \u001b[38;5;28;01mreturn\u001b[39;00m \u001b[38;5;28mnext\u001b[39m(\u001b[38;5;28mself\u001b[39m\u001b[38;5;241m.\u001b[39mgen)\n\u001b[0;32m    138\u001b[0m \u001b[38;5;28;01mexcept\u001b[39;00m \u001b[38;5;167;01mStopIteration\u001b[39;00m:\n\u001b[0;32m    139\u001b[0m     \u001b[38;5;28;01mraise\u001b[39;00m \u001b[38;5;167;01mRuntimeError\u001b[39;00m(\u001b[38;5;124m\"\u001b[39m\u001b[38;5;124mgenerator didn\u001b[39m\u001b[38;5;124m'\u001b[39m\u001b[38;5;124mt yield\u001b[39m\u001b[38;5;124m\"\u001b[39m) \u001b[38;5;28;01mfrom\u001b[39;00m \u001b[38;5;28;01mNone\u001b[39;00m\n",
      "File \u001b[1;32m~\\AppData\\Local\\Programs\\Python\\Python311\\Lib\\site-packages\\thetadata\\client.py:356\u001b[0m, in \u001b[0;36mThetaClient.connect\u001b[1;34m(self)\u001b[0m\n\u001b[0;32m    354\u001b[0m     \u001b[38;5;28;01mexcept\u001b[39;00m \u001b[38;5;167;01mConnectionError\u001b[39;00m:\n\u001b[0;32m    355\u001b[0m         \u001b[38;5;28;01mif\u001b[39;00m i \u001b[38;5;241m==\u001b[39m \u001b[38;5;241m14\u001b[39m:\n\u001b[1;32m--> 356\u001b[0m             \u001b[38;5;28;01mraise\u001b[39;00m \u001b[38;5;167;01mConnectionError\u001b[39;00m(\u001b[38;5;124m'\u001b[39m\u001b[38;5;124mUnable to connect to the local Theta Terminal process.\u001b[39m\u001b[38;5;124m'\u001b[39m\n\u001b[0;32m    357\u001b[0m                                   \u001b[38;5;124m'\u001b[39m\u001b[38;5;124m Try restarting your system.\u001b[39m\u001b[38;5;124m'\u001b[39m)\n\u001b[0;32m    358\u001b[0m         sleep(\u001b[38;5;241m1\u001b[39m)\n\u001b[0;32m    359\u001b[0m \u001b[38;5;28mself\u001b[39m\u001b[38;5;241m.\u001b[39m_server\u001b[38;5;241m.\u001b[39msettimeout(\u001b[38;5;28mself\u001b[39m\u001b[38;5;241m.\u001b[39mtimeout)\n",
      "\u001b[1;31mConnectionError\u001b[0m: Unable to connect to the local Theta Terminal process. Try restarting your system."
     ]
    }
   ],
   "source": [
    "your_username = 'mswaseem131@gmail.com'\n",
    "your_password = 'Maisara@1234'\n",
    "\n",
    "def get_expirations(root_ticker) -> pd.DataFrame:\n",
    "    \"\"\"Request expirations from a particular options root\"\"\"\n",
    "    # Create a ThetaClient\n",
    "    client = ThetaClient(username=your_username, passwd=your_password, timeout=15)\n",
    "\n",
    "    # Connect to the Terminal\n",
    "    with client.connect():\n",
    "\n",
    "        # Make the request\n",
    "        data = client.get_expirations(\n",
    "            root=root_ticker,\n",
    "        )\n",
    "\n",
    "    return data\n",
    "\n",
    "root_ticker = 'SPY'\n",
    "expirations = get_expirations(root_ticker)\n",
    "\n",
    "root_ticker = 'SPY'\n",
    "expirations = get_expirations(root_ticker)\n",
    "\n",
    "exp_dates = expirations[expirations > time_now + timedelta(days=7)]\n",
    "exp_dates"
   ]
  },
  {
   "cell_type": "markdown",
   "id": "60c163b0",
   "metadata": {},
   "source": [
    "# Get all Strikes for each SPY Option"
   ]
  },
  {
   "cell_type": "code",
   "execution_count": 3,
   "id": "cf2879f5",
   "metadata": {},
   "outputs": [
    {
     "name": "stdout",
     "output_type": "stream",
     "text": [
      "If you require API support, feel free to join our discord server! http://discord.thetadata.us\n",
      "[09-17-2023 14:13:08] INFO: Starting Theta Terminal v1.0.6 Revision Rev A...\n",
      "[09-17-2023 14:13:08] INFO: Config dir: C:\\Users\\hp\\ThetaData\\ThetaTerminal\n",
      "[09-17-2023 14:13:09] INFO: [MDDS] Attempting login as \n",
      "[09-17-2023 14:13:10] INFO: [MDDS] Disconnected from server: INVALID_CREDENTIALS\n",
      "[09-17-2023 14:13:10] INFO: [FPSS] Attempting login as \n",
      "[09-17-2023 14:13:12] INFO: [FPSS] Disconnected from server: INVALID_CREDENTIALS\n"
     ]
    },
    {
     "ename": "TimeoutError",
     "evalue": "timed out",
     "output_type": "error",
     "traceback": [
      "\u001b[1;31m---------------------------------------------------------------------------\u001b[0m",
      "\u001b[1;31mTimeoutError\u001b[0m                              Traceback (most recent call last)",
      "Cell \u001b[1;32mIn[3], line 19\u001b[0m\n\u001b[0;32m     17\u001b[0m root_ticker \u001b[38;5;241m=\u001b[39m \u001b[38;5;124m'\u001b[39m\u001b[38;5;124mSPY\u001b[39m\u001b[38;5;124m'\u001b[39m\n\u001b[0;32m     18\u001b[0m exp_date \u001b[38;5;241m=\u001b[39m date(\u001b[38;5;241m2022\u001b[39m,\u001b[38;5;241m9\u001b[39m,\u001b[38;5;241m16\u001b[39m)\n\u001b[1;32m---> 19\u001b[0m strikes \u001b[38;5;241m=\u001b[39m \u001b[43mget_strikes\u001b[49m\u001b[43m(\u001b[49m\u001b[43mroot_ticker\u001b[49m\u001b[43m,\u001b[49m\u001b[43m \u001b[49m\u001b[43mexp_date\u001b[49m\u001b[43m)\u001b[49m\n\u001b[0;32m     20\u001b[0m strikes\n\u001b[0;32m     22\u001b[0m root_ticker \u001b[38;5;241m=\u001b[39m \u001b[38;5;124m'\u001b[39m\u001b[38;5;124mSPY\u001b[39m\u001b[38;5;124m'\u001b[39m\n",
      "Cell \u001b[1;32mIn[3], line 10\u001b[0m, in \u001b[0;36mget_strikes\u001b[1;34m(root_ticker, expiration_date)\u001b[0m\n\u001b[0;32m      6\u001b[0m \u001b[38;5;66;03m# Connect to the Terminal\u001b[39;00m\n\u001b[0;32m      7\u001b[0m \u001b[38;5;28;01mwith\u001b[39;00m client\u001b[38;5;241m.\u001b[39mconnect():\n\u001b[0;32m      8\u001b[0m \n\u001b[0;32m      9\u001b[0m     \u001b[38;5;66;03m# Make the request\u001b[39;00m\n\u001b[1;32m---> 10\u001b[0m     data \u001b[38;5;241m=\u001b[39m \u001b[43mclient\u001b[49m\u001b[38;5;241;43m.\u001b[39;49m\u001b[43mget_strikes\u001b[49m\u001b[43m(\u001b[49m\n\u001b[0;32m     11\u001b[0m \u001b[43m        \u001b[49m\u001b[43mroot\u001b[49m\u001b[38;5;241;43m=\u001b[39;49m\u001b[43mroot_ticker\u001b[49m\u001b[43m,\u001b[49m\n\u001b[0;32m     12\u001b[0m \u001b[43m        \u001b[49m\u001b[43mexp\u001b[49m\u001b[38;5;241;43m=\u001b[39;49m\u001b[43mexpiration_date\u001b[49m\n\u001b[0;32m     13\u001b[0m \u001b[43m    \u001b[49m\u001b[43m)\u001b[49m\n\u001b[0;32m     15\u001b[0m \u001b[38;5;28;01mreturn\u001b[39;00m data\n",
      "File \u001b[1;32m~\\AppData\\Local\\Programs\\Python\\Python311\\Lib\\site-packages\\thetadata\\client.py:1206\u001b[0m, in \u001b[0;36mThetaClient.get_strikes\u001b[1;34m(self, root, exp, date_range)\u001b[0m\n\u001b[0;32m   1204\u001b[0m     out \u001b[38;5;241m=\u001b[39m \u001b[38;5;124mf\u001b[39m\u001b[38;5;124m\"\u001b[39m\u001b[38;5;124mMSG_CODE=\u001b[39m\u001b[38;5;132;01m{\u001b[39;00mMessageType\u001b[38;5;241m.\u001b[39mALL_STRIKES\u001b[38;5;241m.\u001b[39mvalue\u001b[38;5;132;01m}\u001b[39;00m\u001b[38;5;124m&root=\u001b[39m\u001b[38;5;132;01m{\u001b[39;00mroot\u001b[38;5;132;01m}\u001b[39;00m\u001b[38;5;124m&exp=\u001b[39m\u001b[38;5;132;01m{\u001b[39;00mexp_fmt\u001b[38;5;132;01m}\u001b[39;00m\u001b[38;5;130;01m\\n\u001b[39;00m\u001b[38;5;124m\"\u001b[39m\n\u001b[0;32m   1205\u001b[0m \u001b[38;5;28mself\u001b[39m\u001b[38;5;241m.\u001b[39m_server\u001b[38;5;241m.\u001b[39msend(out\u001b[38;5;241m.\u001b[39mencode(\u001b[38;5;124m\"\u001b[39m\u001b[38;5;124mutf-8\u001b[39m\u001b[38;5;124m\"\u001b[39m))\n\u001b[1;32m-> 1206\u001b[0m header \u001b[38;5;241m=\u001b[39m Header\u001b[38;5;241m.\u001b[39mparse(out, \u001b[38;5;28;43mself\u001b[39;49m\u001b[38;5;241;43m.\u001b[39;49m\u001b[43m_server\u001b[49m\u001b[38;5;241;43m.\u001b[39;49m\u001b[43mrecv\u001b[49m\u001b[43m(\u001b[49m\u001b[38;5;241;43m20\u001b[39;49m\u001b[43m)\u001b[49m)\n\u001b[0;32m   1207\u001b[0m body \u001b[38;5;241m=\u001b[39m ListBody\u001b[38;5;241m.\u001b[39mparse(out, header, \u001b[38;5;28mself\u001b[39m\u001b[38;5;241m.\u001b[39m_recv(header\u001b[38;5;241m.\u001b[39msize))\u001b[38;5;241m.\u001b[39mlst\n\u001b[0;32m   1208\u001b[0m div \u001b[38;5;241m=\u001b[39m Decimal(\u001b[38;5;241m1000\u001b[39m)\n",
      "\u001b[1;31mTimeoutError\u001b[0m: timed out"
     ]
    }
   ],
   "source": [
    "def get_strikes(root_ticker, expiration_date) -> pd.DataFrame:\n",
    "    \"\"\"Request strikes from a particular option contract\"\"\"\n",
    "    # Create a ThetaClient\n",
    "    client = ThetaClient(username=your_username, passwd=your_password, timeout=15)\n",
    "\n",
    "    # Connect to the Terminal\n",
    "    with client.connect():\n",
    "\n",
    "        # Make the request\n",
    "        data = client.get_strikes(\n",
    "            root=root_ticker,\n",
    "            exp=expiration_date\n",
    "        )\n",
    "\n",
    "    return data\n",
    "\n",
    "root_ticker = 'SPY'\n",
    "exp_date = date(2022,9,16)\n",
    "strikes = get_strikes(root_ticker, exp_date)\n",
    "strikes\n",
    "\n",
    "root_ticker = 'SPY'\n",
    "all_strikes = {}\n",
    "for exp_date in exp_dates:\n",
    "    all_strikes[exp_date] = pd.to_numeric(get_strikes(root_ticker, exp_date))"
   ]
  },
  {
   "cell_type": "markdown",
   "id": "55d1c588",
   "metadata": {},
   "source": [
    "# Find combined Strikes across expiry dates"
   ]
  },
  {
   "cell_type": "code",
   "execution_count": 4,
   "id": "e75f535f",
   "metadata": {},
   "outputs": [
    {
     "ename": "NameError",
     "evalue": "name 'all_strikes' is not defined",
     "output_type": "error",
     "traceback": [
      "\u001b[1;31m---------------------------------------------------------------------------\u001b[0m",
      "\u001b[1;31mNameError\u001b[0m                                 Traceback (most recent call last)",
      "Cell \u001b[1;32mIn[4], line 1\u001b[0m\n\u001b[1;32m----> 1\u001b[0m combined_strikes \u001b[38;5;241m=\u001b[39m [\u001b[38;5;28mlist\u001b[39m(strikes) \u001b[38;5;28;01mfor\u001b[39;00m strikes \u001b[38;5;129;01min\u001b[39;00m \u001b[43mall_strikes\u001b[49m\u001b[38;5;241m.\u001b[39mvalues()]\n\u001b[0;32m      2\u001b[0m vol_surface_strikes \u001b[38;5;241m=\u001b[39m \u001b[38;5;28mset\u001b[39m\u001b[38;5;241m.\u001b[39mintersection(\u001b[38;5;241m*\u001b[39m\u001b[38;5;28mmap\u001b[39m(\u001b[38;5;28mset\u001b[39m,combined_strikes))\n\u001b[0;32m      3\u001b[0m vol_surface_strikes\n",
      "\u001b[1;31mNameError\u001b[0m: name 'all_strikes' is not defined"
     ]
    }
   ],
   "source": [
    "combined_strikes = [list(strikes) for strikes in all_strikes.values()]\n",
    "vol_surface_strikes = set.intersection(*map(set,combined_strikes))\n",
    "vol_surface_strikes\n",
    "\n",
    "with open('vol_surface_strikes.pkl', 'wb') as f:\n",
    "    pickle.dump(vol_surface_strikes, f)\n",
    "\n",
    "with open('vol_surface_strikes.pkl', 'rb') as f:\n",
    "    vol_surface_strikes = pickle.load(f)\n",
    "\n",
    "vol_surface_strikes = list(vol_surface_strikes)\n",
    "vol_surface_strikes.sort()\n",
    "vol_surface_strikes"
   ]
  },
  {
   "cell_type": "markdown",
   "id": "92b1ab19",
   "metadata": {},
   "source": [
    "# Retreive EOD Options Data"
   ]
  },
  {
   "cell_type": "code",
   "execution_count": 5,
   "id": "55a9871f",
   "metadata": {},
   "outputs": [
    {
     "ename": "NameError",
     "evalue": "name 'exp_dates' is not defined",
     "output_type": "error",
     "traceback": [
      "\u001b[1;31m---------------------------------------------------------------------------\u001b[0m",
      "\u001b[1;31mNameError\u001b[0m                                 Traceback (most recent call last)",
      "Cell \u001b[1;32mIn[5], line 24\u001b[0m\n\u001b[0;32m     22\u001b[0m from_date \u001b[38;5;241m=\u001b[39m date(\u001b[38;5;241m2022\u001b[39m,\u001b[38;5;241m8\u001b[39m,\u001b[38;5;241m26\u001b[39m)\n\u001b[0;32m     23\u001b[0m to_date \u001b[38;5;241m=\u001b[39m date(\u001b[38;5;241m2022\u001b[39m,\u001b[38;5;241m8\u001b[39m,\u001b[38;5;241m31\u001b[39m)\n\u001b[1;32m---> 24\u001b[0m exp_date \u001b[38;5;241m=\u001b[39m \u001b[43mexp_dates\u001b[49m\u001b[38;5;241m.\u001b[39mtolist()[\u001b[38;5;241m0\u001b[39m]\n\u001b[0;32m     25\u001b[0m strike \u001b[38;5;241m=\u001b[39m \u001b[38;5;241m420000\u001b[39m\n\u001b[0;32m     26\u001b[0m data \u001b[38;5;241m=\u001b[39m end_of_day(root_ticker, exp_date, \u001b[38;5;28mint\u001b[39m(\u001b[38;5;28mint\u001b[39m(strike)\u001b[38;5;241m/\u001b[39m\u001b[38;5;241m1000\u001b[39m), from_date, to_date)\n",
      "\u001b[1;31mNameError\u001b[0m: name 'exp_dates' is not defined"
     ]
    }
   ],
   "source": [
    "def end_of_day(root_ticker, exp_date, strike, from_date, to_date) -> pd.DataFrame:\n",
    "    \"\"\"Request end-of-day data\"\"\"\n",
    "    # Create a ThetaClient\n",
    "    client = ThetaClient(username=your_username, passwd=your_password, timeout=10)\n",
    "\n",
    "    # Connect to the Terminal\n",
    "    with client.connect():\n",
    "\n",
    "        # Make the request\n",
    "        data = client.get_hist_option(\n",
    "            req=OptionReqType.EOD,\n",
    "            root=root_ticker,\n",
    "            exp=exp_date,\n",
    "            strike=strike,\n",
    "            right=OptionRight.CALL,\n",
    "            date_range=DateRange(from_date, to_date),\n",
    "        )\n",
    "\n",
    "    return data\n",
    "\n",
    "root_ticker = 'SPY'\n",
    "from_date = date(2022,8,26)\n",
    "to_date = date(2022,8,31)\n",
    "exp_date = exp_dates.tolist()[0]\n",
    "strike = 420000\n",
    "data = end_of_day(root_ticker, exp_date, int(int(strike)/1000), from_date, to_date)\n",
    "data"
   ]
  },
  {
   "cell_type": "markdown",
   "id": "b4b4d537",
   "metadata": {},
   "source": [
    "# Retreive Trades Data"
   ]
  },
  {
   "cell_type": "code",
   "execution_count": 6,
   "id": "8accb35a",
   "metadata": {},
   "outputs": [
    {
     "name": "stdout",
     "output_type": "stream",
     "text": [
      "If you require API support, feel free to join our discord server! http://discord.thetadata.us\n",
      "Unable to fetch the latest terminal version. Please contact support.\n"
     ]
    },
    {
     "ename": "ConnectionError",
     "evalue": "Unable to connect to the local Theta Terminal process. Try restarting your system.",
     "output_type": "error",
     "traceback": [
      "\u001b[1;31m---------------------------------------------------------------------------\u001b[0m",
      "\u001b[1;31mConnectionRefusedError\u001b[0m                    Traceback (most recent call last)",
      "File \u001b[1;32m~\\AppData\\Local\\Programs\\Python\\Python311\\Lib\\site-packages\\thetadata\\client.py:351\u001b[0m, in \u001b[0;36mThetaClient.connect\u001b[1;34m(self)\u001b[0m\n\u001b[0;32m    350\u001b[0m \u001b[38;5;28mself\u001b[39m\u001b[38;5;241m.\u001b[39m_server \u001b[38;5;241m=\u001b[39m socket\u001b[38;5;241m.\u001b[39msocket()\n\u001b[1;32m--> 351\u001b[0m \u001b[38;5;28mself\u001b[39m\u001b[38;5;241m.\u001b[39m_server\u001b[38;5;241m.\u001b[39mconnect((\u001b[38;5;28mself\u001b[39m\u001b[38;5;241m.\u001b[39mhost, \u001b[38;5;28mself\u001b[39m\u001b[38;5;241m.\u001b[39mport))\n\u001b[0;32m    352\u001b[0m \u001b[38;5;28mself\u001b[39m\u001b[38;5;241m.\u001b[39m_server\u001b[38;5;241m.\u001b[39msettimeout(\u001b[38;5;241m1\u001b[39m)\n",
      "\u001b[1;31mConnectionRefusedError\u001b[0m: [WinError 10061] No connection could be made because the target machine actively refused it",
      "\nDuring handling of the above exception, another exception occurred:\n",
      "\u001b[1;31mConnectionError\u001b[0m                           Traceback (most recent call last)",
      "Cell \u001b[1;32mIn[6], line 28\u001b[0m\n\u001b[0;32m     26\u001b[0m to_date \u001b[38;5;241m=\u001b[39m date(\u001b[38;5;241m2022\u001b[39m,\u001b[38;5;241m8\u001b[39m,\u001b[38;5;241m31\u001b[39m)\n\u001b[0;32m     27\u001b[0m strike \u001b[38;5;241m=\u001b[39m \u001b[38;5;241m420000\u001b[39m\n\u001b[1;32m---> 28\u001b[0m data \u001b[38;5;241m=\u001b[39m \u001b[43mtrades\u001b[49m\u001b[43m(\u001b[49m\u001b[43mroot_ticker\u001b[49m\u001b[43m,\u001b[49m\u001b[43m \u001b[49m\u001b[43mexp_date\u001b[49m\u001b[43m,\u001b[49m\u001b[43m \u001b[49m\u001b[38;5;28;43mint\u001b[39;49m\u001b[43m(\u001b[49m\u001b[38;5;28;43mint\u001b[39;49m\u001b[43m(\u001b[49m\u001b[43mstrike\u001b[49m\u001b[43m)\u001b[49m\u001b[38;5;241;43m/\u001b[39;49m\u001b[38;5;241;43m1000\u001b[39;49m\u001b[43m)\u001b[49m\u001b[43m,\u001b[49m\u001b[43m \u001b[49m\u001b[43mfrom_date\u001b[49m\u001b[43m,\u001b[49m\u001b[43m \u001b[49m\u001b[43mto_date\u001b[49m\u001b[43m)\u001b[49m\n\u001b[0;32m     29\u001b[0m data\n",
      "Cell \u001b[1;32mIn[6], line 8\u001b[0m, in \u001b[0;36mtrades\u001b[1;34m(root_ticker, exp_date, strike, from_date, to_date)\u001b[0m\n\u001b[0;32m      5\u001b[0m client \u001b[38;5;241m=\u001b[39m ThetaClient(username\u001b[38;5;241m=\u001b[39myour_username, passwd\u001b[38;5;241m=\u001b[39myour_password, timeout\u001b[38;5;241m=\u001b[39m\u001b[38;5;241m10\u001b[39m)\n\u001b[0;32m      7\u001b[0m \u001b[38;5;66;03m# Connect to the Terminal\u001b[39;00m\n\u001b[1;32m----> 8\u001b[0m \u001b[43m\u001b[49m\u001b[38;5;28;43;01mwith\u001b[39;49;00m\u001b[43m \u001b[49m\u001b[43mclient\u001b[49m\u001b[38;5;241;43m.\u001b[39;49m\u001b[43mconnect\u001b[49m\u001b[43m(\u001b[49m\u001b[43m)\u001b[49m\u001b[43m:\u001b[49m\n\u001b[0;32m     10\u001b[0m \u001b[43m    \u001b[49m\u001b[43mdata\u001b[49m\u001b[43m \u001b[49m\u001b[38;5;241;43m=\u001b[39;49m\u001b[43m \u001b[49m\u001b[43mclient\u001b[49m\u001b[38;5;241;43m.\u001b[39;49m\u001b[43mget_hist_option\u001b[49m\u001b[43m(\u001b[49m\n\u001b[0;32m     11\u001b[0m \u001b[43m        \u001b[49m\u001b[43mreq\u001b[49m\u001b[38;5;241;43m=\u001b[39;49m\u001b[43mOptionReqType\u001b[49m\u001b[38;5;241;43m.\u001b[39;49m\u001b[43mTRADE\u001b[49m\u001b[43m,\u001b[49m\n\u001b[0;32m     12\u001b[0m \u001b[43m        \u001b[49m\u001b[43mroot\u001b[49m\u001b[38;5;241;43m=\u001b[39;49m\u001b[43mroot_ticker\u001b[49m\u001b[43m,\u001b[49m\n\u001b[1;32m   (...)\u001b[0m\n\u001b[0;32m     17\u001b[0m \u001b[43m        \u001b[49m\u001b[43mprogress_bar\u001b[49m\u001b[38;5;241;43m=\u001b[39;49m\u001b[38;5;28;43;01mFalse\u001b[39;49;00m\u001b[43m,\u001b[49m\n\u001b[0;32m     18\u001b[0m \u001b[43m    \u001b[49m\u001b[43m)\u001b[49m\n\u001b[0;32m     20\u001b[0m \u001b[38;5;28;01mreturn\u001b[39;00m data\n",
      "File \u001b[1;32m~\\AppData\\Local\\Programs\\Python\\Python311\\Lib\\contextlib.py:137\u001b[0m, in \u001b[0;36m_GeneratorContextManager.__enter__\u001b[1;34m(self)\u001b[0m\n\u001b[0;32m    135\u001b[0m \u001b[38;5;28;01mdel\u001b[39;00m \u001b[38;5;28mself\u001b[39m\u001b[38;5;241m.\u001b[39margs, \u001b[38;5;28mself\u001b[39m\u001b[38;5;241m.\u001b[39mkwds, \u001b[38;5;28mself\u001b[39m\u001b[38;5;241m.\u001b[39mfunc\n\u001b[0;32m    136\u001b[0m \u001b[38;5;28;01mtry\u001b[39;00m:\n\u001b[1;32m--> 137\u001b[0m     \u001b[38;5;28;01mreturn\u001b[39;00m \u001b[38;5;28mnext\u001b[39m(\u001b[38;5;28mself\u001b[39m\u001b[38;5;241m.\u001b[39mgen)\n\u001b[0;32m    138\u001b[0m \u001b[38;5;28;01mexcept\u001b[39;00m \u001b[38;5;167;01mStopIteration\u001b[39;00m:\n\u001b[0;32m    139\u001b[0m     \u001b[38;5;28;01mraise\u001b[39;00m \u001b[38;5;167;01mRuntimeError\u001b[39;00m(\u001b[38;5;124m\"\u001b[39m\u001b[38;5;124mgenerator didn\u001b[39m\u001b[38;5;124m'\u001b[39m\u001b[38;5;124mt yield\u001b[39m\u001b[38;5;124m\"\u001b[39m) \u001b[38;5;28;01mfrom\u001b[39;00m \u001b[38;5;28;01mNone\u001b[39;00m\n",
      "File \u001b[1;32m~\\AppData\\Local\\Programs\\Python\\Python311\\Lib\\site-packages\\thetadata\\client.py:356\u001b[0m, in \u001b[0;36mThetaClient.connect\u001b[1;34m(self)\u001b[0m\n\u001b[0;32m    354\u001b[0m     \u001b[38;5;28;01mexcept\u001b[39;00m \u001b[38;5;167;01mConnectionError\u001b[39;00m:\n\u001b[0;32m    355\u001b[0m         \u001b[38;5;28;01mif\u001b[39;00m i \u001b[38;5;241m==\u001b[39m \u001b[38;5;241m14\u001b[39m:\n\u001b[1;32m--> 356\u001b[0m             \u001b[38;5;28;01mraise\u001b[39;00m \u001b[38;5;167;01mConnectionError\u001b[39;00m(\u001b[38;5;124m'\u001b[39m\u001b[38;5;124mUnable to connect to the local Theta Terminal process.\u001b[39m\u001b[38;5;124m'\u001b[39m\n\u001b[0;32m    357\u001b[0m                                   \u001b[38;5;124m'\u001b[39m\u001b[38;5;124m Try restarting your system.\u001b[39m\u001b[38;5;124m'\u001b[39m)\n\u001b[0;32m    358\u001b[0m         sleep(\u001b[38;5;241m1\u001b[39m)\n\u001b[0;32m    359\u001b[0m \u001b[38;5;28mself\u001b[39m\u001b[38;5;241m.\u001b[39m_server\u001b[38;5;241m.\u001b[39msettimeout(\u001b[38;5;28mself\u001b[39m\u001b[38;5;241m.\u001b[39mtimeout)\n",
      "\u001b[1;31mConnectionError\u001b[0m: Unable to connect to the local Theta Terminal process. Try restarting your system."
     ]
    }
   ],
   "source": [
    "# Make the request\n",
    "def trades(root_ticker, exp_date, strike, from_date, to_date) -> pd.DataFrame:\n",
    "    \"\"\"Request trade level data\"\"\"\n",
    "    # Create a ThetaClient\n",
    "    client = ThetaClient(username=your_username, passwd=your_password, timeout=10)\n",
    "\n",
    "    # Connect to the Terminal\n",
    "    with client.connect():\n",
    "\n",
    "        data = client.get_hist_option(\n",
    "            req=OptionReqType.TRADE,\n",
    "            root=root_ticker,\n",
    "            exp=exp_date,\n",
    "            strike=strike,\n",
    "            right=OptionRight.CALL,\n",
    "            date_range=DateRange(from_date, to_date),\n",
    "            progress_bar=False,\n",
    "        )\n",
    "\n",
    "    return data\n",
    "\n",
    "\n",
    "root_ticker = 'SPY'\n",
    "exp_date = date(2022,9,16)\n",
    "from_date = date(2022,8,31)\n",
    "to_date = date(2022,8,31)\n",
    "strike = 420000\n",
    "data = trades(root_ticker, exp_date, int(int(strike)/1000), from_date, to_date)\n",
    "data"
   ]
  },
  {
   "cell_type": "markdown",
   "id": "3c689f9f",
   "metadata": {},
   "source": [
    "# Use MS_OF_DAY to Create DateTime"
   ]
  },
  {
   "cell_type": "code",
   "execution_count": 7,
   "id": "7d7778e9",
   "metadata": {},
   "outputs": [
    {
     "ename": "NameError",
     "evalue": "name 'data' is not defined",
     "output_type": "error",
     "traceback": [
      "\u001b[1;31m---------------------------------------------------------------------------\u001b[0m",
      "\u001b[1;31mNameError\u001b[0m                                 Traceback (most recent call last)",
      "Cell \u001b[1;32mIn[7], line 1\u001b[0m\n\u001b[1;32m----> 1\u001b[0m data[\u001b[38;5;124m'\u001b[39m\u001b[38;5;124mDATETIME\u001b[39m\u001b[38;5;124m'\u001b[39m] \u001b[38;5;241m=\u001b[39m \u001b[43mdata\u001b[49m[DataType\u001b[38;5;241m.\u001b[39mDATE] \u001b[38;5;241m+\u001b[39m pd\u001b[38;5;241m.\u001b[39mTimedeltaIndex(data[DataType\u001b[38;5;241m.\u001b[39mMS_OF_DAY], unit\u001b[38;5;241m=\u001b[39m\u001b[38;5;124m'\u001b[39m\u001b[38;5;124mms\u001b[39m\u001b[38;5;124m'\u001b[39m)\n\u001b[0;32m      2\u001b[0m plt\u001b[38;5;241m.\u001b[39mfigure(figsize\u001b[38;5;241m=\u001b[39m(\u001b[38;5;241m12\u001b[39m,\u001b[38;5;241m6\u001b[39m))\n\u001b[0;32m      3\u001b[0m plt\u001b[38;5;241m.\u001b[39mtitle(\u001b[38;5;124m'\u001b[39m\u001b[38;5;124mTraded Price of 16-Sep SPY Call Options \u001b[39m\u001b[38;5;130;01m\\n\u001b[39;00m\u001b[38;5;124m Trading day: 31-Aug \u001b[39m\u001b[38;5;124m'\u001b[39m) \n",
      "\u001b[1;31mNameError\u001b[0m: name 'data' is not defined"
     ]
    }
   ],
   "source": [
    "data['DATETIME'] = data[DataType.DATE] + pd.TimedeltaIndex(data[DataType.MS_OF_DAY], unit='ms')\n",
    "plt.figure(figsize=(12,6))\n",
    "plt.title('Traded Price of 16-Sep SPY Call Options \\n Trading day: 31-Aug ') \n",
    "plt.xlabel('Datetime')\n",
    "plt.ylabel('Traded Price $')\n",
    "plt.plot(data['DATETIME'],data[DataType.PRICE])"
   ]
  },
  {
   "cell_type": "code",
   "execution_count": 8,
   "id": "26493d42",
   "metadata": {},
   "outputs": [
    {
     "name": "stdout",
     "output_type": "stream",
     "text": [
      "If you require API support, feel free to join our discord server! http://discord.thetadata.us\n",
      "[09-17-2023 14:17:28] INFO: Starting Theta Terminal v1.0.6 Revision Rev A...\n",
      "[09-17-2023 14:17:28] INFO: Config dir: C:\\Users\\hp\\ThetaData\\ThetaTerminal\n",
      "[09-17-2023 14:17:29] INFO: [MDDS] Attempting login as \n",
      "[09-17-2023 14:17:30] INFO: [MDDS] Disconnected from server: INVALID_CREDENTIALS\n",
      "[09-17-2023 14:17:30] INFO: [FPSS] Attempting login as \n",
      "[09-17-2023 14:17:32] INFO: [FPSS] Disconnected from server: INVALID_CREDENTIALS\n"
     ]
    },
    {
     "ename": "TimeoutError",
     "evalue": "timed out",
     "output_type": "error",
     "traceback": [
      "\u001b[1;31m---------------------------------------------------------------------------\u001b[0m",
      "\u001b[1;31mTimeoutError\u001b[0m                              Traceback (most recent call last)",
      "Cell \u001b[1;32mIn[8], line 25\u001b[0m\n\u001b[0;32m     23\u001b[0m to_date \u001b[38;5;241m=\u001b[39m date(\u001b[38;5;241m2022\u001b[39m,\u001b[38;5;241m8\u001b[39m,\u001b[38;5;241m31\u001b[39m)\n\u001b[0;32m     24\u001b[0m strike \u001b[38;5;241m=\u001b[39m \u001b[38;5;241m420000\u001b[39m\n\u001b[1;32m---> 25\u001b[0m data \u001b[38;5;241m=\u001b[39m \u001b[43mquotes\u001b[49m\u001b[43m(\u001b[49m\u001b[43mroot_ticker\u001b[49m\u001b[43m,\u001b[49m\u001b[43m \u001b[49m\u001b[43mexp_date\u001b[49m\u001b[43m,\u001b[49m\u001b[43m \u001b[49m\u001b[38;5;28;43mint\u001b[39;49m\u001b[43m(\u001b[49m\u001b[38;5;28;43mint\u001b[39;49m\u001b[43m(\u001b[49m\u001b[43mstrike\u001b[49m\u001b[43m)\u001b[49m\u001b[38;5;241;43m/\u001b[39;49m\u001b[38;5;241;43m1000\u001b[39;49m\u001b[43m)\u001b[49m\u001b[43m,\u001b[49m\u001b[43m \u001b[49m\u001b[43mfrom_date\u001b[49m\u001b[43m,\u001b[49m\u001b[43m \u001b[49m\u001b[43mto_date\u001b[49m\u001b[43m)\u001b[49m\n\u001b[0;32m     26\u001b[0m data\n",
      "Cell \u001b[1;32mIn[8], line 9\u001b[0m, in \u001b[0;36mquotes\u001b[1;34m(root_ticker, exp_date, strike, from_date, to_date, interval_size)\u001b[0m\n\u001b[0;32m      7\u001b[0m \u001b[38;5;66;03m# Connect to the Terminal\u001b[39;00m\n\u001b[0;32m      8\u001b[0m \u001b[38;5;28;01mwith\u001b[39;00m client\u001b[38;5;241m.\u001b[39mconnect():\n\u001b[1;32m----> 9\u001b[0m     data \u001b[38;5;241m=\u001b[39m \u001b[43mclient\u001b[49m\u001b[38;5;241;43m.\u001b[39;49m\u001b[43mget_hist_option\u001b[49m\u001b[43m(\u001b[49m\n\u001b[0;32m     10\u001b[0m \u001b[43m        \u001b[49m\u001b[43mreq\u001b[49m\u001b[38;5;241;43m=\u001b[39;49m\u001b[43mOptionReqType\u001b[49m\u001b[38;5;241;43m.\u001b[39;49m\u001b[43mQUOTE\u001b[49m\u001b[43m,\u001b[49m\n\u001b[0;32m     11\u001b[0m \u001b[43m        \u001b[49m\u001b[43mroot\u001b[49m\u001b[38;5;241;43m=\u001b[39;49m\u001b[43mroot_ticker\u001b[49m\u001b[43m,\u001b[49m\n\u001b[0;32m     12\u001b[0m \u001b[43m        \u001b[49m\u001b[43mexp\u001b[49m\u001b[38;5;241;43m=\u001b[39;49m\u001b[43mexp_date\u001b[49m\u001b[43m,\u001b[49m\n\u001b[0;32m     13\u001b[0m \u001b[43m        \u001b[49m\u001b[43mstrike\u001b[49m\u001b[38;5;241;43m=\u001b[39;49m\u001b[43mstrike\u001b[49m\u001b[43m,\u001b[49m\n\u001b[0;32m     14\u001b[0m \u001b[43m        \u001b[49m\u001b[43mright\u001b[49m\u001b[38;5;241;43m=\u001b[39;49m\u001b[43mOptionRight\u001b[49m\u001b[38;5;241;43m.\u001b[39;49m\u001b[43mCALL\u001b[49m\u001b[43m,\u001b[49m\n\u001b[0;32m     15\u001b[0m \u001b[43m        \u001b[49m\u001b[43mdate_range\u001b[49m\u001b[38;5;241;43m=\u001b[39;49m\u001b[43mDateRange\u001b[49m\u001b[43m(\u001b[49m\u001b[43mfrom_date\u001b[49m\u001b[43m,\u001b[49m\u001b[43m \u001b[49m\u001b[43mto_date\u001b[49m\u001b[43m)\u001b[49m\u001b[43m,\u001b[49m\n\u001b[0;32m     16\u001b[0m \u001b[43m        \u001b[49m\u001b[43mprogress_bar\u001b[49m\u001b[38;5;241;43m=\u001b[39;49m\u001b[38;5;28;43;01mFalse\u001b[39;49;00m\u001b[43m,\u001b[49m\n\u001b[0;32m     17\u001b[0m \u001b[43m        \u001b[49m\u001b[43minterval_size\u001b[49m\u001b[38;5;241;43m=\u001b[39;49m\u001b[43minterval_size\u001b[49m\n\u001b[0;32m     18\u001b[0m \u001b[43m    \u001b[49m\u001b[43m)\u001b[49m\n\u001b[0;32m     19\u001b[0m \u001b[38;5;28;01mreturn\u001b[39;00m data\n",
      "File \u001b[1;32m~\\AppData\\Local\\Programs\\Python\\Python311\\Lib\\site-packages\\thetadata\\client.py:689\u001b[0m, in \u001b[0;36mThetaClient.get_hist_option\u001b[1;34m(self, req, root, exp, strike, right, date_range, interval_size, use_rth, progress_bar)\u001b[0m\n\u001b[0;32m    686\u001b[0m \u001b[38;5;28mself\u001b[39m\u001b[38;5;241m.\u001b[39m_server\u001b[38;5;241m.\u001b[39msendall(hist_msg\u001b[38;5;241m.\u001b[39mencode(\u001b[38;5;124m\"\u001b[39m\u001b[38;5;124mutf-8\u001b[39m\u001b[38;5;124m\"\u001b[39m))\n\u001b[0;32m    688\u001b[0m \u001b[38;5;66;03m# parse response header\u001b[39;00m\n\u001b[1;32m--> 689\u001b[0m header_data \u001b[38;5;241m=\u001b[39m \u001b[38;5;28;43mself\u001b[39;49m\u001b[38;5;241;43m.\u001b[39;49m\u001b[43m_server\u001b[49m\u001b[38;5;241;43m.\u001b[39;49m\u001b[43mrecv\u001b[49m\u001b[43m(\u001b[49m\u001b[38;5;241;43m20\u001b[39;49m\u001b[43m)\u001b[49m\n\u001b[0;32m    690\u001b[0m header: Header \u001b[38;5;241m=\u001b[39m Header\u001b[38;5;241m.\u001b[39mparse(hist_msg, header_data)\n\u001b[0;32m    692\u001b[0m \u001b[38;5;66;03m# parse response body\u001b[39;00m\n",
      "\u001b[1;31mTimeoutError\u001b[0m: timed out"
     ]
    }
   ],
   "source": [
    "# Retreive Quoted Intraday Options Prices\n",
    "# Make the request\n",
    "def quotes(root_ticker, exp_date, strike, from_date, to_date, interval_size=0) -> pd.DataFrame:\n",
    "    \"\"\"Request quotes both bid/ask options data\"\"\"\n",
    "    # Create a ThetaClient\n",
    "    client = ThetaClient(username=your_username, passwd=your_password, timeout=10)\n",
    "    # Connect to the Terminal\n",
    "    with client.connect():\n",
    "        data = client.get_hist_option(\n",
    "            req=OptionReqType.QUOTE,\n",
    "            root=root_ticker,\n",
    "            exp=exp_date,\n",
    "            strike=strike,\n",
    "            right=OptionRight.CALL,\n",
    "            date_range=DateRange(from_date, to_date),\n",
    "            progress_bar=False,\n",
    "            interval_size=interval_size\n",
    "        )\n",
    "    return data\n",
    "root_ticker = 'SPY'\n",
    "exp_date = date(2022,9,16)\n",
    "from_date = date(2022,8,31)\n",
    "to_date = date(2022,8,31)\n",
    "strike = 420000\n",
    "data = quotes(root_ticker, exp_date, int(int(strike)/1000), from_date, to_date)\n",
    "data"
   ]
  },
  {
   "cell_type": "code",
   "execution_count": 9,
   "id": "93abd509",
   "metadata": {},
   "outputs": [
    {
     "name": "stdout",
     "output_type": "stream",
     "text": [
      "If you require API support, feel free to join our discord server! http://discord.thetadata.us\n",
      "Unable to fetch the latest terminal version. Please contact support.\n"
     ]
    },
    {
     "ename": "ConnectionError",
     "evalue": "Unable to connect to the local Theta Terminal process. Try restarting your system.",
     "output_type": "error",
     "traceback": [
      "\u001b[1;31m---------------------------------------------------------------------------\u001b[0m",
      "\u001b[1;31mConnectionRefusedError\u001b[0m                    Traceback (most recent call last)",
      "File \u001b[1;32m~\\AppData\\Local\\Programs\\Python\\Python311\\Lib\\site-packages\\thetadata\\client.py:351\u001b[0m, in \u001b[0;36mThetaClient.connect\u001b[1;34m(self)\u001b[0m\n\u001b[0;32m    350\u001b[0m \u001b[38;5;28mself\u001b[39m\u001b[38;5;241m.\u001b[39m_server \u001b[38;5;241m=\u001b[39m socket\u001b[38;5;241m.\u001b[39msocket()\n\u001b[1;32m--> 351\u001b[0m \u001b[38;5;28mself\u001b[39m\u001b[38;5;241m.\u001b[39m_server\u001b[38;5;241m.\u001b[39mconnect((\u001b[38;5;28mself\u001b[39m\u001b[38;5;241m.\u001b[39mhost, \u001b[38;5;28mself\u001b[39m\u001b[38;5;241m.\u001b[39mport))\n\u001b[0;32m    352\u001b[0m \u001b[38;5;28mself\u001b[39m\u001b[38;5;241m.\u001b[39m_server\u001b[38;5;241m.\u001b[39msettimeout(\u001b[38;5;241m1\u001b[39m)\n",
      "\u001b[1;31mConnectionRefusedError\u001b[0m: [WinError 10061] No connection could be made because the target machine actively refused it",
      "\nDuring handling of the above exception, another exception occurred:\n",
      "\u001b[1;31mConnectionError\u001b[0m                           Traceback (most recent call last)",
      "Cell \u001b[1;32mIn[9], line 5\u001b[0m\n\u001b[0;32m      1\u001b[0m \u001b[38;5;66;03m# Change interval size\u001b[39;00m\n\u001b[0;32m      4\u001b[0m interval_size \u001b[38;5;241m=\u001b[39m \u001b[38;5;241m5\u001b[39m\u001b[38;5;241m*\u001b[39m\u001b[38;5;241m60000\u001b[39m\n\u001b[1;32m----> 5\u001b[0m data \u001b[38;5;241m=\u001b[39m \u001b[43mquotes\u001b[49m\u001b[43m(\u001b[49m\u001b[43mroot_ticker\u001b[49m\u001b[43m,\u001b[49m\u001b[43m \u001b[49m\u001b[43mexp_date\u001b[49m\u001b[43m,\u001b[49m\u001b[43m \u001b[49m\u001b[38;5;28;43mint\u001b[39;49m\u001b[43m(\u001b[49m\u001b[38;5;28;43mint\u001b[39;49m\u001b[43m(\u001b[49m\u001b[43mstrike\u001b[49m\u001b[43m)\u001b[49m\u001b[38;5;241;43m/\u001b[39;49m\u001b[38;5;241;43m1000\u001b[39;49m\u001b[43m)\u001b[49m\u001b[43m,\u001b[49m\u001b[43m \u001b[49m\u001b[43mfrom_date\u001b[49m\u001b[43m,\u001b[49m\u001b[43m \u001b[49m\u001b[43mto_date\u001b[49m\u001b[43m,\u001b[49m\u001b[43m \u001b[49m\u001b[43minterval_size\u001b[49m\u001b[43m)\u001b[49m\n\u001b[0;32m      6\u001b[0m dt_date_ms \u001b[38;5;241m=\u001b[39m data[DataType\u001b[38;5;241m.\u001b[39mDATE] \u001b[38;5;241m+\u001b[39m pd\u001b[38;5;241m.\u001b[39mTimedeltaIndex(data[DataType\u001b[38;5;241m.\u001b[39mMS_OF_DAY], unit\u001b[38;5;241m=\u001b[39m\u001b[38;5;124m'\u001b[39m\u001b[38;5;124mms\u001b[39m\u001b[38;5;124m'\u001b[39m)\n\u001b[0;32m      7\u001b[0m data\u001b[38;5;241m.\u001b[39minsert(loc\u001b[38;5;241m=\u001b[39m\u001b[38;5;241m0\u001b[39m, column\u001b[38;5;241m=\u001b[39m\u001b[38;5;124m'\u001b[39m\u001b[38;5;124mDATETIME\u001b[39m\u001b[38;5;124m'\u001b[39m, value\u001b[38;5;241m=\u001b[39mdt_date_ms)\n",
      "Cell \u001b[1;32mIn[8], line 8\u001b[0m, in \u001b[0;36mquotes\u001b[1;34m(root_ticker, exp_date, strike, from_date, to_date, interval_size)\u001b[0m\n\u001b[0;32m      6\u001b[0m client \u001b[38;5;241m=\u001b[39m ThetaClient(username\u001b[38;5;241m=\u001b[39myour_username, passwd\u001b[38;5;241m=\u001b[39myour_password, timeout\u001b[38;5;241m=\u001b[39m\u001b[38;5;241m10\u001b[39m)\n\u001b[0;32m      7\u001b[0m \u001b[38;5;66;03m# Connect to the Terminal\u001b[39;00m\n\u001b[1;32m----> 8\u001b[0m \u001b[43m\u001b[49m\u001b[38;5;28;43;01mwith\u001b[39;49;00m\u001b[43m \u001b[49m\u001b[43mclient\u001b[49m\u001b[38;5;241;43m.\u001b[39;49m\u001b[43mconnect\u001b[49m\u001b[43m(\u001b[49m\u001b[43m)\u001b[49m\u001b[43m:\u001b[49m\n\u001b[0;32m      9\u001b[0m \u001b[43m    \u001b[49m\u001b[43mdata\u001b[49m\u001b[43m \u001b[49m\u001b[38;5;241;43m=\u001b[39;49m\u001b[43m \u001b[49m\u001b[43mclient\u001b[49m\u001b[38;5;241;43m.\u001b[39;49m\u001b[43mget_hist_option\u001b[49m\u001b[43m(\u001b[49m\n\u001b[0;32m     10\u001b[0m \u001b[43m        \u001b[49m\u001b[43mreq\u001b[49m\u001b[38;5;241;43m=\u001b[39;49m\u001b[43mOptionReqType\u001b[49m\u001b[38;5;241;43m.\u001b[39;49m\u001b[43mQUOTE\u001b[49m\u001b[43m,\u001b[49m\n\u001b[0;32m     11\u001b[0m \u001b[43m        \u001b[49m\u001b[43mroot\u001b[49m\u001b[38;5;241;43m=\u001b[39;49m\u001b[43mroot_ticker\u001b[49m\u001b[43m,\u001b[49m\n\u001b[1;32m   (...)\u001b[0m\n\u001b[0;32m     17\u001b[0m \u001b[43m        \u001b[49m\u001b[43minterval_size\u001b[49m\u001b[38;5;241;43m=\u001b[39;49m\u001b[43minterval_size\u001b[49m\n\u001b[0;32m     18\u001b[0m \u001b[43m    \u001b[49m\u001b[43m)\u001b[49m\n\u001b[0;32m     19\u001b[0m \u001b[38;5;28;01mreturn\u001b[39;00m data\n",
      "File \u001b[1;32m~\\AppData\\Local\\Programs\\Python\\Python311\\Lib\\contextlib.py:137\u001b[0m, in \u001b[0;36m_GeneratorContextManager.__enter__\u001b[1;34m(self)\u001b[0m\n\u001b[0;32m    135\u001b[0m \u001b[38;5;28;01mdel\u001b[39;00m \u001b[38;5;28mself\u001b[39m\u001b[38;5;241m.\u001b[39margs, \u001b[38;5;28mself\u001b[39m\u001b[38;5;241m.\u001b[39mkwds, \u001b[38;5;28mself\u001b[39m\u001b[38;5;241m.\u001b[39mfunc\n\u001b[0;32m    136\u001b[0m \u001b[38;5;28;01mtry\u001b[39;00m:\n\u001b[1;32m--> 137\u001b[0m     \u001b[38;5;28;01mreturn\u001b[39;00m \u001b[38;5;28mnext\u001b[39m(\u001b[38;5;28mself\u001b[39m\u001b[38;5;241m.\u001b[39mgen)\n\u001b[0;32m    138\u001b[0m \u001b[38;5;28;01mexcept\u001b[39;00m \u001b[38;5;167;01mStopIteration\u001b[39;00m:\n\u001b[0;32m    139\u001b[0m     \u001b[38;5;28;01mraise\u001b[39;00m \u001b[38;5;167;01mRuntimeError\u001b[39;00m(\u001b[38;5;124m\"\u001b[39m\u001b[38;5;124mgenerator didn\u001b[39m\u001b[38;5;124m'\u001b[39m\u001b[38;5;124mt yield\u001b[39m\u001b[38;5;124m\"\u001b[39m) \u001b[38;5;28;01mfrom\u001b[39;00m \u001b[38;5;28;01mNone\u001b[39;00m\n",
      "File \u001b[1;32m~\\AppData\\Local\\Programs\\Python\\Python311\\Lib\\site-packages\\thetadata\\client.py:356\u001b[0m, in \u001b[0;36mThetaClient.connect\u001b[1;34m(self)\u001b[0m\n\u001b[0;32m    354\u001b[0m     \u001b[38;5;28;01mexcept\u001b[39;00m \u001b[38;5;167;01mConnectionError\u001b[39;00m:\n\u001b[0;32m    355\u001b[0m         \u001b[38;5;28;01mif\u001b[39;00m i \u001b[38;5;241m==\u001b[39m \u001b[38;5;241m14\u001b[39m:\n\u001b[1;32m--> 356\u001b[0m             \u001b[38;5;28;01mraise\u001b[39;00m \u001b[38;5;167;01mConnectionError\u001b[39;00m(\u001b[38;5;124m'\u001b[39m\u001b[38;5;124mUnable to connect to the local Theta Terminal process.\u001b[39m\u001b[38;5;124m'\u001b[39m\n\u001b[0;32m    357\u001b[0m                                   \u001b[38;5;124m'\u001b[39m\u001b[38;5;124m Try restarting your system.\u001b[39m\u001b[38;5;124m'\u001b[39m)\n\u001b[0;32m    358\u001b[0m         sleep(\u001b[38;5;241m1\u001b[39m)\n\u001b[0;32m    359\u001b[0m \u001b[38;5;28mself\u001b[39m\u001b[38;5;241m.\u001b[39m_server\u001b[38;5;241m.\u001b[39msettimeout(\u001b[38;5;28mself\u001b[39m\u001b[38;5;241m.\u001b[39mtimeout)\n",
      "\u001b[1;31mConnectionError\u001b[0m: Unable to connect to the local Theta Terminal process. Try restarting your system."
     ]
    }
   ],
   "source": [
    "# Change interval size\n",
    "\n",
    "\n",
    "interval_size = 5*60000\n",
    "data = quotes(root_ticker, exp_date, int(int(strike)/1000), from_date, to_date, interval_size)\n",
    "dt_date_ms = data[DataType.DATE] + pd.TimedeltaIndex(data[DataType.MS_OF_DAY], unit='ms')\n",
    "data.insert(loc=0, column='DATETIME', value=dt_date_ms)\n",
    "data\n",
    "morning_int = 120\n",
    "afternoon_int = 168\n",
    "morning = data['DATETIME'][morning_int]\n",
    "afternoon = data['DATETIME'][afternoon_int]\n",
    "print(\"Morning Interval\", morning, \"\\nAfternoon Interval\", afternoon)\n",
    "data.iloc[afternoon_int]"
   ]
  },
  {
   "cell_type": "code",
   "execution_count": null,
   "id": "2da5e707",
   "metadata": {},
   "outputs": [],
   "source": [
    "# Calculate Weighted Mid Price (Micro-Price)"
   ]
  },
  {
   "cell_type": "code",
   "execution_count": null,
   "id": "f611f2d9",
   "metadata": {},
   "outputs": [],
   "source": [
    "def weighted_mid_price(row):\n",
    "    try:\n",
    "        V_mid = row[DataType.ASK_SIZE] + row[DataType.BID_SIZE]\n",
    "        x_a = row[DataType.ASK_SIZE]/V_mid\n",
    "        x_b = 1 - x_a\n",
    "        return row[DataType.ASK]*x_a + row[DataType.BID]*x_b\n",
    "    except:\n",
    "        return np.nan\n",
    "midprices = data.apply(weighted_mid_price, axis=1)\n",
    "midprices"
   ]
  },
  {
   "cell_type": "code",
   "execution_count": null,
   "id": "844e77e1",
   "metadata": {},
   "outputs": [],
   "source": []
  }
 ],
 "metadata": {
  "kernelspec": {
   "display_name": "Python 3 (ipykernel)",
   "language": "python",
   "name": "python3"
  },
  "language_info": {
   "codemirror_mode": {
    "name": "ipython",
    "version": 3
   },
   "file_extension": ".py",
   "mimetype": "text/x-python",
   "name": "python",
   "nbconvert_exporter": "python",
   "pygments_lexer": "ipython3",
   "version": "3.11.4"
  }
 },
 "nbformat": 4,
 "nbformat_minor": 5
}
