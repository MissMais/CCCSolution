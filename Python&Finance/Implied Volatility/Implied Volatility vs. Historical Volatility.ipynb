{
 "cells": [
  {
   "cell_type": "markdown",
   "id": "4afec271",
   "metadata": {},
   "source": [
    "# Realized vs Implied Volatility"
   ]
  },
  {
   "cell_type": "code",
   "execution_count": 1,
   "id": "93fd4d2c",
   "metadata": {},
   "outputs": [],
   "source": [
    "# Since the market does not have perfect knowledge about the future these two numbers can and will be different.\n",
    "# Therein, lies the risk management problem / business or trading opportunity."
   ]
  },
  {
   "cell_type": "code",
   "execution_count": 2,
   "id": "a33fc61a",
   "metadata": {},
   "outputs": [],
   "source": [
    "import os\n",
    "import time\n",
    "import pickle\n",
    "\n",
    "import random\n",
    "import numpy as np\n",
    "import pandas as pd\n",
    "import matplotlib.pyplot as plt\n",
    "\n",
    "from datetime import timedelta, datetime, date\n",
    "from thetadata import ThetaClient, OptionReqType, OptionRight, DateRange, DataType, StockReqType"
   ]
  },
  {
   "cell_type": "markdown",
   "id": "b16ad3fd",
   "metadata": {},
   "source": [
    "# Get all Expirations for MSFT Options"
   ]
  },
  {
   "cell_type": "code",
   "execution_count": 3,
   "id": "f3b6be3a",
   "metadata": {},
   "outputs": [],
   "source": [
    "# First thing we need is all the expiry dates of all contracts on MSFT that ThetaData has available."
   ]
  },
  {
   "cell_type": "code",
   "execution_count": 4,
   "id": "89aa3a7b",
   "metadata": {},
   "outputs": [],
   "source": [
    "your_username = ''\n",
    "your_password = ''\n",
    "\n",
    "def get_expirations(root_ticker) -> pd.DataFrame:\n",
    "    \"\"\"Request expirations from a particular options root\"\"\"\n",
    "    # Create a ThetaClient\n",
    "    client = ThetaClient(username=your_username, passwd=your_password, jvm_mem=4, timeout=15)\n",
    "\n",
    "    # Connect to the Terminal\n",
    "    with client.connect():\n",
    "\n",
    "        # Make the request\n",
    "        data = client.get_expirations(\n",
    "            root=root_ticker,\n",
    "        )\n",
    "\n",
    "    return data"
   ]
  },
  {
   "cell_type": "markdown",
   "id": "c16da5e0",
   "metadata": {},
   "source": [
    "Making requests to API for all Contracts by Expiry Dates"
   ]
  },
  {
   "cell_type": "code",
   "execution_count": 6,
   "id": "0b604fd9",
   "metadata": {},
   "outputs": [
    {
     "name": "stdout",
     "output_type": "stream",
     "text": [
      "If you require API support, feel free to join our discord server! http://discord.thetadata.us\n",
      "[09-16-2023 12:59:21] INFO: Starting Theta Terminal v1.0.6 Revision Rev A...\n",
      "[09-16-2023 12:59:21] INFO: Config dir: C:\\Users\\hp\\ThetaData\\ThetaTerminal\n",
      "[09-16-2023 12:59:23] INFO: [MDDS] Attempting login as \n",
      "[09-16-2023 12:59:24] INFO: [MDDS] Disconnected from server: INVALID_CREDENTIALS\n",
      "[09-16-2023 12:59:25] INFO: [FPSS] Attempting login as \n",
      "[09-16-2023 12:59:26] INFO: [FPSS] Disconnected from server: INVALID_CREDENTIALS\n"
     ]
    },
    {
     "ename": "TimeoutError",
     "evalue": "timed out",
     "output_type": "error",
     "traceback": [
      "\u001b[1;31m---------------------------------------------------------------------------\u001b[0m",
      "\u001b[1;31mTimeoutError\u001b[0m                              Traceback (most recent call last)",
      "Cell \u001b[1;32mIn[6], line 2\u001b[0m\n\u001b[0;32m      1\u001b[0m root_ticker \u001b[38;5;241m=\u001b[39m \u001b[38;5;124m'\u001b[39m\u001b[38;5;124mMSFT\u001b[39m\u001b[38;5;124m'\u001b[39m\n\u001b[1;32m----> 2\u001b[0m expirations \u001b[38;5;241m=\u001b[39m \u001b[43mget_expirations\u001b[49m\u001b[43m(\u001b[49m\u001b[43mroot_ticker\u001b[49m\u001b[43m)\u001b[49m\n\u001b[0;32m      3\u001b[0m expirations\n",
      "Cell \u001b[1;32mIn[4], line 13\u001b[0m, in \u001b[0;36mget_expirations\u001b[1;34m(root_ticker)\u001b[0m\n\u001b[0;32m      9\u001b[0m \u001b[38;5;66;03m# Connect to the Terminal\u001b[39;00m\n\u001b[0;32m     10\u001b[0m \u001b[38;5;28;01mwith\u001b[39;00m client\u001b[38;5;241m.\u001b[39mconnect():\n\u001b[0;32m     11\u001b[0m \n\u001b[0;32m     12\u001b[0m     \u001b[38;5;66;03m# Make the request\u001b[39;00m\n\u001b[1;32m---> 13\u001b[0m     data \u001b[38;5;241m=\u001b[39m \u001b[43mclient\u001b[49m\u001b[38;5;241;43m.\u001b[39;49m\u001b[43mget_expirations\u001b[49m\u001b[43m(\u001b[49m\n\u001b[0;32m     14\u001b[0m \u001b[43m        \u001b[49m\u001b[43mroot\u001b[49m\u001b[38;5;241;43m=\u001b[39;49m\u001b[43mroot_ticker\u001b[49m\u001b[43m,\u001b[49m\n\u001b[0;32m     15\u001b[0m \u001b[43m    \u001b[49m\u001b[43m)\u001b[49m\n\u001b[0;32m     17\u001b[0m \u001b[38;5;28;01mreturn\u001b[39;00m data\n",
      "File \u001b[1;32m~\\AppData\\Local\\Programs\\Python\\Python311\\Lib\\site-packages\\thetadata\\client.py:1160\u001b[0m, in \u001b[0;36mThetaClient.get_expirations\u001b[1;34m(self, root)\u001b[0m\n\u001b[0;32m   1158\u001b[0m out \u001b[38;5;241m=\u001b[39m \u001b[38;5;124mf\u001b[39m\u001b[38;5;124m\"\u001b[39m\u001b[38;5;124mMSG_CODE=\u001b[39m\u001b[38;5;132;01m{\u001b[39;00mMessageType\u001b[38;5;241m.\u001b[39mALL_EXPIRATIONS\u001b[38;5;241m.\u001b[39mvalue\u001b[38;5;132;01m}\u001b[39;00m\u001b[38;5;124m&root=\u001b[39m\u001b[38;5;132;01m{\u001b[39;00mroot\u001b[38;5;132;01m}\u001b[39;00m\u001b[38;5;130;01m\\n\u001b[39;00m\u001b[38;5;124m\"\u001b[39m\n\u001b[0;32m   1159\u001b[0m \u001b[38;5;28mself\u001b[39m\u001b[38;5;241m.\u001b[39m_server\u001b[38;5;241m.\u001b[39msend(out\u001b[38;5;241m.\u001b[39mencode(\u001b[38;5;124m\"\u001b[39m\u001b[38;5;124mutf-8\u001b[39m\u001b[38;5;124m\"\u001b[39m))\n\u001b[1;32m-> 1160\u001b[0m header \u001b[38;5;241m=\u001b[39m Header\u001b[38;5;241m.\u001b[39mparse(out, \u001b[38;5;28;43mself\u001b[39;49m\u001b[38;5;241;43m.\u001b[39;49m\u001b[43m_server\u001b[49m\u001b[38;5;241;43m.\u001b[39;49m\u001b[43mrecv\u001b[49m\u001b[43m(\u001b[49m\u001b[38;5;241;43m20\u001b[39;49m\u001b[43m)\u001b[49m)\n\u001b[0;32m   1161\u001b[0m body \u001b[38;5;241m=\u001b[39m ListBody\u001b[38;5;241m.\u001b[39mparse(out, header, \u001b[38;5;28mself\u001b[39m\u001b[38;5;241m.\u001b[39m_recv(header\u001b[38;5;241m.\u001b[39msize), dates\u001b[38;5;241m=\u001b[39m\u001b[38;5;28;01mTrue\u001b[39;00m)\n\u001b[0;32m   1162\u001b[0m \u001b[38;5;28;01mreturn\u001b[39;00m body\u001b[38;5;241m.\u001b[39mlst\n",
      "\u001b[1;31mTimeoutError\u001b[0m: timed out"
     ]
    }
   ],
   "source": [
    "root_ticker = 'MSFT'\n",
    "expirations = get_expirations(root_ticker)\n",
    "expirations"
   ]
  },
  {
   "cell_type": "markdown",
   "id": "7a461071",
   "metadata": {},
   "source": [
    "# Get all Strikes for each MSFT Option Expiry"
   ]
  },
  {
   "cell_type": "markdown",
   "id": "5b9e9c2e",
   "metadata": {},
   "source": [
    "We will need these later, so I will build up a dictionary and pickle this data for future use."
   ]
  },
  {
   "cell_type": "code",
   "execution_count": 7,
   "id": "db301299",
   "metadata": {},
   "outputs": [],
   "source": [
    "def get_strikes(root_ticker, expiration_dates) -> pd.DataFrame:\n",
    "    \"\"\"Request strikes from a particular option contract\"\"\"\n",
    "    # Create a ThetaClient\n",
    "    client = ThetaClient(username=your_username, passwd=your_password, jvm_mem=4, timeout=15)\n",
    "    \n",
    "    all_strikes = {}\n",
    "\n",
    "    # Connect to the Terminal\n",
    "    with client.connect():\n",
    "        \n",
    "        for exp_date in expiration_dates:\n",
    "        \n",
    "            # Make the request\n",
    "            data = client.get_strikes(\n",
    "                root=root_ticker,\n",
    "                exp=exp_date\n",
    "            )\n",
    "            \n",
    "            all_strikes[exp_date] = pd.to_numeric(data)\n",
    "            \n",
    "\n",
    "    return all_strikes"
   ]
  },
  {
   "cell_type": "markdown",
   "id": "6f928bdf",
   "metadata": {},
   "source": [
    "Making requests to API for Strikes"
   ]
  },
  {
   "cell_type": "code",
   "execution_count": 8,
   "id": "420a449d",
   "metadata": {},
   "outputs": [],
   "source": [
    "root_ticker = 'MSFT'\n",
    "\n",
    "all_strikes = get_strikes(root_ticker, expirations)\n",
    "\n",
    "with open('MSFT_strikes.pkl', 'wb') as f:\n",
    "    pickle.dump(all_strikes, f)\n",
    "\n",
    "with open('MSFT_strikes.pkl', 'rb') as f:\n",
    "    all_strikes = pickle.load(f)\n",
    "    \n",
    "all_strikes[expirations[360]]"
   ]
  },
  {
   "cell_type": "markdown",
   "id": "f9a8faf0",
   "metadata": {},
   "source": [
    "# MSFT Underlying ThetaData Request"
   ]
  },
  {
   "cell_type": "code",
   "execution_count": 9,
   "id": "4be4a654",
   "metadata": {},
   "outputs": [],
   "source": [
    "# We will be leveraging the ability to aggregate time periods throughout the day using the API, by defining a interval_size. \n",
    "# We will then compare the historical volatility to the implied volatility for every trading day for \n",
    "# quotes that were made in the underlying and options of ATM options in the afternoon (14:00)."
   ]
  },
  {
   "cell_type": "code",
   "execution_count": 13,
   "id": "fb262e96",
   "metadata": {},
   "outputs": [],
   "source": [
    "def get_hist_stock(root_ticker, trading_days, interval_size) -> pd.DataFrame:\n",
    "    \"\"\"Request historical data for an underlying\"\"\"\n",
    "    # Create a ThetaClient\n",
    "    client = ThetaClient(username=your_username, passwd=your_password, jvm_mem=4, timeout=15)\n",
    "    \n",
    "    underlying = {}\n",
    "\n",
    "    # Connect to the Terminal\n",
    "    with client.connect():\n",
    "        # Make the request\n",
    "        \n",
    "        for tdate in trading_days:\n",
    "            \n",
    "            try:\n",
    "                data = client.get_hist_stock(\n",
    "                    req=StockReqType.QUOTE,\n",
    "                    root=root_ticker,\n",
    "                    date_range=DateRange(tdate, tdate),\n",
    "                    interval_size=interval_size\n",
    "                )\n",
    "                \n",
    "                data = data.apply(weighted_mid_price, axis=1)\n",
    "                \n",
    "                underlying[tdate] = data[4]\n",
    "                \n",
    "            except:\n",
    "                underlying[tdate] = np.nan\n",
    "\n",
    "    return underlying"
   ]
  },
  {
   "cell_type": "markdown",
   "id": "97e5dc47",
   "metadata": {},
   "source": [
    "Calculate Weighted Mid Price (Micro-Price)"
   ]
  },
  {
   "cell_type": "code",
   "execution_count": 14,
   "id": "3bd04ae1",
   "metadata": {},
   "outputs": [],
   "source": [
    "# Calculate the weighted mid price (micro-price) for each row within our quotes dataframe."
   ]
  },
  {
   "cell_type": "code",
   "execution_count": 15,
   "id": "6c5d44e6",
   "metadata": {},
   "outputs": [],
   "source": [
    "def weighted_mid_price(row):\n",
    "    try:\n",
    "        V_mid = row[DataType.ASK_SIZE] + row[DataType.BID_SIZE]\n",
    "        x_a = row[DataType.ASK_SIZE]/V_mid\n",
    "        x_b = 1 - x_a\n",
    "        return row[DataType.ASK]*x_a + row[DataType.BID]*x_b\n",
    "    except:\n",
    "        return np.nan"
   ]
  },
  {
   "cell_type": "markdown",
   "id": "ba56c9c7",
   "metadata": {},
   "source": [
    "Making requests to API for Underlying"
   ]
  },
  {
   "cell_type": "code",
   "execution_count": null,
   "id": "e197cec2",
   "metadata": {},
   "outputs": [],
   "source": [
    "root_ticker = 'MSFT'\n",
    "trading_days = pd.date_range(start=datetime(2012,6,1),end=datetime(2022,11,14),freq='B')\n",
    "interval_size = 60*60000\n",
    "\n",
    "underlying = get_hist_stock(root_ticker, trading_days, interval_size)\n",
    "\n",
    "with open('underlying.pkl', 'wb') as f:\n",
    "    pickle.dump(underlying, f)"
   ]
  },
  {
   "cell_type": "markdown",
   "id": "87b6c6fc",
   "metadata": {},
   "source": [
    "# Volatility over 30d window (~21 trading days)"
   ]
  },
  {
   "cell_type": "code",
   "execution_count": null,
   "id": "4fd45392",
   "metadata": {},
   "outputs": [],
   "source": [
    "with open('underlying.pkl', 'rb') as f:\n",
    "    underlying = pickle.load(f)\n",
    "\n",
    "spot = pd.DataFrame(underlying.items(), columns=['trade_date', 'price'])\n",
    "spot.set_index('trade_date', inplace=True)\n",
    "spot = spot.dropna()\n",
    "\n",
    "log_returns = np.log(spot/spot.shift(1)).dropna()\n",
    "\n",
    "TRADING_DAYS = 21\n",
    "spot['vol'] = log_returns.rolling(window=TRADING_DAYS).std()*np.sqrt(252)\n",
    "spot.tail()\n",
    "\n",
    "fig,ax = plt.subplots(figsize=(12,4))\n",
    "ax.plot(spot['price'], color='tab:blue')\n",
    "ax2=ax.twinx()\n",
    "ax2.plot(spot['vol']*100, color='tab:red')\n",
    "\n",
    "# set x-axis label\n",
    "ax.set_xlabel(\"year\", fontsize = 14)\n",
    "# set y-axis label\n",
    "ax.set_ylabel(\"Stock Price (USD $)\",\n",
    "              color=\"tab:blue\",\n",
    "              fontsize=14)\n",
    "\n",
    "ax2.set_ylabel(\"Volatility (%)\",color=\"tab:red\",fontsize=14)\n",
    "plt.show()"
   ]
  },
  {
   "cell_type": "markdown",
   "id": "13817aa3",
   "metadata": {},
   "source": [
    "# Market-Makers are not forced to show Quotes on all options!"
   ]
  },
  {
   "cell_type": "code",
   "execution_count": null,
   "id": "3c0054a9",
   "metadata": {},
   "outputs": [],
   "source": [
    "trading_days = pd.date_range(start=datetime(2012,6,1),end=datetime(2022,11,14),freq='B')\n",
    "# The third friday in every month\n",
    "contracts1 = pd.date_range(start=datetime(2012,6,1),end=datetime(2024,12,31),freq='WOM-3FRI')\n",
    "# Saturday following the third friday in every month\n",
    "contracts2 = pd.date_range(start=datetime(2012,6,1),end=datetime(2022,12,31),freq='WOM-3FRI')+timedelta(days=1)\n",
    "# Combine these contracts into a total pandas index list\n",
    "contracts = contracts1.append(contracts2)\n",
    "# Find contract expiries that match with ThetaData expiries \n",
    "mth_expirations = [exp for exp in expirations if exp in contracts]\n",
    "# Convert from python list to pandas datetime\n",
    "mth_expirations = pd.to_datetime(pd.Series(mth_expirations))\n",
    "\n",
    "print('Number of possible monthly contracts', len(contracts), 'compared to total avail',len(mth_expirations), \n",
    "      'compared to total no. options avail (incl. quarterly + weekly)', len(expirations))"
   ]
  },
  {
   "cell_type": "markdown",
   "id": "d1951e1e",
   "metadata": {},
   "source": [
    "# Days to Expiry (DTE)"
   ]
  },
  {
   "cell_type": "code",
   "execution_count": null,
   "id": "77cabbeb",
   "metadata": {},
   "outputs": [],
   "source": [
    "# Find the contracts that are closest 1mth, 2mth, 3mth and 4mth to expiry"
   ]
  },
  {
   "cell_type": "code",
   "execution_count": null,
   "id": "a71ebd78",
   "metadata": {},
   "outputs": [],
   "source": [
    "trading_days = pd.date_range(start=datetime(2012,6,1),end=datetime(2022,11,14),freq='B')\n",
    "\n",
    "contracts = {}\n",
    "DTE = [30,60,90,120]\n",
    "for trade_date in trading_days:\n",
    "    days = [delta.days for delta in mth_expirations - trade_date]\n",
    "    index_contracts = [min({(abs(day-dte),i) for i,day in enumerate(days)})[1] for dte in DTE]\n",
    "    contracts[trade_date] = index_contracts"
   ]
  },
  {
   "cell_type": "markdown",
   "id": "bfaa5343",
   "metadata": {},
   "source": [
    "# Implied volatility requests"
   ]
  },
  {
   "cell_type": "markdown",
   "id": "09dabd25",
   "metadata": {},
   "source": [
    "# Make the request"
   ]
  },
  {
   "cell_type": "code",
   "execution_count": null,
   "id": "53e88019",
   "metadata": {},
   "outputs": [],
   "source": [
    "# Make the request\n",
    "def implied_vol(root_ticker, trading_days, interval_size=0, opt_type=OptionRight.CALL) -> pd.DataFrame:\n",
    "    \"\"\"Request quotes both bid/ask options data\"\"\"\n",
    "    # Create a ThetaClient\n",
    "    client = ThetaClient(username=your_username, passwd=your_password, jvm_mem=4, timeout=15)\n",
    "    \n",
    "    # Store all iv in datas dictionary\n",
    "    datas = {}\n",
    "    DTE = ['1mth','2mth','3mth','4mth']\n",
    "    total_days = len(trading_days)\n",
    "\n",
    "    # Connect to the Terminal\n",
    "    with client.connect():\n",
    "        \n",
    "        for ind, trade_date in enumerate(trading_days):\n",
    "            \n",
    "            print('*'*100, '\\nSTART:' ,trade_date, ind+1, '/', total_days ,'\\n','*'*100)\n",
    "            \n",
    "            # Get the expiry dates for specific contracts on particular trade date\n",
    "            exp_dates = mth_expirations[contracts[trade_date]]\n",
    "            datas[trade_date] = {}\n",
    "            \n",
    "            # For each expiry we want to get closest ATM iv\n",
    "            for exp_ind, exp_date in enumerate(exp_dates):\n",
    "\n",
    "                # determine closest ATM strike - iterate through all strikes of expiry date.\n",
    "                diff_strike = [delta for delta in all_strikes[exp_date] - underlying[trade_date]]\n",
    "                # Min. difference between particular DTE interested, return index\n",
    "                index_strike = min({(abs(Kdiff),i) for i,Kdiff in enumerate(diff_strike)})[1]\n",
    "                # Return closest ATM strike\n",
    "                strike = all_strikes[exp_date][index_strike]\n",
    "\n",
    "                try:\n",
    "                    # Attempt to request historical options implied volatility\n",
    "                    data = client.get_hist_option(\n",
    "                        req=OptionReqType.IMPLIED_VOLATILITY,\n",
    "                        root=root_ticker,\n",
    "                        exp=exp_date,\n",
    "                        strike=strike,\n",
    "                        right=opt_type,\n",
    "                        date_range=DateRange(trade_date, trade_date),\n",
    "                        progress_bar=False,\n",
    "                        interval_size=interval_size\n",
    "                    )\n",
    "                    \n",
    "                    # Store data in dictionary\n",
    "                    datas[trade_date][DTE[exp_ind]] = data.loc[4,DataType.IMPLIED_VOL]\n",
    "\n",
    "                except:\n",
    "                    # If unavailable, store np.nan\n",
    "                    datas[trade_date][DTE[exp_ind]] =  np.nan \n",
    "\n",
    "    return datas"
   ]
  },
  {
   "cell_type": "markdown",
   "id": "9bfe1b39",
   "metadata": {},
   "source": [
    "Making requests to API for IV"
   ]
  },
  {
   "cell_type": "code",
   "execution_count": null,
   "id": "87a4ff0b",
   "metadata": {},
   "outputs": [],
   "source": [
    "start_all = time.time()\n",
    "\n",
    "datas_call = implied_vol(root_ticker, trading_days, interval_size = 60*60000, opt_type=OptionRight.CALL)\n",
    "\n",
    "with open('datas_mth_calls.pkl', 'wb') as f:\n",
    "    pickle.dump(datas_call, f)\n",
    "\n",
    "datas_put = implied_vol(root_ticker, trading_days, interval_size = 60*60000, opt_type=OptionRight.PUT)\n",
    "\n",
    "with open('datas_mth_puts.pkl', 'wb') as f:\n",
    "    pickle.dump(datas_put, f)\n",
    "\n",
    "end_all = time.time()\n",
    "print('*'*100,'  TOTAL time taken {:.2f} s'.format(end_all-start_all),'*'*100)"
   ]
  },
  {
   "cell_type": "markdown",
   "id": "92a7ced5",
   "metadata": {},
   "source": [
    "To demonstrate what that looks like"
   ]
  },
  {
   "cell_type": "code",
   "execution_count": null,
   "id": "eaca7b4d",
   "metadata": {},
   "outputs": [],
   "source": [
    "trading_days = pd.date_range(start=datetime(2022,11,7),end=datetime(2022,11,11),freq='B')\n",
    "\n",
    "start_all = time.time()\n",
    "\n",
    "datas = implied_vol(root_ticker, trading_days, interval_size = 60*60000, opt_type=OptionRight.CALL)\n",
    "\n",
    "end_all = time.time()\n",
    "print('*'*100,'  TOTAL time taken {:.2f} s'.format(end_all-start_all),'*'*100)\n",
    "\n",
    "df = pd.DataFrame(datas.items(), columns=['trade_date', 'price']) \n",
    "N = len(df)\n",
    "calls = np.empty([N, 4])\n",
    "for ind, (date, data) in enumerate(datas.items()):\n",
    "    calls[ind, 0] = data['1mth']\n",
    "    calls[ind, 1] = data['2mth']\n",
    "    calls[ind, 2] = data['3mth']\n",
    "    calls[ind, 3] = data['4mth']\n",
    "\n",
    "df = pd.DataFrame(data=calls, index=df.trade_date, columns=['1mth','2mth','3mth','4mth'])\n",
    "df"
   ]
  },
  {
   "cell_type": "markdown",
   "id": "d5b25929",
   "metadata": {},
   "source": [
    "# Visualise IV from Calls"
   ]
  },
  {
   "cell_type": "code",
   "execution_count": null,
   "id": "6b201764",
   "metadata": {},
   "outputs": [],
   "source": [
    "with open('datas_mth_calls.pkl', 'rb') as f:\n",
    "    datas_call = pickle.load(f)\n",
    "\n",
    "df_calls = pd.DataFrame(datas_call.items(), columns=['trade_date', 'price']) \n",
    "\n",
    "N = len(datas_call)\n",
    "calls = np.empty([N, 4])\n",
    "for ind, (date, data) in enumerate(datas_call.items()):\n",
    "    calls[ind, 0] = data['1mth']\n",
    "    calls[ind, 1] = data['2mth']\n",
    "    calls[ind, 2] = data['3mth']\n",
    "    calls[ind, 3] = data['4mth']\n",
    "\n",
    "df_calls = pd.DataFrame(data=calls, index=df_calls.trade_date, columns=['1mth','2mth','3mth','4mth'])\n",
    "print('Data available', len(df_calls.dropna(how='all')), 'out of', len(df_calls))\n",
    "\n",
    "df_calls = df_calls.dropna(how='all')\n",
    "df_calls.tail()\n",
    "\n",
    "fig,ax = plt.subplots(figsize=(12,4))\n",
    "ax.plot(df_calls['1mth'])\n",
    "ax.plot(df_calls['2mth'])\n",
    "ax.plot(df_calls['3mth'])\n",
    "ax.plot(df_calls['4mth'])\n",
    "plt.show()"
   ]
  },
  {
   "cell_type": "markdown",
   "id": "5779727e",
   "metadata": {},
   "source": [
    "# Whats happening to 1mth+ options series?"
   ]
  },
  {
   "cell_type": "code",
   "execution_count": null,
   "id": "035616c5",
   "metadata": {},
   "outputs": [],
   "source": [
    "fig,ax = plt.subplots(figsize=(12,4))\n",
    "ax.plot(spot['price'], color='tab:blue', label='Stock')\n",
    "ax2=ax.twinx()\n",
    "ax2.plot(spot['vol']*100, color='tab:red', label='rv_30')\n",
    "ax2.plot(df_calls['1mth']*100, color='tab:green', label='iv_30')\n",
    "# set x-axis label\n",
    "ax.set_xlabel(\"year\", fontsize = 14)\n",
    "# set y-axis label\n",
    "ax.set_ylabel(\"Stock Price (USD $)\",\n",
    "              color=\"tab:blue\",\n",
    "              fontsize=14)\n",
    "\n",
    "ax2.set_ylabel(\"Volatility (%)\",color=\"tab:red\",fontsize=14)\n",
    "\n",
    "fig.legend()\n",
    "plt.show()"
   ]
  },
  {
   "cell_type": "markdown",
   "id": "20ed1414",
   "metadata": {},
   "source": [
    "# Is this a fair comparison?"
   ]
  },
  {
   "cell_type": "code",
   "execution_count": null,
   "id": "c79d9e5a",
   "metadata": {},
   "outputs": [],
   "source": [
    "spot['vol_shift'] = spot['vol'].shift(-21)\n",
    "fig,ax = plt.subplots(figsize=(12,4))\n",
    "ax.plot(spot['price'], color='tab:blue', label='Stock')\n",
    "ax2=ax.twinx()\n",
    "plt.title('IV Calls vs RV shifted')\n",
    "ax2.plot(spot['vol_shift']*100, color='tab:red', label='rv_30')\n",
    "ax2.plot(df_calls['1mth']*100, color='tab:green', label='iv_30')\n",
    "# set x-axis label\n",
    "ax.set_xlabel(\"year\", fontsize = 14)\n",
    "# set y-axis label\n",
    "ax.set_ylabel(\"Stock Price (USD $)\",\n",
    "              color=\"tab:blue\",\n",
    "              fontsize=14)\n",
    "\n",
    "ax2.set_ylabel(\"Volatility (%)\",color=\"tab:red\",fontsize=14)\n",
    "\n",
    "fig.legend()\n",
    "plt.show()"
   ]
  },
  {
   "cell_type": "markdown",
   "id": "364a1358",
   "metadata": {},
   "source": [
    "# Now let’s check the puts data"
   ]
  },
  {
   "cell_type": "code",
   "execution_count": null,
   "id": "e4eaf94e",
   "metadata": {},
   "outputs": [],
   "source": [
    "with open('datas_mth_puts.pkl', 'rb') as f:\n",
    "    datas_put = pickle.load(f)\n",
    "\n",
    "df_puts = pd.DataFrame(datas_put.items(), columns=['trade_date', 'price']) \n",
    "\n",
    "N = len(datas_put)\n",
    "puts = np.empty([N, 4])\n",
    "for ind, (date, data) in enumerate(datas_put.items()):\n",
    "    puts[ind, 0] = data['1mth']\n",
    "    puts[ind, 1] = data['2mth']\n",
    "    puts[ind, 2] = data['3mth']\n",
    "    puts[ind, 3] = data['4mth']\n",
    "# df.set_index('trade_date', inplace=True)\n",
    "# df = df.dropna()\n",
    "\n",
    "df_puts = pd.DataFrame(data=puts, index=df_puts.trade_date, columns=['1mth','2mth','3mth','4mth'])\n",
    "print('Data available', len(df_puts.dropna(how='all')), 'out of', len(df_puts))\n",
    "\n",
    "df_puts = df_puts.dropna(how='all')\n",
    "df_puts\n",
    "\n",
    "fig,ax = plt.subplots(figsize=(12,4))\n",
    "ax.plot(spot['price'], color='tab:blue')\n",
    "ax2=ax.twinx()\n",
    "plt.title('IV Puts vs IV Calls')\n",
    "ax2.plot(df_puts['1mth'], color='tab:red', label='IV Puts')\n",
    "ax2.plot(df_calls['1mth'], color='tab:orange', label='IV Calls')\n",
    "# set x-axis label\n",
    "ax.set_xlabel(\"year\", fontsize = 14)\n",
    "# set y-axis label\n",
    "ax.set_ylabel(\"Stock Price (USD $)\",\n",
    "              color=\"tab:blue\",\n",
    "              fontsize=14)\n",
    "\n",
    "ax2.set_ylabel(\"Volatility\",color=\"tab:red\",fontsize=14)\n",
    "fig.legend()\n",
    "plt.show()"
   ]
  },
  {
   "cell_type": "code",
   "execution_count": null,
   "id": "5ceb8ee8",
   "metadata": {},
   "outputs": [],
   "source": []
  }
 ],
 "metadata": {
  "kernelspec": {
   "display_name": "Python 3 (ipykernel)",
   "language": "python",
   "name": "python3"
  },
  "language_info": {
   "codemirror_mode": {
    "name": "ipython",
    "version": 3
   },
   "file_extension": ".py",
   "mimetype": "text/x-python",
   "name": "python",
   "nbconvert_exporter": "python",
   "pygments_lexer": "ipython3",
   "version": "3.11.4"
  }
 },
 "nbformat": 4,
 "nbformat_minor": 5
}
