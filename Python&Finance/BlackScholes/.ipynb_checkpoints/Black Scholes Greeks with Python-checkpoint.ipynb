{
 "cells": [
  {
   "cell_type": "code",
   "execution_count": 1,
   "id": "228653f0",
   "metadata": {},
   "outputs": [],
   "source": [
    "from py_vollib.black_scholes import black_scholes as bs\n",
    "from py_vollib.black_scholes.greeks.analytical import delta, gamma, vega, theta, rho"
   ]
  },
  {
   "cell_type": "code",
   "execution_count": 2,
   "id": "a7fe84b0",
   "metadata": {},
   "outputs": [],
   "source": [
    "# Implementation of Black-Scholes formula in Python\n",
    "import numpy as np\n",
    "from scipy.stats import norm\n",
    "from py_vollib.black_scholes import black_scholes as bs\n",
    "from py_vollib.black_scholes.greeks.analytical import delta, gamma, vega, theta, rho\n",
    "\n",
    "# Define variables \n",
    "r = 0.01\n",
    "S = 30\n",
    "K = 40\n",
    "T = 240/365\n",
    "sigma = 0.30\n",
    "\n",
    "def blackScholes(r, S, K, T, sigma, type=\"c\"):\n",
    "    \"Calculate BS price of call/put\"\n",
    "    d1 = (np.log(S/K) + (r + sigma**2/2)*T)/(sigma*np.sqrt(T))\n",
    "    d2 = d1 - sigma*np.sqrt(T)\n",
    "    try:\n",
    "        if type == \"c\":\n",
    "            price = S*norm.cdf(d1, 0, 1) - K*np.exp(-r*T)*norm.cdf(d2, 0, 1)\n",
    "        elif type == \"p\":\n",
    "            price = K*np.exp(-r*T)*norm.cdf(-d2, 0, 1) - S*norm.cdf(-d1, 0, 1)\n",
    "        return price, bs(type, S, K, T, r, sigma)\n",
    "    except:\n",
    "        print(\"Please confirm option type, either 'c' for Call or 'p' for Put!\")"
   ]
  },
  {
   "cell_type": "code",
   "execution_count": 3,
   "id": "c2d936de",
   "metadata": {},
   "outputs": [
    {
     "name": "stdout",
     "output_type": "stream",
     "text": [
      "Option Price:  (0.5132843798399405, 0.5132843798399411)\n"
     ]
    }
   ],
   "source": [
    "print(\"Option Price: \", blackScholes(r, S, K, T, sigma, \"c\"))"
   ]
  },
  {
   "cell_type": "markdown",
   "id": "8384c0cc",
   "metadata": {},
   "source": [
    "# Delta\n",
    "Delta measures the rate of change of the theoretical option value with respect to changes in the underlying asset’s price. \n",
    "$\\Delta = \\frac{\\partial V}{\\partial S}$\n",
    "$\\Delta_{call} = \\Phi(d1)$\n",
    "$\\Delta_{put} = -\\Phi(-d1)$"
   ]
  },
  {
   "cell_type": "code",
   "execution_count": 4,
   "id": "5f94a0da",
   "metadata": {},
   "outputs": [],
   "source": [
    "def delta_calc(r, S, K, T, sigma, type=\"c\"):\n",
    "    \"Calculate delta of an option\"\n",
    "    d1 = (np.log(S/K) + (r + sigma**2/2)*T)/(sigma*np.sqrt(T))\n",
    "    try:\n",
    "        if type == \"c\":\n",
    "            delta_calc = norm.cdf(d1, 0, 1)\n",
    "        elif type == \"p\":\n",
    "            delta_calc = -norm.cdf(-d1, 0, 1)\n",
    "        return delta_calc, delta(type, S, K, T, r, sigma)\n",
    "    except:\n",
    "        print(\"Please confirm option type, either 'c' for Call or 'p' for Put!\")"
   ]
  },
  {
   "cell_type": "code",
   "execution_count": null,
   "id": "6fa0d92f",
   "metadata": {},
   "outputs": [],
   "source": [
    "# It indicates how much the option price is expected to change when the underlying asset's price changes by a small amount.\n",
    "# Delta is the change in the option's price or premium due to the change in the Underlying futures price."
   ]
  },
  {
   "cell_type": "markdown",
   "id": "e5cbd3c8",
   "metadata": {},
   "source": [
    "# Gamma\n",
    "Gamma measures the rate of change in the delta with respect to changes in the underlying price.\n",
    "$\\Gamma = \\frac{\\partial \\Delta}{\\partial S} = \\frac{\\partial^2 V}{\\partial S^2}$\n",
    "$\\Gamma = \\frac{\\phi(d1)}{S\\sigma\\sqrt{\\tau}}$"
   ]
  },
  {
   "cell_type": "code",
   "execution_count": 24,
   "id": "4af5290f",
   "metadata": {},
   "outputs": [],
   "source": [
    "def gamma_calc(r, S, K, T, sigma, type=\"c\"):\n",
    "    \"Calculate gamma of a option\"\n",
    "    d1 = (np.log(S/K) + (r + sigma**2/2)*T)/(sigma*np.sqrt(T))\n",
    "    d2 = d1 - sigma*np.sqrt(T)\n",
    "    try:\n",
    "        gamma_calc = norm.pdf(d1, 0, 1)/(S*sigma*np.sqrt(T))\n",
    "        return gamma_calc, gamma(type, S, K, T, r, sigma)\n",
    "    except:\n",
    "        print(\"Please confirm option type, either 'c' for Call or 'p' for Put!\")"
   ]
  },
  {
   "cell_type": "markdown",
   "id": "3a8cd9a4",
   "metadata": {},
   "source": [
    "# Vega\n",
    "Vega measures sensitivity to volatility. Vega is the derivative of the option value with respect to the volatility of the underlying asset.\n",
    "$\\upsilon = \\frac{\\partial V}{\\partial \\sigma}$\n",
    "$\\upsilon = S\\phi(d1)\\sqrt{\\tau}$"
   ]
  },
  {
   "cell_type": "code",
   "execution_count": 25,
   "id": "c48b7c81",
   "metadata": {},
   "outputs": [],
   "source": [
    "def vega_calc(r, S, K, T, sigma, type=\"c\"):\n",
    "    \"Calculate BS price of call/put\"\n",
    "    d1 = (np.log(S/K) + (r + sigma**2/2)*T)/(sigma*np.sqrt(T))\n",
    "    d2 = d1 - sigma*np.sqrt(T)\n",
    "    try:\n",
    "        vega_calc = S*norm.pdf(d1, 0, 1)*np.sqrt(T)\n",
    "        return vega_calc*0.01, vega(type, S, K, T, r, sigma)\n",
    "    except:\n",
    "        print(\"Please confirm option type, either 'c' for Call or 'p' for Put!\")"
   ]
  },
  {
   "cell_type": "markdown",
   "id": "3c58293b",
   "metadata": {},
   "source": [
    "# Theta\n",
    "Theta measures the sensitivity of the value of the derivative to the passage of time – time decay.\n",
    "$\\Theta = -\\frac{\\partial V}{\\partial \\tau}$\n",
    "$\\Theta_{call} = -\\frac{S\\phi(d1)\\sigma}{2\\tau} – rK\\exp{(-rT)}\\Phi(d2)$\n",
    "$\\Theta_{put} = -\\frac{S\\phi(d1)\\sigma}{2\\tau} + rK\\exp{(-rT)}\\Phi(-d2)$"
   ]
  },
  {
   "cell_type": "code",
   "execution_count": 26,
   "id": "97db5ac5",
   "metadata": {},
   "outputs": [],
   "source": [
    "def theta_calc(r, S, K, T, sigma, type=\"c\"):\n",
    "    \"Calculate BS price of call/put\"\n",
    "    d1 = (np.log(S/K) + (r + sigma**2/2)*T)/(sigma*np.sqrt(T))\n",
    "    d2 = d1 - sigma*np.sqrt(T)\n",
    "    try:\n",
    "        if type == \"c\":\n",
    "            theta_calc = -S*norm.pdf(d1, 0, 1)*sigma/(2*np.sqrt(T)) - r*K*np.exp(-r*T)*norm.cdf(d2, 0, 1)\n",
    "        elif type == \"p\":\n",
    "            theta_calc = -S*norm.pdf(d1, 0, 1)*sigma/(2*np.sqrt(T)) + r*K*np.exp(-r*T)*norm.cdf(-d2, 0, 1)\n",
    "        return theta_calc/365, theta(type, S, K, T, r, sigma)\n",
    "    except:\n",
    "        print(\"Please confirm option type, either 'c' for Call or 'p' for Put!\")"
   ]
  },
  {
   "cell_type": "markdown",
   "id": "f8456b21",
   "metadata": {},
   "source": [
    "# Rho\n",
    "Rho measures the sensitivity to the interest rate.\n",
    "$\\rho = \\frac{\\partial V}{\\partial r}$\n",
    "$\\rho_{call} = K\\tau\\exp{(-rT)}\\Phi(d2)$\n",
    "$\\rho_{put} = -K\\tau\\exp{(-rT)}\\Phi(-d2)$"
   ]
  },
  {
   "cell_type": "code",
   "execution_count": 27,
   "id": "9b4966d1",
   "metadata": {},
   "outputs": [],
   "source": [
    "def rho_calc(r, S, K, T, sigma, type=\"c\"):\n",
    "    \"Calculate BS price of call/put\"\n",
    "    d1 = (np.log(S/K) + (r + sigma**2/2)*T)/(sigma*np.sqrt(T))\n",
    "    d2 = d1 - sigma*np.sqrt(T)\n",
    "    try:\n",
    "        if type == \"c\":\n",
    "            rho_calc = K*T*np.exp(-r*T)*norm.cdf(d2, 0, 1)\n",
    "        elif type == \"p\":\n",
    "            rho_calc = -K*T*np.exp(-r*T)*norm.cdf(-d2, 0, 1)\n",
    "        return rho_calc*0.01, rho(type, S, K, T, r, sigma)\n",
    "    except:\n",
    "        print(\"Please confirm option type, either 'c' for Call or 'p' for Put!\")"
   ]
  },
  {
   "cell_type": "markdown",
   "id": "0da986be",
   "metadata": {},
   "source": [
    "# All together"
   ]
  },
  {
   "cell_type": "code",
   "execution_count": 28,
   "id": "9b966454",
   "metadata": {},
   "outputs": [
    {
     "name": "stdout",
     "output_type": "stream",
     "text": [
      "Option Price:  [10.251, 10.251]\n",
      "       Delta:  [-0.849, -0.849]\n",
      "       Gamma:  [0.032, 0.032]\n",
      "       Vega :  [0.057, 0.057]\n",
      "       Theta:  [-0.003, -0.003]\n",
      "       Rho  :  [-0.235, -0.235]\n"
     ]
    }
   ],
   "source": [
    "option_type='p'\n",
    "\n",
    "print(\"Option Price: \", [round(x,3) for x in blackScholes(r, S, K, T, sigma, option_type)])\n",
    "print(\"       Delta: \", [round(x,3) for x in delta_calc(r, S, K, T, sigma, option_type)])\n",
    "print(\"       Gamma: \", [round(x,3) for x in gamma_calc(r, S, K, T, sigma, option_type)])\n",
    "print(\"       Vega : \", [round(x,3) for x in vega_calc(r, S, K, T, sigma, option_type)])\n",
    "print(\"       Theta: \", [round(x,3) for x in theta_calc(r, S, K, T, sigma, option_type)])\n",
    "print(\"       Rho  : \", [round(x,3) for x in rho_calc(r, S, K, T, sigma, option_type)])"
   ]
  },
  {
   "cell_type": "code",
   "execution_count": null,
   "id": "7579a9f3",
   "metadata": {},
   "outputs": [],
   "source": []
  }
 ],
 "metadata": {
  "kernelspec": {
   "display_name": "Python 3 (ipykernel)",
   "language": "python",
   "name": "python3"
  },
  "language_info": {
   "codemirror_mode": {
    "name": "ipython",
    "version": 3
   },
   "file_extension": ".py",
   "mimetype": "text/x-python",
   "name": "python",
   "nbconvert_exporter": "python",
   "pygments_lexer": "ipython3",
   "version": "3.11.4"
  }
 },
 "nbformat": 4,
 "nbformat_minor": 5
}
