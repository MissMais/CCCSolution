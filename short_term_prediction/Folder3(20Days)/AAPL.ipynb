{
 "cells": [
  {
   "cell_type": "code",
   "execution_count": 46,
   "id": "fc6b9692",
   "metadata": {},
   "outputs": [],
   "source": [
    "import numpy as np\n",
    "import pandas as pd\n",
    "import yfinance as yf\n",
    "import matplotlib.pyplot as plt\n",
    "from sklearn.preprocessing import MinMaxScaler\n",
    "from keras.models import Sequential\n",
    "from keras.layers import LSTM, Dense\n",
    "import tensorflow as tf\n",
    "from sklearn.metrics import mean_squared_error, mean_absolute_error, accuracy_score\n",
    "from math import sqrt"
   ]
  },
  {
   "cell_type": "code",
   "execution_count": 47,
   "id": "b85b7fbc",
   "metadata": {},
   "outputs": [],
   "source": [
    "ticker = 'AAPL'\n",
    "start_date = '2018-01-01'\n",
    "end_date = '2023-12-20'"
   ]
  },
  {
   "cell_type": "code",
   "execution_count": 48,
   "id": "b386cf97",
   "metadata": {},
   "outputs": [
    {
     "name": "stdout",
     "output_type": "stream",
     "text": [
      "[*********************100%***********************]  1 of 1 completed\n"
     ]
    },
    {
     "data": {
      "text/html": [
       "<div>\n",
       "<style scoped>\n",
       "    .dataframe tbody tr th:only-of-type {\n",
       "        vertical-align: middle;\n",
       "    }\n",
       "\n",
       "    .dataframe tbody tr th {\n",
       "        vertical-align: top;\n",
       "    }\n",
       "\n",
       "    .dataframe thead th {\n",
       "        text-align: right;\n",
       "    }\n",
       "</style>\n",
       "<table border=\"1\" class=\"dataframe\">\n",
       "  <thead>\n",
       "    <tr style=\"text-align: right;\">\n",
       "      <th></th>\n",
       "      <th>Date</th>\n",
       "      <th>Open</th>\n",
       "      <th>High</th>\n",
       "      <th>Low</th>\n",
       "      <th>Close</th>\n",
       "      <th>Adj Close</th>\n",
       "      <th>Volume</th>\n",
       "    </tr>\n",
       "  </thead>\n",
       "  <tbody>\n",
       "    <tr>\n",
       "      <th>0</th>\n",
       "      <td>2018-01-02</td>\n",
       "      <td>42.540001</td>\n",
       "      <td>43.075001</td>\n",
       "      <td>42.314999</td>\n",
       "      <td>43.064999</td>\n",
       "      <td>40.722878</td>\n",
       "      <td>102223600</td>\n",
       "    </tr>\n",
       "    <tr>\n",
       "      <th>1</th>\n",
       "      <td>2018-01-03</td>\n",
       "      <td>43.132500</td>\n",
       "      <td>43.637501</td>\n",
       "      <td>42.990002</td>\n",
       "      <td>43.057499</td>\n",
       "      <td>40.715778</td>\n",
       "      <td>118071600</td>\n",
       "    </tr>\n",
       "    <tr>\n",
       "      <th>2</th>\n",
       "      <td>2018-01-04</td>\n",
       "      <td>43.134998</td>\n",
       "      <td>43.367500</td>\n",
       "      <td>43.020000</td>\n",
       "      <td>43.257500</td>\n",
       "      <td>40.904911</td>\n",
       "      <td>89738400</td>\n",
       "    </tr>\n",
       "    <tr>\n",
       "      <th>3</th>\n",
       "      <td>2018-01-05</td>\n",
       "      <td>43.360001</td>\n",
       "      <td>43.842499</td>\n",
       "      <td>43.262501</td>\n",
       "      <td>43.750000</td>\n",
       "      <td>41.370613</td>\n",
       "      <td>94640000</td>\n",
       "    </tr>\n",
       "    <tr>\n",
       "      <th>4</th>\n",
       "      <td>2018-01-08</td>\n",
       "      <td>43.587502</td>\n",
       "      <td>43.902500</td>\n",
       "      <td>43.482498</td>\n",
       "      <td>43.587502</td>\n",
       "      <td>41.216961</td>\n",
       "      <td>82271200</td>\n",
       "    </tr>\n",
       "    <tr>\n",
       "      <th>...</th>\n",
       "      <td>...</td>\n",
       "      <td>...</td>\n",
       "      <td>...</td>\n",
       "      <td>...</td>\n",
       "      <td>...</td>\n",
       "      <td>...</td>\n",
       "      <td>...</td>\n",
       "    </tr>\n",
       "    <tr>\n",
       "      <th>1497</th>\n",
       "      <td>2023-12-13</td>\n",
       "      <td>195.089996</td>\n",
       "      <td>198.000000</td>\n",
       "      <td>194.850006</td>\n",
       "      <td>197.960007</td>\n",
       "      <td>197.960007</td>\n",
       "      <td>70404200</td>\n",
       "    </tr>\n",
       "    <tr>\n",
       "      <th>1498</th>\n",
       "      <td>2023-12-14</td>\n",
       "      <td>198.020004</td>\n",
       "      <td>199.619995</td>\n",
       "      <td>196.160004</td>\n",
       "      <td>198.110001</td>\n",
       "      <td>198.110001</td>\n",
       "      <td>66831600</td>\n",
       "    </tr>\n",
       "    <tr>\n",
       "      <th>1499</th>\n",
       "      <td>2023-12-15</td>\n",
       "      <td>197.529999</td>\n",
       "      <td>198.399994</td>\n",
       "      <td>197.000000</td>\n",
       "      <td>197.570007</td>\n",
       "      <td>197.570007</td>\n",
       "      <td>128256700</td>\n",
       "    </tr>\n",
       "    <tr>\n",
       "      <th>1500</th>\n",
       "      <td>2023-12-18</td>\n",
       "      <td>196.089996</td>\n",
       "      <td>196.630005</td>\n",
       "      <td>194.389999</td>\n",
       "      <td>195.889999</td>\n",
       "      <td>195.889999</td>\n",
       "      <td>55751900</td>\n",
       "    </tr>\n",
       "    <tr>\n",
       "      <th>1501</th>\n",
       "      <td>2023-12-19</td>\n",
       "      <td>196.160004</td>\n",
       "      <td>196.949997</td>\n",
       "      <td>195.889999</td>\n",
       "      <td>196.940002</td>\n",
       "      <td>196.940002</td>\n",
       "      <td>40714100</td>\n",
       "    </tr>\n",
       "  </tbody>\n",
       "</table>\n",
       "<p>1502 rows × 7 columns</p>\n",
       "</div>"
      ],
      "text/plain": [
       "           Date        Open        High         Low       Close   Adj Close  \\\n",
       "0    2018-01-02   42.540001   43.075001   42.314999   43.064999   40.722878   \n",
       "1    2018-01-03   43.132500   43.637501   42.990002   43.057499   40.715778   \n",
       "2    2018-01-04   43.134998   43.367500   43.020000   43.257500   40.904911   \n",
       "3    2018-01-05   43.360001   43.842499   43.262501   43.750000   41.370613   \n",
       "4    2018-01-08   43.587502   43.902500   43.482498   43.587502   41.216961   \n",
       "...         ...         ...         ...         ...         ...         ...   \n",
       "1497 2023-12-13  195.089996  198.000000  194.850006  197.960007  197.960007   \n",
       "1498 2023-12-14  198.020004  199.619995  196.160004  198.110001  198.110001   \n",
       "1499 2023-12-15  197.529999  198.399994  197.000000  197.570007  197.570007   \n",
       "1500 2023-12-18  196.089996  196.630005  194.389999  195.889999  195.889999   \n",
       "1501 2023-12-19  196.160004  196.949997  195.889999  196.940002  196.940002   \n",
       "\n",
       "         Volume  \n",
       "0     102223600  \n",
       "1     118071600  \n",
       "2      89738400  \n",
       "3      94640000  \n",
       "4      82271200  \n",
       "...         ...  \n",
       "1497   70404200  \n",
       "1498   66831600  \n",
       "1499  128256700  \n",
       "1500   55751900  \n",
       "1501   40714100  \n",
       "\n",
       "[1502 rows x 7 columns]"
      ]
     },
     "execution_count": 48,
     "metadata": {},
     "output_type": "execute_result"
    }
   ],
   "source": [
    "df = yf.download(ticker, start_date, end_date).reset_index()\n",
    "df"
   ]
  },
  {
   "cell_type": "code",
   "execution_count": 49,
   "id": "9fb331be",
   "metadata": {},
   "outputs": [],
   "source": [
    "close = df['Close']"
   ]
  },
  {
   "cell_type": "code",
   "execution_count": 50,
   "id": "c57616bc",
   "metadata": {},
   "outputs": [
    {
     "name": "stdout",
     "output_type": "stream",
     "text": [
      "[ 43.06499863  43.05749893  43.25749969 ... 197.57000732 195.88999939\n",
      " 196.94000244]\n"
     ]
    }
   ],
   "source": [
    "print(close.values)"
   ]
  },
  {
   "cell_type": "code",
   "execution_count": 51,
   "id": "625da953",
   "metadata": {},
   "outputs": [
    {
     "data": {
      "text/plain": [
       "array([[0.04624374],\n",
       "       [0.04619761],\n",
       "       [0.04742791],\n",
       "       ...,\n",
       "       [0.99667824],\n",
       "       [0.98634371],\n",
       "       [0.99280278]])"
      ]
     },
     "execution_count": 51,
     "metadata": {},
     "output_type": "execute_result"
    }
   ],
   "source": [
    "scaler = MinMaxScaler()\n",
    "data = scaler.fit_transform(close.values.reshape(-1, 1))\n",
    "data"
   ]
  },
  {
   "cell_type": "code",
   "execution_count": 52,
   "id": "77f1ba06",
   "metadata": {},
   "outputs": [
    {
     "data": {
      "text/plain": [
       "((1201, 1), (301, 1))"
      ]
     },
     "execution_count": 52,
     "metadata": {},
     "output_type": "execute_result"
    }
   ],
   "source": [
    "train_data = data[:int(len(data)*0.8)]\n",
    "test_data = data[int(len(data)*0.8):]\n",
    "train_data.shape, test_data.shape"
   ]
  },
  {
   "cell_type": "code",
   "execution_count": 53,
   "id": "8ee03551",
   "metadata": {},
   "outputs": [
    {
     "data": {
      "text/plain": [
       "array([0.63589387])"
      ]
     },
     "execution_count": 53,
     "metadata": {},
     "output_type": "execute_result"
    }
   ],
   "source": [
    "test_data[20]"
   ]
  },
  {
   "cell_type": "code",
   "execution_count": 54,
   "id": "9e65d13f",
   "metadata": {},
   "outputs": [],
   "source": [
    "past_values = 20\n",
    "def data_preparation(data,past_values):\n",
    "    X = []\n",
    "    y = []\n",
    "    for i in range(past_values, len(data)):\n",
    "        X.append(data[i-20:i])\n",
    "        y.append(data[i])\n",
    "    return np.array(X), np.array(y)"
   ]
  },
  {
   "cell_type": "code",
   "execution_count": 55,
   "id": "a360d6db",
   "metadata": {},
   "outputs": [],
   "source": [
    "X_train, y_train = data_preparation(train_data,past_values)\n",
    "X_test, y_test = data_preparation(test_data,past_values)"
   ]
  },
  {
   "cell_type": "code",
   "execution_count": 56,
   "id": "a0680369",
   "metadata": {},
   "outputs": [
    {
     "data": {
      "text/plain": [
       "(array([[[0.04624374],\n",
       "         [0.04619761],\n",
       "         [0.04742791],\n",
       "         ...,\n",
       "         [0.04509034],\n",
       "         [0.03963092],\n",
       "         [0.03810842]],\n",
       " \n",
       "        [[0.04619761],\n",
       "         [0.04742791],\n",
       "         [0.05045751],\n",
       "         ...,\n",
       "         [0.03963092],\n",
       "         [0.03810842],\n",
       "         [0.03881583]],\n",
       " \n",
       "        [[0.04742791],\n",
       "         [0.05045751],\n",
       "         [0.04945791],\n",
       "         ...,\n",
       "         [0.03810842],\n",
       "         [0.03881583],\n",
       "         [0.03935409]],\n",
       " \n",
       "        ...,\n",
       " \n",
       "        [[0.74071515],\n",
       "         [0.73148793],\n",
       "         [0.74938866],\n",
       "         ...,\n",
       "         [0.6314648 ],\n",
       "         [0.65760859],\n",
       "         [0.68006155]],\n",
       " \n",
       "        [[0.73148793],\n",
       "         [0.74938866],\n",
       "         [0.78666662],\n",
       "         ...,\n",
       "         [0.65760859],\n",
       "         [0.68006155],\n",
       "         [0.68190692]],\n",
       " \n",
       "        [[0.74938866],\n",
       "         [0.78666662],\n",
       "         [0.72767395],\n",
       "         ...,\n",
       "         [0.68006155],\n",
       "         [0.68190692],\n",
       "         [0.67593997]]]),\n",
       " array([[0.03881583],\n",
       "        [0.03935409],\n",
       "        [0.0281584 ],\n",
       "        ...,\n",
       "        [0.68190692],\n",
       "        [0.67593997],\n",
       "        [0.64309109]]))"
      ]
     },
     "execution_count": 56,
     "metadata": {},
     "output_type": "execute_result"
    }
   ],
   "source": [
    "X_train, y_train"
   ]
  },
  {
   "cell_type": "code",
   "execution_count": 57,
   "id": "5cd01741",
   "metadata": {},
   "outputs": [
    {
     "data": {
      "text/plain": [
       "((1181, 20, 1), (1181, 1))"
      ]
     },
     "execution_count": 57,
     "metadata": {},
     "output_type": "execute_result"
    }
   ],
   "source": [
    "X_train.shape, y_train.shape"
   ]
  },
  {
   "cell_type": "code",
   "execution_count": 58,
   "id": "d36b381a",
   "metadata": {},
   "outputs": [
    {
     "name": "stdout",
     "output_type": "stream",
     "text": [
      "Epoch 1/200\n",
      "6/6 [==============================] - 10s 83ms/step - loss: 0.0982\n",
      "Epoch 2/200\n",
      "6/6 [==============================] - 0s 76ms/step - loss: 0.0231\n",
      "Epoch 3/200\n",
      "6/6 [==============================] - 0s 73ms/step - loss: 0.0131\n",
      "Epoch 4/200\n",
      "6/6 [==============================] - 1s 88ms/step - loss: 0.0052\n",
      "Epoch 5/200\n",
      "6/6 [==============================] - 1s 84ms/step - loss: 0.0038\n",
      "Epoch 6/200\n",
      "6/6 [==============================] - 1s 87ms/step - loss: 0.0028\n",
      "Epoch 7/200\n",
      "6/6 [==============================] - 0s 79ms/step - loss: 0.0019\n",
      "Epoch 8/200\n",
      "6/6 [==============================] - 0s 72ms/step - loss: 0.0014\n",
      "Epoch 9/200\n",
      "6/6 [==============================] - 0s 70ms/step - loss: 0.0014\n",
      "Epoch 10/200\n",
      "6/6 [==============================] - 1s 98ms/step - loss: 0.0013\n",
      "Epoch 11/200\n",
      "6/6 [==============================] - 0s 74ms/step - loss: 0.0013\n",
      "Epoch 12/200\n",
      "6/6 [==============================] - 0s 79ms/step - loss: 0.0012\n",
      "Epoch 13/200\n",
      "6/6 [==============================] - 0s 73ms/step - loss: 0.0013\n",
      "Epoch 14/200\n",
      "6/6 [==============================] - 1s 90ms/step - loss: 0.0012\n",
      "Epoch 15/200\n",
      "6/6 [==============================] - 1s 89ms/step - loss: 0.0012\n",
      "Epoch 16/200\n",
      "6/6 [==============================] - 0s 73ms/step - loss: 0.0012\n",
      "Epoch 17/200\n",
      "6/6 [==============================] - 0s 71ms/step - loss: 0.0012\n",
      "Epoch 18/200\n",
      "6/6 [==============================] - 0s 71ms/step - loss: 0.0012\n",
      "Epoch 19/200\n",
      "6/6 [==============================] - 1s 100ms/step - loss: 0.0012\n",
      "Epoch 20/200\n",
      "6/6 [==============================] - 0s 81ms/step - loss: 0.0012\n",
      "Epoch 21/200\n",
      "6/6 [==============================] - 0s 74ms/step - loss: 0.0012\n",
      "Epoch 22/200\n",
      "6/6 [==============================] - 0s 72ms/step - loss: 0.0012\n",
      "Epoch 23/200\n",
      "6/6 [==============================] - 0s 75ms/step - loss: 0.0012\n",
      "Epoch 24/200\n",
      "6/6 [==============================] - 0s 81ms/step - loss: 0.0012\n",
      "Epoch 25/200\n",
      "6/6 [==============================] - 1s 90ms/step - loss: 0.0012\n",
      "Epoch 26/200\n",
      "6/6 [==============================] - 1s 81ms/step - loss: 0.0011\n",
      "Epoch 27/200\n",
      "6/6 [==============================] - 0s 80ms/step - loss: 0.0012\n",
      "Epoch 28/200\n",
      "6/6 [==============================] - 0s 80ms/step - loss: 0.0011\n",
      "Epoch 29/200\n",
      "6/6 [==============================] - 0s 82ms/step - loss: 0.0011\n",
      "Epoch 30/200\n",
      "6/6 [==============================] - 0s 76ms/step - loss: 0.0011\n",
      "Epoch 31/200\n",
      "6/6 [==============================] - 0s 72ms/step - loss: 0.0011\n",
      "Epoch 32/200\n",
      "6/6 [==============================] - 0s 81ms/step - loss: 0.0011\n",
      "Epoch 33/200\n",
      "6/6 [==============================] - 0s 75ms/step - loss: 0.0011\n",
      "Epoch 34/200\n",
      "6/6 [==============================] - 0s 73ms/step - loss: 0.0011\n",
      "Epoch 35/200\n",
      "6/6 [==============================] - 1s 95ms/step - loss: 0.0011\n",
      "Epoch 36/200\n",
      "6/6 [==============================] - 0s 79ms/step - loss: 0.0011\n",
      "Epoch 37/200\n",
      "6/6 [==============================] - 0s 70ms/step - loss: 0.0012\n",
      "Epoch 38/200\n",
      "6/6 [==============================] - 1s 97ms/step - loss: 0.0011\n",
      "Epoch 39/200\n",
      "6/6 [==============================] - 1s 82ms/step - loss: 0.0011\n",
      "Epoch 40/200\n",
      "6/6 [==============================] - 0s 77ms/step - loss: 0.0011\n",
      "Epoch 41/200\n",
      "6/6 [==============================] - 0s 76ms/step - loss: 0.0011\n",
      "Epoch 42/200\n",
      "6/6 [==============================] - 0s 82ms/step - loss: 0.0011\n",
      "Epoch 43/200\n",
      "6/6 [==============================] - 0s 79ms/step - loss: 0.0011\n",
      "Epoch 44/200\n",
      "6/6 [==============================] - 0s 75ms/step - loss: 0.0011\n",
      "Epoch 45/200\n",
      "6/6 [==============================] - 0s 79ms/step - loss: 0.0011\n",
      "Epoch 46/200\n",
      "6/6 [==============================] - 1s 90ms/step - loss: 0.0011\n",
      "Epoch 47/200\n",
      "6/6 [==============================] - 1s 103ms/step - loss: 0.0010\n",
      "Epoch 48/200\n",
      "6/6 [==============================] - 0s 76ms/step - loss: 0.0010\n",
      "Epoch 49/200\n",
      "6/6 [==============================] - 1s 83ms/step - loss: 0.0010\n",
      "Epoch 50/200\n",
      "6/6 [==============================] - 0s 78ms/step - loss: 0.0010\n",
      "Epoch 51/200\n",
      "6/6 [==============================] - 0s 72ms/step - loss: 0.0010\n",
      "Epoch 52/200\n",
      "6/6 [==============================] - 1s 83ms/step - loss: 0.0010\n",
      "Epoch 53/200\n",
      "6/6 [==============================] - 1s 85ms/step - loss: 0.0010\n",
      "Epoch 54/200\n",
      "6/6 [==============================] - 0s 77ms/step - loss: 0.0010\n",
      "Epoch 55/200\n",
      "6/6 [==============================] - 0s 74ms/step - loss: 9.9593e-04\n",
      "Epoch 56/200\n",
      "6/6 [==============================] - 1s 92ms/step - loss: 9.4648e-04\n",
      "Epoch 57/200\n",
      "6/6 [==============================] - 1s 98ms/step - loss: 9.6428e-04\n",
      "Epoch 58/200\n",
      "6/6 [==============================] - 1s 113ms/step - loss: 9.3968e-04\n",
      "Epoch 59/200\n",
      "6/6 [==============================] - 1s 86ms/step - loss: 9.3788e-04\n",
      "Epoch 60/200\n",
      "6/6 [==============================] - 0s 74ms/step - loss: 9.3837e-04\n",
      "Epoch 61/200\n",
      "6/6 [==============================] - 1s 90ms/step - loss: 9.6254e-04\n",
      "Epoch 62/200\n",
      "6/6 [==============================] - 0s 80ms/step - loss: 9.3571e-04\n",
      "Epoch 63/200\n",
      "6/6 [==============================] - 0s 83ms/step - loss: 9.6032e-04\n",
      "Epoch 64/200\n",
      "6/6 [==============================] - 0s 79ms/step - loss: 9.4639e-04\n",
      "Epoch 65/200\n",
      "6/6 [==============================] - 1s 134ms/step - loss: 9.0528e-04\n",
      "Epoch 66/200\n",
      "6/6 [==============================] - 1s 90ms/step - loss: 9.6574e-04\n",
      "Epoch 67/200\n",
      "6/6 [==============================] - 1s 86ms/step - loss: 0.0010\n",
      "Epoch 68/200\n",
      "6/6 [==============================] - 1s 115ms/step - loss: 0.0011\n",
      "Epoch 69/200\n",
      "6/6 [==============================] - 1s 82ms/step - loss: 0.0011\n",
      "Epoch 70/200\n",
      "6/6 [==============================] - 0s 80ms/step - loss: 0.0011\n",
      "Epoch 71/200\n",
      "6/6 [==============================] - 1s 95ms/step - loss: 0.0011\n",
      "Epoch 72/200\n",
      "6/6 [==============================] - 1s 116ms/step - loss: 8.7389e-04\n",
      "Epoch 73/200\n",
      "6/6 [==============================] - 1s 90ms/step - loss: 8.5299e-04\n",
      "Epoch 74/200\n",
      "6/6 [==============================] - 1s 83ms/step - loss: 8.2289e-04\n",
      "Epoch 75/200\n",
      "6/6 [==============================] - 1s 85ms/step - loss: 8.3444e-04\n",
      "Epoch 76/200\n",
      "6/6 [==============================] - 1s 84ms/step - loss: 8.2787e-04\n",
      "Epoch 77/200\n",
      "6/6 [==============================] - 1s 89ms/step - loss: 8.0138e-04\n",
      "Epoch 78/200\n",
      "6/6 [==============================] - 1s 88ms/step - loss: 8.2146e-04\n",
      "Epoch 79/200\n",
      "6/6 [==============================] - 1s 83ms/step - loss: 8.5356e-04\n",
      "Epoch 80/200\n",
      "6/6 [==============================] - 0s 80ms/step - loss: 8.8786e-04\n",
      "Epoch 81/200\n",
      "6/6 [==============================] - 0s 81ms/step - loss: 8.1032e-04\n",
      "Epoch 82/200\n",
      "6/6 [==============================] - 1s 86ms/step - loss: 7.9133e-04\n",
      "Epoch 83/200\n",
      "6/6 [==============================] - 1s 90ms/step - loss: 7.6252e-04\n",
      "Epoch 84/200\n",
      "6/6 [==============================] - 1s 85ms/step - loss: 7.5098e-04\n",
      "Epoch 85/200\n",
      "6/6 [==============================] - 1s 98ms/step - loss: 7.6578e-04\n",
      "Epoch 86/200\n",
      "6/6 [==============================] - 1s 102ms/step - loss: 7.4545e-04\n",
      "Epoch 87/200\n",
      "6/6 [==============================] - 1s 86ms/step - loss: 7.2541e-04\n",
      "Epoch 88/200\n",
      "6/6 [==============================] - 0s 81ms/step - loss: 7.6255e-04\n",
      "Epoch 89/200\n",
      "6/6 [==============================] - 0s 77ms/step - loss: 7.5139e-04\n",
      "Epoch 90/200\n",
      "6/6 [==============================] - 0s 77ms/step - loss: 7.2068e-04\n",
      "Epoch 91/200\n",
      "6/6 [==============================] - 0s 76ms/step - loss: 7.4240e-04\n",
      "Epoch 92/200\n",
      "6/6 [==============================] - 0s 75ms/step - loss: 8.0702e-04\n",
      "Epoch 93/200\n",
      "6/6 [==============================] - 0s 77ms/step - loss: 7.6303e-04\n",
      "Epoch 94/200\n",
      "6/6 [==============================] - 0s 80ms/step - loss: 7.4725e-04\n",
      "Epoch 95/200\n",
      "6/6 [==============================] - 0s 78ms/step - loss: 7.4934e-04\n",
      "Epoch 96/200\n",
      "6/6 [==============================] - 1s 83ms/step - loss: 7.0680e-04\n",
      "Epoch 97/200\n",
      "6/6 [==============================] - 0s 77ms/step - loss: 6.9776e-04\n",
      "Epoch 98/200\n",
      "6/6 [==============================] - 0s 79ms/step - loss: 8.1899e-04\n",
      "Epoch 99/200\n",
      "6/6 [==============================] - 0s 77ms/step - loss: 8.0154e-04\n",
      "Epoch 100/200\n",
      "6/6 [==============================] - 0s 80ms/step - loss: 7.8938e-04\n",
      "Epoch 101/200\n"
     ]
    },
    {
     "name": "stdout",
     "output_type": "stream",
     "text": [
      "6/6 [==============================] - 1s 85ms/step - loss: 8.1660e-04\n",
      "Epoch 102/200\n",
      "6/6 [==============================] - 1s 84ms/step - loss: 7.2473e-04\n",
      "Epoch 103/200\n",
      "6/6 [==============================] - 0s 83ms/step - loss: 6.8453e-04\n",
      "Epoch 104/200\n",
      "6/6 [==============================] - 0s 74ms/step - loss: 6.7119e-04\n",
      "Epoch 105/200\n",
      "6/6 [==============================] - 1s 94ms/step - loss: 6.6071e-04\n",
      "Epoch 106/200\n",
      "6/6 [==============================] - 0s 75ms/step - loss: 6.6895e-04\n",
      "Epoch 107/200\n",
      "6/6 [==============================] - 1s 84ms/step - loss: 6.9404e-04\n",
      "Epoch 108/200\n",
      "6/6 [==============================] - 0s 69ms/step - loss: 6.6990e-04\n",
      "Epoch 109/200\n",
      "6/6 [==============================] - 0s 81ms/step - loss: 6.9150e-04\n",
      "Epoch 110/200\n",
      "6/6 [==============================] - 0s 72ms/step - loss: 6.6654e-04\n",
      "Epoch 111/200\n",
      "6/6 [==============================] - 0s 71ms/step - loss: 6.6455e-04\n",
      "Epoch 112/200\n",
      "6/6 [==============================] - 0s 72ms/step - loss: 6.4222e-04\n",
      "Epoch 113/200\n",
      "6/6 [==============================] - 0s 72ms/step - loss: 6.3771e-04\n",
      "Epoch 114/200\n",
      "6/6 [==============================] - 0s 71ms/step - loss: 6.3801e-04\n",
      "Epoch 115/200\n",
      "6/6 [==============================] - 1s 85ms/step - loss: 6.3727e-04\n",
      "Epoch 116/200\n",
      "6/6 [==============================] - 0s 76ms/step - loss: 6.2413e-04\n",
      "Epoch 117/200\n",
      "6/6 [==============================] - 0s 71ms/step - loss: 6.1831e-04\n",
      "Epoch 118/200\n",
      "6/6 [==============================] - 0s 72ms/step - loss: 6.5234e-04\n",
      "Epoch 119/200\n",
      "6/6 [==============================] - 1s 113ms/step - loss: 6.0709e-04\n",
      "Epoch 120/200\n",
      "6/6 [==============================] - 1s 121ms/step - loss: 5.9999e-04\n",
      "Epoch 121/200\n",
      "6/6 [==============================] - 1s 94ms/step - loss: 6.0654e-04\n",
      "Epoch 122/200\n",
      "6/6 [==============================] - 0s 72ms/step - loss: 5.9328e-04\n",
      "Epoch 123/200\n",
      "6/6 [==============================] - 0s 74ms/step - loss: 6.0240e-04\n",
      "Epoch 124/200\n",
      "6/6 [==============================] - 1s 93ms/step - loss: 6.1614e-04\n",
      "Epoch 125/200\n",
      "6/6 [==============================] - 1s 93ms/step - loss: 6.6299e-04\n",
      "Epoch 126/200\n",
      "6/6 [==============================] - 1s 96ms/step - loss: 6.5808e-04\n",
      "Epoch 127/200\n",
      "6/6 [==============================] - 1s 84ms/step - loss: 6.1283e-04\n",
      "Epoch 128/200\n",
      "6/6 [==============================] - 1s 84ms/step - loss: 6.4596e-04\n",
      "Epoch 129/200\n",
      "6/6 [==============================] - 1s 84ms/step - loss: 6.2912e-04\n",
      "Epoch 130/200\n",
      "6/6 [==============================] - 1s 114ms/step - loss: 5.9163e-04\n",
      "Epoch 131/200\n",
      "6/6 [==============================] - 1s 117ms/step - loss: 5.8204e-04\n",
      "Epoch 132/200\n",
      "6/6 [==============================] - 1s 134ms/step - loss: 5.7574e-04\n",
      "Epoch 133/200\n",
      "6/6 [==============================] - 1s 95ms/step - loss: 5.7106e-04\n",
      "Epoch 134/200\n",
      "6/6 [==============================] - 1s 78ms/step - loss: 5.9152e-04\n",
      "Epoch 135/200\n",
      "6/6 [==============================] - 1s 88ms/step - loss: 6.0367e-04\n",
      "Epoch 136/200\n",
      "6/6 [==============================] - 1s 79ms/step - loss: 6.3527e-04\n",
      "Epoch 137/200\n",
      "6/6 [==============================] - 0s 75ms/step - loss: 6.3108e-04\n",
      "Epoch 138/200\n",
      "6/6 [==============================] - 1s 88ms/step - loss: 7.1842e-04\n",
      "Epoch 139/200\n",
      "6/6 [==============================] - 1s 89ms/step - loss: 6.1928e-04\n",
      "Epoch 140/200\n",
      "6/6 [==============================] - 0s 72ms/step - loss: 6.4296e-04\n",
      "Epoch 141/200\n",
      "6/6 [==============================] - 0s 71ms/step - loss: 5.6718e-04\n",
      "Epoch 142/200\n",
      "6/6 [==============================] - 1s 90ms/step - loss: 5.6933e-04\n",
      "Epoch 143/200\n",
      "6/6 [==============================] - 1s 79ms/step - loss: 5.5113e-04\n",
      "Epoch 144/200\n",
      "6/6 [==============================] - 0s 82ms/step - loss: 5.6225e-04\n",
      "Epoch 145/200\n",
      "6/6 [==============================] - 0s 77ms/step - loss: 6.4827e-04\n",
      "Epoch 146/200\n",
      "6/6 [==============================] - 1s 80ms/step - loss: 6.1561e-04\n",
      "Epoch 147/200\n",
      "6/6 [==============================] - 0s 77ms/step - loss: 5.7303e-04\n",
      "Epoch 148/200\n",
      "6/6 [==============================] - 0s 80ms/step - loss: 5.6395e-04\n",
      "Epoch 149/200\n",
      "6/6 [==============================] - 0s 81ms/step - loss: 5.7004e-04\n",
      "Epoch 150/200\n",
      "6/6 [==============================] - 0s 72ms/step - loss: 5.4569e-04\n",
      "Epoch 151/200\n",
      "6/6 [==============================] - 0s 77ms/step - loss: 5.2424e-04\n",
      "Epoch 152/200\n",
      "6/6 [==============================] - 0s 78ms/step - loss: 5.4817e-04\n",
      "Epoch 153/200\n",
      "6/6 [==============================] - 1s 84ms/step - loss: 5.1996e-04\n",
      "Epoch 154/200\n",
      "6/6 [==============================] - 1s 81ms/step - loss: 5.2501e-04\n",
      "Epoch 155/200\n",
      "6/6 [==============================] - 1s 95ms/step - loss: 5.0800e-04\n",
      "Epoch 156/200\n",
      "6/6 [==============================] - 1s 87ms/step - loss: 4.9991e-04\n",
      "Epoch 157/200\n",
      "6/6 [==============================] - 1s 93ms/step - loss: 5.1284e-04\n",
      "Epoch 158/200\n",
      "6/6 [==============================] - 0s 74ms/step - loss: 5.2169e-04\n",
      "Epoch 159/200\n",
      "6/6 [==============================] - 1s 92ms/step - loss: 5.2179e-04\n",
      "Epoch 160/200\n",
      "6/6 [==============================] - 1s 83ms/step - loss: 5.2607e-04\n",
      "Epoch 161/200\n",
      "6/6 [==============================] - 0s 77ms/step - loss: 5.0436e-04\n",
      "Epoch 162/200\n",
      "6/6 [==============================] - 0s 76ms/step - loss: 5.0070e-04\n",
      "Epoch 163/200\n",
      "6/6 [==============================] - 0s 77ms/step - loss: 5.2252e-04\n",
      "Epoch 164/200\n",
      "6/6 [==============================] - 1s 89ms/step - loss: 5.4892e-04\n",
      "Epoch 165/200\n",
      "6/6 [==============================] - 0s 74ms/step - loss: 5.0760e-04\n",
      "Epoch 166/200\n",
      "6/6 [==============================] - 0s 74ms/step - loss: 5.5437e-04\n",
      "Epoch 167/200\n",
      "6/6 [==============================] - 0s 76ms/step - loss: 5.8109e-04\n",
      "Epoch 168/200\n",
      "6/6 [==============================] - 0s 82ms/step - loss: 5.3262e-04\n",
      "Epoch 169/200\n",
      "6/6 [==============================] - 1s 85ms/step - loss: 6.4588e-04\n",
      "Epoch 170/200\n",
      "6/6 [==============================] - 0s 76ms/step - loss: 5.4329e-04\n",
      "Epoch 171/200\n",
      "6/6 [==============================] - 0s 75ms/step - loss: 5.0854e-04\n",
      "Epoch 172/200\n",
      "6/6 [==============================] - 0s 76ms/step - loss: 4.8388e-04\n",
      "Epoch 173/200\n",
      "6/6 [==============================] - 0s 79ms/step - loss: 4.6493e-04\n",
      "Epoch 174/200\n",
      "6/6 [==============================] - 0s 78ms/step - loss: 4.9914e-04\n",
      "Epoch 175/200\n",
      "6/6 [==============================] - 0s 80ms/step - loss: 4.7573e-04\n",
      "Epoch 176/200\n",
      "6/6 [==============================] - 1s 84ms/step - loss: 4.7752e-04\n",
      "Epoch 177/200\n",
      "6/6 [==============================] - 0s 79ms/step - loss: 4.5173e-04\n",
      "Epoch 178/200\n",
      "6/6 [==============================] - 0s 74ms/step - loss: 4.5715e-04\n",
      "Epoch 179/200\n",
      "6/6 [==============================] - 0s 72ms/step - loss: 4.4815e-04\n",
      "Epoch 180/200\n",
      "6/6 [==============================] - 0s 79ms/step - loss: 4.4040e-04\n",
      "Epoch 181/200\n",
      "6/6 [==============================] - 0s 77ms/step - loss: 4.3205e-04\n",
      "Epoch 182/200\n",
      "6/6 [==============================] - 0s 71ms/step - loss: 4.4426e-04\n",
      "Epoch 183/200\n",
      "6/6 [==============================] - 0s 74ms/step - loss: 4.5947e-04\n",
      "Epoch 184/200\n",
      "6/6 [==============================] - 0s 72ms/step - loss: 4.4476e-04\n",
      "Epoch 185/200\n",
      "6/6 [==============================] - 1s 89ms/step - loss: 4.7161e-04\n",
      "Epoch 186/200\n",
      "6/6 [==============================] - 1s 94ms/step - loss: 4.5470e-04\n",
      "Epoch 187/200\n",
      "6/6 [==============================] - 1s 120ms/step - loss: 4.2775e-04\n",
      "Epoch 188/200\n",
      "6/6 [==============================] - 1s 133ms/step - loss: 4.2161e-04\n",
      "Epoch 189/200\n",
      "6/6 [==============================] - 1s 130ms/step - loss: 4.1696e-04\n",
      "Epoch 190/200\n",
      "6/6 [==============================] - 1s 109ms/step - loss: 4.1277e-04\n",
      "Epoch 191/200\n",
      "6/6 [==============================] - 1s 128ms/step - loss: 4.6578e-04\n",
      "Epoch 192/200\n",
      "6/6 [==============================] - 1s 100ms/step - loss: 4.4259e-04\n",
      "Epoch 193/200\n",
      "6/6 [==============================] - 0s 82ms/step - loss: 4.2188e-04\n",
      "Epoch 194/200\n",
      "6/6 [==============================] - 1s 101ms/step - loss: 4.2516e-04\n",
      "Epoch 195/200\n",
      "6/6 [==============================] - 1s 94ms/step - loss: 4.1650e-04\n",
      "Epoch 196/200\n",
      "6/6 [==============================] - 1s 97ms/step - loss: 4.2672e-04\n",
      "Epoch 197/200\n"
     ]
    },
    {
     "name": "stdout",
     "output_type": "stream",
     "text": [
      "6/6 [==============================] - 0s 70ms/step - loss: 4.3732e-04\n",
      "Epoch 198/200\n",
      "6/6 [==============================] - 1s 95ms/step - loss: 4.6576e-04\n",
      "Epoch 199/200\n",
      "6/6 [==============================] - 0s 84ms/step - loss: 4.0012e-04\n",
      "Epoch 200/200\n",
      "6/6 [==============================] - 1s 110ms/step - loss: 3.9828e-04\n"
     ]
    },
    {
     "data": {
      "text/plain": [
       "<keras.src.callbacks.History at 0x28a17815290>"
      ]
     },
     "execution_count": 58,
     "metadata": {},
     "output_type": "execute_result"
    }
   ],
   "source": [
    "model = Sequential()\n",
    "model.add(LSTM(50, return_sequences=True, input_shape=(X_train.shape[1], 1)))\n",
    "model.add(LSTM(50, return_sequences=True))\n",
    "model.add(LSTM(50, return_sequences=False))\n",
    "model.add(Dense(25))\n",
    "model.add(Dense(1))\n",
    "\n",
    "model.compile(optimizer='adam', loss='mean_squared_error')\n",
    "model.fit(X_train, y_train, batch_size=200, epochs=200, verbose=1)\n",
    "\n",
    "# callback = tf.keras.callbacks.EarlyStopping(\n",
    "#     monitor='val_loss',\n",
    "#     min_delta=0,\n",
    "#     patience=0,\n",
    "#     verbose=0,\n",
    "#     mode='auto',\n",
    "#     baseline=None,\n",
    "#     restore_best_weights=False,\n",
    "#     start_from_epoch=0\n",
    "# )\n",
    "# model.fit(X_train, y_train, batch_size=200, epochs=500, verbose=1, callbacks=[callback])"
   ]
  },
  {
   "cell_type": "code",
   "execution_count": 59,
   "id": "12e2ae5e",
   "metadata": {
    "scrolled": true
   },
   "outputs": [
    {
     "name": "stdout",
     "output_type": "stream",
     "text": [
      "37/37 [==============================] - 3s 12ms/step\n"
     ]
    }
   ],
   "source": [
    "pred_train = model.predict(X_train)"
   ]
  },
  {
   "cell_type": "code",
   "execution_count": 60,
   "id": "0d5c1469",
   "metadata": {},
   "outputs": [
    {
     "data": {
      "text/plain": [
       "array([[0.05136614],\n",
       "       [0.04899761],\n",
       "       [0.04675788],\n",
       "       ...,\n",
       "       [0.6691332 ],\n",
       "       [0.6680198 ],\n",
       "       [0.6714089 ]], dtype=float32)"
      ]
     },
     "execution_count": 60,
     "metadata": {},
     "output_type": "execute_result"
    }
   ],
   "source": [
    "pred_train"
   ]
  },
  {
   "cell_type": "code",
   "execution_count": 61,
   "id": "b513ec61",
   "metadata": {},
   "outputs": [
    {
     "name": "stdout",
     "output_type": "stream",
     "text": [
      "mean absolute error- 0.0142528114017953\n",
      "mean squared error- 0.00041849799825611757\n"
     ]
    }
   ],
   "source": [
    "mae = mean_absolute_error(y_train, pred_train)\n",
    "print('mean absolute error-', mae)\n",
    "mse = mean_squared_error(y_train, pred_train)\n",
    "print('mean squared error-', mse)"
   ]
  },
  {
   "cell_type": "code",
   "execution_count": 62,
   "id": "ce0baf19",
   "metadata": {},
   "outputs": [
    {
     "data": {
      "text/plain": [
       "<matplotlib.legend.Legend at 0x28a23089a10>"
      ]
     },
     "execution_count": 62,
     "metadata": {},
     "output_type": "execute_result"
    },
    {
     "data": {
      "image/png": "[encoded data removed]",
      "text/plain": [
       "<Figure size 640x480 with 1 Axes>"
      ]
     },
     "metadata": {},
     "output_type": "display_data"
    }
   ],
   "source": [
    "plt.title(f\"{ticker}'s Prediction from {start_date} to {end_date}\\n Actual vs. Predicted on Training Data\")\n",
    "plt.xlabel('Days')\n",
    "plt.ylabel('Price')\n",
    "plt.plot(y_train, color='blue', label='actual')\n",
    "plt.plot(pred_train, color='red', label='predicted')\n",
    "plt.legend()"
   ]
  },
  {
   "cell_type": "code",
   "execution_count": 63,
   "id": "7e7be93a",
   "metadata": {},
   "outputs": [
    {
     "name": "stdout",
     "output_type": "stream",
     "text": [
      "9/9 [==============================] - 0s 23ms/step\n"
     ]
    }
   ],
   "source": [
    "pred_test = model.predict(X_test)"
   ]
  },
  {
   "cell_type": "code",
   "execution_count": 64,
   "id": "f62663ff",
   "metadata": {},
   "outputs": [
    {
     "name": "stdout",
     "output_type": "stream",
     "text": [
      "mean absolute error- 0.017467559583323654\n",
      "mean squared error- 0.0004949403282941565\n"
     ]
    }
   ],
   "source": [
    "mae = mean_absolute_error(y_test, pred_test)\n",
    "print('mean absolute error-', mae)\n",
    "mse = mean_squared_error(y_test, pred_test)\n",
    "print('mean squared error-', mse)"
   ]
  },
  {
   "cell_type": "code",
   "execution_count": 65,
   "id": "dce7e9a0",
   "metadata": {},
   "outputs": [
    {
     "data": {
      "text/plain": [
       "<matplotlib.legend.Legend at 0x28a286a2090>"
      ]
     },
     "execution_count": 65,
     "metadata": {},
     "output_type": "execute_result"
    },
    {
     "data": {
      "image/png": "[encoded data removed]",
      "text/plain": [
       "<Figure size 640x480 with 1 Axes>"
      ]
     },
     "metadata": {},
     "output_type": "display_data"
    }
   ],
   "source": [
    "plt.title(f\"{ticker}'s Prediction from {start_date} to {end_date}\\n Actual vs. Predicted on Training Data\")\n",
    "plt.xlabel('Days')\n",
    "plt.ylabel('Price')\n",
    "plt.plot(y_test, color='green', label='actual')\n",
    "plt.plot(pred_test, color='orange', label='predicted')\n",
    "plt.legend()"
   ]
  },
  {
   "cell_type": "code",
   "execution_count": 75,
   "id": "75846d04",
   "metadata": {},
   "outputs": [
    {
     "name": "stdout",
     "output_type": "stream",
     "text": [
      "[*********************100%***********************]  1 of 1 completed\n"
     ]
    },
    {
     "data": {
      "text/plain": [
       "0    194.830002\n",
       "1    194.679993\n",
       "2    193.600006\n",
       "3    193.050003\n",
       "4    193.149994\n",
       "5    193.580002\n",
       "6    192.529999\n",
       "Name: Close, dtype: float64"
      ]
     },
     "execution_count": 75,
     "metadata": {},
     "output_type": "execute_result"
    }
   ],
   "source": [
    "ticker = 'AAPL'\n",
    "start_date = '2023-12-20'\n",
    "end_date = '2023-12-30'\n",
    "df_future = yf.download(ticker, start_date, end_date).reset_index()['Close']\n",
    "df_future"
   ]
  },
  {
   "cell_type": "code",
   "execution_count": 76,
   "id": "65dd9002",
   "metadata": {},
   "outputs": [],
   "source": [
    "df_future = df_future.values"
   ]
  },
  {
   "cell_type": "code",
   "execution_count": 77,
   "id": "97ee7a64",
   "metadata": {},
   "outputs": [
    {
     "data": {
      "text/plain": [
       "array([190.63999939, 191.30999756, 189.97000122, 189.78999329,\n",
       "       190.3999939 , 189.36999512, 189.94999695, 191.24000549,\n",
       "       189.42999268, 193.41999817, 192.32000732, 194.27000427,\n",
       "       195.71000671, 193.17999268, 194.71000671, 197.96000671,\n",
       "       198.11000061, 197.57000732, 195.88999939, 196.94000244])"
      ]
     },
     "execution_count": 77,
     "metadata": {},
     "output_type": "execute_result"
    }
   ],
   "source": [
    "future_data_to_predict = np.array(close[-20:])\n",
    "future_data_to_predict"
   ]
  },
  {
   "cell_type": "code",
   "execution_count": 78,
   "id": "bfb2ddfc",
   "metadata": {},
   "outputs": [
    {
     "data": {
      "text/plain": [
       "196.94000244140625"
      ]
     },
     "execution_count": 78,
     "metadata": {},
     "output_type": "execute_result"
    }
   ],
   "source": [
    "last_val = future_data_to_predict[-1]\n",
    "last_val"
   ]
  },
  {
   "cell_type": "markdown",
   "id": "6566cf7e",
   "metadata": {},
   "source": [
    "---------------------------------------------------------------------------------------------------------------------------"
   ]
  },
  {
   "cell_type": "code",
   "execution_count": 79,
   "id": "2e40312e",
   "metadata": {},
   "outputs": [],
   "source": [
    "def prediction(future_data, last_val, days):\n",
    "    \n",
    "    output_data = []\n",
    "    new_arr = []\n",
    "\n",
    "    for i in range(days):\n",
    "        \n",
    "        if future_data[-1] == last_val:\n",
    "            print('no')\n",
    "            print('before',future_data)\n",
    "            temp = scaler.transform(future_data.reshape(-1, 1))\n",
    "            temp_scaled_reshape = temp.reshape(1, 20, 1)\n",
    "            predicted_value = model.predict(temp_scaled_reshape)\n",
    "            actual_predicted = scaler.inverse_transform(predicted_value.reshape(1,-1))\n",
    "            output_data.append(actual_predicted[0,0])\n",
    "            print('output',actual_predicted[0,0])\n",
    "            future_data = future_data[1:]\n",
    "            future_data = np.append(future_data,actual_predicted)\n",
    "            print('after',future_data)\n",
    "        else:\n",
    "            print('yes')\n",
    "            print('before',future_data)\n",
    "            temp = scaler.transform(future_data.reshape(-1, 1))\n",
    "            temp_scaled_reshape = temp.reshape(1, 20, 1)\n",
    "            predicted_value = model.predict(temp_scaled_reshape)\n",
    "            actual_predicted = scaler.inverse_transform(predicted_value.reshape(1,-1))\n",
    "            output_data.append(actual_predicted[0,0])\n",
    "            print('output',actual_predicted[0,0])\n",
    "            future_data = future_data[1:]\n",
    "            future_data = np.append(future_data,actual_predicted)\n",
    "            print('after',future_data)\n",
    "\n",
    "    return output_data\n",
    "    "
   ]
  },
  {
   "cell_type": "code",
   "execution_count": 84,
   "id": "7ea91f79",
   "metadata": {},
   "outputs": [
    {
     "name": "stdout",
     "output_type": "stream",
     "text": [
      "no\n",
      "before [190.63999939 191.30999756 189.97000122 189.78999329 190.3999939\n",
      " 189.36999512 189.94999695 191.24000549 189.42999268 193.41999817\n",
      " 192.32000732 194.27000427 195.71000671 193.17999268 194.71000671\n",
      " 197.96000671 198.11000061 197.57000732 195.88999939 196.94000244]\n",
      "1/1 [==============================] - 0s 55ms/step\n",
      "output 196.43806\n",
      "after [191.30999756 189.97000122 189.78999329 190.3999939  189.36999512\n",
      " 189.94999695 191.24000549 189.42999268 193.41999817 192.32000732\n",
      " 194.27000427 195.71000671 193.17999268 194.71000671 197.96000671\n",
      " 198.11000061 197.57000732 195.88999939 196.94000244 196.43806458]\n",
      "yes\n",
      "before [191.30999756 189.97000122 189.78999329 190.3999939  189.36999512\n",
      " 189.94999695 191.24000549 189.42999268 193.41999817 192.32000732\n",
      " 194.27000427 195.71000671 193.17999268 194.71000671 197.96000671\n",
      " 198.11000061 197.57000732 195.88999939 196.94000244 196.43806458]\n",
      "1/1 [==============================] - 0s 40ms/step\n",
      "output 196.03336\n",
      "after [189.97000122 189.78999329 190.3999939  189.36999512 189.94999695\n",
      " 191.24000549 189.42999268 193.41999817 192.32000732 194.27000427\n",
      " 195.71000671 193.17999268 194.71000671 197.96000671 198.11000061\n",
      " 197.57000732 195.88999939 196.94000244 196.43806458 196.03335571]\n",
      "yes\n",
      "before [189.97000122 189.78999329 190.3999939  189.36999512 189.94999695\n",
      " 191.24000549 189.42999268 193.41999817 192.32000732 194.27000427\n",
      " 195.71000671 193.17999268 194.71000671 197.96000671 198.11000061\n",
      " 197.57000732 195.88999939 196.94000244 196.43806458 196.03335571]\n",
      "1/1 [==============================] - 0s 46ms/step\n",
      "output 195.49823\n",
      "after [189.78999329 190.3999939  189.36999512 189.94999695 191.24000549\n",
      " 189.42999268 193.41999817 192.32000732 194.27000427 195.71000671\n",
      " 193.17999268 194.71000671 197.96000671 198.11000061 197.57000732\n",
      " 195.88999939 196.94000244 196.43806458 196.03335571 195.49822998]\n",
      "yes\n",
      "before [189.78999329 190.3999939  189.36999512 189.94999695 191.24000549\n",
      " 189.42999268 193.41999817 192.32000732 194.27000427 195.71000671\n",
      " 193.17999268 194.71000671 197.96000671 198.11000061 197.57000732\n",
      " 195.88999939 196.94000244 196.43806458 196.03335571 195.49822998]\n",
      "1/1 [==============================] - 0s 37ms/step\n",
      "output 194.90636\n",
      "after [190.3999939  189.36999512 189.94999695 191.24000549 189.42999268\n",
      " 193.41999817 192.32000732 194.27000427 195.71000671 193.17999268\n",
      " 194.71000671 197.96000671 198.11000061 197.57000732 195.88999939\n",
      " 196.94000244 196.43806458 196.03335571 195.49822998 194.90635681]\n",
      "yes\n",
      "before [190.3999939  189.36999512 189.94999695 191.24000549 189.42999268\n",
      " 193.41999817 192.32000732 194.27000427 195.71000671 193.17999268\n",
      " 194.71000671 197.96000671 198.11000061 197.57000732 195.88999939\n",
      " 196.94000244 196.43806458 196.03335571 195.49822998 194.90635681]\n",
      "1/1 [==============================] - 0s 32ms/step\n",
      "output 194.27844\n",
      "after [189.36999512 189.94999695 191.24000549 189.42999268 193.41999817\n",
      " 192.32000732 194.27000427 195.71000671 193.17999268 194.71000671\n",
      " 197.96000671 198.11000061 197.57000732 195.88999939 196.94000244\n",
      " 196.43806458 196.03335571 195.49822998 194.90635681 194.27844238]\n",
      "yes\n",
      "before [189.36999512 189.94999695 191.24000549 189.42999268 193.41999817\n",
      " 192.32000732 194.27000427 195.71000671 193.17999268 194.71000671\n",
      " 197.96000671 198.11000061 197.57000732 195.88999939 196.94000244\n",
      " 196.43806458 196.03335571 195.49822998 194.90635681 194.27844238]\n",
      "1/1 [==============================] - 0s 33ms/step\n",
      "output 193.63307\n",
      "after [189.94999695 191.24000549 189.42999268 193.41999817 192.32000732\n",
      " 194.27000427 195.71000671 193.17999268 194.71000671 197.96000671\n",
      " 198.11000061 197.57000732 195.88999939 196.94000244 196.43806458\n",
      " 196.03335571 195.49822998 194.90635681 194.27844238 193.6330719 ]\n",
      "yes\n",
      "before [189.94999695 191.24000549 189.42999268 193.41999817 192.32000732\n",
      " 194.27000427 195.71000671 193.17999268 194.71000671 197.96000671\n",
      " 198.11000061 197.57000732 195.88999939 196.94000244 196.43806458\n",
      " 196.03335571 195.49822998 194.90635681 194.27844238 193.6330719 ]\n",
      "1/1 [==============================] - 0s 38ms/step\n",
      "output 193.00989\n",
      "after [191.24000549 189.42999268 193.41999817 192.32000732 194.27000427\n",
      " 195.71000671 193.17999268 194.71000671 197.96000671 198.11000061\n",
      " 197.57000732 195.88999939 196.94000244 196.43806458 196.03335571\n",
      " 195.49822998 194.90635681 194.27844238 193.6330719  193.0098877 ]\n"
     ]
    },
    {
     "data": {
      "text/plain": [
       "[196.43806, 196.03336, 195.49823, 194.90636, 194.27844, 193.63307, 193.00989]"
      ]
     },
     "execution_count": 84,
     "metadata": {},
     "output_type": "execute_result"
    }
   ],
   "source": [
    "result = prediction(future_data_to_predict[-20:], last_val, len(df_future))\n",
    "result"
   ]
  },
  {
   "cell_type": "code",
   "execution_count": 85,
   "id": "ad293520",
   "metadata": {},
   "outputs": [
    {
     "data": {
      "text/plain": [
       "<matplotlib.legend.Legend at 0x28a286a2490>"
      ]
     },
     "execution_count": 85,
     "metadata": {},
     "output_type": "execute_result"
    },
    {
     "data": {
      "image/png": "[encoded data removed]",
      "text/plain": [
       "<Figure size 640x480 with 1 Axes>"
      ]
     },
     "metadata": {},
     "output_type": "display_data"
    }
   ],
   "source": [
    "plt.title(f\"{ticker}'s Prediction For Next {len(df_future)} Days\")\n",
    "plt.xlabel('Days')\n",
    "plt.ylabel('Price')\n",
    "plt.plot(df_future, color='orange', label='actual')\n",
    "plt.plot(result, color='green', label='predicted')\n",
    "plt.legend()"
   ]
  },
  {
   "cell_type": "code",
   "execution_count": 138,
   "id": "936795cf",
   "metadata": {},
   "outputs": [],
   "source": [
    "def get_control_vector(val):\n",
    "    return np.diff(np.sign(np.diff(val)))\n",
    "\n",
    "def buy_and_sell_bot(val,controls):\n",
    "    inv = []\n",
    "    curr_val = 1000\n",
    "    print(\"*******************\",np.where(controls))\n",
    "    \n",
    "#     inds = np.where(controls)[0]\n",
    "#     print(inds)\n",
    "#     buy_inds = np.where(controls>0)[0]\n",
    "#     sell_inds = np.where(controls<0)[0]\n",
    "#     max_limit = sell_inds[-1] if sell_inds[-1]>buy_inds[-1] else buy_inds[-1]\n",
    "#     for i in range(buy_inds[0]+2):\n",
    "#         inv.append(curr_val)\n",
    "#     for i in range(buy_inds[0],max_limit+1):\n",
    "#         if controls[i]>0:\n",
    "#             buy_val = val[i+1]\n",
    "#         elif controls[i]<0:\n",
    "#             sell_val = val[i+1]\n",
    "#             curr_val = curr_val*sell_val/buy_val\n",
    "#         inv.append(curr_val)\n",
    "        \n",
    "#     if max_limit+1!=len(controls):\n",
    "#         for i in range(len(controls)-max_limit-1):\n",
    "#             inv.append(curr_val)\n",
    "#     return inv"
   ]
  },
  {
   "cell_type": "code",
   "execution_count": 139,
   "id": "c7913e0a",
   "metadata": {},
   "outputs": [],
   "source": [
    "# controls_actual = get_control_vector(df_future)\n",
    "# amount_actual = buy_and_sell_bot(future_data, controls_actual)\n",
    "# controls_actual,amount_actual"
   ]
  },
  {
   "cell_type": "code",
   "execution_count": 156,
   "id": "65bcbbd8",
   "metadata": {},
   "outputs": [
    {
     "data": {
      "text/plain": [
       "(array([1., 1., 1., 1., 1., 1.], dtype=float32),\n",
       " array([ 1., -1., -1., -1.,  1., -1.]))"
      ]
     },
     "execution_count": 156,
     "metadata": {},
     "output_type": "execute_result"
    }
   ],
   "source": [
    "controls_pred= get_control_vector(np.array(result))\n",
    "# amount_pred = buy_and_sell_bot(result, controls_pred)\n",
    "# amount_pred,\n",
    "np.sign(np.diff(np.array(result))), np.sign(np.diff(df_future))"
   ]
  },
  {
   "cell_type": "code",
   "execution_count": 154,
   "id": "6402e230",
   "metadata": {},
   "outputs": [
    {
     "data": {
      "text/plain": [
       "array([152.11999512, 153.83999634, 153.41999817, 153.41000366,\n",
       "       153.33999634, 153.38000488, 151.94000244])"
      ]
     },
     "execution_count": 154,
     "metadata": {},
     "output_type": "execute_result"
    }
   ],
   "source": [
    "df_future"
   ]
  },
  {
   "cell_type": "code",
   "execution_count": 155,
   "id": "e01d59d5",
   "metadata": {},
   "outputs": [
    {
     "data": {
      "text/plain": [
       "array([153.55403, 154.67691, 155.34634, 155.79456, 156.12683, 156.38371,\n",
       "       156.59152], dtype=float32)"
      ]
     },
     "execution_count": 155,
     "metadata": {},
     "output_type": "execute_result"
    }
   ],
   "source": [
    "result = np.array(result)\n",
    "result"
   ]
  },
  {
   "cell_type": "code",
   "execution_count": null,
   "id": "e1953645",
   "metadata": {},
   "outputs": [],
   "source": []
  }
 ],
 "metadata": {
  "kernelspec": {
   "display_name": "Python 3 (ipykernel)",
   "language": "python",
   "name": "python3"
  },
  "language_info": {
   "codemirror_mode": {
    "name": "ipython",
    "version": 3
   },
   "file_extension": ".py",
   "mimetype": "text/x-python",
   "name": "python",
   "nbconvert_exporter": "python",
   "pygments_lexer": "ipython3",
   "version": "3.11.4"
  }
 },
 "nbformat": 4,
 "nbformat_minor": 5
}
