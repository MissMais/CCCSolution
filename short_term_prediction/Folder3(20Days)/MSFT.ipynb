{
 "cells": [
  {
   "cell_type": "code",
   "execution_count": 14,
   "id": "fc6b9692",
   "metadata": {},
   "outputs": [],
   "source": [
    "import numpy as np\n",
    "import pandas as pd\n",
    "import yfinance as yf\n",
    "import matplotlib.pyplot as plt\n",
    "from sklearn.preprocessing import MinMaxScaler\n",
    "from keras.models import Sequential\n",
    "from keras.layers import LSTM, Dense\n",
    "import tensorflow as tf\n",
    "from sklearn.metrics import mean_squared_error, mean_absolute_error, accuracy_score\n",
    "from math import sqrt"
   ]
  },
  {
   "cell_type": "code",
   "execution_count": 15,
   "id": "b85b7fbc",
   "metadata": {},
   "outputs": [],
   "source": [
    "ticker = 'MSFT'\n",
    "start_date = '2018-01-01'\n",
    "end_date = '2023-12-20'"
   ]
  },
  {
   "cell_type": "code",
   "execution_count": 16,
   "id": "b386cf97",
   "metadata": {},
   "outputs": [
    {
     "name": "stdout",
     "output_type": "stream",
     "text": [
      "[*********************100%***********************]  1 of 1 completed\n"
     ]
    },
    {
     "data": {
      "text/html": [
       "<div>\n",
       "<style scoped>\n",
       "    .dataframe tbody tr th:only-of-type {\n",
       "        vertical-align: middle;\n",
       "    }\n",
       "\n",
       "    .dataframe tbody tr th {\n",
       "        vertical-align: top;\n",
       "    }\n",
       "\n",
       "    .dataframe thead th {\n",
       "        text-align: right;\n",
       "    }\n",
       "</style>\n",
       "<table border=\"1\" class=\"dataframe\">\n",
       "  <thead>\n",
       "    <tr style=\"text-align: right;\">\n",
       "      <th></th>\n",
       "      <th>Date</th>\n",
       "      <th>Open</th>\n",
       "      <th>High</th>\n",
       "      <th>Low</th>\n",
       "      <th>Close</th>\n",
       "      <th>Adj Close</th>\n",
       "      <th>Volume</th>\n",
       "    </tr>\n",
       "  </thead>\n",
       "  <tbody>\n",
       "    <tr>\n",
       "      <th>0</th>\n",
       "      <td>2018-01-02</td>\n",
       "      <td>86.129997</td>\n",
       "      <td>86.309998</td>\n",
       "      <td>85.500000</td>\n",
       "      <td>85.949997</td>\n",
       "      <td>80.229004</td>\n",
       "      <td>22483800</td>\n",
       "    </tr>\n",
       "    <tr>\n",
       "      <th>1</th>\n",
       "      <td>2018-01-03</td>\n",
       "      <td>86.059998</td>\n",
       "      <td>86.510002</td>\n",
       "      <td>85.970001</td>\n",
       "      <td>86.349998</td>\n",
       "      <td>80.602379</td>\n",
       "      <td>26061400</td>\n",
       "    </tr>\n",
       "    <tr>\n",
       "      <th>2</th>\n",
       "      <td>2018-01-04</td>\n",
       "      <td>86.589996</td>\n",
       "      <td>87.660004</td>\n",
       "      <td>86.570000</td>\n",
       "      <td>87.110001</td>\n",
       "      <td>81.311813</td>\n",
       "      <td>21912000</td>\n",
       "    </tr>\n",
       "    <tr>\n",
       "      <th>3</th>\n",
       "      <td>2018-01-05</td>\n",
       "      <td>87.660004</td>\n",
       "      <td>88.410004</td>\n",
       "      <td>87.430000</td>\n",
       "      <td>88.190002</td>\n",
       "      <td>82.319923</td>\n",
       "      <td>23407100</td>\n",
       "    </tr>\n",
       "    <tr>\n",
       "      <th>4</th>\n",
       "      <td>2018-01-08</td>\n",
       "      <td>88.199997</td>\n",
       "      <td>88.580002</td>\n",
       "      <td>87.599998</td>\n",
       "      <td>88.279999</td>\n",
       "      <td>82.403931</td>\n",
       "      <td>22113000</td>\n",
       "    </tr>\n",
       "    <tr>\n",
       "      <th>...</th>\n",
       "      <td>...</td>\n",
       "      <td>...</td>\n",
       "      <td>...</td>\n",
       "      <td>...</td>\n",
       "      <td>...</td>\n",
       "      <td>...</td>\n",
       "      <td>...</td>\n",
       "    </tr>\n",
       "    <tr>\n",
       "      <th>1497</th>\n",
       "      <td>2023-12-13</td>\n",
       "      <td>376.019989</td>\n",
       "      <td>377.640015</td>\n",
       "      <td>370.769989</td>\n",
       "      <td>374.369995</td>\n",
       "      <td>374.369995</td>\n",
       "      <td>30955500</td>\n",
       "    </tr>\n",
       "    <tr>\n",
       "      <th>1498</th>\n",
       "      <td>2023-12-14</td>\n",
       "      <td>373.309998</td>\n",
       "      <td>373.760010</td>\n",
       "      <td>364.130005</td>\n",
       "      <td>365.929993</td>\n",
       "      <td>365.929993</td>\n",
       "      <td>43277500</td>\n",
       "    </tr>\n",
       "    <tr>\n",
       "      <th>1499</th>\n",
       "      <td>2023-12-15</td>\n",
       "      <td>366.850006</td>\n",
       "      <td>372.399994</td>\n",
       "      <td>366.279999</td>\n",
       "      <td>370.730011</td>\n",
       "      <td>370.730011</td>\n",
       "      <td>78478200</td>\n",
       "    </tr>\n",
       "    <tr>\n",
       "      <th>1500</th>\n",
       "      <td>2023-12-18</td>\n",
       "      <td>369.450012</td>\n",
       "      <td>373.000000</td>\n",
       "      <td>368.679993</td>\n",
       "      <td>372.649994</td>\n",
       "      <td>372.649994</td>\n",
       "      <td>21802900</td>\n",
       "    </tr>\n",
       "    <tr>\n",
       "      <th>1501</th>\n",
       "      <td>2023-12-19</td>\n",
       "      <td>371.489990</td>\n",
       "      <td>373.260010</td>\n",
       "      <td>369.839996</td>\n",
       "      <td>373.260010</td>\n",
       "      <td>373.260010</td>\n",
       "      <td>20603700</td>\n",
       "    </tr>\n",
       "  </tbody>\n",
       "</table>\n",
       "<p>1502 rows × 7 columns</p>\n",
       "</div>"
      ],
      "text/plain": [
       "           Date        Open        High         Low       Close   Adj Close  \\\n",
       "0    2018-01-02   86.129997   86.309998   85.500000   85.949997   80.229004   \n",
       "1    2018-01-03   86.059998   86.510002   85.970001   86.349998   80.602379   \n",
       "2    2018-01-04   86.589996   87.660004   86.570000   87.110001   81.311813   \n",
       "3    2018-01-05   87.660004   88.410004   87.430000   88.190002   82.319923   \n",
       "4    2018-01-08   88.199997   88.580002   87.599998   88.279999   82.403931   \n",
       "...         ...         ...         ...         ...         ...         ...   \n",
       "1497 2023-12-13  376.019989  377.640015  370.769989  374.369995  374.369995   \n",
       "1498 2023-12-14  373.309998  373.760010  364.130005  365.929993  365.929993   \n",
       "1499 2023-12-15  366.850006  372.399994  366.279999  370.730011  370.730011   \n",
       "1500 2023-12-18  369.450012  373.000000  368.679993  372.649994  372.649994   \n",
       "1501 2023-12-19  371.489990  373.260010  369.839996  373.260010  373.260010   \n",
       "\n",
       "        Volume  \n",
       "0     22483800  \n",
       "1     26061400  \n",
       "2     21912000  \n",
       "3     23407100  \n",
       "4     22113000  \n",
       "...        ...  \n",
       "1497  30955500  \n",
       "1498  43277500  \n",
       "1499  78478200  \n",
       "1500  21802900  \n",
       "1501  20603700  \n",
       "\n",
       "[1502 rows x 7 columns]"
      ]
     },
     "execution_count": 16,
     "metadata": {},
     "output_type": "execute_result"
    }
   ],
   "source": [
    "df = yf.download(ticker, start_date, end_date).reset_index()\n",
    "df"
   ]
  },
  {
   "cell_type": "code",
   "execution_count": 17,
   "id": "9fb331be",
   "metadata": {},
   "outputs": [],
   "source": [
    "close = df['Close']"
   ]
  },
  {
   "cell_type": "code",
   "execution_count": 18,
   "id": "c57616bc",
   "metadata": {},
   "outputs": [
    {
     "name": "stdout",
     "output_type": "stream",
     "text": [
      "[ 85.94999695  86.34999847  87.11000061 ... 370.73001099 372.6499939\n",
      " 373.26000977]\n"
     ]
    }
   ],
   "source": [
    "print(close.values)"
   ]
  },
  {
   "cell_type": "code",
   "execution_count": 19,
   "id": "625da953",
   "metadata": {},
   "outputs": [
    {
     "data": {
      "text/plain": [
       "array([[0.00315763],\n",
       "       [0.00450131],\n",
       "       [0.00705431],\n",
       "       ...,\n",
       "       [0.95979038],\n",
       "       [0.96623999],\n",
       "       [0.96828915]])"
      ]
     },
     "execution_count": 19,
     "metadata": {},
     "output_type": "execute_result"
    }
   ],
   "source": [
    "scaler = MinMaxScaler()\n",
    "data = scaler.fit_transform(close.values.reshape(-1, 1))\n",
    "data"
   ]
  },
  {
   "cell_type": "code",
   "execution_count": 20,
   "id": "77f1ba06",
   "metadata": {},
   "outputs": [
    {
     "data": {
      "text/plain": [
       "((1201, 1), (301, 1))"
      ]
     },
     "execution_count": 20,
     "metadata": {},
     "output_type": "execute_result"
    }
   ],
   "source": [
    "train_data = data[:int(len(data)*0.8)]\n",
    "test_data = data[int(len(data)*0.8):]\n",
    "train_data.shape, test_data.shape"
   ]
  },
  {
   "cell_type": "code",
   "execution_count": 21,
   "id": "8ee03551",
   "metadata": {},
   "outputs": [
    {
     "data": {
      "text/plain": [
       "array([0.47989515])"
      ]
     },
     "execution_count": 21,
     "metadata": {},
     "output_type": "execute_result"
    }
   ],
   "source": [
    "test_data[20]"
   ]
  },
  {
   "cell_type": "code",
   "execution_count": 22,
   "id": "9e65d13f",
   "metadata": {},
   "outputs": [],
   "source": [
    "past_values = 20\n",
    "def data_preparation(data,past_values):\n",
    "    X = []\n",
    "    y = []\n",
    "    for i in range(past_values, len(data)):\n",
    "        X.append(data[i-20:i])\n",
    "        y.append(data[i])\n",
    "    return np.array(X), np.array(y)"
   ]
  },
  {
   "cell_type": "code",
   "execution_count": 23,
   "id": "a360d6db",
   "metadata": {},
   "outputs": [],
   "source": [
    "X_train, y_train = data_preparation(train_data,past_values)\n",
    "X_test, y_test = data_preparation(test_data,past_values)"
   ]
  },
  {
   "cell_type": "code",
   "execution_count": 24,
   "id": "a0680369",
   "metadata": {},
   "outputs": [
    {
     "data": {
      "text/plain": [
       "(array([[[0.00315763],\n",
       "         [0.00450131],\n",
       "         [0.00705431],\n",
       "         ...,\n",
       "         [0.03040074],\n",
       "         [0.02993045],\n",
       "         [0.02596659]],\n",
       " \n",
       "        [[0.00450131],\n",
       "         [0.00705431],\n",
       "         [0.01068225],\n",
       "         ...,\n",
       "         [0.02993045],\n",
       "         [0.02596659],\n",
       "         [0.03359199]],\n",
       " \n",
       "        [[0.00705431],\n",
       "         [0.01068225],\n",
       "         [0.01098457],\n",
       "         ...,\n",
       "         [0.02596659],\n",
       "         [0.03359199],\n",
       "         [0.03107259]],\n",
       " \n",
       "        ...,\n",
       " \n",
       "        [[0.58141015],\n",
       "         [0.58285458],\n",
       "         [0.60280823],\n",
       "         ...,\n",
       "         [0.49679192],\n",
       "         [0.52312808],\n",
       "         [0.55047196]],\n",
       " \n",
       "        [[0.58285458],\n",
       "         [0.60280823],\n",
       "         [0.61016489],\n",
       "         ...,\n",
       "         [0.52312808],\n",
       "         [0.55047196],\n",
       "         [0.55154688]],\n",
       " \n",
       "        [[0.60280823],\n",
       "         [0.61016489],\n",
       "         [0.56091907],\n",
       "         ...,\n",
       "         [0.55047196],\n",
       "         [0.55154688],\n",
       "         [0.54345119]]]),\n",
       " array([[0.03359199],\n",
       "        [0.03107259],\n",
       "        [0.02274177],\n",
       "        ...,\n",
       "        [0.55154688],\n",
       "        [0.54345119],\n",
       "        [0.50129329]]))"
      ]
     },
     "execution_count": 24,
     "metadata": {},
     "output_type": "execute_result"
    }
   ],
   "source": [
    "X_train, y_train"
   ]
  },
  {
   "cell_type": "code",
   "execution_count": 25,
   "id": "5cd01741",
   "metadata": {},
   "outputs": [
    {
     "data": {
      "text/plain": [
       "((1181, 20, 1), (1181, 1))"
      ]
     },
     "execution_count": 25,
     "metadata": {},
     "output_type": "execute_result"
    }
   ],
   "source": [
    "X_train.shape, y_train.shape"
   ]
  },
  {
   "cell_type": "code",
   "execution_count": 26,
   "id": "d36b381a",
   "metadata": {},
   "outputs": [
    {
     "name": "stdout",
     "output_type": "stream",
     "text": [
      "Epoch 1/200\n",
      "6/6 [==============================] - 10s 96ms/step - loss: 0.0616\n",
      "Epoch 2/200\n",
      "6/6 [==============================] - 1s 99ms/step - loss: 0.0179\n",
      "Epoch 3/200\n",
      "6/6 [==============================] - 1s 88ms/step - loss: 0.0121\n",
      "Epoch 4/200\n",
      "6/6 [==============================] - 1s 87ms/step - loss: 0.0041\n",
      "Epoch 5/200\n",
      "6/6 [==============================] - 0s 81ms/step - loss: 0.0029\n",
      "Epoch 6/200\n",
      "6/6 [==============================] - 1s 83ms/step - loss: 0.0021\n",
      "Epoch 7/200\n",
      "6/6 [==============================] - 0s 82ms/step - loss: 0.0013\n",
      "Epoch 8/200\n",
      "6/6 [==============================] - 1s 86ms/step - loss: 0.0012\n",
      "Epoch 9/200\n",
      "6/6 [==============================] - 1s 99ms/step - loss: 0.0010\n",
      "Epoch 10/200\n",
      "6/6 [==============================] - 1s 86ms/step - loss: 9.4854e-04\n",
      "Epoch 11/200\n",
      "6/6 [==============================] - 1s 109ms/step - loss: 9.2750e-04\n",
      "Epoch 12/200\n",
      "6/6 [==============================] - 1s 88ms/step - loss: 9.0115e-04\n",
      "Epoch 13/200\n",
      "6/6 [==============================] - 1s 101ms/step - loss: 8.9256e-04\n",
      "Epoch 14/200\n",
      "6/6 [==============================] - 1s 98ms/step - loss: 8.7272e-04\n",
      "Epoch 15/200\n",
      "6/6 [==============================] - 1s 82ms/step - loss: 8.8855e-04\n",
      "Epoch 16/200\n",
      "6/6 [==============================] - 1s 97ms/step - loss: 8.7446e-04\n",
      "Epoch 17/200\n",
      "6/6 [==============================] - 1s 98ms/step - loss: 8.6198e-04\n",
      "Epoch 18/200\n",
      "6/6 [==============================] - 1s 89ms/step - loss: 8.5186e-04\n",
      "Epoch 19/200\n",
      "6/6 [==============================] - 1s 84ms/step - loss: 8.4524e-04\n",
      "Epoch 20/200\n",
      "6/6 [==============================] - 1s 103ms/step - loss: 8.4584e-04\n",
      "Epoch 21/200\n",
      "6/6 [==============================] - 1s 93ms/step - loss: 8.4997e-04\n",
      "Epoch 22/200\n",
      "6/6 [==============================] - 1s 85ms/step - loss: 8.4029e-04\n",
      "Epoch 23/200\n",
      "6/6 [==============================] - 1s 95ms/step - loss: 8.4376e-04\n",
      "Epoch 24/200\n",
      "6/6 [==============================] - 1s 88ms/step - loss: 8.3509e-04\n",
      "Epoch 25/200\n",
      "6/6 [==============================] - 1s 81ms/step - loss: 8.3393e-04\n",
      "Epoch 26/200\n",
      "6/6 [==============================] - 1s 93ms/step - loss: 8.3336e-04\n",
      "Epoch 27/200\n",
      "6/6 [==============================] - 1s 92ms/step - loss: 8.2815e-04\n",
      "Epoch 28/200\n",
      "6/6 [==============================] - 1s 93ms/step - loss: 8.2406e-04\n",
      "Epoch 29/200\n",
      "6/6 [==============================] - 1s 108ms/step - loss: 8.3163e-04\n",
      "Epoch 30/200\n",
      "6/6 [==============================] - 1s 103ms/step - loss: 8.2021e-04\n",
      "Epoch 31/200\n",
      "6/6 [==============================] - 1s 80ms/step - loss: 8.1774e-04\n",
      "Epoch 32/200\n",
      "6/6 [==============================] - 1s 90ms/step - loss: 8.2748e-04\n",
      "Epoch 33/200\n",
      "6/6 [==============================] - 1s 81ms/step - loss: 8.1772e-04\n",
      "Epoch 34/200\n",
      "6/6 [==============================] - 1s 83ms/step - loss: 8.2385e-04\n",
      "Epoch 35/200\n",
      "6/6 [==============================] - 1s 105ms/step - loss: 8.0707e-04\n",
      "Epoch 36/200\n",
      "6/6 [==============================] - 1s 107ms/step - loss: 8.0199e-04\n",
      "Epoch 37/200\n",
      "6/6 [==============================] - 1s 85ms/step - loss: 8.0137e-04\n",
      "Epoch 38/200\n",
      "6/6 [==============================] - 1s 99ms/step - loss: 8.1130e-04\n",
      "Epoch 39/200\n",
      "6/6 [==============================] - 1s 104ms/step - loss: 7.9577e-04\n",
      "Epoch 40/200\n",
      "6/6 [==============================] - 1s 101ms/step - loss: 7.9151e-04\n",
      "Epoch 41/200\n",
      "6/6 [==============================] - 1s 88ms/step - loss: 8.0214e-04\n",
      "Epoch 42/200\n",
      "6/6 [==============================] - 1s 84ms/step - loss: 7.9519e-04\n",
      "Epoch 43/200\n",
      "6/6 [==============================] - 1s 82ms/step - loss: 7.8407e-04\n",
      "Epoch 44/200\n",
      "6/6 [==============================] - 1s 124ms/step - loss: 8.0205e-04\n",
      "Epoch 45/200\n",
      "6/6 [==============================] - 1s 107ms/step - loss: 7.8831e-04\n",
      "Epoch 46/200\n",
      "6/6 [==============================] - 1s 85ms/step - loss: 7.7725e-04\n",
      "Epoch 47/200\n",
      "6/6 [==============================] - 1s 100ms/step - loss: 7.6991e-04\n",
      "Epoch 48/200\n",
      "6/6 [==============================] - 1s 98ms/step - loss: 7.6723e-04\n",
      "Epoch 49/200\n",
      "6/6 [==============================] - 1s 85ms/step - loss: 7.6348e-04\n",
      "Epoch 50/200\n",
      "6/6 [==============================] - 1s 84ms/step - loss: 7.6326e-04\n",
      "Epoch 51/200\n",
      "6/6 [==============================] - 1s 89ms/step - loss: 7.5952e-04\n",
      "Epoch 52/200\n",
      "6/6 [==============================] - 1s 92ms/step - loss: 7.6211e-04\n",
      "Epoch 53/200\n",
      "6/6 [==============================] - 1s 94ms/step - loss: 7.8146e-04\n",
      "Epoch 54/200\n",
      "6/6 [==============================] - 0s 80ms/step - loss: 7.7061e-04\n",
      "Epoch 55/200\n",
      "6/6 [==============================] - 1s 116ms/step - loss: 7.6832e-04\n",
      "Epoch 56/200\n",
      "6/6 [==============================] - 1s 110ms/step - loss: 7.7459e-04\n",
      "Epoch 57/200\n",
      "6/6 [==============================] - 1s 100ms/step - loss: 7.4531e-04\n",
      "Epoch 58/200\n",
      "6/6 [==============================] - 1s 117ms/step - loss: 7.4421e-04\n",
      "Epoch 59/200\n",
      "6/6 [==============================] - 1s 142ms/step - loss: 7.3518e-04\n",
      "Epoch 60/200\n",
      "6/6 [==============================] - 1s 125ms/step - loss: 7.3327e-04\n",
      "Epoch 61/200\n",
      "6/6 [==============================] - 1s 111ms/step - loss: 7.4525e-04\n",
      "Epoch 62/200\n",
      "6/6 [==============================] - 1s 109ms/step - loss: 7.1703e-04\n",
      "Epoch 63/200\n",
      "6/6 [==============================] - 1s 148ms/step - loss: 7.3620e-04\n",
      "Epoch 64/200\n",
      "6/6 [==============================] - 1s 119ms/step - loss: 7.1346e-04\n",
      "Epoch 65/200\n",
      "6/6 [==============================] - 1s 123ms/step - loss: 7.4518e-04\n",
      "Epoch 66/200\n",
      "6/6 [==============================] - 1s 95ms/step - loss: 7.2246e-04\n",
      "Epoch 67/200\n",
      "6/6 [==============================] - 1s 105ms/step - loss: 7.0234e-04\n",
      "Epoch 68/200\n",
      "6/6 [==============================] - 1s 113ms/step - loss: 7.0251e-04\n",
      "Epoch 69/200\n",
      "6/6 [==============================] - 1s 87ms/step - loss: 6.9102e-04\n",
      "Epoch 70/200\n",
      "6/6 [==============================] - 1s 88ms/step - loss: 6.8994e-04\n",
      "Epoch 71/200\n",
      "6/6 [==============================] - 1s 86ms/step - loss: 6.7288e-04\n",
      "Epoch 72/200\n",
      "6/6 [==============================] - 1s 89ms/step - loss: 7.2000e-04\n",
      "Epoch 73/200\n",
      "6/6 [==============================] - 1s 86ms/step - loss: 6.9055e-04\n",
      "Epoch 74/200\n",
      "6/6 [==============================] - 1s 85ms/step - loss: 7.3810e-04\n",
      "Epoch 75/200\n",
      "6/6 [==============================] - 1s 87ms/step - loss: 8.0370e-04\n",
      "Epoch 76/200\n",
      "6/6 [==============================] - 1s 93ms/step - loss: 7.3450e-04\n",
      "Epoch 77/200\n",
      "6/6 [==============================] - 1s 92ms/step - loss: 6.6368e-04\n",
      "Epoch 78/200\n",
      "6/6 [==============================] - 1s 91ms/step - loss: 6.5994e-04\n",
      "Epoch 79/200\n",
      "6/6 [==============================] - 1s 96ms/step - loss: 6.6970e-04\n",
      "Epoch 80/200\n",
      "6/6 [==============================] - 1s 91ms/step - loss: 6.3454e-04\n",
      "Epoch 81/200\n",
      "6/6 [==============================] - 1s 97ms/step - loss: 6.4453e-04\n",
      "Epoch 82/200\n",
      "6/6 [==============================] - 1s 84ms/step - loss: 6.7991e-04\n",
      "Epoch 83/200\n",
      "6/6 [==============================] - 1s 92ms/step - loss: 6.9631e-04\n",
      "Epoch 84/200\n",
      "6/6 [==============================] - 1s 93ms/step - loss: 6.8099e-04\n",
      "Epoch 85/200\n",
      "6/6 [==============================] - 1s 98ms/step - loss: 6.4151e-04\n",
      "Epoch 86/200\n",
      "6/6 [==============================] - 1s 113ms/step - loss: 6.2339e-04\n",
      "Epoch 87/200\n",
      "6/6 [==============================] - 1s 86ms/step - loss: 6.2070e-04\n",
      "Epoch 88/200\n",
      "6/6 [==============================] - 1s 98ms/step - loss: 6.0501e-04\n",
      "Epoch 89/200\n",
      "6/6 [==============================] - 1s 89ms/step - loss: 5.9918e-04\n",
      "Epoch 90/200\n",
      "6/6 [==============================] - 1s 92ms/step - loss: 5.8487e-04\n",
      "Epoch 91/200\n",
      "6/6 [==============================] - 1s 94ms/step - loss: 5.8138e-04\n",
      "Epoch 92/200\n",
      "6/6 [==============================] - 1s 89ms/step - loss: 5.9479e-04\n",
      "Epoch 93/200\n",
      "6/6 [==============================] - 1s 94ms/step - loss: 5.9082e-04\n",
      "Epoch 94/200\n",
      "6/6 [==============================] - 1s 98ms/step - loss: 5.9974e-04\n",
      "Epoch 95/200\n",
      "6/6 [==============================] - 1s 97ms/step - loss: 6.0020e-04\n",
      "Epoch 96/200\n",
      "6/6 [==============================] - 1s 111ms/step - loss: 5.5975e-04\n",
      "Epoch 97/200\n",
      "6/6 [==============================] - 1s 93ms/step - loss: 5.7739e-04\n",
      "Epoch 98/200\n"
     ]
    },
    {
     "name": "stdout",
     "output_type": "stream",
     "text": [
      "6/6 [==============================] - 1s 89ms/step - loss: 5.7304e-04\n",
      "Epoch 99/200\n",
      "6/6 [==============================] - 1s 82ms/step - loss: 5.6760e-04\n",
      "Epoch 100/200\n",
      "6/6 [==============================] - 1s 86ms/step - loss: 5.6183e-04\n",
      "Epoch 101/200\n",
      "6/6 [==============================] - 0s 77ms/step - loss: 5.4620e-04\n",
      "Epoch 102/200\n",
      "6/6 [==============================] - 0s 79ms/step - loss: 5.5601e-04\n",
      "Epoch 103/200\n",
      "6/6 [==============================] - 1s 83ms/step - loss: 5.5014e-04\n",
      "Epoch 104/200\n",
      "6/6 [==============================] - 1s 108ms/step - loss: 6.2340e-04\n",
      "Epoch 105/200\n",
      "6/6 [==============================] - 1s 94ms/step - loss: 6.1190e-04\n",
      "Epoch 106/200\n",
      "6/6 [==============================] - 1s 102ms/step - loss: 5.4691e-04\n",
      "Epoch 107/200\n",
      "6/6 [==============================] - 1s 108ms/step - loss: 5.4142e-04\n",
      "Epoch 108/200\n",
      "6/6 [==============================] - 1s 81ms/step - loss: 5.2913e-04\n",
      "Epoch 109/200\n",
      "6/6 [==============================] - 1s 95ms/step - loss: 5.3965e-04\n",
      "Epoch 110/200\n",
      "6/6 [==============================] - 1s 78ms/step - loss: 5.6965e-04\n",
      "Epoch 111/200\n",
      "6/6 [==============================] - 0s 80ms/step - loss: 5.3851e-04\n",
      "Epoch 112/200\n",
      "6/6 [==============================] - 0s 83ms/step - loss: 5.6599e-04\n",
      "Epoch 113/200\n",
      "6/6 [==============================] - 1s 91ms/step - loss: 5.2552e-04\n",
      "Epoch 114/200\n",
      "6/6 [==============================] - 0s 81ms/step - loss: 5.2860e-04\n",
      "Epoch 115/200\n",
      "6/6 [==============================] - 1s 103ms/step - loss: 5.4215e-04\n",
      "Epoch 116/200\n",
      "6/6 [==============================] - 1s 96ms/step - loss: 5.2062e-04\n",
      "Epoch 117/200\n",
      "6/6 [==============================] - 1s 84ms/step - loss: 5.8116e-04\n",
      "Epoch 118/200\n",
      "6/6 [==============================] - 1s 100ms/step - loss: 5.1026e-04\n",
      "Epoch 119/200\n",
      "6/6 [==============================] - 1s 89ms/step - loss: 5.1202e-04\n",
      "Epoch 120/200\n",
      "6/6 [==============================] - 1s 91ms/step - loss: 5.0744e-04\n",
      "Epoch 121/200\n",
      "6/6 [==============================] - 1s 93ms/step - loss: 5.0078e-04\n",
      "Epoch 122/200\n",
      "6/6 [==============================] - 1s 112ms/step - loss: 5.1137e-04\n",
      "Epoch 123/200\n",
      "6/6 [==============================] - 1s 86ms/step - loss: 5.5152e-04\n",
      "Epoch 124/200\n",
      "6/6 [==============================] - 1s 100ms/step - loss: 5.0422e-04\n",
      "Epoch 125/200\n",
      "6/6 [==============================] - 0s 81ms/step - loss: 4.9571e-04\n",
      "Epoch 126/200\n",
      "6/6 [==============================] - 1s 86ms/step - loss: 4.9919e-04\n",
      "Epoch 127/200\n",
      "6/6 [==============================] - 0s 78ms/step - loss: 5.2013e-04\n",
      "Epoch 128/200\n",
      "6/6 [==============================] - 0s 80ms/step - loss: 4.9834e-04\n",
      "Epoch 129/200\n",
      "6/6 [==============================] - 1s 106ms/step - loss: 4.8846e-04\n",
      "Epoch 130/200\n",
      "6/6 [==============================] - 0s 79ms/step - loss: 4.8786e-04\n",
      "Epoch 131/200\n",
      "6/6 [==============================] - 1s 81ms/step - loss: 5.0779e-04\n",
      "Epoch 132/200\n",
      "6/6 [==============================] - 1s 94ms/step - loss: 5.2773e-04\n",
      "Epoch 133/200\n",
      "6/6 [==============================] - 1s 81ms/step - loss: 5.2213e-04\n",
      "Epoch 134/200\n",
      "6/6 [==============================] - 1s 109ms/step - loss: 5.2809e-04\n",
      "Epoch 135/200\n",
      "6/6 [==============================] - 1s 86ms/step - loss: 5.2072e-04\n",
      "Epoch 136/200\n",
      "6/6 [==============================] - 1s 89ms/step - loss: 4.9464e-04\n",
      "Epoch 137/200\n",
      "6/6 [==============================] - 0s 78ms/step - loss: 4.7557e-04\n",
      "Epoch 138/200\n",
      "6/6 [==============================] - 0s 80ms/step - loss: 4.6869e-04\n",
      "Epoch 139/200\n",
      "6/6 [==============================] - 1s 89ms/step - loss: 4.9847e-04\n",
      "Epoch 140/200\n",
      "6/6 [==============================] - 1s 117ms/step - loss: 5.1508e-04\n",
      "Epoch 141/200\n",
      "6/6 [==============================] - 1s 96ms/step - loss: 4.9700e-04\n",
      "Epoch 142/200\n",
      "6/6 [==============================] - 1s 105ms/step - loss: 4.6449e-04\n",
      "Epoch 143/200\n",
      "6/6 [==============================] - 1s 95ms/step - loss: 5.1407e-04\n",
      "Epoch 144/200\n",
      "6/6 [==============================] - 1s 85ms/step - loss: 5.1563e-04\n",
      "Epoch 145/200\n",
      "6/6 [==============================] - 1s 82ms/step - loss: 5.0911e-04\n",
      "Epoch 146/200\n",
      "6/6 [==============================] - 0s 79ms/step - loss: 4.7308e-04\n",
      "Epoch 147/200\n",
      "6/6 [==============================] - 1s 94ms/step - loss: 4.6214e-04\n",
      "Epoch 148/200\n",
      "6/6 [==============================] - 1s 89ms/step - loss: 4.6862e-04\n",
      "Epoch 149/200\n",
      "6/6 [==============================] - 1s 102ms/step - loss: 4.8521e-04\n",
      "Epoch 150/200\n",
      "6/6 [==============================] - 1s 88ms/step - loss: 4.5355e-04\n",
      "Epoch 151/200\n",
      "6/6 [==============================] - 1s 86ms/step - loss: 4.5700e-04\n",
      "Epoch 152/200\n",
      "6/6 [==============================] - 1s 95ms/step - loss: 4.8966e-04\n",
      "Epoch 153/200\n",
      "6/6 [==============================] - 1s 105ms/step - loss: 4.7662e-04\n",
      "Epoch 154/200\n",
      "6/6 [==============================] - 1s 117ms/step - loss: 5.4757e-04\n",
      "Epoch 155/200\n",
      "6/6 [==============================] - 1s 136ms/step - loss: 5.4838e-04\n",
      "Epoch 156/200\n",
      "6/6 [==============================] - 1s 121ms/step - loss: 6.2416e-04\n",
      "Epoch 157/200\n",
      "6/6 [==============================] - 1s 150ms/step - loss: 6.4009e-04\n",
      "Epoch 158/200\n",
      "6/6 [==============================] - 1s 110ms/step - loss: 6.3559e-04\n",
      "Epoch 159/200\n",
      "6/6 [==============================] - 1s 107ms/step - loss: 5.3629e-04\n",
      "Epoch 160/200\n",
      "6/6 [==============================] - 1s 108ms/step - loss: 4.9164e-04\n",
      "Epoch 161/200\n",
      "6/6 [==============================] - 1s 91ms/step - loss: 5.0244e-04\n",
      "Epoch 162/200\n",
      "6/6 [==============================] - 1s 91ms/step - loss: 4.6862e-04\n",
      "Epoch 163/200\n",
      "6/6 [==============================] - 1s 85ms/step - loss: 4.8028e-04\n",
      "Epoch 164/200\n",
      "6/6 [==============================] - 1s 88ms/step - loss: 4.9530e-04\n",
      "Epoch 165/200\n",
      "6/6 [==============================] - 1s 110ms/step - loss: 4.5219e-04\n",
      "Epoch 166/200\n",
      "6/6 [==============================] - 1s 91ms/step - loss: 4.5971e-04\n",
      "Epoch 167/200\n",
      "6/6 [==============================] - 1s 115ms/step - loss: 4.7047e-04\n",
      "Epoch 168/200\n",
      "6/6 [==============================] - 1s 91ms/step - loss: 4.9615e-04\n",
      "Epoch 169/200\n",
      "6/6 [==============================] - 1s 95ms/step - loss: 4.6895e-04\n",
      "Epoch 170/200\n",
      "6/6 [==============================] - 1s 89ms/step - loss: 4.4001e-04\n",
      "Epoch 171/200\n",
      "6/6 [==============================] - 1s 91ms/step - loss: 4.3629e-04\n",
      "Epoch 172/200\n",
      "6/6 [==============================] - 1s 89ms/step - loss: 4.5954e-04\n",
      "Epoch 173/200\n",
      "6/6 [==============================] - 1s 93ms/step - loss: 4.2481e-04\n",
      "Epoch 174/200\n",
      "6/6 [==============================] - 1s 98ms/step - loss: 4.2614e-04\n",
      "Epoch 175/200\n",
      "6/6 [==============================] - 1s 100ms/step - loss: 4.2053e-04\n",
      "Epoch 176/200\n",
      "6/6 [==============================] - 1s 96ms/step - loss: 4.3516e-04\n",
      "Epoch 177/200\n",
      "6/6 [==============================] - 1s 99ms/step - loss: 4.2385e-04\n",
      "Epoch 178/200\n",
      "6/6 [==============================] - 1s 89ms/step - loss: 4.2554e-04\n",
      "Epoch 179/200\n",
      "6/6 [==============================] - 1s 96ms/step - loss: 3.9973e-04\n",
      "Epoch 180/200\n",
      "6/6 [==============================] - 1s 89ms/step - loss: 3.9575e-04\n",
      "Epoch 181/200\n",
      "6/6 [==============================] - 1s 89ms/step - loss: 3.9535e-04\n",
      "Epoch 182/200\n",
      "6/6 [==============================] - 1s 98ms/step - loss: 3.9102e-04\n",
      "Epoch 183/200\n",
      "6/6 [==============================] - 1s 89ms/step - loss: 3.9560e-04\n",
      "Epoch 184/200\n",
      "6/6 [==============================] - 1s 89ms/step - loss: 3.9015e-04\n",
      "Epoch 185/200\n",
      "6/6 [==============================] - 1s 90ms/step - loss: 3.8581e-04\n",
      "Epoch 186/200\n",
      "6/6 [==============================] - 1s 88ms/step - loss: 4.0410e-04\n",
      "Epoch 187/200\n",
      "6/6 [==============================] - 1s 89ms/step - loss: 3.8898e-04\n",
      "Epoch 188/200\n",
      "6/6 [==============================] - 1s 88ms/step - loss: 3.9463e-04\n",
      "Epoch 189/200\n",
      "6/6 [==============================] - 1s 88ms/step - loss: 3.9935e-04\n",
      "Epoch 190/200\n",
      "6/6 [==============================] - 1s 87ms/step - loss: 3.9501e-04\n",
      "Epoch 191/200\n",
      "6/6 [==============================] - 1s 96ms/step - loss: 3.8597e-04\n",
      "Epoch 192/200\n",
      "6/6 [==============================] - 1s 103ms/step - loss: 3.9189e-04\n",
      "Epoch 193/200\n",
      "6/6 [==============================] - 1s 95ms/step - loss: 3.9116e-04\n",
      "Epoch 194/200\n"
     ]
    },
    {
     "name": "stdout",
     "output_type": "stream",
     "text": [
      "6/6 [==============================] - 1s 85ms/step - loss: 3.9405e-04\n",
      "Epoch 195/200\n",
      "6/6 [==============================] - 1s 83ms/step - loss: 3.9436e-04\n",
      "Epoch 196/200\n",
      "6/6 [==============================] - 1s 89ms/step - loss: 3.8224e-04\n",
      "Epoch 197/200\n",
      "6/6 [==============================] - 1s 88ms/step - loss: 3.7588e-04\n",
      "Epoch 198/200\n",
      "6/6 [==============================] - 1s 82ms/step - loss: 3.9854e-04\n",
      "Epoch 199/200\n",
      "6/6 [==============================] - 1s 91ms/step - loss: 3.6911e-04\n",
      "Epoch 200/200\n",
      "6/6 [==============================] - 0s 78ms/step - loss: 3.6562e-04\n"
     ]
    },
    {
     "data": {
      "text/plain": [
       "<keras.src.callbacks.History at 0x17c86613390>"
      ]
     },
     "execution_count": 26,
     "metadata": {},
     "output_type": "execute_result"
    }
   ],
   "source": [
    "model = Sequential()\n",
    "model.add(LSTM(50, return_sequences=True, input_shape=(X_train.shape[1], 1)))\n",
    "model.add(LSTM(50, return_sequences=True))\n",
    "model.add(LSTM(50, return_sequences=False))\n",
    "model.add(Dense(25))\n",
    "model.add(Dense(1))\n",
    "\n",
    "model.compile(optimizer='adam', loss='mean_squared_error')\n",
    "model.fit(X_train, y_train, batch_size=200, epochs=200, verbose=1)\n",
    "\n",
    "# callback = tf.keras.callbacks.EarlyStopping(\n",
    "#     monitor='val_loss',\n",
    "#     min_delta=0,\n",
    "#     patience=0,\n",
    "#     verbose=0,\n",
    "#     mode='auto',\n",
    "#     baseline=None,\n",
    "#     restore_best_weights=False,\n",
    "#     start_from_epoch=0\n",
    "# )\n",
    "# model.fit(X_train, y_train, batch_size=200, epochs=500, verbose=1, callbacks=[callback])"
   ]
  },
  {
   "cell_type": "code",
   "execution_count": 28,
   "id": "12e2ae5e",
   "metadata": {
    "scrolled": false
   },
   "outputs": [
    {
     "name": "stdout",
     "output_type": "stream",
     "text": [
      "37/37 [==============================] - 1s 14ms/step\n"
     ]
    }
   ],
   "source": [
    "pred_train = model.predict(X_train)"
   ]
  },
  {
   "cell_type": "code",
   "execution_count": 29,
   "id": "0d5c1469",
   "metadata": {},
   "outputs": [
    {
     "data": {
      "text/plain": [
       "array([[0.02517378],\n",
       "       [0.02677673],\n",
       "       [0.02827259],\n",
       "       ...,\n",
       "       [0.5185949 ],\n",
       "       [0.5260809 ],\n",
       "       [0.53404295]], dtype=float32)"
      ]
     },
     "execution_count": 29,
     "metadata": {},
     "output_type": "execute_result"
    }
   ],
   "source": [
    "pred_train"
   ]
  },
  {
   "cell_type": "code",
   "execution_count": 30,
   "id": "b513ec61",
   "metadata": {},
   "outputs": [
    {
     "name": "stdout",
     "output_type": "stream",
     "text": [
      "mean absolute error- 0.013249696859155332\n",
      "mean squared error- 0.000355164925852707\n"
     ]
    }
   ],
   "source": [
    "mae = mean_absolute_error(y_train, pred_train)\n",
    "print('mean absolute error-', mae)\n",
    "mse = mean_squared_error(y_train, pred_train)\n",
    "print('mean squared error-', mse)"
   ]
  },
  {
   "cell_type": "code",
   "execution_count": 31,
   "id": "ce0baf19",
   "metadata": {},
   "outputs": [
    {
     "data": {
      "text/plain": [
       "<matplotlib.legend.Legend at 0x17c90792a90>"
      ]
     },
     "execution_count": 31,
     "metadata": {},
     "output_type": "execute_result"
    },
    {
     "data": {
      "image/png": "[encoded data removed]",
      "text/plain": [
       "<Figure size 640x480 with 1 Axes>"
      ]
     },
     "metadata": {},
     "output_type": "display_data"
    }
   ],
   "source": [
    "plt.title(f\"{ticker}'s Prediction from {start_date} to {end_date}\\n Actual vs. Predicted on Training Data\")\n",
    "plt.xlabel('Days')\n",
    "plt.ylabel('Price')\n",
    "plt.plot(y_train, color='blue', label='actual')\n",
    "plt.plot(pred_train, color='red', label='predicted')\n",
    "plt.legend()"
   ]
  },
  {
   "cell_type": "code",
   "execution_count": 32,
   "id": "7e7be93a",
   "metadata": {},
   "outputs": [
    {
     "name": "stdout",
     "output_type": "stream",
     "text": [
      "9/9 [==============================] - 0s 20ms/step\n"
     ]
    }
   ],
   "source": [
    "pred_test = model.predict(X_test)"
   ]
  },
  {
   "cell_type": "code",
   "execution_count": 33,
   "id": "f62663ff",
   "metadata": {},
   "outputs": [
    {
     "name": "stdout",
     "output_type": "stream",
     "text": [
      "mean absolute error- 0.01894041102646008\n",
      "mean squared error- 0.0005830563540622858\n"
     ]
    }
   ],
   "source": [
    "mae = mean_absolute_error(y_test, pred_test)\n",
    "print('mean absolute error-', mae)\n",
    "mse = mean_squared_error(y_test, pred_test)\n",
    "print('mean squared error-', mse)"
   ]
  },
  {
   "cell_type": "code",
   "execution_count": 34,
   "id": "dce7e9a0",
   "metadata": {},
   "outputs": [
    {
     "data": {
      "text/plain": [
       "<matplotlib.legend.Legend at 0x17c90862a90>"
      ]
     },
     "execution_count": 34,
     "metadata": {},
     "output_type": "execute_result"
    },
    {
     "data": {
      "image/png": "[encoded data removed]",
      "text/plain": [
       "<Figure size 640x480 with 1 Axes>"
      ]
     },
     "metadata": {},
     "output_type": "display_data"
    }
   ],
   "source": [
    "plt.title(f\"{ticker}'s Prediction from {start_date} to {end_date}\\n Actual vs. Predicted on Training Data\")\n",
    "plt.xlabel('Days')\n",
    "plt.ylabel('Price')\n",
    "plt.plot(y_test, color='green', label='actual')\n",
    "plt.plot(pred_test, color='orange', label='predicted')\n",
    "plt.legend()"
   ]
  },
  {
   "cell_type": "code",
   "execution_count": 50,
   "id": "75846d04",
   "metadata": {},
   "outputs": [
    {
     "name": "stdout",
     "output_type": "stream",
     "text": [
      "[*********************100%***********************]  1 of 1 completed\n"
     ]
    },
    {
     "data": {
      "text/plain": [
       "0    370.619995\n",
       "1    373.540009\n",
       "2    374.579987\n",
       "3    374.660004\n",
       "4    374.070007\n",
       "5    375.279999\n",
       "6    376.040009\n",
       "Name: Close, dtype: float64"
      ]
     },
     "execution_count": 50,
     "metadata": {},
     "output_type": "execute_result"
    }
   ],
   "source": [
    "ticker = 'MSFT'\n",
    "start_date = '2023-12-20'\n",
    "end_date = '2023-12-30'\n",
    "df_future = yf.download(ticker, start_date, end_date).reset_index()['Close']\n",
    "df_future"
   ]
  },
  {
   "cell_type": "code",
   "execution_count": 51,
   "id": "65dd9002",
   "metadata": {},
   "outputs": [],
   "source": [
    "df_future = df_future.values"
   ]
  },
  {
   "cell_type": "code",
   "execution_count": 52,
   "id": "97ee7a64",
   "metadata": {},
   "outputs": [
    {
     "data": {
      "text/plain": [
       "array([373.07000732, 377.8500061 , 377.42999268, 378.60998535,\n",
       "       382.70001221, 378.8500061 , 378.91000366, 374.51000977,\n",
       "       369.14001465, 372.51998901, 368.79998779, 370.95001221,\n",
       "       374.23001099, 371.29998779, 374.38000488, 374.36999512,\n",
       "       365.92999268, 370.73001099, 372.6499939 , 373.26000977])"
      ]
     },
     "execution_count": 52,
     "metadata": {},
     "output_type": "execute_result"
    }
   ],
   "source": [
    "future_data_to_predict = np.array(close[-20:])\n",
    "future_data_to_predict"
   ]
  },
  {
   "cell_type": "code",
   "execution_count": 53,
   "id": "bfb2ddfc",
   "metadata": {},
   "outputs": [
    {
     "data": {
      "text/plain": [
       "373.260009765625"
      ]
     },
     "execution_count": 53,
     "metadata": {},
     "output_type": "execute_result"
    }
   ],
   "source": [
    "last_val = future_data_to_predict[-1]\n",
    "last_val"
   ]
  },
  {
   "cell_type": "markdown",
   "id": "6566cf7e",
   "metadata": {},
   "source": [
    "---------------------------------------------------------------------------------------------------------------------------"
   ]
  },
  {
   "cell_type": "code",
   "execution_count": 54,
   "id": "2e40312e",
   "metadata": {},
   "outputs": [],
   "source": [
    "def prediction(future_data, last_val, days):\n",
    "    \n",
    "    output_data = []\n",
    "    new_arr = []\n",
    "\n",
    "    for i in range(days):\n",
    "        \n",
    "        if future_data[-1] == last_val:\n",
    "            print('no')\n",
    "            print('before',future_data)\n",
    "            temp = scaler.transform(future_data.reshape(-1, 1))\n",
    "            temp_scaled_reshape = temp.reshape(1, 20, 1)\n",
    "            predicted_value = model.predict(temp_scaled_reshape)\n",
    "            actual_predicted = scaler.inverse_transform(predicted_value.reshape(1,-1))\n",
    "            output_data.append(actual_predicted[0,0])\n",
    "            print('output',actual_predicted[0,0])\n",
    "            future_data = future_data[1:]\n",
    "            future_data = np.append(future_data,actual_predicted)\n",
    "            print('after',future_data)\n",
    "        else:\n",
    "            print('yes')\n",
    "            print('before',future_data)\n",
    "            temp = scaler.transform(future_data.reshape(-1, 1))\n",
    "            temp_scaled_reshape = temp.reshape(1, 20, 1)\n",
    "            predicted_value = model.predict(temp_scaled_reshape)\n",
    "            actual_predicted = scaler.inverse_transform(predicted_value.reshape(1,-1))\n",
    "            output_data.append(actual_predicted[0,0])\n",
    "            print('output',actual_predicted[0,0])\n",
    "            future_data = future_data[1:]\n",
    "            future_data = np.append(future_data,actual_predicted)\n",
    "            print('after',future_data)\n",
    "\n",
    "    return output_data\n",
    "    "
   ]
  },
  {
   "cell_type": "code",
   "execution_count": 55,
   "id": "7ea91f79",
   "metadata": {},
   "outputs": [
    {
     "name": "stdout",
     "output_type": "stream",
     "text": [
      "no\n",
      "before [373.07000732 377.8500061  377.42999268 378.60998535 382.70001221\n",
      " 378.8500061  378.91000366 374.51000977 369.14001465 372.51998901\n",
      " 368.79998779 370.95001221 374.23001099 371.29998779 374.38000488\n",
      " 374.36999512 365.92999268 370.73001099 372.6499939  373.26000977]\n",
      "1/1 [==============================] - 0s 51ms/step\n",
      "output 368.3377\n",
      "after [377.8500061  377.42999268 378.60998535 382.70001221 378.8500061\n",
      " 378.91000366 374.51000977 369.14001465 372.51998901 368.79998779\n",
      " 370.95001221 374.23001099 371.29998779 374.38000488 374.36999512\n",
      " 365.92999268 370.73001099 372.6499939  373.26000977 368.33770752]\n",
      "yes\n",
      "before [377.8500061  377.42999268 378.60998535 382.70001221 378.8500061\n",
      " 378.91000366 374.51000977 369.14001465 372.51998901 368.79998779\n",
      " 370.95001221 374.23001099 371.29998779 374.38000488 374.36999512\n",
      " 365.92999268 370.73001099 372.6499939  373.26000977 368.33770752]\n",
      "1/1 [==============================] - 0s 51ms/step\n",
      "output 368.23953\n",
      "after [377.42999268 378.60998535 382.70001221 378.8500061  378.91000366\n",
      " 374.51000977 369.14001465 372.51998901 368.79998779 370.95001221\n",
      " 374.23001099 371.29998779 374.38000488 374.36999512 365.92999268\n",
      " 370.73001099 372.6499939  373.26000977 368.33770752 368.23953247]\n",
      "yes\n",
      "before [377.42999268 378.60998535 382.70001221 378.8500061  378.91000366\n",
      " 374.51000977 369.14001465 372.51998901 368.79998779 370.95001221\n",
      " 374.23001099 371.29998779 374.38000488 374.36999512 365.92999268\n",
      " 370.73001099 372.6499939  373.26000977 368.33770752 368.23953247]\n",
      "1/1 [==============================] - 0s 57ms/step\n",
      "output 367.6802\n",
      "after [378.60998535 382.70001221 378.8500061  378.91000366 374.51000977\n",
      " 369.14001465 372.51998901 368.79998779 370.95001221 374.23001099\n",
      " 371.29998779 374.38000488 374.36999512 365.92999268 370.73001099\n",
      " 372.6499939  373.26000977 368.33770752 368.23953247 367.6802063 ]\n",
      "yes\n",
      "before [378.60998535 382.70001221 378.8500061  378.91000366 374.51000977\n",
      " 369.14001465 372.51998901 368.79998779 370.95001221 374.23001099\n",
      " 371.29998779 374.38000488 374.36999512 365.92999268 370.73001099\n",
      " 372.6499939  373.26000977 368.33770752 368.23953247 367.6802063 ]\n",
      "1/1 [==============================] - 0s 50ms/step\n",
      "output 366.84534\n",
      "after [382.70001221 378.8500061  378.91000366 374.51000977 369.14001465\n",
      " 372.51998901 368.79998779 370.95001221 374.23001099 371.29998779\n",
      " 374.38000488 374.36999512 365.92999268 370.73001099 372.6499939\n",
      " 373.26000977 368.33770752 368.23953247 367.6802063  366.84533691]\n",
      "yes\n",
      "before [382.70001221 378.8500061  378.91000366 374.51000977 369.14001465\n",
      " 372.51998901 368.79998779 370.95001221 374.23001099 371.29998779\n",
      " 374.38000488 374.36999512 365.92999268 370.73001099 372.6499939\n",
      " 373.26000977 368.33770752 368.23953247 367.6802063  366.84533691]\n",
      "1/1 [==============================] - 0s 52ms/step\n",
      "output 365.83316\n",
      "after [378.8500061  378.91000366 374.51000977 369.14001465 372.51998901\n",
      " 368.79998779 370.95001221 374.23001099 371.29998779 374.38000488\n",
      " 374.36999512 365.92999268 370.73001099 372.6499939  373.26000977\n",
      " 368.33770752 368.23953247 367.6802063  366.84533691 365.8331604 ]\n",
      "yes\n",
      "before [378.8500061  378.91000366 374.51000977 369.14001465 372.51998901\n",
      " 368.79998779 370.95001221 374.23001099 371.29998779 374.38000488\n",
      " 374.36999512 365.92999268 370.73001099 372.6499939  373.26000977\n",
      " 368.33770752 368.23953247 367.6802063  366.84533691 365.8331604 ]\n",
      "1/1 [==============================] - 0s 52ms/step\n",
      "output 364.69046\n",
      "after [378.91000366 374.51000977 369.14001465 372.51998901 368.79998779\n",
      " 370.95001221 374.23001099 371.29998779 374.38000488 374.36999512\n",
      " 365.92999268 370.73001099 372.6499939  373.26000977 368.33770752\n",
      " 368.23953247 367.6802063  366.84533691 365.8331604  364.69046021]\n",
      "yes\n",
      "before [378.91000366 374.51000977 369.14001465 372.51998901 368.79998779\n",
      " 370.95001221 374.23001099 371.29998779 374.38000488 374.36999512\n",
      " 365.92999268 370.73001099 372.6499939  373.26000977 368.33770752\n",
      " 368.23953247 367.6802063  366.84533691 365.8331604  364.69046021]\n",
      "1/1 [==============================] - 0s 51ms/step\n",
      "output 363.5395\n",
      "after [374.51000977 369.14001465 372.51998901 368.79998779 370.95001221\n",
      " 374.23001099 371.29998779 374.38000488 374.36999512 365.92999268\n",
      " 370.73001099 372.6499939  373.26000977 368.33770752 368.23953247\n",
      " 367.6802063  366.84533691 365.8331604  364.69046021 363.53948975]\n"
     ]
    },
    {
     "data": {
      "text/plain": [
       "[368.3377, 368.23953, 367.6802, 366.84534, 365.83316, 364.69046, 363.5395]"
      ]
     },
     "execution_count": 55,
     "metadata": {},
     "output_type": "execute_result"
    }
   ],
   "source": [
    "result = prediction(future_data_to_predict[-20:], last_val, len(df_future))\n",
    "result"
   ]
  },
  {
   "cell_type": "code",
   "execution_count": 56,
   "id": "ad293520",
   "metadata": {},
   "outputs": [
    {
     "data": {
      "text/plain": [
       "<matplotlib.legend.Legend at 0x17c8660d450>"
      ]
     },
     "execution_count": 56,
     "metadata": {},
     "output_type": "execute_result"
    },
    {
     "data": {
      "image/png": "[encoded data removed]",
      "text/plain": [
       "<Figure size 640x480 with 1 Axes>"
      ]
     },
     "metadata": {},
     "output_type": "display_data"
    }
   ],
   "source": [
    "plt.title(f\"{ticker}'s Prediction For Next {len(df_future)} Days\")\n",
    "plt.xlabel('Days')\n",
    "plt.ylabel('Price')\n",
    "plt.plot(df_future, color='orange', label='actual')\n",
    "plt.plot(result, color='green', label='predicted')\n",
    "plt.legend()"
   ]
  },
  {
   "cell_type": "code",
   "execution_count": 138,
   "id": "936795cf",
   "metadata": {},
   "outputs": [],
   "source": [
    "def get_control_vector(val):\n",
    "    return np.diff(np.sign(np.diff(val)))\n",
    "\n",
    "def buy_and_sell_bot(val,controls):\n",
    "    inv = []\n",
    "    curr_val = 1000\n",
    "    print(\"*******************\",np.where(controls))\n",
    "    \n",
    "#     inds = np.where(controls)[0]\n",
    "#     print(inds)\n",
    "#     buy_inds = np.where(controls>0)[0]\n",
    "#     sell_inds = np.where(controls<0)[0]\n",
    "#     max_limit = sell_inds[-1] if sell_inds[-1]>buy_inds[-1] else buy_inds[-1]\n",
    "#     for i in range(buy_inds[0]+2):\n",
    "#         inv.append(curr_val)\n",
    "#     for i in range(buy_inds[0],max_limit+1):\n",
    "#         if controls[i]>0:\n",
    "#             buy_val = val[i+1]\n",
    "#         elif controls[i]<0:\n",
    "#             sell_val = val[i+1]\n",
    "#             curr_val = curr_val*sell_val/buy_val\n",
    "#         inv.append(curr_val)\n",
    "        \n",
    "#     if max_limit+1!=len(controls):\n",
    "#         for i in range(len(controls)-max_limit-1):\n",
    "#             inv.append(curr_val)\n",
    "#     return inv"
   ]
  },
  {
   "cell_type": "code",
   "execution_count": 139,
   "id": "c7913e0a",
   "metadata": {},
   "outputs": [],
   "source": [
    "# controls_actual = get_control_vector(df_future)\n",
    "# amount_actual = buy_and_sell_bot(future_data, controls_actual)\n",
    "# controls_actual,amount_actual"
   ]
  },
  {
   "cell_type": "code",
   "execution_count": 156,
   "id": "65bcbbd8",
   "metadata": {},
   "outputs": [
    {
     "data": {
      "text/plain": [
       "(array([1., 1., 1., 1., 1., 1.], dtype=float32),\n",
       " array([ 1., -1., -1., -1.,  1., -1.]))"
      ]
     },
     "execution_count": 156,
     "metadata": {},
     "output_type": "execute_result"
    }
   ],
   "source": [
    "controls_pred= get_control_vector(np.array(result))\n",
    "# amount_pred = buy_and_sell_bot(result, controls_pred)\n",
    "# amount_pred,\n",
    "np.sign(np.diff(np.array(result))), np.sign(np.diff(df_future))"
   ]
  },
  {
   "cell_type": "code",
   "execution_count": 154,
   "id": "6402e230",
   "metadata": {},
   "outputs": [
    {
     "data": {
      "text/plain": [
       "array([152.11999512, 153.83999634, 153.41999817, 153.41000366,\n",
       "       153.33999634, 153.38000488, 151.94000244])"
      ]
     },
     "execution_count": 154,
     "metadata": {},
     "output_type": "execute_result"
    }
   ],
   "source": [
    "df_future"
   ]
  },
  {
   "cell_type": "code",
   "execution_count": 155,
   "id": "e01d59d5",
   "metadata": {},
   "outputs": [
    {
     "data": {
      "text/plain": [
       "array([153.55403, 154.67691, 155.34634, 155.79456, 156.12683, 156.38371,\n",
       "       156.59152], dtype=float32)"
      ]
     },
     "execution_count": 155,
     "metadata": {},
     "output_type": "execute_result"
    }
   ],
   "source": [
    "result = np.array(result)\n",
    "result"
   ]
  },
  {
   "cell_type": "code",
   "execution_count": null,
   "id": "e1953645",
   "metadata": {},
   "outputs": [],
   "source": []
  }
 ],
 "metadata": {
  "kernelspec": {
   "display_name": "Python 3 (ipykernel)",
   "language": "python",
   "name": "python3"
  },
  "language_info": {
   "codemirror_mode": {
    "name": "ipython",
    "version": 3
   },
   "file_extension": ".py",
   "mimetype": "text/x-python",
   "name": "python",
   "nbconvert_exporter": "python",
   "pygments_lexer": "ipython3",
   "version": "3.11.4"
  }
 },
 "nbformat": 4,
 "nbformat_minor": 5
}
