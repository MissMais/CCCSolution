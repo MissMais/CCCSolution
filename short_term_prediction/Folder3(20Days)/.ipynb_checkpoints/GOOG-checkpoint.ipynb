{
 "cells": [
  {
   "cell_type": "code",
   "execution_count": 33,
   "id": "fc6b9692",
   "metadata": {},
   "outputs": [],
   "source": [
    "import numpy as np\n",
    "import pandas as pd\n",
    "import yfinance as yf\n",
    "import matplotlib.pyplot as plt\n",
    "from sklearn.preprocessing import MinMaxScaler\n",
    "from keras.models import Sequential\n",
    "from keras.layers import LSTM, Dense\n",
    "import tensorflow as tf\n",
    "from sklearn.metrics import mean_squared_error, mean_absolute_error, accuracy_score\n",
    "from math import sqrt"
   ]
  },
  {
   "cell_type": "code",
   "execution_count": 34,
   "id": "b85b7fbc",
   "metadata": {},
   "outputs": [],
   "source": [
    "ticker = 'GOOG'\n",
    "start_date = '2018-01-01'\n",
    "end_date = '2023-12-20'"
   ]
  },
  {
   "cell_type": "code",
   "execution_count": 35,
   "id": "b386cf97",
   "metadata": {},
   "outputs": [
    {
     "name": "stdout",
     "output_type": "stream",
     "text": [
      "[*********************100%***********************]  1 of 1 completed\n"
     ]
    },
    {
     "data": {
      "text/html": [
       "<div>\n",
       "<style scoped>\n",
       "    .dataframe tbody tr th:only-of-type {\n",
       "        vertical-align: middle;\n",
       "    }\n",
       "\n",
       "    .dataframe tbody tr th {\n",
       "        vertical-align: top;\n",
       "    }\n",
       "\n",
       "    .dataframe thead th {\n",
       "        text-align: right;\n",
       "    }\n",
       "</style>\n",
       "<table border=\"1\" class=\"dataframe\">\n",
       "  <thead>\n",
       "    <tr style=\"text-align: right;\">\n",
       "      <th></th>\n",
       "      <th>Date</th>\n",
       "      <th>Open</th>\n",
       "      <th>High</th>\n",
       "      <th>Low</th>\n",
       "      <th>Close</th>\n",
       "      <th>Adj Close</th>\n",
       "      <th>Volume</th>\n",
       "    </tr>\n",
       "  </thead>\n",
       "  <tbody>\n",
       "    <tr>\n",
       "      <th>0</th>\n",
       "      <td>2018-01-02</td>\n",
       "      <td>52.417000</td>\n",
       "      <td>53.347000</td>\n",
       "      <td>52.261501</td>\n",
       "      <td>53.250000</td>\n",
       "      <td>53.250000</td>\n",
       "      <td>24752000</td>\n",
       "    </tr>\n",
       "    <tr>\n",
       "      <th>1</th>\n",
       "      <td>2018-01-03</td>\n",
       "      <td>53.215500</td>\n",
       "      <td>54.314499</td>\n",
       "      <td>53.160500</td>\n",
       "      <td>54.124001</td>\n",
       "      <td>54.124001</td>\n",
       "      <td>28604000</td>\n",
       "    </tr>\n",
       "    <tr>\n",
       "      <th>2</th>\n",
       "      <td>2018-01-04</td>\n",
       "      <td>54.400002</td>\n",
       "      <td>54.678501</td>\n",
       "      <td>54.200100</td>\n",
       "      <td>54.320000</td>\n",
       "      <td>54.320000</td>\n",
       "      <td>20092000</td>\n",
       "    </tr>\n",
       "    <tr>\n",
       "      <th>3</th>\n",
       "      <td>2018-01-05</td>\n",
       "      <td>54.700001</td>\n",
       "      <td>55.212502</td>\n",
       "      <td>54.599998</td>\n",
       "      <td>55.111500</td>\n",
       "      <td>55.111500</td>\n",
       "      <td>25582000</td>\n",
       "    </tr>\n",
       "    <tr>\n",
       "      <th>4</th>\n",
       "      <td>2018-01-08</td>\n",
       "      <td>55.111500</td>\n",
       "      <td>55.563499</td>\n",
       "      <td>55.081001</td>\n",
       "      <td>55.347000</td>\n",
       "      <td>55.347000</td>\n",
       "      <td>20952000</td>\n",
       "    </tr>\n",
       "    <tr>\n",
       "      <th>...</th>\n",
       "      <td>...</td>\n",
       "      <td>...</td>\n",
       "      <td>...</td>\n",
       "      <td>...</td>\n",
       "      <td>...</td>\n",
       "      <td>...</td>\n",
       "      <td>...</td>\n",
       "    </tr>\n",
       "    <tr>\n",
       "      <th>1497</th>\n",
       "      <td>2023-12-13</td>\n",
       "      <td>134.544998</td>\n",
       "      <td>134.779999</td>\n",
       "      <td>132.949997</td>\n",
       "      <td>133.970001</td>\n",
       "      <td>133.970001</td>\n",
       "      <td>25414500</td>\n",
       "    </tr>\n",
       "    <tr>\n",
       "      <th>1498</th>\n",
       "      <td>2023-12-14</td>\n",
       "      <td>134.770004</td>\n",
       "      <td>135.035004</td>\n",
       "      <td>131.059998</td>\n",
       "      <td>133.199997</td>\n",
       "      <td>133.199997</td>\n",
       "      <td>29619100</td>\n",
       "    </tr>\n",
       "    <tr>\n",
       "      <th>1499</th>\n",
       "      <td>2023-12-15</td>\n",
       "      <td>132.919998</td>\n",
       "      <td>134.830002</td>\n",
       "      <td>132.630005</td>\n",
       "      <td>133.839996</td>\n",
       "      <td>133.839996</td>\n",
       "      <td>58569400</td>\n",
       "    </tr>\n",
       "    <tr>\n",
       "      <th>1500</th>\n",
       "      <td>2023-12-18</td>\n",
       "      <td>133.860001</td>\n",
       "      <td>138.380005</td>\n",
       "      <td>133.770004</td>\n",
       "      <td>137.190002</td>\n",
       "      <td>137.190002</td>\n",
       "      <td>25699800</td>\n",
       "    </tr>\n",
       "    <tr>\n",
       "      <th>1501</th>\n",
       "      <td>2023-12-19</td>\n",
       "      <td>138.000000</td>\n",
       "      <td>138.770004</td>\n",
       "      <td>137.449997</td>\n",
       "      <td>138.100006</td>\n",
       "      <td>138.100006</td>\n",
       "      <td>20661000</td>\n",
       "    </tr>\n",
       "  </tbody>\n",
       "</table>\n",
       "<p>1502 rows × 7 columns</p>\n",
       "</div>"
      ],
      "text/plain": [
       "           Date        Open        High         Low       Close   Adj Close  \\\n",
       "0    2018-01-02   52.417000   53.347000   52.261501   53.250000   53.250000   \n",
       "1    2018-01-03   53.215500   54.314499   53.160500   54.124001   54.124001   \n",
       "2    2018-01-04   54.400002   54.678501   54.200100   54.320000   54.320000   \n",
       "3    2018-01-05   54.700001   55.212502   54.599998   55.111500   55.111500   \n",
       "4    2018-01-08   55.111500   55.563499   55.081001   55.347000   55.347000   \n",
       "...         ...         ...         ...         ...         ...         ...   \n",
       "1497 2023-12-13  134.544998  134.779999  132.949997  133.970001  133.970001   \n",
       "1498 2023-12-14  134.770004  135.035004  131.059998  133.199997  133.199997   \n",
       "1499 2023-12-15  132.919998  134.830002  132.630005  133.839996  133.839996   \n",
       "1500 2023-12-18  133.860001  138.380005  133.770004  137.190002  137.190002   \n",
       "1501 2023-12-19  138.000000  138.770004  137.449997  138.100006  138.100006   \n",
       "\n",
       "        Volume  \n",
       "0     24752000  \n",
       "1     28604000  \n",
       "2     20092000  \n",
       "3     25582000  \n",
       "4     20952000  \n",
       "...        ...  \n",
       "1497  25414500  \n",
       "1498  29619100  \n",
       "1499  58569400  \n",
       "1500  25699800  \n",
       "1501  20661000  \n",
       "\n",
       "[1502 rows x 7 columns]"
      ]
     },
     "execution_count": 35,
     "metadata": {},
     "output_type": "execute_result"
    }
   ],
   "source": [
    "df = yf.download(ticker, start_date, end_date).reset_index()\n",
    "df"
   ]
  },
  {
   "cell_type": "code",
   "execution_count": 36,
   "id": "9fb331be",
   "metadata": {},
   "outputs": [],
   "source": [
    "close = df['Close']"
   ]
  },
  {
   "cell_type": "code",
   "execution_count": 37,
   "id": "c57616bc",
   "metadata": {},
   "outputs": [
    {
     "name": "stdout",
     "output_type": "stream",
     "text": [
      "[ 53.25        54.12400055  54.31999969 ... 133.83999634 137.19000244\n",
      " 138.1000061 ]\n"
     ]
    }
   ],
   "source": [
    "print(close.values)"
   ]
  },
  {
   "cell_type": "code",
   "execution_count": 38,
   "id": "625da953",
   "metadata": {},
   "outputs": [
    {
     "data": {
      "text/plain": [
       "array([[0.04356316],\n",
       "       [0.05214037],\n",
       "       [0.05406386],\n",
       "       ...,\n",
       "       [0.83445206],\n",
       "       [0.86732814],\n",
       "       [0.87625867]])"
      ]
     },
     "execution_count": 38,
     "metadata": {},
     "output_type": "execute_result"
    }
   ],
   "source": [
    "scaler = MinMaxScaler()\n",
    "data = scaler.fit_transform(close.values.reshape(-1, 1))\n",
    "data"
   ]
  },
  {
   "cell_type": "code",
   "execution_count": 39,
   "id": "77f1ba06",
   "metadata": {},
   "outputs": [
    {
     "data": {
      "text/plain": [
       "((1201, 1), (301, 1))"
      ]
     },
     "execution_count": 39,
     "metadata": {},
     "output_type": "execute_result"
    }
   ],
   "source": [
    "train_data = data[:int(len(data)*0.8)]\n",
    "test_data = data[int(len(data)*0.8):]\n",
    "train_data.shape, test_data.shape"
   ]
  },
  {
   "cell_type": "code",
   "execution_count": 40,
   "id": "8ee03551",
   "metadata": {},
   "outputs": [
    {
     "data": {
      "text/plain": [
       "array([0.39096941])"
      ]
     },
     "execution_count": 40,
     "metadata": {},
     "output_type": "execute_result"
    }
   ],
   "source": [
    "test_data[20]"
   ]
  },
  {
   "cell_type": "code",
   "execution_count": 41,
   "id": "9e65d13f",
   "metadata": {},
   "outputs": [],
   "source": [
    "past_values = 20\n",
    "def data_preparation(data,past_values):\n",
    "    X = []\n",
    "    y = []\n",
    "    for i in range(past_values, len(data)):\n",
    "        X.append(data[i-20:i])\n",
    "        y.append(data[i])\n",
    "    return np.array(X), np.array(y)"
   ]
  },
  {
   "cell_type": "code",
   "execution_count": 42,
   "id": "a360d6db",
   "metadata": {},
   "outputs": [],
   "source": [
    "X_train, y_train = data_preparation(train_data,past_values)\n",
    "X_test, y_test = data_preparation(test_data,past_values)"
   ]
  },
  {
   "cell_type": "code",
   "execution_count": 43,
   "id": "a0680369",
   "metadata": {},
   "outputs": [
    {
     "data": {
      "text/plain": [
       "(array([[[0.04356316],\n",
       "         [0.05214037],\n",
       "         [0.05406386],\n",
       "         ...,\n",
       "         [0.09795088],\n",
       "         [0.0978233 ],\n",
       "         [0.09198906]],\n",
       " \n",
       "        [[0.05214037],\n",
       "         [0.05406386],\n",
       "         [0.06183143],\n",
       "         ...,\n",
       "         [0.0978233 ],\n",
       "         [0.09198906],\n",
       "         [0.09505585]],\n",
       " \n",
       "        [[0.05406386],\n",
       "         [0.06183143],\n",
       "         [0.06414257],\n",
       "         ...,\n",
       "         [0.09198906],\n",
       "         [0.09505585],\n",
       "         [0.09395668]],\n",
       " \n",
       "        ...,\n",
       " \n",
       "        [[0.60520327],\n",
       "         [0.59480066],\n",
       "         [0.61796109],\n",
       "         ...,\n",
       "         [0.46457243],\n",
       "         [0.49548571],\n",
       "         [0.52600643]],\n",
       " \n",
       "        [[0.59480066],\n",
       "         [0.61796109],\n",
       "         [0.61884436],\n",
       "         ...,\n",
       "         [0.49548571],\n",
       "         [0.52600643],\n",
       "         [0.5241418 ]],\n",
       " \n",
       "        [[0.61796109],\n",
       "         [0.61884436],\n",
       "         [0.55446621],\n",
       "         ...,\n",
       "         [0.52600643],\n",
       "         [0.5241418 ],\n",
       "         [0.52433804]]]),\n",
       " array([[0.09505585],\n",
       "        [0.09395668],\n",
       "        [0.06657638],\n",
       "        ...,\n",
       "        [0.5241418 ],\n",
       "        [0.52433804],\n",
       "        [0.49813539]]))"
      ]
     },
     "execution_count": 43,
     "metadata": {},
     "output_type": "execute_result"
    }
   ],
   "source": [
    "X_train, y_train"
   ]
  },
  {
   "cell_type": "code",
   "execution_count": 44,
   "id": "5cd01741",
   "metadata": {},
   "outputs": [
    {
     "data": {
      "text/plain": [
       "((1181, 20, 1), (1181, 1))"
      ]
     },
     "execution_count": 44,
     "metadata": {},
     "output_type": "execute_result"
    }
   ],
   "source": [
    "X_train.shape, y_train.shape"
   ]
  },
  {
   "cell_type": "code",
   "execution_count": 45,
   "id": "d36b381a",
   "metadata": {},
   "outputs": [
    {
     "name": "stdout",
     "output_type": "stream",
     "text": [
      "Epoch 1/200\n",
      "6/6 [==============================] - 11s 108ms/step - loss: 0.1019\n",
      "Epoch 2/200\n",
      "6/6 [==============================] - 1s 89ms/step - loss: 0.0245\n",
      "Epoch 3/200\n",
      "6/6 [==============================] - 1s 102ms/step - loss: 0.0166\n",
      "Epoch 4/200\n",
      "6/6 [==============================] - 1s 91ms/step - loss: 0.0060\n",
      "Epoch 5/200\n",
      "6/6 [==============================] - 1s 96ms/step - loss: 0.0037\n",
      "Epoch 6/200\n",
      "6/6 [==============================] - 1s 102ms/step - loss: 0.0034\n",
      "Epoch 7/200\n",
      "6/6 [==============================] - 1s 99ms/step - loss: 0.0024\n",
      "Epoch 8/200\n",
      "6/6 [==============================] - 1s 84ms/step - loss: 0.0018\n",
      "Epoch 9/200\n",
      "6/6 [==============================] - 1s 97ms/step - loss: 0.0017\n",
      "Epoch 10/200\n",
      "6/6 [==============================] - 1s 102ms/step - loss: 0.0017\n",
      "Epoch 11/200\n",
      "6/6 [==============================] - 1s 93ms/step - loss: 0.0017\n",
      "Epoch 12/200\n",
      "6/6 [==============================] - 1s 92ms/step - loss: 0.0016\n",
      "Epoch 13/200\n",
      "6/6 [==============================] - 1s 88ms/step - loss: 0.0016\n",
      "Epoch 14/200\n",
      "6/6 [==============================] - 0s 83ms/step - loss: 0.0016\n",
      "Epoch 15/200\n",
      "6/6 [==============================] - 1s 96ms/step - loss: 0.0016\n",
      "Epoch 16/200\n",
      "6/6 [==============================] - 1s 93ms/step - loss: 0.0016\n",
      "Epoch 17/200\n",
      "6/6 [==============================] - 1s 87ms/step - loss: 0.0016\n",
      "Epoch 18/200\n",
      "6/6 [==============================] - 1s 105ms/step - loss: 0.0016\n",
      "Epoch 19/200\n",
      "6/6 [==============================] - 1s 88ms/step - loss: 0.0016\n",
      "Epoch 20/200\n",
      "6/6 [==============================] - 1s 86ms/step - loss: 0.0016\n",
      "Epoch 21/200\n",
      "6/6 [==============================] - 1s 89ms/step - loss: 0.0016\n",
      "Epoch 22/200\n",
      "6/6 [==============================] - 1s 92ms/step - loss: 0.0016\n",
      "Epoch 23/200\n",
      "6/6 [==============================] - 1s 97ms/step - loss: 0.0016\n",
      "Epoch 24/200\n",
      "6/6 [==============================] - 1s 119ms/step - loss: 0.0016\n",
      "Epoch 25/200\n",
      "6/6 [==============================] - 1s 121ms/step - loss: 0.0015\n",
      "Epoch 26/200\n",
      "6/6 [==============================] - 1s 86ms/step - loss: 0.0015\n",
      "Epoch 27/200\n",
      "6/6 [==============================] - 1s 96ms/step - loss: 0.0015\n",
      "Epoch 28/200\n",
      "6/6 [==============================] - 1s 81ms/step - loss: 0.0015\n",
      "Epoch 29/200\n",
      "6/6 [==============================] - 0s 82ms/step - loss: 0.0016\n",
      "Epoch 30/200\n",
      "6/6 [==============================] - 1s 84ms/step - loss: 0.0016\n",
      "Epoch 31/200\n",
      "6/6 [==============================] - 1s 94ms/step - loss: 0.0016\n",
      "Epoch 32/200\n",
      "6/6 [==============================] - 1s 104ms/step - loss: 0.0016\n",
      "Epoch 33/200\n",
      "6/6 [==============================] - 1s 100ms/step - loss: 0.0015\n",
      "Epoch 34/200\n",
      "6/6 [==============================] - 1s 86ms/step - loss: 0.0015\n",
      "Epoch 35/200\n",
      "6/6 [==============================] - 1s 90ms/step - loss: 0.0015\n",
      "Epoch 36/200\n",
      "6/6 [==============================] - 1s 99ms/step - loss: 0.0015\n",
      "Epoch 37/200\n",
      "6/6 [==============================] - 1s 95ms/step - loss: 0.0015\n",
      "Epoch 38/200\n",
      "6/6 [==============================] - 0s 81ms/step - loss: 0.0015\n",
      "Epoch 39/200\n",
      "6/6 [==============================] - 1s 90ms/step - loss: 0.0015\n",
      "Epoch 40/200\n",
      "6/6 [==============================] - 0s 83ms/step - loss: 0.0015\n",
      "Epoch 41/200\n",
      "6/6 [==============================] - 1s 108ms/step - loss: 0.0015\n",
      "Epoch 42/200\n",
      "6/6 [==============================] - 1s 115ms/step - loss: 0.0014\n",
      "Epoch 43/200\n",
      "6/6 [==============================] - 2s 315ms/step - loss: 0.0014\n",
      "Epoch 44/200\n",
      "6/6 [==============================] - 1s 87ms/step - loss: 0.0014\n",
      "Epoch 45/200\n",
      "6/6 [==============================] - 1s 87ms/step - loss: 0.0014\n",
      "Epoch 46/200\n",
      "6/6 [==============================] - 1s 84ms/step - loss: 0.0014\n",
      "Epoch 47/200\n",
      "6/6 [==============================] - 1s 87ms/step - loss: 0.0014\n",
      "Epoch 48/200\n",
      "6/6 [==============================] - 1s 87ms/step - loss: 0.0014\n",
      "Epoch 49/200\n",
      "6/6 [==============================] - 1s 85ms/step - loss: 0.0014\n",
      "Epoch 50/200\n",
      "6/6 [==============================] - 1s 90ms/step - loss: 0.0014\n",
      "Epoch 51/200\n",
      "6/6 [==============================] - 1s 85ms/step - loss: 0.0014\n",
      "Epoch 52/200\n",
      "6/6 [==============================] - 1s 84ms/step - loss: 0.0014\n",
      "Epoch 53/200\n",
      "6/6 [==============================] - 1s 85ms/step - loss: 0.0014\n",
      "Epoch 54/200\n",
      "6/6 [==============================] - 0s 83ms/step - loss: 0.0014\n",
      "Epoch 55/200\n",
      "6/6 [==============================] - 0s 80ms/step - loss: 0.0014\n",
      "Epoch 56/200\n",
      "6/6 [==============================] - 1s 100ms/step - loss: 0.0013\n",
      "Epoch 57/200\n",
      "6/6 [==============================] - 0s 80ms/step - loss: 0.0013\n",
      "Epoch 58/200\n",
      "6/6 [==============================] - 1s 102ms/step - loss: 0.0013\n",
      "Epoch 59/200\n",
      "6/6 [==============================] - 1s 89ms/step - loss: 0.0013\n",
      "Epoch 60/200\n",
      "6/6 [==============================] - 1s 81ms/step - loss: 0.0014\n",
      "Epoch 61/200\n",
      "6/6 [==============================] - 1s 89ms/step - loss: 0.0013\n",
      "Epoch 62/200\n",
      "6/6 [==============================] - 1s 133ms/step - loss: 0.0013\n",
      "Epoch 63/200\n",
      "6/6 [==============================] - 1s 143ms/step - loss: 0.0013\n",
      "Epoch 64/200\n",
      "6/6 [==============================] - 1s 137ms/step - loss: 0.0012\n",
      "Epoch 65/200\n",
      "6/6 [==============================] - 1s 117ms/step - loss: 0.0012\n",
      "Epoch 66/200\n",
      "6/6 [==============================] - 1s 146ms/step - loss: 0.0012\n",
      "Epoch 67/200\n",
      "6/6 [==============================] - 1s 142ms/step - loss: 0.0012\n",
      "Epoch 68/200\n",
      "6/6 [==============================] - 1s 93ms/step - loss: 0.0012\n",
      "Epoch 69/200\n",
      "6/6 [==============================] - 1s 87ms/step - loss: 0.0012\n",
      "Epoch 70/200\n",
      "6/6 [==============================] - 1s 99ms/step - loss: 0.0012\n",
      "Epoch 71/200\n",
      "6/6 [==============================] - 1s 86ms/step - loss: 0.0013\n",
      "Epoch 72/200\n",
      "6/6 [==============================] - 1s 106ms/step - loss: 0.0012\n",
      "Epoch 73/200\n",
      "6/6 [==============================] - 1s 121ms/step - loss: 0.0013\n",
      "Epoch 74/200\n",
      "6/6 [==============================] - 1s 91ms/step - loss: 0.0013\n",
      "Epoch 75/200\n",
      "6/6 [==============================] - 1s 110ms/step - loss: 0.0012\n",
      "Epoch 76/200\n",
      "6/6 [==============================] - 1s 118ms/step - loss: 0.0012\n",
      "Epoch 77/200\n",
      "6/6 [==============================] - 1s 86ms/step - loss: 0.0011\n",
      "Epoch 78/200\n",
      "6/6 [==============================] - 1s 95ms/step - loss: 0.0011\n",
      "Epoch 79/200\n",
      "6/6 [==============================] - 1s 85ms/step - loss: 0.0012\n",
      "Epoch 80/200\n",
      "6/6 [==============================] - 1s 95ms/step - loss: 0.0013\n",
      "Epoch 81/200\n",
      "6/6 [==============================] - 1s 101ms/step - loss: 0.0013\n",
      "Epoch 82/200\n",
      "6/6 [==============================] - 1s 96ms/step - loss: 0.0013\n",
      "Epoch 83/200\n",
      "6/6 [==============================] - 1s 102ms/step - loss: 0.0011\n",
      "Epoch 84/200\n",
      "6/6 [==============================] - 1s 92ms/step - loss: 0.0011\n",
      "Epoch 85/200\n",
      "6/6 [==============================] - 1s 111ms/step - loss: 0.0011\n",
      "Epoch 86/200\n",
      "6/6 [==============================] - 1s 110ms/step - loss: 0.0011\n",
      "Epoch 87/200\n",
      "6/6 [==============================] - 1s 89ms/step - loss: 0.0010\n",
      "Epoch 88/200\n",
      "6/6 [==============================] - 1s 94ms/step - loss: 0.0010\n",
      "Epoch 89/200\n",
      "6/6 [==============================] - 1s 96ms/step - loss: 0.0010\n",
      "Epoch 90/200\n",
      "6/6 [==============================] - 1s 95ms/step - loss: 0.0010\n",
      "Epoch 91/200\n",
      "6/6 [==============================] - 1s 89ms/step - loss: 0.0010\n",
      "Epoch 92/200\n",
      "6/6 [==============================] - 1s 98ms/step - loss: 0.0010\n",
      "Epoch 93/200\n",
      "6/6 [==============================] - 1s 105ms/step - loss: 0.0011\n",
      "Epoch 94/200\n",
      "6/6 [==============================] - 1s 87ms/step - loss: 0.0010\n",
      "Epoch 95/200\n",
      "6/6 [==============================] - 1s 95ms/step - loss: 0.0010\n",
      "Epoch 96/200\n",
      "6/6 [==============================] - 1s 90ms/step - loss: 0.0010\n",
      "Epoch 97/200\n",
      "6/6 [==============================] - 1s 91ms/step - loss: 0.0010\n",
      "Epoch 98/200\n",
      "6/6 [==============================] - 1s 108ms/step - loss: 0.0010\n",
      "Epoch 99/200\n",
      "6/6 [==============================] - 1s 106ms/step - loss: 0.0010\n",
      "Epoch 100/200\n",
      "6/6 [==============================] - 1s 95ms/step - loss: 9.6491e-04\n",
      "Epoch 101/200\n",
      "6/6 [==============================] - 1s 89ms/step - loss: 9.7599e-04\n",
      "Epoch 102/200\n",
      "6/6 [==============================] - 1s 115ms/step - loss: 9.6530e-04\n"
     ]
    },
    {
     "name": "stdout",
     "output_type": "stream",
     "text": [
      "Epoch 103/200\n",
      "6/6 [==============================] - 1s 148ms/step - loss: 9.5999e-04\n",
      "Epoch 104/200\n",
      "6/6 [==============================] - 1s 115ms/step - loss: 9.7825e-04\n",
      "Epoch 105/200\n",
      "6/6 [==============================] - 1s 89ms/step - loss: 0.0010\n",
      "Epoch 106/200\n",
      "6/6 [==============================] - 1s 97ms/step - loss: 0.0010\n",
      "Epoch 107/200\n",
      "6/6 [==============================] - 1s 94ms/step - loss: 0.0010\n",
      "Epoch 108/200\n",
      "6/6 [==============================] - 1s 121ms/step - loss: 0.0010\n",
      "Epoch 109/200\n",
      "6/6 [==============================] - 1s 111ms/step - loss: 0.0011\n",
      "Epoch 110/200\n",
      "6/6 [==============================] - 1s 110ms/step - loss: 0.0011\n",
      "Epoch 111/200\n",
      "6/6 [==============================] - 1s 107ms/step - loss: 0.0011\n",
      "Epoch 112/200\n",
      "6/6 [==============================] - 1s 89ms/step - loss: 0.0011\n",
      "Epoch 113/200\n",
      "6/6 [==============================] - 0s 83ms/step - loss: 0.0011\n",
      "Epoch 114/200\n",
      "6/6 [==============================] - 1s 100ms/step - loss: 9.7884e-04\n",
      "Epoch 115/200\n",
      "6/6 [==============================] - 1s 97ms/step - loss: 9.7893e-04\n",
      "Epoch 116/200\n",
      "6/6 [==============================] - 1s 108ms/step - loss: 9.2768e-04\n",
      "Epoch 117/200\n",
      "6/6 [==============================] - 1s 108ms/step - loss: 9.3791e-04\n",
      "Epoch 118/200\n",
      "6/6 [==============================] - 1s 109ms/step - loss: 9.5531e-04\n",
      "Epoch 119/200\n",
      "6/6 [==============================] - 1s 96ms/step - loss: 0.0010\n",
      "Epoch 120/200\n",
      "6/6 [==============================] - 1s 88ms/step - loss: 9.9496e-04\n",
      "Epoch 121/200\n",
      "6/6 [==============================] - 1s 93ms/step - loss: 9.2584e-04\n",
      "Epoch 122/200\n",
      "6/6 [==============================] - 1s 84ms/step - loss: 9.1534e-04\n",
      "Epoch 123/200\n",
      "6/6 [==============================] - 1s 105ms/step - loss: 9.0076e-04\n",
      "Epoch 124/200\n",
      "6/6 [==============================] - 1s 92ms/step - loss: 9.3420e-04\n",
      "Epoch 125/200\n",
      "6/6 [==============================] - 1s 111ms/step - loss: 9.1149e-04\n",
      "Epoch 126/200\n",
      "6/6 [==============================] - 1s 112ms/step - loss: 8.9752e-04\n",
      "Epoch 127/200\n",
      "6/6 [==============================] - 1s 90ms/step - loss: 9.0689e-04\n",
      "Epoch 128/200\n",
      "6/6 [==============================] - 1s 100ms/step - loss: 9.5395e-04\n",
      "Epoch 129/200\n",
      "6/6 [==============================] - 1s 107ms/step - loss: 9.6586e-04\n",
      "Epoch 130/200\n",
      "6/6 [==============================] - 1s 90ms/step - loss: 9.0116e-04\n",
      "Epoch 131/200\n",
      "6/6 [==============================] - 1s 115ms/step - loss: 9.4200e-04\n",
      "Epoch 132/200\n",
      "6/6 [==============================] - 1s 106ms/step - loss: 0.0010\n",
      "Epoch 133/200\n",
      "6/6 [==============================] - 1s 98ms/step - loss: 9.0460e-04\n",
      "Epoch 134/200\n",
      "6/6 [==============================] - 1s 105ms/step - loss: 8.9506e-04\n",
      "Epoch 135/200\n",
      "6/6 [==============================] - 1s 89ms/step - loss: 9.0567e-04\n",
      "Epoch 136/200\n",
      "6/6 [==============================] - 1s 117ms/step - loss: 8.8308e-04\n",
      "Epoch 137/200\n",
      "6/6 [==============================] - 1s 100ms/step - loss: 8.8026e-04\n",
      "Epoch 138/200\n",
      "6/6 [==============================] - 1s 87ms/step - loss: 8.8186e-04\n",
      "Epoch 139/200\n",
      "6/6 [==============================] - 1s 97ms/step - loss: 8.9478e-04\n",
      "Epoch 140/200\n",
      "6/6 [==============================] - 1s 89ms/step - loss: 8.7628e-04\n",
      "Epoch 141/200\n",
      "6/6 [==============================] - 1s 103ms/step - loss: 8.7742e-04\n",
      "Epoch 142/200\n",
      "6/6 [==============================] - 1s 87ms/step - loss: 9.1967e-04\n",
      "Epoch 143/200\n",
      "6/6 [==============================] - 1s 111ms/step - loss: 9.0830e-04\n",
      "Epoch 144/200\n",
      "6/6 [==============================] - 1s 91ms/step - loss: 9.0382e-04\n",
      "Epoch 145/200\n",
      "6/6 [==============================] - 1s 98ms/step - loss: 8.6790e-04\n",
      "Epoch 146/200\n",
      "6/6 [==============================] - 1s 90ms/step - loss: 8.6129e-04\n",
      "Epoch 147/200\n",
      "6/6 [==============================] - 1s 87ms/step - loss: 8.8601e-04\n",
      "Epoch 148/200\n",
      "6/6 [==============================] - 1s 97ms/step - loss: 8.6316e-04\n",
      "Epoch 149/200\n",
      "6/6 [==============================] - 1s 95ms/step - loss: 8.2356e-04\n",
      "Epoch 150/200\n",
      "6/6 [==============================] - 1s 112ms/step - loss: 8.8473e-04\n",
      "Epoch 151/200\n",
      "6/6 [==============================] - 1s 87ms/step - loss: 8.2276e-04\n",
      "Epoch 152/200\n",
      "6/6 [==============================] - 1s 90ms/step - loss: 8.3708e-04\n",
      "Epoch 153/200\n",
      "6/6 [==============================] - 1s 91ms/step - loss: 8.2579e-04\n",
      "Epoch 154/200\n",
      "6/6 [==============================] - 1s 92ms/step - loss: 8.3073e-04\n",
      "Epoch 155/200\n",
      "6/6 [==============================] - 1s 89ms/step - loss: 8.4400e-04\n",
      "Epoch 156/200\n",
      "6/6 [==============================] - 1s 94ms/step - loss: 7.9861e-04\n",
      "Epoch 157/200\n",
      "6/6 [==============================] - 1s 92ms/step - loss: 8.2284e-04\n",
      "Epoch 158/200\n",
      "6/6 [==============================] - 1s 92ms/step - loss: 8.1846e-04\n",
      "Epoch 159/200\n",
      "6/6 [==============================] - 1s 93ms/step - loss: 8.2274e-04\n",
      "Epoch 160/200\n",
      "6/6 [==============================] - 1s 91ms/step - loss: 8.8124e-04\n",
      "Epoch 161/200\n",
      "6/6 [==============================] - 1s 91ms/step - loss: 8.6863e-04\n",
      "Epoch 162/200\n",
      "6/6 [==============================] - 1s 89ms/step - loss: 8.4891e-04\n",
      "Epoch 163/200\n",
      "6/6 [==============================] - 1s 88ms/step - loss: 8.3526e-04\n",
      "Epoch 164/200\n",
      "6/6 [==============================] - 1s 107ms/step - loss: 8.3008e-04\n",
      "Epoch 165/200\n",
      "6/6 [==============================] - 1s 87ms/step - loss: 8.4389e-04\n",
      "Epoch 166/200\n",
      "6/6 [==============================] - 1s 100ms/step - loss: 8.2163e-04\n",
      "Epoch 167/200\n",
      "6/6 [==============================] - 1s 116ms/step - loss: 8.0031e-04\n",
      "Epoch 168/200\n",
      "6/6 [==============================] - 1s 103ms/step - loss: 8.2077e-04\n",
      "Epoch 169/200\n",
      "6/6 [==============================] - 1s 112ms/step - loss: 8.5653e-04\n",
      "Epoch 170/200\n",
      "6/6 [==============================] - 1s 96ms/step - loss: 8.0382e-04\n",
      "Epoch 171/200\n",
      "6/6 [==============================] - 1s 95ms/step - loss: 7.6847e-04\n",
      "Epoch 172/200\n",
      "6/6 [==============================] - 1s 101ms/step - loss: 7.9619e-04\n",
      "Epoch 173/200\n",
      "6/6 [==============================] - 1s 85ms/step - loss: 8.3316e-04\n",
      "Epoch 174/200\n",
      "6/6 [==============================] - 1s 89ms/step - loss: 7.7280e-04\n",
      "Epoch 175/200\n",
      "6/6 [==============================] - 1s 94ms/step - loss: 7.8316e-04\n",
      "Epoch 176/200\n",
      "6/6 [==============================] - 1s 119ms/step - loss: 7.4726e-04\n",
      "Epoch 177/200\n",
      "6/6 [==============================] - 1s 100ms/step - loss: 7.4758e-04\n",
      "Epoch 178/200\n",
      "6/6 [==============================] - 1s 105ms/step - loss: 7.3678e-04\n",
      "Epoch 179/200\n",
      "6/6 [==============================] - 1s 111ms/step - loss: 7.5415e-04\n",
      "Epoch 180/200\n",
      "6/6 [==============================] - 0s 83ms/step - loss: 7.4607e-04\n",
      "Epoch 181/200\n",
      "6/6 [==============================] - 1s 83ms/step - loss: 7.4810e-04\n",
      "Epoch 182/200\n",
      "6/6 [==============================] - 1s 84ms/step - loss: 7.8045e-04\n",
      "Epoch 183/200\n",
      "6/6 [==============================] - 1s 107ms/step - loss: 8.1762e-04\n",
      "Epoch 184/200\n",
      "6/6 [==============================] - 1s 113ms/step - loss: 7.8781e-04\n",
      "Epoch 185/200\n",
      "6/6 [==============================] - 1s 97ms/step - loss: 7.8991e-04\n",
      "Epoch 186/200\n",
      "6/6 [==============================] - 1s 104ms/step - loss: 8.2065e-04\n",
      "Epoch 187/200\n",
      "6/6 [==============================] - 1s 110ms/step - loss: 8.8106e-04\n",
      "Epoch 188/200\n",
      "6/6 [==============================] - 1s 95ms/step - loss: 8.0894e-04\n",
      "Epoch 189/200\n",
      "6/6 [==============================] - 1s 97ms/step - loss: 7.7815e-04\n",
      "Epoch 190/200\n",
      "6/6 [==============================] - 1s 101ms/step - loss: 7.1199e-04\n",
      "Epoch 191/200\n",
      "6/6 [==============================] - 1s 96ms/step - loss: 7.1804e-04\n",
      "Epoch 192/200\n",
      "6/6 [==============================] - 1s 92ms/step - loss: 7.1908e-04\n",
      "Epoch 193/200\n",
      "6/6 [==============================] - 1s 99ms/step - loss: 8.0602e-04\n",
      "Epoch 194/200\n",
      "6/6 [==============================] - 1s 100ms/step - loss: 7.3210e-04\n",
      "Epoch 195/200\n",
      "6/6 [==============================] - 1s 88ms/step - loss: 6.9695e-04\n",
      "Epoch 196/200\n",
      "6/6 [==============================] - 1s 87ms/step - loss: 6.9089e-04\n",
      "Epoch 197/200\n",
      "6/6 [==============================] - 1s 92ms/step - loss: 7.2246e-04\n",
      "Epoch 198/200\n",
      "6/6 [==============================] - 1s 91ms/step - loss: 7.1679e-04\n",
      "Epoch 199/200\n"
     ]
    },
    {
     "name": "stdout",
     "output_type": "stream",
     "text": [
      "6/6 [==============================] - 1s 85ms/step - loss: 7.1729e-04\n",
      "Epoch 200/200\n",
      "6/6 [==============================] - 1s 89ms/step - loss: 7.3410e-04\n"
     ]
    },
    {
     "data": {
      "text/plain": [
       "<keras.src.callbacks.History at 0x203dfa00990>"
      ]
     },
     "execution_count": 45,
     "metadata": {},
     "output_type": "execute_result"
    }
   ],
   "source": [
    "model = Sequential()\n",
    "model.add(LSTM(50, return_sequences=True, input_shape=(X_train.shape[1], 1)))\n",
    "model.add(LSTM(50, return_sequences=True))\n",
    "model.add(LSTM(50, return_sequences=False))\n",
    "model.add(Dense(25))\n",
    "model.add(Dense(1))\n",
    "\n",
    "model.compile(optimizer='adam', loss='mean_squared_error')\n",
    "model.fit(X_train, y_train, batch_size=200, epochs=200, verbose=1)\n",
    "\n",
    "# callback = tf.keras.callbacks.EarlyStopping(\n",
    "#     monitor='val_loss',\n",
    "#     min_delta=0,\n",
    "#     patience=0,\n",
    "#     verbose=0,\n",
    "#     mode='auto',\n",
    "#     baseline=None,\n",
    "#     restore_best_weights=False,\n",
    "#     start_from_epoch=0\n",
    "# )\n",
    "# model.fit(X_train, y_train, batch_size=200, epochs=500, verbose=1, callbacks=[callback])"
   ]
  },
  {
   "cell_type": "code",
   "execution_count": 50,
   "id": "12e2ae5e",
   "metadata": {
    "scrolled": true
   },
   "outputs": [
    {
     "name": "stdout",
     "output_type": "stream",
     "text": [
      "37/37 [==============================] - 1s 17ms/step\n"
     ]
    }
   ],
   "source": [
    "pred_train = model.predict(X_train)"
   ]
  },
  {
   "cell_type": "code",
   "execution_count": 51,
   "id": "0d5c1469",
   "metadata": {},
   "outputs": [
    {
     "data": {
      "text/plain": [
       "array([[0.0947403 ],\n",
       "       [0.09620811],\n",
       "       [0.09693819],\n",
       "       ...,\n",
       "       [0.4824124 ],\n",
       "       [0.48905593],\n",
       "       [0.49753293]], dtype=float32)"
      ]
     },
     "execution_count": 51,
     "metadata": {},
     "output_type": "execute_result"
    }
   ],
   "source": [
    "pred_train"
   ]
  },
  {
   "cell_type": "code",
   "execution_count": 52,
   "id": "b513ec61",
   "metadata": {},
   "outputs": [
    {
     "name": "stdout",
     "output_type": "stream",
     "text": [
      "mean absolute error- 0.02016549567741683\n",
      "mean squared error- 0.0007487371286118839\n"
     ]
    }
   ],
   "source": [
    "mae = mean_absolute_error(y_train, pred_train)\n",
    "print('mean absolute error-', mae)\n",
    "mse = mean_squared_error(y_train, pred_train)\n",
    "print('mean squared error-', mse)"
   ]
  },
  {
   "cell_type": "code",
   "execution_count": 53,
   "id": "ce0baf19",
   "metadata": {},
   "outputs": [
    {
     "data": {
      "text/plain": [
       "<matplotlib.legend.Legend at 0x203e318ad10>"
      ]
     },
     "execution_count": 53,
     "metadata": {},
     "output_type": "execute_result"
    },
    {
     "data": {
      "image/png": "[encoded data removed]",
      "text/plain": [
       "<Figure size 640x480 with 1 Axes>"
      ]
     },
     "metadata": {},
     "output_type": "display_data"
    }
   ],
   "source": [
    "plt.title(f\"{ticker}'s Prediction from {start_date} to {end_date}\\n Actual vs. Predicted on Training Data\")\n",
    "plt.xlabel('Days')\n",
    "plt.ylabel('Price')\n",
    "plt.plot(y_train, color='blue', label='actual')\n",
    "plt.plot(pred_train, color='red', label='predicted')\n",
    "plt.legend()"
   ]
  },
  {
   "cell_type": "code",
   "execution_count": 54,
   "id": "7e7be93a",
   "metadata": {},
   "outputs": [
    {
     "name": "stdout",
     "output_type": "stream",
     "text": [
      "9/9 [==============================] - 0s 13ms/step\n"
     ]
    }
   ],
   "source": [
    "pred_test = model.predict(X_test)"
   ]
  },
  {
   "cell_type": "code",
   "execution_count": 55,
   "id": "f62663ff",
   "metadata": {},
   "outputs": [
    {
     "name": "stdout",
     "output_type": "stream",
     "text": [
      "mean absolute error- 0.029597203519845326\n",
      "mean squared error- 0.0014591862347044283\n"
     ]
    }
   ],
   "source": [
    "mae = mean_absolute_error(y_test, pred_test)\n",
    "print('mean absolute error-', mae)\n",
    "mse = mean_squared_error(y_test, pred_test)\n",
    "print('mean squared error-', mse)"
   ]
  },
  {
   "cell_type": "code",
   "execution_count": 56,
   "id": "dce7e9a0",
   "metadata": {},
   "outputs": [
    {
     "data": {
      "text/plain": [
       "<matplotlib.legend.Legend at 0x203e727b310>"
      ]
     },
     "execution_count": 56,
     "metadata": {},
     "output_type": "execute_result"
    },
    {
     "data": {
      "image/png": "[encoded data removed]",
      "text/plain": [
       "<Figure size 640x480 with 1 Axes>"
      ]
     },
     "metadata": {},
     "output_type": "display_data"
    }
   ],
   "source": [
    "plt.title(f\"{ticker}'s Prediction from {start_date} to {end_date}\\n Actual vs. Predicted on Training Data\")\n",
    "plt.xlabel('Days')\n",
    "plt.ylabel('Price')\n",
    "plt.plot(y_test, color='green', label='actual')\n",
    "plt.plot(pred_test, color='orange', label='predicted')\n",
    "plt.legend()"
   ]
  },
  {
   "cell_type": "code",
   "execution_count": 69,
   "id": "75846d04",
   "metadata": {},
   "outputs": [
    {
     "name": "stdout",
     "output_type": "stream",
     "text": [
      "[*********************100%***********************]  1 of 1 completed\n"
     ]
    },
    {
     "data": {
      "text/plain": [
       "0    139.660004\n",
       "1    141.800003\n",
       "2    142.720001\n",
       "3    142.820007\n",
       "4    141.440002\n",
       "5    141.279999\n",
       "6    140.929993\n",
       "Name: Close, dtype: float64"
      ]
     },
     "execution_count": 69,
     "metadata": {},
     "output_type": "execute_result"
    }
   ],
   "source": [
    "ticker = 'GOOG'\n",
    "start_date = '2023-12-20'\n",
    "end_date = '2023-12-31'\n",
    "df_future = yf.download(ticker, start_date, end_date).reset_index()['Close']\n",
    "df_future"
   ]
  },
  {
   "cell_type": "code",
   "execution_count": 70,
   "id": "65dd9002",
   "metadata": {},
   "outputs": [],
   "source": [
    "df_future = df_future.values"
   ]
  },
  {
   "cell_type": "code",
   "execution_count": 71,
   "id": "97ee7a64",
   "metadata": {},
   "outputs": [
    {
     "data": {
      "text/plain": [
       "array([138.61999512, 140.02000427, 138.22000122, 138.05000305,\n",
       "       138.61999512, 136.3999939 , 133.91999817, 133.32000732,\n",
       "       130.63000488, 132.38999939, 131.42999268, 138.44999695,\n",
       "       136.63999939, 134.69999695, 133.63999939, 133.97000122,\n",
       "       133.19999695, 133.83999634, 137.19000244, 138.1000061 ])"
      ]
     },
     "execution_count": 71,
     "metadata": {},
     "output_type": "execute_result"
    }
   ],
   "source": [
    "future_data_to_predict = np.array(close[-20:])\n",
    "future_data_to_predict"
   ]
  },
  {
   "cell_type": "code",
   "execution_count": 72,
   "id": "bfb2ddfc",
   "metadata": {},
   "outputs": [
    {
     "data": {
      "text/plain": [
       "138.10000610351562"
      ]
     },
     "execution_count": 72,
     "metadata": {},
     "output_type": "execute_result"
    }
   ],
   "source": [
    "last_val = future_data_to_predict[-1]\n",
    "last_val"
   ]
  },
  {
   "cell_type": "markdown",
   "id": "6566cf7e",
   "metadata": {},
   "source": [
    "---------------------------------------------------------------------------------------------------------------------------"
   ]
  },
  {
   "cell_type": "code",
   "execution_count": 73,
   "id": "2e40312e",
   "metadata": {},
   "outputs": [],
   "source": [
    "def prediction(future_data, last_val, days):\n",
    "    \n",
    "    output_data = []\n",
    "    new_arr = []\n",
    "\n",
    "    for i in range(days):\n",
    "        \n",
    "        if future_data[-1] == last_val:\n",
    "            print('no')\n",
    "            print('before',future_data)\n",
    "            temp = scaler.transform(future_data.reshape(-1, 1))\n",
    "            temp_scaled_reshape = temp.reshape(1, 20, 1)\n",
    "            predicted_value = model.predict(temp_scaled_reshape)\n",
    "            actual_predicted = scaler.inverse_transform(predicted_value.reshape(1,-1))\n",
    "            output_data.append(actual_predicted[0,0])\n",
    "            print('output',actual_predicted[0,0])\n",
    "            future_data = future_data[1:]\n",
    "            future_data = np.append(future_data,actual_predicted)\n",
    "            print('after',future_data)\n",
    "        else:\n",
    "            print('yes')\n",
    "            print('before',future_data)\n",
    "            temp = scaler.transform(future_data.reshape(-1, 1))\n",
    "            temp_scaled_reshape = temp.reshape(1, 20, 1)\n",
    "            predicted_value = model.predict(temp_scaled_reshape)\n",
    "            actual_predicted = scaler.inverse_transform(predicted_value.reshape(1,-1))\n",
    "            output_data.append(actual_predicted[0,0])\n",
    "            print('output',actual_predicted[0,0])\n",
    "            future_data = future_data[1:]\n",
    "            future_data = np.append(future_data,actual_predicted)\n",
    "            print('after',future_data)\n",
    "\n",
    "    return output_data\n",
    "    "
   ]
  },
  {
   "cell_type": "code",
   "execution_count": 74,
   "id": "7ea91f79",
   "metadata": {},
   "outputs": [
    {
     "name": "stdout",
     "output_type": "stream",
     "text": [
      "no\n",
      "before [138.61999512 140.02000427 138.22000122 138.05000305 138.61999512\n",
      " 136.3999939  133.91999817 133.32000732 130.63000488 132.38999939\n",
      " 131.42999268 138.44999695 136.63999939 134.69999695 133.63999939\n",
      " 133.97000122 133.19999695 133.83999634 137.19000244 138.1000061 ]\n",
      "1/1 [==============================] - 0s 39ms/step\n",
      "output 133.72401\n",
      "after [140.02000427 138.22000122 138.05000305 138.61999512 136.3999939\n",
      " 133.91999817 133.32000732 130.63000488 132.38999939 131.42999268\n",
      " 138.44999695 136.63999939 134.69999695 133.63999939 133.97000122\n",
      " 133.19999695 133.83999634 137.19000244 138.1000061  133.72401428]\n",
      "yes\n",
      "before [140.02000427 138.22000122 138.05000305 138.61999512 136.3999939\n",
      " 133.91999817 133.32000732 130.63000488 132.38999939 131.42999268\n",
      " 138.44999695 136.63999939 134.69999695 133.63999939 133.97000122\n",
      " 133.19999695 133.83999634 137.19000244 138.1000061  133.72401428]\n",
      "1/1 [==============================] - 0s 42ms/step\n",
      "output 133.98206\n",
      "after [138.22000122 138.05000305 138.61999512 136.3999939  133.91999817\n",
      " 133.32000732 130.63000488 132.38999939 131.42999268 138.44999695\n",
      " 136.63999939 134.69999695 133.63999939 133.97000122 133.19999695\n",
      " 133.83999634 137.19000244 138.1000061  133.72401428 133.98205566]\n",
      "yes\n",
      "before [138.22000122 138.05000305 138.61999512 136.3999939  133.91999817\n",
      " 133.32000732 130.63000488 132.38999939 131.42999268 138.44999695\n",
      " 136.63999939 134.69999695 133.63999939 133.97000122 133.19999695\n",
      " 133.83999634 137.19000244 138.1000061  133.72401428 133.98205566]\n",
      "1/1 [==============================] - 0s 37ms/step\n",
      "output 133.89178\n",
      "after [138.05000305 138.61999512 136.3999939  133.91999817 133.32000732\n",
      " 130.63000488 132.38999939 131.42999268 138.44999695 136.63999939\n",
      " 134.69999695 133.63999939 133.97000122 133.19999695 133.83999634\n",
      " 137.19000244 138.1000061  133.72401428 133.98205566 133.89178467]\n",
      "yes\n",
      "before [138.05000305 138.61999512 136.3999939  133.91999817 133.32000732\n",
      " 130.63000488 132.38999939 131.42999268 138.44999695 136.63999939\n",
      " 134.69999695 133.63999939 133.97000122 133.19999695 133.83999634\n",
      " 137.19000244 138.1000061  133.72401428 133.98205566 133.89178467]\n",
      "1/1 [==============================] - 0s 44ms/step\n",
      "output 133.57965\n",
      "after [138.61999512 136.3999939  133.91999817 133.32000732 130.63000488\n",
      " 132.38999939 131.42999268 138.44999695 136.63999939 134.69999695\n",
      " 133.63999939 133.97000122 133.19999695 133.83999634 137.19000244\n",
      " 138.1000061  133.72401428 133.98205566 133.89178467 133.57965088]\n",
      "yes\n",
      "before [138.61999512 136.3999939  133.91999817 133.32000732 130.63000488\n",
      " 132.38999939 131.42999268 138.44999695 136.63999939 134.69999695\n",
      " 133.63999939 133.97000122 133.19999695 133.83999634 137.19000244\n",
      " 138.1000061  133.72401428 133.98205566 133.89178467 133.57965088]\n",
      "1/1 [==============================] - 0s 43ms/step\n",
      "output 133.11848\n",
      "after [136.3999939  133.91999817 133.32000732 130.63000488 132.38999939\n",
      " 131.42999268 138.44999695 136.63999939 134.69999695 133.63999939\n",
      " 133.97000122 133.19999695 133.83999634 137.19000244 138.1000061\n",
      " 133.72401428 133.98205566 133.89178467 133.57965088 133.1184845 ]\n",
      "yes\n",
      "before [136.3999939  133.91999817 133.32000732 130.63000488 132.38999939\n",
      " 131.42999268 138.44999695 136.63999939 134.69999695 133.63999939\n",
      " 133.97000122 133.19999695 133.83999634 137.19000244 138.1000061\n",
      " 133.72401428 133.98205566 133.89178467 133.57965088 133.1184845 ]\n",
      "1/1 [==============================] - 0s 41ms/step\n",
      "output 132.5666\n",
      "after [133.91999817 133.32000732 130.63000488 132.38999939 131.42999268\n",
      " 138.44999695 136.63999939 134.69999695 133.63999939 133.97000122\n",
      " 133.19999695 133.83999634 137.19000244 138.1000061  133.72401428\n",
      " 133.98205566 133.89178467 133.57965088 133.1184845  132.56660461]\n",
      "yes\n",
      "before [133.91999817 133.32000732 130.63000488 132.38999939 131.42999268\n",
      " 138.44999695 136.63999939 134.69999695 133.63999939 133.97000122\n",
      " 133.19999695 133.83999634 137.19000244 138.1000061  133.72401428\n",
      " 133.98205566 133.89178467 133.57965088 133.1184845  132.56660461]\n",
      "1/1 [==============================] - 0s 40ms/step\n",
      "output 131.99638\n",
      "after [133.32000732 130.63000488 132.38999939 131.42999268 138.44999695\n",
      " 136.63999939 134.69999695 133.63999939 133.97000122 133.19999695\n",
      " 133.83999634 137.19000244 138.1000061  133.72401428 133.98205566\n",
      " 133.89178467 133.57965088 133.1184845  132.56660461 131.99638367]\n"
     ]
    },
    {
     "data": {
      "text/plain": [
       "[133.72401, 133.98206, 133.89178, 133.57965, 133.11848, 132.5666, 131.99638]"
      ]
     },
     "execution_count": 74,
     "metadata": {},
     "output_type": "execute_result"
    }
   ],
   "source": [
    "result = prediction(future_data_to_predict[-20:], last_val, len(df_future))\n",
    "result"
   ]
  },
  {
   "cell_type": "code",
   "execution_count": 76,
   "id": "21c0e263",
   "metadata": {},
   "outputs": [
    {
     "data": {
      "text/plain": [
       "<matplotlib.legend.Legend at 0x203e77bc850>"
      ]
     },
     "execution_count": 76,
     "metadata": {},
     "output_type": "execute_result"
    },
    {
     "data": {
      "image/png": "[encoded data removed]",
      "text/plain": [
       "<Figure size 640x480 with 1 Axes>"
      ]
     },
     "metadata": {},
     "output_type": "display_data"
    }
   ],
   "source": [
    "plt.title(f\"{ticker}'s Prediction For Next {len(df_future)} Days\")\n",
    "plt.xlabel('Days')\n",
    "plt.ylabel('Price')\n",
    "plt.plot(df_future, color='orange', label='actual')\n",
    "plt.plot(result, color='green', label='predicted')\n",
    "plt.legend()"
   ]
  },
  {
   "cell_type": "code",
   "execution_count": 138,
   "id": "936795cf",
   "metadata": {},
   "outputs": [],
   "source": [
    "def get_control_vector(val):\n",
    "    return np.diff(np.sign(np.diff(val)))\n",
    "\n",
    "def buy_and_sell_bot(val,controls):\n",
    "    inv = []\n",
    "    curr_val = 1000\n",
    "    print(\"*******************\",np.where(controls))\n",
    "    \n",
    "#     inds = np.where(controls)[0]\n",
    "#     print(inds)\n",
    "#     buy_inds = np.where(controls>0)[0]\n",
    "#     sell_inds = np.where(controls<0)[0]\n",
    "#     max_limit = sell_inds[-1] if sell_inds[-1]>buy_inds[-1] else buy_inds[-1]\n",
    "#     for i in range(buy_inds[0]+2):\n",
    "#         inv.append(curr_val)\n",
    "#     for i in range(buy_inds[0],max_limit+1):\n",
    "#         if controls[i]>0:\n",
    "#             buy_val = val[i+1]\n",
    "#         elif controls[i]<0:\n",
    "#             sell_val = val[i+1]\n",
    "#             curr_val = curr_val*sell_val/buy_val\n",
    "#         inv.append(curr_val)\n",
    "        \n",
    "#     if max_limit+1!=len(controls):\n",
    "#         for i in range(len(controls)-max_limit-1):\n",
    "#             inv.append(curr_val)\n",
    "#     return inv"
   ]
  },
  {
   "cell_type": "code",
   "execution_count": 139,
   "id": "c7913e0a",
   "metadata": {},
   "outputs": [],
   "source": [
    "# controls_actual = get_control_vector(df_future)\n",
    "# amount_actual = buy_and_sell_bot(future_data, controls_actual)\n",
    "# controls_actual,amount_actual"
   ]
  },
  {
   "cell_type": "code",
   "execution_count": 156,
   "id": "65bcbbd8",
   "metadata": {},
   "outputs": [
    {
     "data": {
      "text/plain": [
       "(array([1., 1., 1., 1., 1., 1.], dtype=float32),\n",
       " array([ 1., -1., -1., -1.,  1., -1.]))"
      ]
     },
     "execution_count": 156,
     "metadata": {},
     "output_type": "execute_result"
    }
   ],
   "source": [
    "controls_pred= get_control_vector(np.array(result))\n",
    "# amount_pred = buy_and_sell_bot(result, controls_pred)\n",
    "# amount_pred,\n",
    "np.sign(np.diff(np.array(result))), np.sign(np.diff(df_future))"
   ]
  },
  {
   "cell_type": "code",
   "execution_count": 154,
   "id": "6402e230",
   "metadata": {},
   "outputs": [
    {
     "data": {
      "text/plain": [
       "array([152.11999512, 153.83999634, 153.41999817, 153.41000366,\n",
       "       153.33999634, 153.38000488, 151.94000244])"
      ]
     },
     "execution_count": 154,
     "metadata": {},
     "output_type": "execute_result"
    }
   ],
   "source": [
    "df_future"
   ]
  },
  {
   "cell_type": "code",
   "execution_count": 155,
   "id": "e01d59d5",
   "metadata": {},
   "outputs": [
    {
     "data": {
      "text/plain": [
       "array([153.55403, 154.67691, 155.34634, 155.79456, 156.12683, 156.38371,\n",
       "       156.59152], dtype=float32)"
      ]
     },
     "execution_count": 155,
     "metadata": {},
     "output_type": "execute_result"
    }
   ],
   "source": [
    "result = np.array(result)\n",
    "result"
   ]
  },
  {
   "cell_type": "code",
   "execution_count": null,
   "id": "e1953645",
   "metadata": {},
   "outputs": [],
   "source": []
  }
 ],
 "metadata": {
  "kernelspec": {
   "display_name": "Python 3 (ipykernel)",
   "language": "python",
   "name": "python3"
  },
  "language_info": {
   "codemirror_mode": {
    "name": "ipython",
    "version": 3
   },
   "file_extension": ".py",
   "mimetype": "text/x-python",
   "name": "python",
   "nbconvert_exporter": "python",
   "pygments_lexer": "ipython3",
   "version": "3.11.4"
  }
 },
 "nbformat": 4,
 "nbformat_minor": 5
}
