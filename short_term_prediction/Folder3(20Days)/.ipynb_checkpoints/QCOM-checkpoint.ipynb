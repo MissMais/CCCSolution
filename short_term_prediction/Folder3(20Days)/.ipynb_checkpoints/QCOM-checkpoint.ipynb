{
 "cells": [
  {
   "cell_type": "code",
   "execution_count": 4,
   "id": "fc6b9692",
   "metadata": {},
   "outputs": [],
   "source": [
    "import numpy as np\n",
    "import pandas as pd\n",
    "import yfinance as yf\n",
    "import matplotlib.pyplot as plt\n",
    "from sklearn.preprocessing import MinMaxScaler\n",
    "from keras.models import Sequential\n",
    "from keras.layers import LSTM, Dense\n",
    "import tensorflow as tf\n",
    "from sklearn.metrics import mean_squared_error, mean_absolute_error, accuracy_score\n",
    "from math import sqrt"
   ]
  },
  {
   "cell_type": "code",
   "execution_count": 5,
   "id": "b85b7fbc",
   "metadata": {},
   "outputs": [],
   "source": [
    "ticker = 'QCOM'\n",
    "start_date = '2018-01-01'\n",
    "end_date = '2023-12-20'"
   ]
  },
  {
   "cell_type": "code",
   "execution_count": 6,
   "id": "b386cf97",
   "metadata": {},
   "outputs": [
    {
     "name": "stdout",
     "output_type": "stream",
     "text": [
      "[*********************100%***********************]  1 of 1 completed\n"
     ]
    },
    {
     "data": {
      "text/html": [
       "<div>\n",
       "<style scoped>\n",
       "    .dataframe tbody tr th:only-of-type {\n",
       "        vertical-align: middle;\n",
       "    }\n",
       "\n",
       "    .dataframe tbody tr th {\n",
       "        vertical-align: top;\n",
       "    }\n",
       "\n",
       "    .dataframe thead th {\n",
       "        text-align: right;\n",
       "    }\n",
       "</style>\n",
       "<table border=\"1\" class=\"dataframe\">\n",
       "  <thead>\n",
       "    <tr style=\"text-align: right;\">\n",
       "      <th></th>\n",
       "      <th>Date</th>\n",
       "      <th>Open</th>\n",
       "      <th>High</th>\n",
       "      <th>Low</th>\n",
       "      <th>Close</th>\n",
       "      <th>Adj Close</th>\n",
       "      <th>Volume</th>\n",
       "    </tr>\n",
       "  </thead>\n",
       "  <tbody>\n",
       "    <tr>\n",
       "      <th>0</th>\n",
       "      <td>2018-01-02</td>\n",
       "      <td>64.379997</td>\n",
       "      <td>65.330002</td>\n",
       "      <td>64.169998</td>\n",
       "      <td>65.199997</td>\n",
       "      <td>55.204735</td>\n",
       "      <td>6329600</td>\n",
       "    </tr>\n",
       "    <tr>\n",
       "      <th>1</th>\n",
       "      <td>2018-01-03</td>\n",
       "      <td>65.220001</td>\n",
       "      <td>66.059998</td>\n",
       "      <td>64.690002</td>\n",
       "      <td>65.940002</td>\n",
       "      <td>55.831310</td>\n",
       "      <td>6844200</td>\n",
       "    </tr>\n",
       "    <tr>\n",
       "      <th>2</th>\n",
       "      <td>2018-01-04</td>\n",
       "      <td>66.180000</td>\n",
       "      <td>66.529999</td>\n",
       "      <td>65.910004</td>\n",
       "      <td>66.029999</td>\n",
       "      <td>55.907497</td>\n",
       "      <td>5060100</td>\n",
       "    </tr>\n",
       "    <tr>\n",
       "      <th>3</th>\n",
       "      <td>2018-01-05</td>\n",
       "      <td>66.040001</td>\n",
       "      <td>66.599998</td>\n",
       "      <td>65.500000</td>\n",
       "      <td>66.470001</td>\n",
       "      <td>56.280052</td>\n",
       "      <td>5421800</td>\n",
       "    </tr>\n",
       "    <tr>\n",
       "      <th>4</th>\n",
       "      <td>2018-01-08</td>\n",
       "      <td>66.250000</td>\n",
       "      <td>66.529999</td>\n",
       "      <td>65.940002</td>\n",
       "      <td>66.269997</td>\n",
       "      <td>56.110710</td>\n",
       "      <td>4266900</td>\n",
       "    </tr>\n",
       "    <tr>\n",
       "      <th>...</th>\n",
       "      <td>...</td>\n",
       "      <td>...</td>\n",
       "      <td>...</td>\n",
       "      <td>...</td>\n",
       "      <td>...</td>\n",
       "      <td>...</td>\n",
       "      <td>...</td>\n",
       "    </tr>\n",
       "    <tr>\n",
       "      <th>1497</th>\n",
       "      <td>2023-12-13</td>\n",
       "      <td>136.380005</td>\n",
       "      <td>138.990005</td>\n",
       "      <td>136.080002</td>\n",
       "      <td>138.800003</td>\n",
       "      <td>138.800003</td>\n",
       "      <td>7507700</td>\n",
       "    </tr>\n",
       "    <tr>\n",
       "      <th>1498</th>\n",
       "      <td>2023-12-14</td>\n",
       "      <td>139.600006</td>\n",
       "      <td>142.759995</td>\n",
       "      <td>139.600006</td>\n",
       "      <td>141.500000</td>\n",
       "      <td>141.500000</td>\n",
       "      <td>11468900</td>\n",
       "    </tr>\n",
       "    <tr>\n",
       "      <th>1499</th>\n",
       "      <td>2023-12-15</td>\n",
       "      <td>142.050003</td>\n",
       "      <td>143.490005</td>\n",
       "      <td>141.380005</td>\n",
       "      <td>143.130005</td>\n",
       "      <td>143.130005</td>\n",
       "      <td>25049400</td>\n",
       "    </tr>\n",
       "    <tr>\n",
       "      <th>1500</th>\n",
       "      <td>2023-12-18</td>\n",
       "      <td>142.509995</td>\n",
       "      <td>143.119995</td>\n",
       "      <td>141.289993</td>\n",
       "      <td>141.649994</td>\n",
       "      <td>141.649994</td>\n",
       "      <td>7832100</td>\n",
       "    </tr>\n",
       "    <tr>\n",
       "      <th>1501</th>\n",
       "      <td>2023-12-19</td>\n",
       "      <td>142.029999</td>\n",
       "      <td>143.429993</td>\n",
       "      <td>141.440002</td>\n",
       "      <td>143.229996</td>\n",
       "      <td>143.229996</td>\n",
       "      <td>5658400</td>\n",
       "    </tr>\n",
       "  </tbody>\n",
       "</table>\n",
       "<p>1502 rows × 7 columns</p>\n",
       "</div>"
      ],
      "text/plain": [
       "           Date        Open        High         Low       Close   Adj Close  \\\n",
       "0    2018-01-02   64.379997   65.330002   64.169998   65.199997   55.204735   \n",
       "1    2018-01-03   65.220001   66.059998   64.690002   65.940002   55.831310   \n",
       "2    2018-01-04   66.180000   66.529999   65.910004   66.029999   55.907497   \n",
       "3    2018-01-05   66.040001   66.599998   65.500000   66.470001   56.280052   \n",
       "4    2018-01-08   66.250000   66.529999   65.940002   66.269997   56.110710   \n",
       "...         ...         ...         ...         ...         ...         ...   \n",
       "1497 2023-12-13  136.380005  138.990005  136.080002  138.800003  138.800003   \n",
       "1498 2023-12-14  139.600006  142.759995  139.600006  141.500000  141.500000   \n",
       "1499 2023-12-15  142.050003  143.490005  141.380005  143.130005  143.130005   \n",
       "1500 2023-12-18  142.509995  143.119995  141.289993  141.649994  141.649994   \n",
       "1501 2023-12-19  142.029999  143.429993  141.440002  143.229996  143.229996   \n",
       "\n",
       "        Volume  \n",
       "0      6329600  \n",
       "1      6844200  \n",
       "2      5060100  \n",
       "3      5421800  \n",
       "4      4266900  \n",
       "...        ...  \n",
       "1497   7507700  \n",
       "1498  11468900  \n",
       "1499  25049400  \n",
       "1500   7832100  \n",
       "1501   5658400  \n",
       "\n",
       "[1502 rows x 7 columns]"
      ]
     },
     "execution_count": 6,
     "metadata": {},
     "output_type": "execute_result"
    }
   ],
   "source": [
    "df = yf.download(ticker, start_date, end_date).reset_index()\n",
    "df"
   ]
  },
  {
   "cell_type": "code",
   "execution_count": 7,
   "id": "9fb331be",
   "metadata": {},
   "outputs": [],
   "source": [
    "close = df['Close']"
   ]
  },
  {
   "cell_type": "code",
   "execution_count": 8,
   "id": "c57616bc",
   "metadata": {},
   "outputs": [
    {
     "name": "stdout",
     "output_type": "stream",
     "text": [
      "[ 65.19999695  65.94000244  66.02999878 ... 143.13000488 141.6499939\n",
      " 143.22999573]\n"
     ]
    }
   ],
   "source": [
    "print(close.values)"
   ]
  },
  {
   "cell_type": "code",
   "execution_count": 9,
   "id": "625da953",
   "metadata": {},
   "outputs": [
    {
     "data": {
      "text/plain": [
       "array([[0.11295393],\n",
       "       [0.11824422],\n",
       "       [0.1188876 ],\n",
       "       ...,\n",
       "       [0.67007439],\n",
       "       [0.65949381],\n",
       "       [0.67078922]])"
      ]
     },
     "execution_count": 9,
     "metadata": {},
     "output_type": "execute_result"
    }
   ],
   "source": [
    "scaler = MinMaxScaler()\n",
    "data = scaler.fit_transform(close.values.reshape(-1, 1))\n",
    "data"
   ]
  },
  {
   "cell_type": "code",
   "execution_count": 10,
   "id": "77f1ba06",
   "metadata": {},
   "outputs": [
    {
     "data": {
      "text/plain": [
       "((1201, 1), (301, 1))"
      ]
     },
     "execution_count": 10,
     "metadata": {},
     "output_type": "execute_result"
    }
   ],
   "source": [
    "train_data = data[:int(len(data)*0.8)]\n",
    "test_data = data[int(len(data)*0.8):]\n",
    "train_data.shape, test_data.shape"
   ]
  },
  {
   "cell_type": "code",
   "execution_count": 11,
   "id": "8ee03551",
   "metadata": {},
   "outputs": [
    {
     "data": {
      "text/plain": [
       "array([0.43387186])"
      ]
     },
     "execution_count": 11,
     "metadata": {},
     "output_type": "execute_result"
    }
   ],
   "source": [
    "test_data[20]"
   ]
  },
  {
   "cell_type": "code",
   "execution_count": 12,
   "id": "9e65d13f",
   "metadata": {},
   "outputs": [],
   "source": [
    "past_values = 20\n",
    "def data_preparation(data,past_values):\n",
    "    X = []\n",
    "    y = []\n",
    "    for i in range(past_values, len(data)):\n",
    "        X.append(data[i-20:i])\n",
    "        y.append(data[i])\n",
    "    return np.array(X), np.array(y)"
   ]
  },
  {
   "cell_type": "code",
   "execution_count": 13,
   "id": "a360d6db",
   "metadata": {},
   "outputs": [],
   "source": [
    "X_train, y_train = data_preparation(train_data,past_values)\n",
    "X_test, y_test = data_preparation(test_data,past_values)"
   ]
  },
  {
   "cell_type": "code",
   "execution_count": 14,
   "id": "a0680369",
   "metadata": {},
   "outputs": [
    {
     "data": {
      "text/plain": [
       "(array([[[0.11295393],\n",
       "         [0.11824422],\n",
       "         [0.1188876 ],\n",
       "         ...,\n",
       "         [0.13676006],\n",
       "         [0.1281098 ],\n",
       "         [0.12575062]],\n",
       " \n",
       "        [[0.11824422],\n",
       "         [0.1188876 ],\n",
       "         [0.12203317],\n",
       "         ...,\n",
       "         [0.1281098 ],\n",
       "         [0.12575062],\n",
       "         [0.13475836]],\n",
       " \n",
       "        [[0.1188876 ],\n",
       "         [0.12203317],\n",
       "         [0.12060334],\n",
       "         ...,\n",
       "         [0.12575062],\n",
       "         [0.13475836],\n",
       "         [0.12439235]],\n",
       " \n",
       "        ...,\n",
       " \n",
       "        [[0.56619964],\n",
       "         [0.56798689],\n",
       "         [0.59086362],\n",
       "         ...,\n",
       "         [0.45453248],\n",
       "         [0.48484416],\n",
       "         [0.52166144]],\n",
       " \n",
       "        [[0.56798689],\n",
       "         [0.59086362],\n",
       "         [0.59765513],\n",
       "         ...,\n",
       "         [0.48484416],\n",
       "         [0.52166144],\n",
       "         [0.53967686]],\n",
       " \n",
       "        [[0.59086362],\n",
       "         [0.59765513],\n",
       "         [0.53996283],\n",
       "         ...,\n",
       "         [0.52166144],\n",
       "         [0.53967686],\n",
       "         [0.54246496]]]),\n",
       " array([[0.13475836],\n",
       "        [0.12439235],\n",
       "        [0.11917357],\n",
       "        ...,\n",
       "        [0.53967686],\n",
       "        [0.54246496],\n",
       "        [0.51122393]]))"
      ]
     },
     "execution_count": 14,
     "metadata": {},
     "output_type": "execute_result"
    }
   ],
   "source": [
    "X_train, y_train"
   ]
  },
  {
   "cell_type": "code",
   "execution_count": 15,
   "id": "5cd01741",
   "metadata": {},
   "outputs": [
    {
     "data": {
      "text/plain": [
       "((1181, 20, 1), (1181, 1))"
      ]
     },
     "execution_count": 15,
     "metadata": {},
     "output_type": "execute_result"
    }
   ],
   "source": [
    "X_train.shape, y_train.shape"
   ]
  },
  {
   "cell_type": "code",
   "execution_count": 16,
   "id": "d36b381a",
   "metadata": {},
   "outputs": [
    {
     "name": "stdout",
     "output_type": "stream",
     "text": [
      "Epoch 1/200\n",
      "6/6 [==============================] - 10s 111ms/step - loss: 0.1052\n",
      "Epoch 2/200\n",
      "6/6 [==============================] - 1s 112ms/step - loss: 0.0283\n",
      "Epoch 3/200\n",
      "6/6 [==============================] - 1s 120ms/step - loss: 0.0175\n",
      "Epoch 4/200\n",
      "6/6 [==============================] - 1s 128ms/step - loss: 0.0087\n",
      "Epoch 5/200\n",
      "6/6 [==============================] - 1s 108ms/step - loss: 0.0065\n",
      "Epoch 6/200\n",
      "6/6 [==============================] - 1s 115ms/step - loss: 0.0043\n",
      "Epoch 7/200\n",
      "6/6 [==============================] - 1s 129ms/step - loss: 0.0034\n",
      "Epoch 8/200\n",
      "6/6 [==============================] - 1s 113ms/step - loss: 0.0032\n",
      "Epoch 9/200\n",
      "6/6 [==============================] - 1s 85ms/step - loss: 0.0030\n",
      "Epoch 10/200\n",
      "6/6 [==============================] - 0s 81ms/step - loss: 0.0028\n",
      "Epoch 11/200\n",
      "6/6 [==============================] - 0s 82ms/step - loss: 0.0028\n",
      "Epoch 12/200\n",
      "6/6 [==============================] - 0s 82ms/step - loss: 0.0027\n",
      "Epoch 13/200\n",
      "6/6 [==============================] - 0s 83ms/step - loss: 0.0027\n",
      "Epoch 14/200\n",
      "6/6 [==============================] - 0s 81ms/step - loss: 0.0027\n",
      "Epoch 15/200\n",
      "6/6 [==============================] - 1s 86ms/step - loss: 0.0027\n",
      "Epoch 16/200\n",
      "6/6 [==============================] - 1s 113ms/step - loss: 0.0027\n",
      "Epoch 17/200\n",
      "6/6 [==============================] - 1s 120ms/step - loss: 0.0026\n",
      "Epoch 18/200\n",
      "6/6 [==============================] - 1s 117ms/step - loss: 0.0026\n",
      "Epoch 19/200\n",
      "6/6 [==============================] - 1s 127ms/step - loss: 0.0026\n",
      "Epoch 20/200\n",
      "6/6 [==============================] - 1s 88ms/step - loss: 0.0026\n",
      "Epoch 21/200\n",
      "6/6 [==============================] - 1s 83ms/step - loss: 0.0025\n",
      "Epoch 22/200\n",
      "6/6 [==============================] - 1s 116ms/step - loss: 0.0025\n",
      "Epoch 23/200\n",
      "6/6 [==============================] - 1s 131ms/step - loss: 0.0025\n",
      "Epoch 24/200\n",
      "6/6 [==============================] - 1s 122ms/step - loss: 0.0025\n",
      "Epoch 25/200\n",
      "6/6 [==============================] - 1s 118ms/step - loss: 0.0025\n",
      "Epoch 26/200\n",
      "6/6 [==============================] - 1s 116ms/step - loss: 0.0024\n",
      "Epoch 27/200\n",
      "6/6 [==============================] - 1s 144ms/step - loss: 0.0025\n",
      "Epoch 28/200\n",
      "6/6 [==============================] - 1s 118ms/step - loss: 0.0024\n",
      "Epoch 29/200\n",
      "6/6 [==============================] - 0s 77ms/step - loss: 0.0024\n",
      "Epoch 30/200\n",
      "6/6 [==============================] - 1s 90ms/step - loss: 0.0023\n",
      "Epoch 31/200\n",
      "6/6 [==============================] - 1s 81ms/step - loss: 0.0023\n",
      "Epoch 32/200\n",
      "6/6 [==============================] - 1s 92ms/step - loss: 0.0023\n",
      "Epoch 33/200\n",
      "6/6 [==============================] - 0s 81ms/step - loss: 0.0023\n",
      "Epoch 34/200\n",
      "6/6 [==============================] - 0s 80ms/step - loss: 0.0022\n",
      "Epoch 35/200\n",
      "6/6 [==============================] - 0s 83ms/step - loss: 0.0022\n",
      "Epoch 36/200\n",
      "6/6 [==============================] - 0s 78ms/step - loss: 0.0022\n",
      "Epoch 37/200\n",
      "6/6 [==============================] - 0s 77ms/step - loss: 0.0022\n",
      "Epoch 38/200\n",
      "6/6 [==============================] - 0s 78ms/step - loss: 0.0021\n",
      "Epoch 39/200\n",
      "6/6 [==============================] - 0s 78ms/step - loss: 0.0022\n",
      "Epoch 40/200\n",
      "6/6 [==============================] - 0s 76ms/step - loss: 0.0021\n",
      "Epoch 41/200\n",
      "6/6 [==============================] - 0s 80ms/step - loss: 0.0020\n",
      "Epoch 42/200\n",
      "6/6 [==============================] - 0s 78ms/step - loss: 0.0020\n",
      "Epoch 43/200\n",
      "6/6 [==============================] - 0s 79ms/step - loss: 0.0020\n",
      "Epoch 44/200\n",
      "6/6 [==============================] - 0s 74ms/step - loss: 0.0019\n",
      "Epoch 45/200\n",
      "6/6 [==============================] - 0s 74ms/step - loss: 0.0019\n",
      "Epoch 46/200\n",
      "6/6 [==============================] - 1s 87ms/step - loss: 0.0019\n",
      "Epoch 47/200\n",
      "6/6 [==============================] - 0s 74ms/step - loss: 0.0018\n",
      "Epoch 48/200\n",
      "6/6 [==============================] - 0s 74ms/step - loss: 0.0018\n",
      "Epoch 49/200\n",
      "6/6 [==============================] - 0s 75ms/step - loss: 0.0018\n",
      "Epoch 50/200\n",
      "6/6 [==============================] - 0s 75ms/step - loss: 0.0018\n",
      "Epoch 51/200\n",
      "6/6 [==============================] - 0s 75ms/step - loss: 0.0017\n",
      "Epoch 52/200\n",
      "6/6 [==============================] - 0s 75ms/step - loss: 0.0017\n",
      "Epoch 53/200\n",
      "6/6 [==============================] - 0s 75ms/step - loss: 0.0016\n",
      "Epoch 54/200\n",
      "6/6 [==============================] - 0s 74ms/step - loss: 0.0017\n",
      "Epoch 55/200\n",
      "6/6 [==============================] - 0s 76ms/step - loss: 0.0017\n",
      "Epoch 56/200\n",
      "6/6 [==============================] - 0s 74ms/step - loss: 0.0017\n",
      "Epoch 57/200\n",
      "6/6 [==============================] - 0s 75ms/step - loss: 0.0016\n",
      "Epoch 58/200\n",
      "6/6 [==============================] - 0s 75ms/step - loss: 0.0016\n",
      "Epoch 59/200\n",
      "6/6 [==============================] - 0s 75ms/step - loss: 0.0016\n",
      "Epoch 60/200\n",
      "6/6 [==============================] - 0s 75ms/step - loss: 0.0016\n",
      "Epoch 61/200\n",
      "6/6 [==============================] - 0s 74ms/step - loss: 0.0016\n",
      "Epoch 62/200\n",
      "6/6 [==============================] - 0s 74ms/step - loss: 0.0015\n",
      "Epoch 63/200\n",
      "6/6 [==============================] - 0s 74ms/step - loss: 0.0015\n",
      "Epoch 64/200\n",
      "6/6 [==============================] - 0s 74ms/step - loss: 0.0016\n",
      "Epoch 65/200\n",
      "6/6 [==============================] - 0s 74ms/step - loss: 0.0015\n",
      "Epoch 66/200\n",
      "6/6 [==============================] - 0s 75ms/step - loss: 0.0016\n",
      "Epoch 67/200\n",
      "6/6 [==============================] - 0s 74ms/step - loss: 0.0015\n",
      "Epoch 68/200\n",
      "6/6 [==============================] - 0s 74ms/step - loss: 0.0015\n",
      "Epoch 69/200\n",
      "6/6 [==============================] - 0s 74ms/step - loss: 0.0015\n",
      "Epoch 70/200\n",
      "6/6 [==============================] - 0s 74ms/step - loss: 0.0015\n",
      "Epoch 71/200\n",
      "6/6 [==============================] - 0s 74ms/step - loss: 0.0015\n",
      "Epoch 72/200\n",
      "6/6 [==============================] - 0s 74ms/step - loss: 0.0014\n",
      "Epoch 73/200\n",
      "6/6 [==============================] - 0s 74ms/step - loss: 0.0014\n",
      "Epoch 74/200\n",
      "6/6 [==============================] - 0s 74ms/step - loss: 0.0014\n",
      "Epoch 75/200\n",
      "6/6 [==============================] - 0s 74ms/step - loss: 0.0015\n",
      "Epoch 76/200\n",
      "6/6 [==============================] - 0s 74ms/step - loss: 0.0015\n",
      "Epoch 77/200\n",
      "6/6 [==============================] - 0s 74ms/step - loss: 0.0014\n",
      "Epoch 78/200\n",
      "6/6 [==============================] - 0s 75ms/step - loss: 0.0013\n",
      "Epoch 79/200\n",
      "6/6 [==============================] - 0s 81ms/step - loss: 0.0014\n",
      "Epoch 80/200\n",
      "6/6 [==============================] - 1s 90ms/step - loss: 0.0013\n",
      "Epoch 81/200\n",
      "6/6 [==============================] - 1s 84ms/step - loss: 0.0013\n",
      "Epoch 82/200\n",
      "6/6 [==============================] - 0s 74ms/step - loss: 0.0013\n",
      "Epoch 83/200\n",
      "6/6 [==============================] - 0s 74ms/step - loss: 0.0013\n",
      "Epoch 84/200\n",
      "6/6 [==============================] - 0s 74ms/step - loss: 0.0013\n",
      "Epoch 85/200\n",
      "6/6 [==============================] - 0s 75ms/step - loss: 0.0012\n",
      "Epoch 86/200\n",
      "6/6 [==============================] - 0s 74ms/step - loss: 0.0013\n",
      "Epoch 87/200\n",
      "6/6 [==============================] - 0s 74ms/step - loss: 0.0013\n",
      "Epoch 88/200\n",
      "6/6 [==============================] - 0s 74ms/step - loss: 0.0012\n",
      "Epoch 89/200\n",
      "6/6 [==============================] - 0s 74ms/step - loss: 0.0012\n",
      "Epoch 90/200\n",
      "6/6 [==============================] - 0s 74ms/step - loss: 0.0012\n",
      "Epoch 91/200\n",
      "6/6 [==============================] - 0s 74ms/step - loss: 0.0011\n",
      "Epoch 92/200\n",
      "6/6 [==============================] - 0s 78ms/step - loss: 0.0012\n",
      "Epoch 93/200\n",
      "6/6 [==============================] - 0s 75ms/step - loss: 0.0012\n",
      "Epoch 94/200\n",
      "6/6 [==============================] - 0s 74ms/step - loss: 0.0011\n",
      "Epoch 95/200\n",
      "6/6 [==============================] - 0s 74ms/step - loss: 0.0011\n",
      "Epoch 96/200\n",
      "6/6 [==============================] - 0s 75ms/step - loss: 0.0011\n",
      "Epoch 97/200\n",
      "6/6 [==============================] - 0s 74ms/step - loss: 0.0011\n",
      "Epoch 98/200\n",
      "6/6 [==============================] - 0s 74ms/step - loss: 0.0010\n",
      "Epoch 99/200\n",
      "6/6 [==============================] - 0s 75ms/step - loss: 0.0010\n",
      "Epoch 100/200\n",
      "6/6 [==============================] - 0s 74ms/step - loss: 0.0010\n",
      "Epoch 101/200\n",
      "6/6 [==============================] - 0s 78ms/step - loss: 9.9455e-04\n",
      "Epoch 102/200\n",
      "6/6 [==============================] - 1s 97ms/step - loss: 0.0011\n",
      "Epoch 103/200\n"
     ]
    },
    {
     "name": "stdout",
     "output_type": "stream",
     "text": [
      "6/6 [==============================] - 0s 74ms/step - loss: 0.0010\n",
      "Epoch 104/200\n",
      "6/6 [==============================] - 0s 74ms/step - loss: 9.7564e-04\n",
      "Epoch 105/200\n",
      "6/6 [==============================] - 0s 75ms/step - loss: 0.0010\n",
      "Epoch 106/200\n",
      "6/6 [==============================] - 0s 74ms/step - loss: 9.7999e-04\n",
      "Epoch 107/200\n",
      "6/6 [==============================] - 0s 73ms/step - loss: 9.5227e-04\n",
      "Epoch 108/200\n",
      "6/6 [==============================] - 0s 74ms/step - loss: 9.5532e-04\n",
      "Epoch 109/200\n",
      "6/6 [==============================] - 0s 74ms/step - loss: 9.1717e-04\n",
      "Epoch 110/200\n",
      "6/6 [==============================] - 0s 75ms/step - loss: 9.4366e-04\n",
      "Epoch 111/200\n",
      "6/6 [==============================] - 0s 74ms/step - loss: 9.1206e-04\n",
      "Epoch 112/200\n",
      "6/6 [==============================] - 0s 81ms/step - loss: 9.0723e-04\n",
      "Epoch 113/200\n",
      "6/6 [==============================] - 1s 105ms/step - loss: 9.3275e-04\n",
      "Epoch 114/200\n",
      "6/6 [==============================] - 0s 74ms/step - loss: 9.3434e-04\n",
      "Epoch 115/200\n",
      "6/6 [==============================] - 0s 74ms/step - loss: 8.9607e-04\n",
      "Epoch 116/200\n",
      "6/6 [==============================] - 0s 74ms/step - loss: 8.8432e-04\n",
      "Epoch 117/200\n",
      "6/6 [==============================] - 0s 74ms/step - loss: 8.6093e-04\n",
      "Epoch 118/200\n",
      "6/6 [==============================] - 0s 76ms/step - loss: 8.7912e-04\n",
      "Epoch 119/200\n",
      "6/6 [==============================] - 0s 75ms/step - loss: 8.8101e-04\n",
      "Epoch 120/200\n",
      "6/6 [==============================] - 0s 73ms/step - loss: 8.6668e-04\n",
      "Epoch 121/200\n",
      "6/6 [==============================] - 0s 74ms/step - loss: 8.5810e-04\n",
      "Epoch 122/200\n",
      "6/6 [==============================] - 0s 74ms/step - loss: 8.5630e-04\n",
      "Epoch 123/200\n",
      "6/6 [==============================] - 0s 74ms/step - loss: 8.2806e-04\n",
      "Epoch 124/200\n",
      "6/6 [==============================] - 0s 74ms/step - loss: 7.9985e-04\n",
      "Epoch 125/200\n",
      "6/6 [==============================] - 0s 75ms/step - loss: 8.0448e-04\n",
      "Epoch 126/200\n",
      "6/6 [==============================] - 0s 75ms/step - loss: 8.0502e-04\n",
      "Epoch 127/200\n",
      "6/6 [==============================] - 0s 74ms/step - loss: 8.1038e-04\n",
      "Epoch 128/200\n",
      "6/6 [==============================] - 0s 74ms/step - loss: 8.0623e-04\n",
      "Epoch 129/200\n",
      "6/6 [==============================] - 0s 74ms/step - loss: 7.6412e-04\n",
      "Epoch 130/200\n",
      "6/6 [==============================] - 0s 74ms/step - loss: 7.8759e-04\n",
      "Epoch 131/200\n",
      "6/6 [==============================] - 0s 74ms/step - loss: 8.0532e-04\n",
      "Epoch 132/200\n",
      "6/6 [==============================] - 0s 71ms/step - loss: 9.8069e-04\n",
      "Epoch 133/200\n",
      "6/6 [==============================] - 0s 71ms/step - loss: 8.6659e-04\n",
      "Epoch 134/200\n",
      "6/6 [==============================] - 0s 71ms/step - loss: 8.9963e-04\n",
      "Epoch 135/200\n",
      "6/6 [==============================] - 0s 72ms/step - loss: 7.9551e-04\n",
      "Epoch 136/200\n",
      "6/6 [==============================] - 0s 74ms/step - loss: 9.4419e-04\n",
      "Epoch 137/200\n",
      "6/6 [==============================] - 0s 74ms/step - loss: 7.6675e-04\n",
      "Epoch 138/200\n",
      "6/6 [==============================] - 0s 75ms/step - loss: 8.2824e-04\n",
      "Epoch 139/200\n",
      "6/6 [==============================] - 0s 75ms/step - loss: 7.6707e-04\n",
      "Epoch 140/200\n",
      "6/6 [==============================] - 0s 74ms/step - loss: 8.5957e-04\n",
      "Epoch 141/200\n",
      "6/6 [==============================] - 0s 74ms/step - loss: 7.9964e-04\n",
      "Epoch 142/200\n",
      "6/6 [==============================] - 0s 74ms/step - loss: 7.2564e-04\n",
      "Epoch 143/200\n",
      "6/6 [==============================] - 0s 76ms/step - loss: 6.9573e-04\n",
      "Epoch 144/200\n",
      "6/6 [==============================] - 0s 74ms/step - loss: 7.0627e-04\n",
      "Epoch 145/200\n",
      "6/6 [==============================] - 0s 74ms/step - loss: 6.7942e-04\n",
      "Epoch 146/200\n",
      "6/6 [==============================] - 0s 74ms/step - loss: 7.1688e-04\n",
      "Epoch 147/200\n",
      "6/6 [==============================] - 0s 74ms/step - loss: 6.9949e-04\n",
      "Epoch 148/200\n",
      "6/6 [==============================] - 1s 93ms/step - loss: 6.6185e-04\n",
      "Epoch 149/200\n",
      "6/6 [==============================] - 0s 74ms/step - loss: 6.5767e-04\n",
      "Epoch 150/200\n",
      "6/6 [==============================] - 0s 74ms/step - loss: 6.5174e-04\n",
      "Epoch 151/200\n",
      "6/6 [==============================] - 0s 74ms/step - loss: 6.5419e-04\n",
      "Epoch 152/200\n",
      "6/6 [==============================] - 0s 74ms/step - loss: 7.1173e-04\n",
      "Epoch 153/200\n",
      "6/6 [==============================] - 0s 74ms/step - loss: 6.8076e-04\n",
      "Epoch 154/200\n",
      "6/6 [==============================] - 0s 75ms/step - loss: 7.2733e-04\n",
      "Epoch 155/200\n",
      "6/6 [==============================] - 0s 74ms/step - loss: 6.1914e-04\n",
      "Epoch 156/200\n",
      "6/6 [==============================] - 0s 74ms/step - loss: 6.9940e-04\n",
      "Epoch 157/200\n",
      "6/6 [==============================] - 0s 74ms/step - loss: 8.2018e-04\n",
      "Epoch 158/200\n",
      "6/6 [==============================] - 0s 74ms/step - loss: 6.6286e-04\n",
      "Epoch 159/200\n",
      "6/6 [==============================] - 0s 74ms/step - loss: 6.5343e-04\n",
      "Epoch 160/200\n",
      "6/6 [==============================] - 0s 74ms/step - loss: 6.6011e-04\n",
      "Epoch 161/200\n",
      "6/6 [==============================] - 0s 75ms/step - loss: 7.6705e-04\n",
      "Epoch 162/200\n",
      "6/6 [==============================] - 0s 74ms/step - loss: 8.3857e-04\n",
      "Epoch 163/200\n",
      "6/6 [==============================] - 0s 75ms/step - loss: 8.0201e-04\n",
      "Epoch 164/200\n",
      "6/6 [==============================] - 0s 74ms/step - loss: 6.7198e-04\n",
      "Epoch 165/200\n",
      "6/6 [==============================] - 0s 74ms/step - loss: 6.1704e-04\n",
      "Epoch 166/200\n",
      "6/6 [==============================] - 0s 74ms/step - loss: 6.2697e-04\n",
      "Epoch 167/200\n",
      "6/6 [==============================] - 0s 75ms/step - loss: 6.5251e-04\n",
      "Epoch 168/200\n",
      "6/6 [==============================] - 1s 84ms/step - loss: 6.4315e-04\n",
      "Epoch 169/200\n",
      "6/6 [==============================] - 0s 74ms/step - loss: 6.0867e-04\n",
      "Epoch 170/200\n",
      "6/6 [==============================] - 0s 74ms/step - loss: 5.6645e-04\n",
      "Epoch 171/200\n",
      "6/6 [==============================] - 0s 74ms/step - loss: 5.7736e-04\n",
      "Epoch 172/200\n",
      "6/6 [==============================] - 0s 74ms/step - loss: 5.6053e-04\n",
      "Epoch 173/200\n",
      "6/6 [==============================] - 0s 74ms/step - loss: 5.6114e-04\n",
      "Epoch 174/200\n",
      "6/6 [==============================] - 0s 74ms/step - loss: 5.5545e-04\n",
      "Epoch 175/200\n",
      "6/6 [==============================] - 0s 74ms/step - loss: 5.4161e-04\n",
      "Epoch 176/200\n",
      "6/6 [==============================] - 0s 77ms/step - loss: 5.7584e-04\n",
      "Epoch 177/200\n",
      "6/6 [==============================] - 0s 80ms/step - loss: 5.8593e-04\n",
      "Epoch 178/200\n",
      "6/6 [==============================] - 0s 80ms/step - loss: 5.6843e-04\n",
      "Epoch 179/200\n",
      "6/6 [==============================] - 0s 78ms/step - loss: 5.7056e-04\n",
      "Epoch 180/200\n",
      "6/6 [==============================] - 1s 101ms/step - loss: 5.6005e-04\n",
      "Epoch 181/200\n",
      "6/6 [==============================] - 1s 97ms/step - loss: 5.5221e-04\n",
      "Epoch 182/200\n",
      "6/6 [==============================] - 1s 93ms/step - loss: 5.7418e-04\n",
      "Epoch 183/200\n",
      "6/6 [==============================] - 1s 102ms/step - loss: 5.4051e-04\n",
      "Epoch 184/200\n",
      "6/6 [==============================] - 1s 84ms/step - loss: 5.5423e-04\n",
      "Epoch 185/200\n",
      "6/6 [==============================] - 1s 126ms/step - loss: 5.7270e-04\n",
      "Epoch 186/200\n",
      "6/6 [==============================] - 1s 130ms/step - loss: 6.2188e-04\n",
      "Epoch 187/200\n",
      "6/6 [==============================] - 1s 139ms/step - loss: 6.7010e-04\n",
      "Epoch 188/200\n",
      "6/6 [==============================] - 1s 91ms/step - loss: 5.6685e-04\n",
      "Epoch 189/200\n",
      "6/6 [==============================] - 1s 88ms/step - loss: 5.2294e-04\n",
      "Epoch 190/200\n",
      "6/6 [==============================] - 1s 84ms/step - loss: 5.3333e-04\n",
      "Epoch 191/200\n",
      "6/6 [==============================] - 1s 120ms/step - loss: 5.6995e-04\n",
      "Epoch 192/200\n",
      "6/6 [==============================] - 1s 93ms/step - loss: 6.7569e-04\n",
      "Epoch 193/200\n",
      "6/6 [==============================] - 1s 85ms/step - loss: 7.6973e-04\n",
      "Epoch 194/200\n",
      "6/6 [==============================] - 1s 93ms/step - loss: 7.3558e-04\n",
      "Epoch 195/200\n",
      "6/6 [==============================] - 1s 86ms/step - loss: 9.9474e-04\n",
      "Epoch 196/200\n",
      "6/6 [==============================] - 1s 114ms/step - loss: 8.6834e-04\n",
      "Epoch 197/200\n",
      "6/6 [==============================] - 1s 97ms/step - loss: 8.0704e-04\n",
      "Epoch 198/200\n",
      "6/6 [==============================] - 1s 90ms/step - loss: 8.5492e-04\n",
      "Epoch 199/200\n"
     ]
    },
    {
     "name": "stdout",
     "output_type": "stream",
     "text": [
      "6/6 [==============================] - 1s 98ms/step - loss: 7.2576e-04\n",
      "Epoch 200/200\n",
      "6/6 [==============================] - 1s 88ms/step - loss: 6.6904e-04\n"
     ]
    },
    {
     "data": {
      "text/plain": [
       "<keras.src.callbacks.History at 0x2449870fc10>"
      ]
     },
     "execution_count": 16,
     "metadata": {},
     "output_type": "execute_result"
    }
   ],
   "source": [
    "model = Sequential()\n",
    "model.add(LSTM(50, return_sequences=True, input_shape=(X_train.shape[1], 1)))\n",
    "model.add(LSTM(50, return_sequences=True))\n",
    "model.add(LSTM(50, return_sequences=False))\n",
    "model.add(Dense(25))\n",
    "model.add(Dense(1))\n",
    "\n",
    "model.compile(optimizer='adam', loss='mean_squared_error')\n",
    "model.fit(X_train, y_train, batch_size=200, epochs=200, verbose=1)\n",
    "\n",
    "# callback = tf.keras.callbacks.EarlyStopping(\n",
    "#     monitor='val_loss',\n",
    "#     min_delta=0,\n",
    "#     patience=0,\n",
    "#     verbose=0,\n",
    "#     mode='auto',\n",
    "#     baseline=None,\n",
    "#     restore_best_weights=False,\n",
    "#     start_from_epoch=0\n",
    "# )\n",
    "# model.fit(X_train, y_train, batch_size=200, epochs=500, verbose=1, callbacks=[callback])"
   ]
  },
  {
   "cell_type": "code",
   "execution_count": 17,
   "id": "12e2ae5e",
   "metadata": {
    "scrolled": true
   },
   "outputs": [
    {
     "name": "stdout",
     "output_type": "stream",
     "text": [
      "37/37 [==============================] - 3s 12ms/step\n"
     ]
    }
   ],
   "source": [
    "pred_train = model.predict(X_train)"
   ]
  },
  {
   "cell_type": "code",
   "execution_count": 18,
   "id": "0d5c1469",
   "metadata": {},
   "outputs": [
    {
     "data": {
      "text/plain": [
       "array([[0.12272314],\n",
       "       [0.12275222],\n",
       "       [0.1217676 ],\n",
       "       ...,\n",
       "       [0.48470268],\n",
       "       [0.5140433 ],\n",
       "       [0.5293049 ]], dtype=float32)"
      ]
     },
     "execution_count": 18,
     "metadata": {},
     "output_type": "execute_result"
    }
   ],
   "source": [
    "pred_train"
   ]
  },
  {
   "cell_type": "code",
   "execution_count": 19,
   "id": "b513ec61",
   "metadata": {},
   "outputs": [
    {
     "name": "stdout",
     "output_type": "stream",
     "text": [
      "mean absolute error- 0.02112928760887061\n",
      "mean squared error- 0.0008659130835220726\n"
     ]
    }
   ],
   "source": [
    "mae = mean_absolute_error(y_train, pred_train)\n",
    "print('mean absolute error-', mae)\n",
    "mse = mean_squared_error(y_train, pred_train)\n",
    "print('mean squared error-', mse)"
   ]
  },
  {
   "cell_type": "code",
   "execution_count": 20,
   "id": "ce0baf19",
   "metadata": {},
   "outputs": [
    {
     "data": {
      "text/plain": [
       "<matplotlib.legend.Legend at 0x244999391d0>"
      ]
     },
     "execution_count": 20,
     "metadata": {},
     "output_type": "execute_result"
    },
    {
     "data": {
      "image/png": "[encoded data removed]",
      "text/plain": [
       "<Figure size 640x480 with 1 Axes>"
      ]
     },
     "metadata": {},
     "output_type": "display_data"
    }
   ],
   "source": [
    "plt.title(f\"{ticker}'s Prediction from {start_date} to {end_date}\\n Actual vs. Predicted on Training Data\")\n",
    "plt.xlabel('Days')\n",
    "plt.ylabel('Price')\n",
    "plt.plot(y_train, color='blue', label='actual')\n",
    "plt.plot(pred_train, color='red', label='predicted')\n",
    "plt.legend()"
   ]
  },
  {
   "cell_type": "code",
   "execution_count": 21,
   "id": "7e7be93a",
   "metadata": {},
   "outputs": [
    {
     "name": "stdout",
     "output_type": "stream",
     "text": [
      "9/9 [==============================] - 0s 13ms/step\n"
     ]
    }
   ],
   "source": [
    "pred_test = model.predict(X_test)"
   ]
  },
  {
   "cell_type": "code",
   "execution_count": 22,
   "id": "f62663ff",
   "metadata": {},
   "outputs": [
    {
     "name": "stdout",
     "output_type": "stream",
     "text": [
      "mean absolute error- 0.021996352129599137\n",
      "mean squared error- 0.0007534890548964485\n"
     ]
    }
   ],
   "source": [
    "mae = mean_absolute_error(y_test, pred_test)\n",
    "print('mean absolute error-', mae)\n",
    "mse = mean_squared_error(y_test, pred_test)\n",
    "print('mean squared error-', mse)"
   ]
  },
  {
   "cell_type": "code",
   "execution_count": 23,
   "id": "dce7e9a0",
   "metadata": {},
   "outputs": [
    {
     "data": {
      "text/plain": [
       "<matplotlib.legend.Legend at 0x244a4591390>"
      ]
     },
     "execution_count": 23,
     "metadata": {},
     "output_type": "execute_result"
    },
    {
     "data": {
      "image/png": "[encoded data removed]",
      "text/plain": [
       "<Figure size 640x480 with 1 Axes>"
      ]
     },
     "metadata": {},
     "output_type": "display_data"
    }
   ],
   "source": [
    "plt.title(f\"{ticker}'s Prediction from {start_date} to {end_date}\\n Actual vs. Predicted on Training Data\")\n",
    "plt.xlabel('Days')\n",
    "plt.ylabel('Price')\n",
    "plt.plot(y_test, color='green', label='actual')\n",
    "plt.plot(pred_test, color='orange', label='predicted')\n",
    "plt.legend()"
   ]
  },
  {
   "cell_type": "code",
   "execution_count": 26,
   "id": "75846d04",
   "metadata": {},
   "outputs": [
    {
     "name": "stdout",
     "output_type": "stream",
     "text": [
      "[*********************100%***********************]  1 of 1 completed\n"
     ]
    },
    {
     "data": {
      "text/plain": [
       "0    140.440002\n",
       "1    142.440002\n",
       "2    143.490005\n",
       "3    145.460007\n",
       "4    145.720001\n",
       "5    145.860001\n",
       "6    144.630005\n",
       "Name: Close, dtype: float64"
      ]
     },
     "execution_count": 26,
     "metadata": {},
     "output_type": "execute_result"
    }
   ],
   "source": [
    "ticker = 'QCOM'\n",
    "start_date = '2023-12-20'\n",
    "end_date = '2023-12-30'\n",
    "df_future = yf.download(ticker, start_date, end_date).reset_index()['Close']\n",
    "df_future"
   ]
  },
  {
   "cell_type": "code",
   "execution_count": 27,
   "id": "65dd9002",
   "metadata": {},
   "outputs": [],
   "source": [
    "df_future = df_future.values"
   ]
  },
  {
   "cell_type": "code",
   "execution_count": 28,
   "id": "97ee7a64",
   "metadata": {},
   "outputs": [
    {
     "data": {
      "text/plain": [
       "array([127.01999664, 127.5       , 127.75      , 128.19999695,\n",
       "       126.58999634, 127.91000366, 129.05000305, 129.66999817,\n",
       "       129.94999695, 130.75      , 129.96000671, 132.94000244,\n",
       "       132.97000122, 136.1000061 , 136.67999268, 138.80000305,\n",
       "       141.5       , 143.13000488, 141.6499939 , 143.22999573])"
      ]
     },
     "execution_count": 28,
     "metadata": {},
     "output_type": "execute_result"
    }
   ],
   "source": [
    "future_data_to_predict = np.array(close[-20:])\n",
    "future_data_to_predict"
   ]
  },
  {
   "cell_type": "code",
   "execution_count": 29,
   "id": "bfb2ddfc",
   "metadata": {},
   "outputs": [
    {
     "data": {
      "text/plain": [
       "143.22999572753906"
      ]
     },
     "execution_count": 29,
     "metadata": {},
     "output_type": "execute_result"
    }
   ],
   "source": [
    "last_val = future_data_to_predict[-1]\n",
    "last_val"
   ]
  },
  {
   "cell_type": "markdown",
   "id": "6566cf7e",
   "metadata": {},
   "source": [
    "---------------------------------------------------------------------------------------------------------------------------"
   ]
  },
  {
   "cell_type": "code",
   "execution_count": 30,
   "id": "2e40312e",
   "metadata": {},
   "outputs": [],
   "source": [
    "def prediction(future_data, last_val, days):\n",
    "    \n",
    "    output_data = []\n",
    "    new_arr = []\n",
    "\n",
    "    for i in range(days):\n",
    "        \n",
    "        if future_data[-1] == last_val:\n",
    "            print('no')\n",
    "            print('before',future_data)\n",
    "            temp = scaler.transform(future_data.reshape(-1, 1))\n",
    "            temp_scaled_reshape = temp.reshape(1, 20, 1)\n",
    "            predicted_value = model.predict(temp_scaled_reshape)\n",
    "            actual_predicted = scaler.inverse_transform(predicted_value.reshape(1,-1))\n",
    "            output_data.append(actual_predicted[0,0])\n",
    "            print('output',actual_predicted[0,0])\n",
    "            future_data = future_data[1:]\n",
    "            future_data = np.append(future_data,actual_predicted)\n",
    "            print('after',future_data)\n",
    "        else:\n",
    "            print('yes')\n",
    "            print('before',future_data)\n",
    "            temp = scaler.transform(future_data.reshape(-1, 1))\n",
    "            temp_scaled_reshape = temp.reshape(1, 20, 1)\n",
    "            predicted_value = model.predict(temp_scaled_reshape)\n",
    "            actual_predicted = scaler.inverse_transform(predicted_value.reshape(1,-1))\n",
    "            output_data.append(actual_predicted[0,0])\n",
    "            print('output',actual_predicted[0,0])\n",
    "            future_data = future_data[1:]\n",
    "            future_data = np.append(future_data,actual_predicted)\n",
    "            print('after',future_data)\n",
    "\n",
    "    return output_data\n",
    "    "
   ]
  },
  {
   "cell_type": "code",
   "execution_count": 31,
   "id": "7ea91f79",
   "metadata": {},
   "outputs": [
    {
     "name": "stdout",
     "output_type": "stream",
     "text": [
      "no\n",
      "before [127.01999664 127.5        127.75       128.19999695 126.58999634\n",
      " 127.91000366 129.05000305 129.66999817 129.94999695 130.75\n",
      " 129.96000671 132.94000244 132.97000122 136.1000061  136.67999268\n",
      " 138.80000305 141.5        143.13000488 141.6499939  143.22999573]\n",
      "1/1 [==============================] - 0s 56ms/step\n",
      "output 139.03032\n",
      "after [127.5        127.75       128.19999695 126.58999634 127.91000366\n",
      " 129.05000305 129.66999817 129.94999695 130.75       129.96000671\n",
      " 132.94000244 132.97000122 136.1000061  136.67999268 138.80000305\n",
      " 141.5        143.13000488 141.6499939  143.22999573 139.03031921]\n",
      "yes\n",
      "before [127.5        127.75       128.19999695 126.58999634 127.91000366\n",
      " 129.05000305 129.66999817 129.94999695 130.75       129.96000671\n",
      " 132.94000244 132.97000122 136.1000061  136.67999268 138.80000305\n",
      " 141.5        143.13000488 141.6499939  143.22999573 139.03031921]\n",
      "1/1 [==============================] - 0s 63ms/step\n",
      "output 136.7365\n",
      "after [127.75       128.19999695 126.58999634 127.91000366 129.05000305\n",
      " 129.66999817 129.94999695 130.75       129.96000671 132.94000244\n",
      " 132.97000122 136.1000061  136.67999268 138.80000305 141.5\n",
      " 143.13000488 141.6499939  143.22999573 139.03031921 136.73649597]\n",
      "yes\n",
      "before [127.75       128.19999695 126.58999634 127.91000366 129.05000305\n",
      " 129.66999817 129.94999695 130.75       129.96000671 132.94000244\n",
      " 132.97000122 136.1000061  136.67999268 138.80000305 141.5\n",
      " 143.13000488 141.6499939  143.22999573 139.03031921 136.73649597]\n",
      "1/1 [==============================] - 0s 44ms/step\n",
      "output 133.99937\n",
      "after [128.19999695 126.58999634 127.91000366 129.05000305 129.66999817\n",
      " 129.94999695 130.75       129.96000671 132.94000244 132.97000122\n",
      " 136.1000061  136.67999268 138.80000305 141.5        143.13000488\n",
      " 141.6499939  143.22999573 139.03031921 136.73649597 133.99937439]\n",
      "yes\n",
      "before [128.19999695 126.58999634 127.91000366 129.05000305 129.66999817\n",
      " 129.94999695 130.75       129.96000671 132.94000244 132.97000122\n",
      " 136.1000061  136.67999268 138.80000305 141.5        143.13000488\n",
      " 141.6499939  143.22999573 139.03031921 136.73649597 133.99937439]\n",
      "1/1 [==============================] - 0s 38ms/step\n",
      "output 131.3092\n",
      "after [126.58999634 127.91000366 129.05000305 129.66999817 129.94999695\n",
      " 130.75       129.96000671 132.94000244 132.97000122 136.1000061\n",
      " 136.67999268 138.80000305 141.5        143.13000488 141.6499939\n",
      " 143.22999573 139.03031921 136.73649597 133.99937439 131.3092041 ]\n",
      "yes\n",
      "before [126.58999634 127.91000366 129.05000305 129.66999817 129.94999695\n",
      " 130.75       129.96000671 132.94000244 132.97000122 136.1000061\n",
      " 136.67999268 138.80000305 141.5        143.13000488 141.6499939\n",
      " 143.22999573 139.03031921 136.73649597 133.99937439 131.3092041 ]\n",
      "1/1 [==============================] - 0s 41ms/step\n",
      "output 128.78845\n",
      "after [127.91000366 129.05000305 129.66999817 129.94999695 130.75\n",
      " 129.96000671 132.94000244 132.97000122 136.1000061  136.67999268\n",
      " 138.80000305 141.5        143.13000488 141.6499939  143.22999573\n",
      " 139.03031921 136.73649597 133.99937439 131.3092041  128.78845215]\n",
      "yes\n",
      "before [127.91000366 129.05000305 129.66999817 129.94999695 130.75\n",
      " 129.96000671 132.94000244 132.97000122 136.1000061  136.67999268\n",
      " 138.80000305 141.5        143.13000488 141.6499939  143.22999573\n",
      " 139.03031921 136.73649597 133.99937439 131.3092041  128.78845215]\n",
      "1/1 [==============================] - 0s 44ms/step\n",
      "output 126.49831\n",
      "after [129.05000305 129.66999817 129.94999695 130.75       129.96000671\n",
      " 132.94000244 132.97000122 136.1000061  136.67999268 138.80000305\n",
      " 141.5        143.13000488 141.6499939  143.22999573 139.03031921\n",
      " 136.73649597 133.99937439 131.3092041  128.78845215 126.49830627]\n",
      "yes\n",
      "before [129.05000305 129.66999817 129.94999695 130.75       129.96000671\n",
      " 132.94000244 132.97000122 136.1000061  136.67999268 138.80000305\n",
      " 141.5        143.13000488 141.6499939  143.22999573 139.03031921\n",
      " 136.73649597 133.99937439 131.3092041  128.78845215 126.49830627]\n",
      "1/1 [==============================] - 0s 33ms/step\n",
      "output 124.46697\n",
      "after [129.66999817 129.94999695 130.75       129.96000671 132.94000244\n",
      " 132.97000122 136.1000061  136.67999268 138.80000305 141.5\n",
      " 143.13000488 141.6499939  143.22999573 139.03031921 136.73649597\n",
      " 133.99937439 131.3092041  128.78845215 126.49830627 124.46697235]\n"
     ]
    },
    {
     "data": {
      "text/plain": [
       "list"
      ]
     },
     "execution_count": 31,
     "metadata": {},
     "output_type": "execute_result"
    }
   ],
   "source": [
    "result = prediction(future_data_to_predict[-20:], last_val, len(df_future))\n",
    "result"
   ]
  },
  {
   "cell_type": "code",
   "execution_count": 33,
   "id": "ad293520",
   "metadata": {},
   "outputs": [
    {
     "data": {
      "text/plain": [
       "<matplotlib.legend.Legend at 0x244a4dcfcd0>"
      ]
     },
     "execution_count": 33,
     "metadata": {},
     "output_type": "execute_result"
    },
    {
     "data": {
      "image/png": "[encoded data removed]",
      "text/plain": [
       "<Figure size 640x480 with 1 Axes>"
      ]
     },
     "metadata": {},
     "output_type": "display_data"
    }
   ],
   "source": [
    "plt.title(f\"{ticker}'s Prediction For Next {len(df_future)} Days\")\n",
    "plt.xlabel('Days')\n",
    "plt.ylabel('Price')\n",
    "plt.plot(df_future, color='orange', label='actual')\n",
    "plt.plot(result, color='green', label='predicted')\n",
    "plt.legend()"
   ]
  },
  {
   "cell_type": "code",
   "execution_count": 138,
   "id": "936795cf",
   "metadata": {},
   "outputs": [],
   "source": [
    "def get_control_vector(val):\n",
    "    return np.diff(np.sign(np.diff(val)))\n",
    "\n",
    "def buy_and_sell_bot(val,controls):\n",
    "    inv = []\n",
    "    curr_val = 1000\n",
    "    print(\"*******************\",np.where(controls))\n",
    "    \n",
    "#     inds = np.where(controls)[0]\n",
    "#     print(inds)\n",
    "#     buy_inds = np.where(controls>0)[0]\n",
    "#     sell_inds = np.where(controls<0)[0]\n",
    "#     max_limit = sell_inds[-1] if sell_inds[-1]>buy_inds[-1] else buy_inds[-1]\n",
    "#     for i in range(buy_inds[0]+2):\n",
    "#         inv.append(curr_val)\n",
    "#     for i in range(buy_inds[0],max_limit+1):\n",
    "#         if controls[i]>0:\n",
    "#             buy_val = val[i+1]\n",
    "#         elif controls[i]<0:\n",
    "#             sell_val = val[i+1]\n",
    "#             curr_val = curr_val*sell_val/buy_val\n",
    "#         inv.append(curr_val)\n",
    "        \n",
    "#     if max_limit+1!=len(controls):\n",
    "#         for i in range(len(controls)-max_limit-1):\n",
    "#             inv.append(curr_val)\n",
    "#     return inv"
   ]
  },
  {
   "cell_type": "code",
   "execution_count": 139,
   "id": "c7913e0a",
   "metadata": {},
   "outputs": [],
   "source": [
    "# controls_actual = get_control_vector(df_future)\n",
    "# amount_actual = buy_and_sell_bot(future_data, controls_actual)\n",
    "# controls_actual,amount_actual"
   ]
  },
  {
   "cell_type": "code",
   "execution_count": 156,
   "id": "65bcbbd8",
   "metadata": {},
   "outputs": [
    {
     "data": {
      "text/plain": [
       "(array([1., 1., 1., 1., 1., 1.], dtype=float32),\n",
       " array([ 1., -1., -1., -1.,  1., -1.]))"
      ]
     },
     "execution_count": 156,
     "metadata": {},
     "output_type": "execute_result"
    }
   ],
   "source": [
    "controls_pred= get_control_vector(np.array(result))\n",
    "# amount_pred = buy_and_sell_bot(result, controls_pred)\n",
    "# amount_pred,\n",
    "np.sign(np.diff(np.array(result))), np.sign(np.diff(df_future))"
   ]
  },
  {
   "cell_type": "code",
   "execution_count": 154,
   "id": "6402e230",
   "metadata": {},
   "outputs": [
    {
     "data": {
      "text/plain": [
       "array([152.11999512, 153.83999634, 153.41999817, 153.41000366,\n",
       "       153.33999634, 153.38000488, 151.94000244])"
      ]
     },
     "execution_count": 154,
     "metadata": {},
     "output_type": "execute_result"
    }
   ],
   "source": [
    "df_future"
   ]
  },
  {
   "cell_type": "code",
   "execution_count": 155,
   "id": "e01d59d5",
   "metadata": {},
   "outputs": [
    {
     "data": {
      "text/plain": [
       "array([153.55403, 154.67691, 155.34634, 155.79456, 156.12683, 156.38371,\n",
       "       156.59152], dtype=float32)"
      ]
     },
     "execution_count": 155,
     "metadata": {},
     "output_type": "execute_result"
    }
   ],
   "source": [
    "result = np.array(result)\n",
    "result"
   ]
  },
  {
   "cell_type": "code",
   "execution_count": null,
   "id": "e1953645",
   "metadata": {},
   "outputs": [],
   "source": []
  }
 ],
 "metadata": {
  "kernelspec": {
   "display_name": "Python 3 (ipykernel)",
   "language": "python",
   "name": "python3"
  },
  "language_info": {
   "codemirror_mode": {
    "name": "ipython",
    "version": 3
   },
   "file_extension": ".py",
   "mimetype": "text/x-python",
   "name": "python",
   "nbconvert_exporter": "python",
   "pygments_lexer": "ipython3",
   "version": "3.11.4"
  }
 },
 "nbformat": 4,
 "nbformat_minor": 5
}
