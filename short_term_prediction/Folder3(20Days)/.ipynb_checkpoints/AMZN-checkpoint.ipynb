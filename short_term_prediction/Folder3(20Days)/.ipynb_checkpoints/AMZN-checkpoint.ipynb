{
 "cells": [
  {
   "cell_type": "code",
   "execution_count": 1,
   "id": "fc6b9692",
   "metadata": {},
   "outputs": [],
   "source": [
    "import numpy as np\n",
    "import pandas as pd\n",
    "import yfinance as yf\n",
    "import matplotlib.pyplot as plt\n",
    "from sklearn.preprocessing import MinMaxScaler\n",
    "from keras.models import Sequential\n",
    "from keras.layers import LSTM, Dense\n",
    "import tensorflow as tf\n",
    "from sklearn.metrics import mean_squared_error, mean_absolute_error, accuracy_score\n",
    "from math import sqrt"
   ]
  },
  {
   "cell_type": "code",
   "execution_count": 7,
   "id": "b85b7fbc",
   "metadata": {},
   "outputs": [],
   "source": [
    "ticker = 'AMZN'\n",
    "start_date = '2018-01-01'\n",
    "end_date = '2023-10-30'"
   ]
  },
  {
   "cell_type": "code",
   "execution_count": 8,
   "id": "b386cf97",
   "metadata": {},
   "outputs": [
    {
     "name": "stdout",
     "output_type": "stream",
     "text": [
      "[*********************100%***********************]  1 of 1 completed\n"
     ]
    },
    {
     "data": {
      "text/html": [
       "<div>\n",
       "<style scoped>\n",
       "    .dataframe tbody tr th:only-of-type {\n",
       "        vertical-align: middle;\n",
       "    }\n",
       "\n",
       "    .dataframe tbody tr th {\n",
       "        vertical-align: top;\n",
       "    }\n",
       "\n",
       "    .dataframe thead th {\n",
       "        text-align: right;\n",
       "    }\n",
       "</style>\n",
       "<table border=\"1\" class=\"dataframe\">\n",
       "  <thead>\n",
       "    <tr style=\"text-align: right;\">\n",
       "      <th></th>\n",
       "      <th>Date</th>\n",
       "      <th>Open</th>\n",
       "      <th>High</th>\n",
       "      <th>Low</th>\n",
       "      <th>Close</th>\n",
       "      <th>Adj Close</th>\n",
       "      <th>Volume</th>\n",
       "    </tr>\n",
       "  </thead>\n",
       "  <tbody>\n",
       "    <tr>\n",
       "      <th>0</th>\n",
       "      <td>2018-01-02</td>\n",
       "      <td>58.599998</td>\n",
       "      <td>59.500000</td>\n",
       "      <td>58.525501</td>\n",
       "      <td>59.450500</td>\n",
       "      <td>59.450500</td>\n",
       "      <td>53890000</td>\n",
       "    </tr>\n",
       "    <tr>\n",
       "      <th>1</th>\n",
       "      <td>2018-01-03</td>\n",
       "      <td>59.415001</td>\n",
       "      <td>60.274502</td>\n",
       "      <td>59.415001</td>\n",
       "      <td>60.209999</td>\n",
       "      <td>60.209999</td>\n",
       "      <td>62176000</td>\n",
       "    </tr>\n",
       "    <tr>\n",
       "      <th>2</th>\n",
       "      <td>2018-01-04</td>\n",
       "      <td>60.250000</td>\n",
       "      <td>60.793499</td>\n",
       "      <td>60.233002</td>\n",
       "      <td>60.479500</td>\n",
       "      <td>60.479500</td>\n",
       "      <td>60442000</td>\n",
       "    </tr>\n",
       "    <tr>\n",
       "      <th>3</th>\n",
       "      <td>2018-01-05</td>\n",
       "      <td>60.875500</td>\n",
       "      <td>61.457001</td>\n",
       "      <td>60.500000</td>\n",
       "      <td>61.457001</td>\n",
       "      <td>61.457001</td>\n",
       "      <td>70894000</td>\n",
       "    </tr>\n",
       "    <tr>\n",
       "      <th>4</th>\n",
       "      <td>2018-01-08</td>\n",
       "      <td>61.799999</td>\n",
       "      <td>62.653999</td>\n",
       "      <td>61.601501</td>\n",
       "      <td>62.343498</td>\n",
       "      <td>62.343498</td>\n",
       "      <td>85590000</td>\n",
       "    </tr>\n",
       "    <tr>\n",
       "      <th>...</th>\n",
       "      <td>...</td>\n",
       "      <td>...</td>\n",
       "      <td>...</td>\n",
       "      <td>...</td>\n",
       "      <td>...</td>\n",
       "      <td>...</td>\n",
       "      <td>...</td>\n",
       "    </tr>\n",
       "    <tr>\n",
       "      <th>1461</th>\n",
       "      <td>2023-10-23</td>\n",
       "      <td>124.629997</td>\n",
       "      <td>127.879997</td>\n",
       "      <td>123.980003</td>\n",
       "      <td>126.559998</td>\n",
       "      <td>126.559998</td>\n",
       "      <td>48260000</td>\n",
       "    </tr>\n",
       "    <tr>\n",
       "      <th>1462</th>\n",
       "      <td>2023-10-24</td>\n",
       "      <td>127.739998</td>\n",
       "      <td>128.800003</td>\n",
       "      <td>126.339996</td>\n",
       "      <td>128.559998</td>\n",
       "      <td>128.559998</td>\n",
       "      <td>46477400</td>\n",
       "    </tr>\n",
       "    <tr>\n",
       "      <th>1463</th>\n",
       "      <td>2023-10-25</td>\n",
       "      <td>126.040001</td>\n",
       "      <td>126.339996</td>\n",
       "      <td>120.790001</td>\n",
       "      <td>121.389999</td>\n",
       "      <td>121.389999</td>\n",
       "      <td>74577500</td>\n",
       "    </tr>\n",
       "    <tr>\n",
       "      <th>1464</th>\n",
       "      <td>2023-10-26</td>\n",
       "      <td>120.629997</td>\n",
       "      <td>121.639999</td>\n",
       "      <td>118.349998</td>\n",
       "      <td>119.570000</td>\n",
       "      <td>119.570000</td>\n",
       "      <td>100419500</td>\n",
       "    </tr>\n",
       "    <tr>\n",
       "      <th>1465</th>\n",
       "      <td>2023-10-27</td>\n",
       "      <td>126.199997</td>\n",
       "      <td>130.020004</td>\n",
       "      <td>125.519997</td>\n",
       "      <td>127.739998</td>\n",
       "      <td>127.739998</td>\n",
       "      <td>125309300</td>\n",
       "    </tr>\n",
       "  </tbody>\n",
       "</table>\n",
       "<p>1466 rows × 7 columns</p>\n",
       "</div>"
      ],
      "text/plain": [
       "           Date        Open        High         Low       Close   Adj Close  \\\n",
       "0    2018-01-02   58.599998   59.500000   58.525501   59.450500   59.450500   \n",
       "1    2018-01-03   59.415001   60.274502   59.415001   60.209999   60.209999   \n",
       "2    2018-01-04   60.250000   60.793499   60.233002   60.479500   60.479500   \n",
       "3    2018-01-05   60.875500   61.457001   60.500000   61.457001   61.457001   \n",
       "4    2018-01-08   61.799999   62.653999   61.601501   62.343498   62.343498   \n",
       "...         ...         ...         ...         ...         ...         ...   \n",
       "1461 2023-10-23  124.629997  127.879997  123.980003  126.559998  126.559998   \n",
       "1462 2023-10-24  127.739998  128.800003  126.339996  128.559998  128.559998   \n",
       "1463 2023-10-25  126.040001  126.339996  120.790001  121.389999  121.389999   \n",
       "1464 2023-10-26  120.629997  121.639999  118.349998  119.570000  119.570000   \n",
       "1465 2023-10-27  126.199997  130.020004  125.519997  127.739998  127.739998   \n",
       "\n",
       "         Volume  \n",
       "0      53890000  \n",
       "1      62176000  \n",
       "2      60442000  \n",
       "3      70894000  \n",
       "4      85590000  \n",
       "...         ...  \n",
       "1461   48260000  \n",
       "1462   46477400  \n",
       "1463   74577500  \n",
       "1464  100419500  \n",
       "1465  125309300  \n",
       "\n",
       "[1466 rows x 7 columns]"
      ]
     },
     "execution_count": 8,
     "metadata": {},
     "output_type": "execute_result"
    }
   ],
   "source": [
    "df = yf.download(ticker, start_date, end_date).reset_index()\n",
    "df"
   ]
  },
  {
   "cell_type": "code",
   "execution_count": 9,
   "id": "9fb331be",
   "metadata": {},
   "outputs": [],
   "source": [
    "close = df['Close']"
   ]
  },
  {
   "cell_type": "code",
   "execution_count": 10,
   "id": "c57616bc",
   "metadata": {},
   "outputs": [
    {
     "name": "stdout",
     "output_type": "stream",
     "text": [
      "[ 59.45050049  60.20999908  60.47949982 ... 121.38999939 119.56999969\n",
      " 127.73999786]\n"
     ]
    }
   ],
   "source": [
    "print(close.values)"
   ]
  },
  {
   "cell_type": "code",
   "execution_count": 11,
   "id": "625da953",
   "metadata": {},
   "outputs": [
    {
     "data": {
      "text/plain": [
       "array([[0.        ],\n",
       "       [0.00597466],\n",
       "       [0.00809471],\n",
       "       ...,\n",
       "       [0.48725221],\n",
       "       [0.47293503],\n",
       "       [0.537205  ]])"
      ]
     },
     "execution_count": 11,
     "metadata": {},
     "output_type": "execute_result"
    }
   ],
   "source": [
    "scaler = MinMaxScaler()\n",
    "data = scaler.fit_transform(close.values.reshape(-1, 1))\n",
    "data"
   ]
  },
  {
   "cell_type": "code",
   "execution_count": 12,
   "id": "77f1ba06",
   "metadata": {},
   "outputs": [
    {
     "data": {
      "text/plain": [
       "((1172, 1), (294, 1))"
      ]
     },
     "execution_count": 12,
     "metadata": {},
     "output_type": "execute_result"
    }
   ],
   "source": [
    "train_data = data[:int(len(data)*0.8)]\n",
    "test_data = data[int(len(data)*0.8):]\n",
    "train_data.shape, test_data.shape"
   ]
  },
  {
   "cell_type": "code",
   "execution_count": 13,
   "id": "8ee03551",
   "metadata": {},
   "outputs": [
    {
     "data": {
      "text/plain": [
       "array([0.4323435])"
      ]
     },
     "execution_count": 13,
     "metadata": {},
     "output_type": "execute_result"
    }
   ],
   "source": [
    "test_data[20]"
   ]
  },
  {
   "cell_type": "code",
   "execution_count": 14,
   "id": "9e65d13f",
   "metadata": {},
   "outputs": [],
   "source": [
    "past_values = 20\n",
    "def data_preparation(data,past_values):\n",
    "    X = []\n",
    "    y = []\n",
    "    for i in range(past_values, len(data)):\n",
    "        X.append(data[i-20:i])\n",
    "        y.append(data[i])\n",
    "    return np.array(X), np.array(y)"
   ]
  },
  {
   "cell_type": "code",
   "execution_count": 15,
   "id": "a360d6db",
   "metadata": {},
   "outputs": [],
   "source": [
    "X_train, y_train = data_preparation(train_data,past_values)\n",
    "X_test, y_test = data_preparation(test_data,past_values)"
   ]
  },
  {
   "cell_type": "code",
   "execution_count": 16,
   "id": "a0680369",
   "metadata": {},
   "outputs": [
    {
     "data": {
      "text/plain": [
       "(array([[[0.        ],\n",
       "         [0.00597466],\n",
       "         [0.00809471],\n",
       "         ...,\n",
       "         [0.08379485],\n",
       "         [0.08994259],\n",
       "         [0.09786421]],\n",
       " \n",
       "        [[0.00597466],\n",
       "         [0.00809471],\n",
       "         [0.0157843 ],\n",
       "         ...,\n",
       "         [0.08994259],\n",
       "         [0.09786421],\n",
       "         [0.10300505]],\n",
       " \n",
       "        [[0.00809471],\n",
       "         [0.0157843 ],\n",
       "         [0.02275801],\n",
       "         ...,\n",
       "         [0.09786421],\n",
       "         [0.10300505],\n",
       "         [0.07905522]],\n",
       " \n",
       "        ...,\n",
       " \n",
       "        [[0.48394826],\n",
       "         [0.49425347],\n",
       "         [0.59392306],\n",
       "         ...,\n",
       "         [0.61972544],\n",
       "         [0.5803139 ],\n",
       "         [0.58346049]],\n",
       " \n",
       "        [[0.49425347],\n",
       "         [0.59392306],\n",
       "         [0.59738438],\n",
       "         ...,\n",
       "         [0.5803139 ],\n",
       "         [0.58346049],\n",
       "         [0.58487654]],\n",
       " \n",
       "        [[0.59392306],\n",
       "         [0.59738438],\n",
       "         [0.58770851],\n",
       "         ...,\n",
       "         [0.58346049],\n",
       "         [0.58487654],\n",
       "         [0.61225221]]]),\n",
       " array([[0.10300505],\n",
       "        [0.07905522],\n",
       "        [0.0947687 ],\n",
       "        ...,\n",
       "        [0.58487654],\n",
       "        [0.61225221],\n",
       "        [0.56088343]]))"
      ]
     },
     "execution_count": 16,
     "metadata": {},
     "output_type": "execute_result"
    }
   ],
   "source": [
    "X_train, y_train"
   ]
  },
  {
   "cell_type": "code",
   "execution_count": 17,
   "id": "5cd01741",
   "metadata": {},
   "outputs": [
    {
     "data": {
      "text/plain": [
       "((1152, 20, 1), (1152, 1))"
      ]
     },
     "execution_count": 17,
     "metadata": {},
     "output_type": "execute_result"
    }
   ],
   "source": [
    "X_train.shape, y_train.shape"
   ]
  },
  {
   "cell_type": "code",
   "execution_count": 18,
   "id": "d36b381a",
   "metadata": {},
   "outputs": [
    {
     "name": "stdout",
     "output_type": "stream",
     "text": [
      "Epoch 1/200\n",
      "6/6 [==============================] - 17s 118ms/step - loss: 0.1324\n",
      "Epoch 2/200\n",
      "6/6 [==============================] - 1s 115ms/step - loss: 0.0314\n",
      "Epoch 3/200\n",
      "6/6 [==============================] - 1s 109ms/step - loss: 0.0199\n",
      "Epoch 4/200\n",
      "6/6 [==============================] - 1s 111ms/step - loss: 0.0099\n",
      "Epoch 5/200\n",
      "6/6 [==============================] - 1s 112ms/step - loss: 0.0091\n",
      "Epoch 6/200\n",
      "6/6 [==============================] - 1s 111ms/step - loss: 0.0062\n",
      "Epoch 7/200\n",
      "6/6 [==============================] - 1s 114ms/step - loss: 0.0042\n",
      "Epoch 8/200\n",
      "6/6 [==============================] - 1s 113ms/step - loss: 0.0039\n",
      "Epoch 9/200\n",
      "6/6 [==============================] - 1s 111ms/step - loss: 0.0037\n",
      "Epoch 10/200\n",
      "6/6 [==============================] - 1s 117ms/step - loss: 0.0035\n",
      "Epoch 11/200\n",
      "6/6 [==============================] - 1s 117ms/step - loss: 0.0035\n",
      "Epoch 12/200\n",
      "6/6 [==============================] - 1s 120ms/step - loss: 0.0033\n",
      "Epoch 13/200\n",
      "6/6 [==============================] - 1s 117ms/step - loss: 0.0033\n",
      "Epoch 14/200\n",
      "6/6 [==============================] - 1s 116ms/step - loss: 0.0032\n",
      "Epoch 15/200\n",
      "6/6 [==============================] - 1s 120ms/step - loss: 0.0032\n",
      "Epoch 16/200\n",
      "6/6 [==============================] - 1s 114ms/step - loss: 0.0032\n",
      "Epoch 17/200\n",
      "6/6 [==============================] - 1s 119ms/step - loss: 0.0032\n",
      "Epoch 18/200\n",
      "6/6 [==============================] - 1s 118ms/step - loss: 0.0032\n",
      "Epoch 19/200\n",
      "6/6 [==============================] - 1s 117ms/step - loss: 0.0031\n",
      "Epoch 20/200\n",
      "6/6 [==============================] - 1s 116ms/step - loss: 0.0031\n",
      "Epoch 21/200\n",
      "6/6 [==============================] - 1s 118ms/step - loss: 0.0031\n",
      "Epoch 22/200\n",
      "6/6 [==============================] - 1s 131ms/step - loss: 0.0031\n",
      "Epoch 23/200\n",
      "6/6 [==============================] - 1s 125ms/step - loss: 0.0031\n",
      "Epoch 24/200\n",
      "6/6 [==============================] - 1s 119ms/step - loss: 0.0030\n",
      "Epoch 25/200\n",
      "6/6 [==============================] - 1s 115ms/step - loss: 0.0030\n",
      "Epoch 26/200\n",
      "6/6 [==============================] - 1s 116ms/step - loss: 0.0030\n",
      "Epoch 27/200\n",
      "6/6 [==============================] - 1s 117ms/step - loss: 0.0030\n",
      "Epoch 28/200\n",
      "6/6 [==============================] - 1s 119ms/step - loss: 0.0030\n",
      "Epoch 29/200\n",
      "6/6 [==============================] - 1s 121ms/step - loss: 0.0030\n",
      "Epoch 30/200\n",
      "6/6 [==============================] - 1s 115ms/step - loss: 0.0029\n",
      "Epoch 31/200\n",
      "6/6 [==============================] - 1s 117ms/step - loss: 0.0029\n",
      "Epoch 32/200\n",
      "6/6 [==============================] - 1s 134ms/step - loss: 0.0029\n",
      "Epoch 33/200\n",
      "6/6 [==============================] - 1s 118ms/step - loss: 0.0029\n",
      "Epoch 34/200\n",
      "6/6 [==============================] - 1s 123ms/step - loss: 0.0028\n",
      "Epoch 35/200\n",
      "6/6 [==============================] - 1s 116ms/step - loss: 0.0028\n",
      "Epoch 36/200\n",
      "6/6 [==============================] - 1s 122ms/step - loss: 0.0028\n",
      "Epoch 37/200\n",
      "6/6 [==============================] - 1s 121ms/step - loss: 0.0027\n",
      "Epoch 38/200\n",
      "6/6 [==============================] - 1s 116ms/step - loss: 0.0027\n",
      "Epoch 39/200\n",
      "6/6 [==============================] - 1s 119ms/step - loss: 0.0027\n",
      "Epoch 40/200\n",
      "6/6 [==============================] - 1s 120ms/step - loss: 0.0026\n",
      "Epoch 41/200\n",
      "6/6 [==============================] - 1s 121ms/step - loss: 0.0026\n",
      "Epoch 42/200\n",
      "6/6 [==============================] - 1s 122ms/step - loss: 0.0026\n",
      "Epoch 43/200\n",
      "6/6 [==============================] - 1s 118ms/step - loss: 0.0025\n",
      "Epoch 44/200\n",
      "6/6 [==============================] - 1s 118ms/step - loss: 0.0025\n",
      "Epoch 45/200\n",
      "6/6 [==============================] - 1s 119ms/step - loss: 0.0025\n",
      "Epoch 46/200\n",
      "6/6 [==============================] - 1s 119ms/step - loss: 0.0025\n",
      "Epoch 47/200\n",
      "6/6 [==============================] - 1s 115ms/step - loss: 0.0026\n",
      "Epoch 48/200\n",
      "6/6 [==============================] - 1s 118ms/step - loss: 0.0024\n",
      "Epoch 49/200\n",
      "6/6 [==============================] - 1s 119ms/step - loss: 0.0023\n",
      "Epoch 50/200\n",
      "6/6 [==============================] - 1s 117ms/step - loss: 0.0022\n",
      "Epoch 51/200\n",
      "6/6 [==============================] - 1s 118ms/step - loss: 0.0022\n",
      "Epoch 52/200\n",
      "6/6 [==============================] - 1s 132ms/step - loss: 0.0022\n",
      "Epoch 53/200\n",
      "6/6 [==============================] - 1s 130ms/step - loss: 0.0022\n",
      "Epoch 54/200\n",
      "6/6 [==============================] - 1s 114ms/step - loss: 0.0021\n",
      "Epoch 55/200\n",
      "6/6 [==============================] - 1s 110ms/step - loss: 0.0021\n",
      "Epoch 56/200\n",
      "6/6 [==============================] - 1s 112ms/step - loss: 0.0021\n",
      "Epoch 57/200\n",
      "6/6 [==============================] - 1s 119ms/step - loss: 0.0021\n",
      "Epoch 58/200\n",
      "6/6 [==============================] - 1s 110ms/step - loss: 0.0023\n",
      "Epoch 59/200\n",
      "6/6 [==============================] - 1s 113ms/step - loss: 0.0021\n",
      "Epoch 60/200\n",
      "6/6 [==============================] - 1s 112ms/step - loss: 0.0023\n",
      "Epoch 61/200\n",
      "6/6 [==============================] - 1s 112ms/step - loss: 0.0023\n",
      "Epoch 62/200\n",
      "6/6 [==============================] - 1s 112ms/step - loss: 0.0020\n",
      "Epoch 63/200\n",
      "6/6 [==============================] - 1s 113ms/step - loss: 0.0020\n",
      "Epoch 64/200\n",
      "6/6 [==============================] - 1s 112ms/step - loss: 0.0020\n",
      "Epoch 65/200\n",
      "6/6 [==============================] - 1s 111ms/step - loss: 0.0019\n",
      "Epoch 66/200\n",
      "6/6 [==============================] - 1s 189ms/step - loss: 0.0019\n",
      "Epoch 67/200\n",
      "6/6 [==============================] - 1s 116ms/step - loss: 0.0019\n",
      "Epoch 68/200\n",
      "6/6 [==============================] - 1s 148ms/step - loss: 0.0019\n",
      "Epoch 69/200\n",
      "6/6 [==============================] - 1s 129ms/step - loss: 0.0019\n",
      "Epoch 70/200\n",
      "6/6 [==============================] - 1s 150ms/step - loss: 0.0018\n",
      "Epoch 71/200\n",
      "6/6 [==============================] - 1s 115ms/step - loss: 0.0018\n",
      "Epoch 72/200\n",
      "6/6 [==============================] - 1s 156ms/step - loss: 0.0018\n",
      "Epoch 73/200\n",
      "6/6 [==============================] - 1s 174ms/step - loss: 0.0018\n",
      "Epoch 74/200\n",
      "6/6 [==============================] - 1s 118ms/step - loss: 0.0018\n",
      "Epoch 75/200\n",
      "6/6 [==============================] - 1s 168ms/step - loss: 0.0018\n",
      "Epoch 76/200\n",
      "6/6 [==============================] - 1s 167ms/step - loss: 0.0018\n",
      "Epoch 77/200\n",
      "6/6 [==============================] - 1s 131ms/step - loss: 0.0018\n",
      "Epoch 78/200\n",
      "6/6 [==============================] - 1s 128ms/step - loss: 0.0018\n",
      "Epoch 79/200\n",
      "6/6 [==============================] - 1s 157ms/step - loss: 0.0018\n",
      "Epoch 80/200\n",
      "6/6 [==============================] - 1s 108ms/step - loss: 0.0017\n",
      "Epoch 81/200\n",
      "6/6 [==============================] - 1s 107ms/step - loss: 0.0018\n",
      "Epoch 82/200\n",
      "6/6 [==============================] - 1s 197ms/step - loss: 0.0018\n",
      "Epoch 83/200\n",
      "6/6 [==============================] - 1s 142ms/step - loss: 0.0017\n",
      "Epoch 84/200\n",
      "6/6 [==============================] - 1s 210ms/step - loss: 0.0017\n",
      "Epoch 85/200\n",
      "6/6 [==============================] - 1s 143ms/step - loss: 0.0018\n",
      "Epoch 86/200\n",
      "6/6 [==============================] - 1s 101ms/step - loss: 0.0018\n",
      "Epoch 87/200\n",
      "6/6 [==============================] - 1s 95ms/step - loss: 0.0019\n",
      "Epoch 88/200\n",
      "6/6 [==============================] - 1s 126ms/step - loss: 0.0018\n",
      "Epoch 89/200\n",
      "6/6 [==============================] - 1s 101ms/step - loss: 0.0018\n",
      "Epoch 90/200\n",
      "6/6 [==============================] - 1s 165ms/step - loss: 0.0018\n",
      "Epoch 91/200\n",
      "6/6 [==============================] - 1s 152ms/step - loss: 0.0018\n",
      "Epoch 92/200\n",
      "6/6 [==============================] - 1s 123ms/step - loss: 0.0018\n",
      "Epoch 93/200\n",
      "6/6 [==============================] - 1s 114ms/step - loss: 0.0017\n",
      "Epoch 94/200\n",
      "6/6 [==============================] - 2s 259ms/step - loss: 0.0016\n",
      "Epoch 95/200\n",
      "6/6 [==============================] - 1s 100ms/step - loss: 0.0016\n",
      "Epoch 96/200\n",
      "6/6 [==============================] - 1s 91ms/step - loss: 0.0016\n",
      "Epoch 97/200\n",
      "6/6 [==============================] - 1s 93ms/step - loss: 0.0016\n",
      "Epoch 98/200\n",
      "6/6 [==============================] - 1s 94ms/step - loss: 0.0017\n",
      "Epoch 99/200\n",
      "6/6 [==============================] - 1s 96ms/step - loss: 0.0016\n",
      "Epoch 100/200\n",
      "6/6 [==============================] - 1s 94ms/step - loss: 0.0016\n",
      "Epoch 101/200\n",
      "6/6 [==============================] - 1s 95ms/step - loss: 0.0016\n",
      "Epoch 102/200\n"
     ]
    },
    {
     "name": "stdout",
     "output_type": "stream",
     "text": [
      "6/6 [==============================] - 1s 94ms/step - loss: 0.0017\n",
      "Epoch 103/200\n",
      "6/6 [==============================] - 1s 103ms/step - loss: 0.0016\n",
      "Epoch 104/200\n",
      "6/6 [==============================] - 1s 97ms/step - loss: 0.0016\n",
      "Epoch 105/200\n",
      "6/6 [==============================] - 1s 104ms/step - loss: 0.0015\n",
      "Epoch 106/200\n",
      "6/6 [==============================] - 1s 98ms/step - loss: 0.0015\n",
      "Epoch 107/200\n",
      "6/6 [==============================] - 1s 100ms/step - loss: 0.0014\n",
      "Epoch 108/200\n",
      "6/6 [==============================] - 1s 94ms/step - loss: 0.0015\n",
      "Epoch 109/200\n",
      "6/6 [==============================] - 1s 98ms/step - loss: 0.0016\n",
      "Epoch 110/200\n",
      "6/6 [==============================] - 1s 92ms/step - loss: 0.0014\n",
      "Epoch 111/200\n",
      "6/6 [==============================] - 1s 110ms/step - loss: 0.0014\n",
      "Epoch 112/200\n",
      "6/6 [==============================] - 1s 96ms/step - loss: 0.0014\n",
      "Epoch 113/200\n",
      "6/6 [==============================] - 1s 96ms/step - loss: 0.0014\n",
      "Epoch 114/200\n",
      "6/6 [==============================] - 1s 99ms/step - loss: 0.0014\n",
      "Epoch 115/200\n",
      "6/6 [==============================] - 1s 100ms/step - loss: 0.0014\n",
      "Epoch 116/200\n",
      "6/6 [==============================] - 1s 99ms/step - loss: 0.0013\n",
      "Epoch 117/200\n",
      "6/6 [==============================] - 1s 101ms/step - loss: 0.0014\n",
      "Epoch 118/200\n",
      "6/6 [==============================] - 1s 97ms/step - loss: 0.0015\n",
      "Epoch 119/200\n",
      "6/6 [==============================] - 1s 105ms/step - loss: 0.0015\n",
      "Epoch 120/200\n",
      "6/6 [==============================] - 1s 105ms/step - loss: 0.0014\n",
      "Epoch 121/200\n",
      "6/6 [==============================] - 1s 102ms/step - loss: 0.0014\n",
      "Epoch 122/200\n",
      "6/6 [==============================] - 1s 98ms/step - loss: 0.0013\n",
      "Epoch 123/200\n",
      "6/6 [==============================] - 1s 97ms/step - loss: 0.0013\n",
      "Epoch 124/200\n",
      "6/6 [==============================] - 1s 103ms/step - loss: 0.0012\n",
      "Epoch 125/200\n",
      "6/6 [==============================] - 1s 100ms/step - loss: 0.0012\n",
      "Epoch 126/200\n",
      "6/6 [==============================] - 1s 107ms/step - loss: 0.0012\n",
      "Epoch 127/200\n",
      "6/6 [==============================] - 1s 98ms/step - loss: 0.0012\n",
      "Epoch 128/200\n",
      "6/6 [==============================] - 1s 105ms/step - loss: 0.0012\n",
      "Epoch 129/200\n",
      "6/6 [==============================] - 1s 105ms/step - loss: 0.0013\n",
      "Epoch 130/200\n",
      "6/6 [==============================] - 1s 87ms/step - loss: 0.0013\n",
      "Epoch 131/200\n",
      "6/6 [==============================] - 1s 86ms/step - loss: 0.0012\n",
      "Epoch 132/200\n",
      "6/6 [==============================] - 1s 117ms/step - loss: 0.0012\n",
      "Epoch 133/200\n",
      "6/6 [==============================] - 1s 98ms/step - loss: 0.0014\n",
      "Epoch 134/200\n",
      "6/6 [==============================] - 1s 99ms/step - loss: 0.0013\n",
      "Epoch 135/200\n",
      "6/6 [==============================] - 1s 101ms/step - loss: 0.0011\n",
      "Epoch 136/200\n",
      "6/6 [==============================] - 1s 98ms/step - loss: 0.0012\n",
      "Epoch 137/200\n",
      "6/6 [==============================] - 1s 109ms/step - loss: 0.0013\n",
      "Epoch 138/200\n",
      "6/6 [==============================] - 1s 107ms/step - loss: 0.0012\n",
      "Epoch 139/200\n",
      "6/6 [==============================] - 1s 95ms/step - loss: 0.0011\n",
      "Epoch 140/200\n",
      "6/6 [==============================] - 1s 104ms/step - loss: 0.0011\n",
      "Epoch 141/200\n",
      "6/6 [==============================] - 1s 104ms/step - loss: 0.0011\n",
      "Epoch 142/200\n",
      "6/6 [==============================] - 1s 99ms/step - loss: 0.0011\n",
      "Epoch 143/200\n",
      "6/6 [==============================] - 1s 106ms/step - loss: 0.0011\n",
      "Epoch 144/200\n",
      "6/6 [==============================] - 1s 101ms/step - loss: 0.0011\n",
      "Epoch 145/200\n",
      "6/6 [==============================] - 1s 104ms/step - loss: 0.0011\n",
      "Epoch 146/200\n",
      "6/6 [==============================] - 1s 101ms/step - loss: 0.0011\n",
      "Epoch 147/200\n",
      "6/6 [==============================] - 1s 96ms/step - loss: 0.0010\n",
      "Epoch 148/200\n",
      "6/6 [==============================] - 1s 106ms/step - loss: 0.0011\n",
      "Epoch 149/200\n",
      "6/6 [==============================] - 1s 98ms/step - loss: 0.0011\n",
      "Epoch 150/200\n",
      "6/6 [==============================] - 1s 97ms/step - loss: 0.0010\n",
      "Epoch 151/200\n",
      "6/6 [==============================] - 1s 107ms/step - loss: 0.0011\n",
      "Epoch 152/200\n",
      "6/6 [==============================] - 1s 98ms/step - loss: 0.0011\n",
      "Epoch 153/200\n",
      "6/6 [==============================] - 1s 106ms/step - loss: 0.0013\n",
      "Epoch 154/200\n",
      "6/6 [==============================] - 1s 106ms/step - loss: 0.0012\n",
      "Epoch 155/200\n",
      "6/6 [==============================] - 1s 101ms/step - loss: 0.0014\n",
      "Epoch 156/200\n",
      "6/6 [==============================] - 1s 102ms/step - loss: 0.0013\n",
      "Epoch 157/200\n",
      "6/6 [==============================] - 1s 94ms/step - loss: 0.0012\n",
      "Epoch 158/200\n",
      "6/6 [==============================] - 1s 105ms/step - loss: 0.0011\n",
      "Epoch 159/200\n",
      "6/6 [==============================] - 1s 105ms/step - loss: 0.0011\n",
      "Epoch 160/200\n",
      "6/6 [==============================] - 1s 99ms/step - loss: 0.0010\n",
      "Epoch 161/200\n",
      "6/6 [==============================] - 1s 100ms/step - loss: 0.0011\n",
      "Epoch 162/200\n",
      "6/6 [==============================] - 1s 96ms/step - loss: 0.0010\n",
      "Epoch 163/200\n",
      "6/6 [==============================] - 1s 106ms/step - loss: 9.9246e-04\n",
      "Epoch 164/200\n",
      "6/6 [==============================] - 1s 99ms/step - loss: 9.9396e-04\n",
      "Epoch 165/200\n",
      "6/6 [==============================] - 1s 97ms/step - loss: 9.4837e-04\n",
      "Epoch 166/200\n",
      "6/6 [==============================] - 1s 104ms/step - loss: 9.5656e-04\n",
      "Epoch 167/200\n",
      "6/6 [==============================] - 1s 109ms/step - loss: 9.8778e-04\n",
      "Epoch 168/200\n",
      "6/6 [==============================] - 1s 99ms/step - loss: 9.9327e-04\n",
      "Epoch 169/200\n",
      "6/6 [==============================] - 1s 105ms/step - loss: 9.3186e-04\n",
      "Epoch 170/200\n",
      "6/6 [==============================] - 1s 96ms/step - loss: 9.1867e-04\n",
      "Epoch 171/200\n",
      "6/6 [==============================] - 1s 98ms/step - loss: 9.1644e-04\n",
      "Epoch 172/200\n",
      "6/6 [==============================] - 1s 106ms/step - loss: 9.2541e-04\n",
      "Epoch 173/200\n",
      "6/6 [==============================] - 1s 103ms/step - loss: 9.2605e-04\n",
      "Epoch 174/200\n",
      "6/6 [==============================] - 1s 102ms/step - loss: 9.1307e-04\n",
      "Epoch 175/200\n",
      "6/6 [==============================] - 1s 103ms/step - loss: 8.9420e-04\n",
      "Epoch 176/200\n",
      "6/6 [==============================] - 1s 107ms/step - loss: 9.0081e-04\n",
      "Epoch 177/200\n",
      "6/6 [==============================] - 1s 99ms/step - loss: 9.2334e-04\n",
      "Epoch 178/200\n",
      "6/6 [==============================] - 1s 103ms/step - loss: 9.3370e-04\n",
      "Epoch 179/200\n",
      "6/6 [==============================] - 1s 114ms/step - loss: 8.8729e-04\n",
      "Epoch 180/200\n",
      "6/6 [==============================] - 1s 100ms/step - loss: 8.7438e-04\n",
      "Epoch 181/200\n",
      "6/6 [==============================] - 1s 107ms/step - loss: 8.9344e-04\n",
      "Epoch 182/200\n",
      "6/6 [==============================] - 1s 100ms/step - loss: 8.5844e-04\n",
      "Epoch 183/200\n",
      "6/6 [==============================] - 1s 95ms/step - loss: 8.3673e-04\n",
      "Epoch 184/200\n",
      "6/6 [==============================] - 1s 107ms/step - loss: 8.6815e-04\n",
      "Epoch 185/200\n",
      "6/6 [==============================] - 1s 96ms/step - loss: 9.1825e-04\n",
      "Epoch 186/200\n",
      "6/6 [==============================] - 1s 96ms/step - loss: 9.3116e-04\n",
      "Epoch 187/200\n",
      "6/6 [==============================] - 1s 99ms/step - loss: 0.0010\n",
      "Epoch 188/200\n",
      "6/6 [==============================] - 1s 96ms/step - loss: 8.9012e-04\n",
      "Epoch 189/200\n",
      "6/6 [==============================] - 1s 93ms/step - loss: 8.4266e-04\n",
      "Epoch 190/200\n",
      "6/6 [==============================] - 1s 102ms/step - loss: 8.9703e-04\n",
      "Epoch 191/200\n",
      "6/6 [==============================] - 1s 106ms/step - loss: 9.5019e-04\n",
      "Epoch 192/200\n",
      "6/6 [==============================] - 1s 149ms/step - loss: 8.4096e-04\n",
      "Epoch 193/200\n",
      "6/6 [==============================] - 1s 111ms/step - loss: 8.1293e-04\n",
      "Epoch 194/200\n",
      "6/6 [==============================] - 1s 110ms/step - loss: 7.8339e-04\n",
      "Epoch 195/200\n",
      "6/6 [==============================] - 1s 104ms/step - loss: 8.0482e-04\n",
      "Epoch 196/200\n",
      "6/6 [==============================] - 1s 141ms/step - loss: 8.1674e-04\n",
      "Epoch 197/200\n",
      "6/6 [==============================] - 1s 139ms/step - loss: 8.1680e-04\n",
      "Epoch 198/200\n",
      "6/6 [==============================] - 1s 141ms/step - loss: 8.4136e-04\n",
      "Epoch 199/200\n",
      "6/6 [==============================] - 1s 126ms/step - loss: 8.0613e-04\n",
      "Epoch 200/200\n"
     ]
    },
    {
     "name": "stdout",
     "output_type": "stream",
     "text": [
      "6/6 [==============================] - 1s 126ms/step - loss: 8.8600e-04\n"
     ]
    },
    {
     "data": {
      "text/plain": [
       "<keras.src.callbacks.History at 0x2d8b42bca50>"
      ]
     },
     "execution_count": 18,
     "metadata": {},
     "output_type": "execute_result"
    }
   ],
   "source": [
    "model = Sequential()\n",
    "model.add(LSTM(50, return_sequences=True, input_shape=(X_train.shape[1], 1)))\n",
    "model.add(LSTM(50, return_sequences=True))\n",
    "model.add(LSTM(50, return_sequences=False))\n",
    "model.add(Dense(25))\n",
    "model.add(Dense(1))\n",
    "\n",
    "model.compile(optimizer='adam', loss='mean_squared_error')\n",
    "model.fit(X_train, y_train, batch_size=200, epochs=200, verbose=1)\n",
    "\n",
    "# callback = tf.keras.callbacks.EarlyStopping(\n",
    "#     monitor='val_loss',\n",
    "#     min_delta=0,\n",
    "#     patience=0,\n",
    "#     verbose=0,\n",
    "#     mode='auto',\n",
    "#     baseline=None,\n",
    "#     restore_best_weights=False,\n",
    "#     start_from_epoch=0\n",
    "# )\n",
    "# model.fit(X_train, y_train, batch_size=200, epochs=500, verbose=1, callbacks=[callback])"
   ]
  },
  {
   "cell_type": "code",
   "execution_count": 19,
   "id": "12e2ae5e",
   "metadata": {
    "scrolled": true
   },
   "outputs": [
    {
     "name": "stdout",
     "output_type": "stream",
     "text": [
      "36/36 [==============================] - 4s 17ms/step\n"
     ]
    }
   ],
   "source": [
    "pred_train = model.predict(X_train)"
   ]
  },
  {
   "cell_type": "code",
   "execution_count": 20,
   "id": "0d5c1469",
   "metadata": {},
   "outputs": [
    {
     "data": {
      "text/plain": [
       "array([[0.08153731],\n",
       "       [0.08837817],\n",
       "       [0.09196184],\n",
       "       ...,\n",
       "       [0.58226323],\n",
       "       [0.57075626],\n",
       "       [0.57711995]], dtype=float32)"
      ]
     },
     "execution_count": 20,
     "metadata": {},
     "output_type": "execute_result"
    }
   ],
   "source": [
    "pred_train"
   ]
  },
  {
   "cell_type": "code",
   "execution_count": 21,
   "id": "b513ec61",
   "metadata": {},
   "outputs": [
    {
     "name": "stdout",
     "output_type": "stream",
     "text": [
      "mean absolute error- 0.021173951455877818\n",
      "mean squared error- 0.0008287157892580002\n"
     ]
    }
   ],
   "source": [
    "mae = mean_absolute_error(y_train, pred_train)\n",
    "print('mean absolute error-', mae)\n",
    "mse = mean_squared_error(y_train, pred_train)\n",
    "print('mean squared error-', mse)"
   ]
  },
  {
   "cell_type": "code",
   "execution_count": 22,
   "id": "ce0baf19",
   "metadata": {},
   "outputs": [
    {
     "data": {
      "text/plain": [
       "<matplotlib.legend.Legend at 0x2d8b579d790>"
      ]
     },
     "execution_count": 22,
     "metadata": {},
     "output_type": "execute_result"
    },
    {
     "data": {
      "image/png": "[encoded data removed]",
      "text/plain": [
       "<Figure size 640x480 with 1 Axes>"
      ]
     },
     "metadata": {},
     "output_type": "display_data"
    }
   ],
   "source": [
    "plt.title(f\"{ticker}'s Prediction from {start_date} to {end_date}\\n Actual vs. Predicted on Training Data\")\n",
    "plt.xlabel('Days')\n",
    "plt.ylabel('Price')\n",
    "plt.plot(y_train, color='blue', label='actual')\n",
    "plt.plot(pred_train, color='red', label='predicted')\n",
    "plt.legend()"
   ]
  },
  {
   "cell_type": "code",
   "execution_count": 23,
   "id": "7e7be93a",
   "metadata": {},
   "outputs": [
    {
     "name": "stdout",
     "output_type": "stream",
     "text": [
      "9/9 [==============================] - 4s 18ms/step\n"
     ]
    }
   ],
   "source": [
    "pred_test = model.predict(X_test)"
   ]
  },
  {
   "cell_type": "code",
   "execution_count": 24,
   "id": "f62663ff",
   "metadata": {},
   "outputs": [
    {
     "name": "stdout",
     "output_type": "stream",
     "text": [
      "mean absolute error- 0.021460541246206034\n",
      "mean squared error- 0.0007755714902229887\n"
     ]
    }
   ],
   "source": [
    "mae = mean_absolute_error(y_test, pred_test)\n",
    "print('mean absolute error-', mae)\n",
    "mse = mean_squared_error(y_test, pred_test)\n",
    "print('mean squared error-', mse)"
   ]
  },
  {
   "cell_type": "code",
   "execution_count": 25,
   "id": "dce7e9a0",
   "metadata": {},
   "outputs": [
    {
     "data": {
      "text/plain": [
       "<matplotlib.legend.Legend at 0x2d8c0ba6bd0>"
      ]
     },
     "execution_count": 25,
     "metadata": {},
     "output_type": "execute_result"
    },
    {
     "data": {
      "image/png": "[encoded data removed]",
      "text/plain": [
       "<Figure size 640x480 with 1 Axes>"
      ]
     },
     "metadata": {},
     "output_type": "display_data"
    }
   ],
   "source": [
    "plt.title(f\"{ticker}'s Prediction from {start_date} to {end_date}\\n Actual vs. Predicted on Training Data\")\n",
    "plt.xlabel('Days')\n",
    "plt.ylabel('Price')\n",
    "plt.plot(y_test, color='green', label='actual')\n",
    "plt.plot(pred_test, color='orange', label='predicted')\n",
    "plt.legend()"
   ]
  },
  {
   "cell_type": "code",
   "execution_count": 26,
   "id": "75846d04",
   "metadata": {},
   "outputs": [
    {
     "name": "stdout",
     "output_type": "stream",
     "text": [
      "[*********************100%***********************]  1 of 1 completed\n"
     ]
    },
    {
     "data": {
      "text/plain": [
       "0     132.710007\n",
       "1     133.089996\n",
       "2     137.000000\n",
       "3     138.070007\n",
       "4     138.600006\n",
       "5     139.740005\n",
       "6     142.710007\n",
       "7     142.080002\n",
       "8     140.600006\n",
       "9     143.559998\n",
       "10    142.589996\n",
       "11    145.800003\n",
       "12    143.199997\n",
       "13    142.830002\n",
       "14    145.179993\n",
       "15    146.130005\n",
       "16    143.899994\n",
       "17    146.710007\n",
       "18    146.740005\n",
       "19    147.729996\n",
       "20    147.029999\n",
       "21    146.320007\n",
       "Name: Close, dtype: float64"
      ]
     },
     "execution_count": 26,
     "metadata": {},
     "output_type": "execute_result"
    }
   ],
   "source": [
    "ticker = 'AMZN'\n",
    "start_date = '2023-10-30'\n",
    "end_date = '2023-11-30'\n",
    "df_future = yf.download(ticker, start_date, end_date).reset_index()['Close']\n",
    "df_future"
   ]
  },
  {
   "cell_type": "code",
   "execution_count": 27,
   "id": "65dd9002",
   "metadata": {},
   "outputs": [],
   "source": [
    "df_future = df_future.values"
   ]
  },
  {
   "cell_type": "code",
   "execution_count": 37,
   "id": "97ee7a64",
   "metadata": {},
   "outputs": [
    {
     "data": {
      "text/plain": [
       "array([129.46000671, 124.72000122, 127.        , 125.95999908,\n",
       "       127.95999908, 128.25999451, 129.47999573, 131.83000183,\n",
       "       132.33000183, 129.78999329, 132.55000305, 131.47000122,\n",
       "       128.13000488, 128.3999939 , 125.16999817, 126.55999756,\n",
       "       128.55999756, 121.38999939, 119.56999969, 127.73999786])"
      ]
     },
     "execution_count": 37,
     "metadata": {},
     "output_type": "execute_result"
    }
   ],
   "source": [
    "future_data_to_predict = np.array(close[-20:])\n",
    "future_data_to_predict"
   ]
  },
  {
   "cell_type": "code",
   "execution_count": 38,
   "id": "bfb2ddfc",
   "metadata": {},
   "outputs": [
    {
     "data": {
      "text/plain": [
       "127.73999786376953"
      ]
     },
     "execution_count": 38,
     "metadata": {},
     "output_type": "execute_result"
    }
   ],
   "source": [
    "last_val = future_data_to_predict[-1]\n",
    "last_val"
   ]
  },
  {
   "cell_type": "markdown",
   "id": "6566cf7e",
   "metadata": {},
   "source": [
    "---------------------------------------------------------------------------------------------------------------------------"
   ]
  },
  {
   "cell_type": "code",
   "execution_count": 39,
   "id": "2e40312e",
   "metadata": {},
   "outputs": [],
   "source": [
    "def prediction(future_data, last_val, days):\n",
    "    \n",
    "    output_data = []\n",
    "    new_arr = []\n",
    "\n",
    "    for i in range(days):\n",
    "        \n",
    "        if future_data[-1] == last_val:\n",
    "            print('no')\n",
    "            print('before',future_data)\n",
    "            temp = scaler.transform(future_data.reshape(-1, 1))\n",
    "            temp_scaled_reshape = temp.reshape(1, 20, 1)\n",
    "            predicted_value = model.predict(temp_scaled_reshape)\n",
    "            actual_predicted = scaler.inverse_transform(predicted_value.reshape(1,-1))\n",
    "            output_data.append(actual_predicted[0,0])\n",
    "            print('output',actual_predicted[0,0])\n",
    "            future_data = future_data[1:]\n",
    "            future_data = np.append(future_data,actual_predicted)\n",
    "            print('after',future_data)\n",
    "        else:\n",
    "            print('yes')\n",
    "            print('before',future_data)\n",
    "            temp = scaler.transform(future_data.reshape(-1, 1))\n",
    "            temp_scaled_reshape = temp.reshape(1, 20, 1)\n",
    "            predicted_value = model.predict(temp_scaled_reshape)\n",
    "            actual_predicted = scaler.inverse_transform(predicted_value.reshape(1,-1))\n",
    "            output_data.append(actual_predicted[0,0])\n",
    "            print('output',actual_predicted[0,0])\n",
    "            future_data = future_data[1:]\n",
    "            future_data = np.append(future_data,actual_predicted)\n",
    "            print('after',future_data)\n",
    "\n",
    "    return output_data\n",
    "\n",
    "\n",
    "# def prediction(future_data, last_val, days):\n",
    "#     temp = scaler.transform(future_data.reshape(-1, 1))\n",
    "#     temp_scaled_reshape = temp.reshape(20, 1, 1)\n",
    "#     predicted_value = model.predict(temp_scaled_reshape)\n",
    "#     output = scaler.inverse_transform(predicted_value.reshape(1,-1))\n",
    "#     return output"
   ]
  },
  {
   "cell_type": "code",
   "execution_count": 40,
   "id": "7ea91f79",
   "metadata": {},
   "outputs": [
    {
     "name": "stdout",
     "output_type": "stream",
     "text": [
      "no\n",
      "before [129.46000671 124.72000122 127.         125.95999908 127.95999908\n",
      " 128.25999451 129.47999573 131.83000183 132.33000183 129.78999329\n",
      " 132.55000305 131.47000122 128.13000488 128.3999939  125.16999817\n",
      " 126.55999756 128.55999756 121.38999939 119.56999969 127.73999786]\n",
      "1/1 [==============================] - 0s 63ms/step\n",
      "output 122.344475\n",
      "after [124.72000122 127.         125.95999908 127.95999908 128.25999451\n",
      " 129.47999573 131.83000183 132.33000183 129.78999329 132.55000305\n",
      " 131.47000122 128.13000488 128.3999939  125.16999817 126.55999756\n",
      " 128.55999756 121.38999939 119.56999969 127.73999786 122.34447479]\n",
      "yes\n",
      "before [124.72000122 127.         125.95999908 127.95999908 128.25999451\n",
      " 129.47999573 131.83000183 132.33000183 129.78999329 132.55000305\n",
      " 131.47000122 128.13000488 128.3999939  125.16999817 126.55999756\n",
      " 128.55999756 121.38999939 119.56999969 127.73999786 122.34447479]\n",
      "1/1 [==============================] - 0s 52ms/step\n",
      "output 122.507034\n",
      "after [127.         125.95999908 127.95999908 128.25999451 129.47999573\n",
      " 131.83000183 132.33000183 129.78999329 132.55000305 131.47000122\n",
      " 128.13000488 128.3999939  125.16999817 126.55999756 128.55999756\n",
      " 121.38999939 119.56999969 127.73999786 122.34447479 122.5070343 ]\n",
      "yes\n",
      "before [127.         125.95999908 127.95999908 128.25999451 129.47999573\n",
      " 131.83000183 132.33000183 129.78999329 132.55000305 131.47000122\n",
      " 128.13000488 128.3999939  125.16999817 126.55999756 128.55999756\n",
      " 121.38999939 119.56999969 127.73999786 122.34447479 122.5070343 ]\n",
      "1/1 [==============================] - 0s 49ms/step\n",
      "output 122.425514\n",
      "after [125.95999908 127.95999908 128.25999451 129.47999573 131.83000183\n",
      " 132.33000183 129.78999329 132.55000305 131.47000122 128.13000488\n",
      " 128.3999939  125.16999817 126.55999756 128.55999756 121.38999939\n",
      " 119.56999969 127.73999786 122.34447479 122.5070343  122.42551422]\n",
      "yes\n",
      "before [125.95999908 127.95999908 128.25999451 129.47999573 131.83000183\n",
      " 132.33000183 129.78999329 132.55000305 131.47000122 128.13000488\n",
      " 128.3999939  125.16999817 126.55999756 128.55999756 121.38999939\n",
      " 119.56999969 127.73999786 122.34447479 122.5070343  122.42551422]\n",
      "1/1 [==============================] - 0s 49ms/step\n",
      "output 122.256935\n",
      "after [127.95999908 128.25999451 129.47999573 131.83000183 132.33000183\n",
      " 129.78999329 132.55000305 131.47000122 128.13000488 128.3999939\n",
      " 125.16999817 126.55999756 128.55999756 121.38999939 119.56999969\n",
      " 127.73999786 122.34447479 122.5070343  122.42551422 122.25693512]\n",
      "yes\n",
      "before [127.95999908 128.25999451 129.47999573 131.83000183 132.33000183\n",
      " 129.78999329 132.55000305 131.47000122 128.13000488 128.3999939\n",
      " 125.16999817 126.55999756 128.55999756 121.38999939 119.56999969\n",
      " 127.73999786 122.34447479 122.5070343  122.42551422 122.25693512]\n",
      "1/1 [==============================] - 0s 53ms/step\n",
      "output 122.07615\n",
      "after [128.25999451 129.47999573 131.83000183 132.33000183 129.78999329\n",
      " 132.55000305 131.47000122 128.13000488 128.3999939  125.16999817\n",
      " 126.55999756 128.55999756 121.38999939 119.56999969 127.73999786\n",
      " 122.34447479 122.5070343  122.42551422 122.25693512 122.07614899]\n",
      "yes\n",
      "before [128.25999451 129.47999573 131.83000183 132.33000183 129.78999329\n",
      " 132.55000305 131.47000122 128.13000488 128.3999939  125.16999817\n",
      " 126.55999756 128.55999756 121.38999939 119.56999969 127.73999786\n",
      " 122.34447479 122.5070343  122.42551422 122.25693512 122.07614899]\n",
      "1/1 [==============================] - 0s 49ms/step\n",
      "output 121.89641\n",
      "after [129.47999573 131.83000183 132.33000183 129.78999329 132.55000305\n",
      " 131.47000122 128.13000488 128.3999939  125.16999817 126.55999756\n",
      " 128.55999756 121.38999939 119.56999969 127.73999786 122.34447479\n",
      " 122.5070343  122.42551422 122.25693512 122.07614899 121.89640808]\n",
      "yes\n",
      "before [129.47999573 131.83000183 132.33000183 129.78999329 132.55000305\n",
      " 131.47000122 128.13000488 128.3999939  125.16999817 126.55999756\n",
      " 128.55999756 121.38999939 119.56999969 127.73999786 122.34447479\n",
      " 122.5070343  122.42551422 122.25693512 122.07614899 121.89640808]\n",
      "1/1 [==============================] - 0s 51ms/step\n",
      "output 121.717125\n",
      "after [131.83000183 132.33000183 129.78999329 132.55000305 131.47000122\n",
      " 128.13000488 128.3999939  125.16999817 126.55999756 128.55999756\n",
      " 121.38999939 119.56999969 127.73999786 122.34447479 122.5070343\n",
      " 122.42551422 122.25693512 122.07614899 121.89640808 121.71712494]\n",
      "yes\n",
      "before [131.83000183 132.33000183 129.78999329 132.55000305 131.47000122\n",
      " 128.13000488 128.3999939  125.16999817 126.55999756 128.55999756\n",
      " 121.38999939 119.56999969 127.73999786 122.34447479 122.5070343\n",
      " 122.42551422 122.25693512 122.07614899 121.89640808 121.71712494]\n",
      "1/1 [==============================] - 0s 51ms/step\n",
      "output 121.531685\n",
      "after [132.33000183 129.78999329 132.55000305 131.47000122 128.13000488\n",
      " 128.3999939  125.16999817 126.55999756 128.55999756 121.38999939\n",
      " 119.56999969 127.73999786 122.34447479 122.5070343  122.42551422\n",
      " 122.25693512 122.07614899 121.89640808 121.71712494 121.53168488]\n",
      "yes\n",
      "before [132.33000183 129.78999329 132.55000305 131.47000122 128.13000488\n",
      " 128.3999939  125.16999817 126.55999756 128.55999756 121.38999939\n",
      " 119.56999969 127.73999786 122.34447479 122.5070343  122.42551422\n",
      " 122.25693512 122.07614899 121.89640808 121.71712494 121.53168488]\n",
      "1/1 [==============================] - 0s 53ms/step\n",
      "output 121.33543\n",
      "after [129.78999329 132.55000305 131.47000122 128.13000488 128.3999939\n",
      " 125.16999817 126.55999756 128.55999756 121.38999939 119.56999969\n",
      " 127.73999786 122.34447479 122.5070343  122.42551422 122.25693512\n",
      " 122.07614899 121.89640808 121.71712494 121.53168488 121.33542633]\n",
      "yes\n",
      "before [129.78999329 132.55000305 131.47000122 128.13000488 128.3999939\n",
      " 125.16999817 126.55999756 128.55999756 121.38999939 119.56999969\n",
      " 127.73999786 122.34447479 122.5070343  122.42551422 122.25693512\n",
      " 122.07614899 121.89640808 121.71712494 121.53168488 121.33542633]\n",
      "1/1 [==============================] - 0s 75ms/step\n",
      "output 121.12791\n",
      "after [132.55000305 131.47000122 128.13000488 128.3999939  125.16999817\n",
      " 126.55999756 128.55999756 121.38999939 119.56999969 127.73999786\n",
      " 122.34447479 122.5070343  122.42551422 122.25693512 122.07614899\n",
      " 121.89640808 121.71712494 121.53168488 121.33542633 121.1279068 ]\n",
      "yes\n",
      "before [132.55000305 131.47000122 128.13000488 128.3999939  125.16999817\n",
      " 126.55999756 128.55999756 121.38999939 119.56999969 127.73999786\n",
      " 122.34447479 122.5070343  122.42551422 122.25693512 122.07614899\n",
      " 121.89640808 121.71712494 121.53168488 121.33542633 121.1279068 ]\n",
      "1/1 [==============================] - 0s 55ms/step\n",
      "output 120.910095\n",
      "after [131.47000122 128.13000488 128.3999939  125.16999817 126.55999756\n",
      " 128.55999756 121.38999939 119.56999969 127.73999786 122.34447479\n",
      " 122.5070343  122.42551422 122.25693512 122.07614899 121.89640808\n",
      " 121.71712494 121.53168488 121.33542633 121.1279068  120.91009521]\n",
      "yes\n",
      "before [131.47000122 128.13000488 128.3999939  125.16999817 126.55999756\n",
      " 128.55999756 121.38999939 119.56999969 127.73999786 122.34447479\n",
      " 122.5070343  122.42551422 122.25693512 122.07614899 121.89640808\n",
      " 121.71712494 121.53168488 121.33542633 121.1279068  120.91009521]\n",
      "1/1 [==============================] - 0s 55ms/step\n",
      "output 120.67781\n",
      "after [128.13000488 128.3999939  125.16999817 126.55999756 128.55999756\n",
      " 121.38999939 119.56999969 127.73999786 122.34447479 122.5070343\n",
      " 122.42551422 122.25693512 122.07614899 121.89640808 121.71712494\n",
      " 121.53168488 121.33542633 121.1279068  120.91009521 120.67781067]\n",
      "yes\n",
      "before [128.13000488 128.3999939  125.16999817 126.55999756 128.55999756\n",
      " 121.38999939 119.56999969 127.73999786 122.34447479 122.5070343\n",
      " 122.42551422 122.25693512 122.07614899 121.89640808 121.71712494\n",
      " 121.53168488 121.33542633 121.1279068  120.91009521 120.67781067]\n",
      "1/1 [==============================] - 0s 78ms/step\n",
      "output 120.43674\n",
      "after [128.3999939  125.16999817 126.55999756 128.55999756 121.38999939\n",
      " 119.56999969 127.73999786 122.34447479 122.5070343  122.42551422\n",
      " 122.25693512 122.07614899 121.89640808 121.71712494 121.53168488\n",
      " 121.33542633 121.1279068  120.91009521 120.67781067 120.43673706]\n",
      "yes\n",
      "before [128.3999939  125.16999817 126.55999756 128.55999756 121.38999939\n",
      " 119.56999969 127.73999786 122.34447479 122.5070343  122.42551422\n",
      " 122.25693512 122.07614899 121.89640808 121.71712494 121.53168488\n",
      " 121.33542633 121.1279068  120.91009521 120.67781067 120.43673706]\n"
     ]
    },
    {
     "name": "stdout",
     "output_type": "stream",
     "text": [
      "1/1 [==============================] - 0s 78ms/step\n",
      "output 120.18953\n",
      "after [125.16999817 126.55999756 128.55999756 121.38999939 119.56999969\n",
      " 127.73999786 122.34447479 122.5070343  122.42551422 122.25693512\n",
      " 122.07614899 121.89640808 121.71712494 121.53168488 121.33542633\n",
      " 121.1279068  120.91009521 120.67781067 120.43673706 120.18952942]\n",
      "yes\n",
      "before [125.16999817 126.55999756 128.55999756 121.38999939 119.56999969\n",
      " 127.73999786 122.34447479 122.5070343  122.42551422 122.25693512\n",
      " 122.07614899 121.89640808 121.71712494 121.53168488 121.33542633\n",
      " 121.1279068  120.91009521 120.67781067 120.43673706 120.18952942]\n",
      "1/1 [==============================] - 0s 54ms/step\n",
      "output 119.934425\n",
      "after [126.55999756 128.55999756 121.38999939 119.56999969 127.73999786\n",
      " 122.34447479 122.5070343  122.42551422 122.25693512 122.07614899\n",
      " 121.89640808 121.71712494 121.53168488 121.33542633 121.1279068\n",
      " 120.91009521 120.67781067 120.43673706 120.18952942 119.93442535]\n",
      "yes\n",
      "before [126.55999756 128.55999756 121.38999939 119.56999969 127.73999786\n",
      " 122.34447479 122.5070343  122.42551422 122.25693512 122.07614899\n",
      " 121.89640808 121.71712494 121.53168488 121.33542633 121.1279068\n",
      " 120.91009521 120.67781067 120.43673706 120.18952942 119.93442535]\n",
      "1/1 [==============================] - 0s 85ms/step\n",
      "output 119.676865\n",
      "after [128.55999756 121.38999939 119.56999969 127.73999786 122.34447479\n",
      " 122.5070343  122.42551422 122.25693512 122.07614899 121.89640808\n",
      " 121.71712494 121.53168488 121.33542633 121.1279068  120.91009521\n",
      " 120.67781067 120.43673706 120.18952942 119.93442535 119.67686462]\n",
      "yes\n",
      "before [128.55999756 121.38999939 119.56999969 127.73999786 122.34447479\n",
      " 122.5070343  122.42551422 122.25693512 122.07614899 121.89640808\n",
      " 121.71712494 121.53168488 121.33542633 121.1279068  120.91009521\n",
      " 120.67781067 120.43673706 120.18952942 119.93442535 119.67686462]\n",
      "1/1 [==============================] - 0s 71ms/step\n",
      "output 119.41409\n",
      "after [121.38999939 119.56999969 127.73999786 122.34447479 122.5070343\n",
      " 122.42551422 122.25693512 122.07614899 121.89640808 121.71712494\n",
      " 121.53168488 121.33542633 121.1279068  120.91009521 120.67781067\n",
      " 120.43673706 120.18952942 119.93442535 119.67686462 119.41409302]\n",
      "yes\n",
      "before [121.38999939 119.56999969 127.73999786 122.34447479 122.5070343\n",
      " 122.42551422 122.25693512 122.07614899 121.89640808 121.71712494\n",
      " 121.53168488 121.33542633 121.1279068  120.91009521 120.67781067\n",
      " 120.43673706 120.18952942 119.93442535 119.67686462 119.41409302]\n",
      "1/1 [==============================] - 0s 60ms/step\n",
      "output 119.14874\n",
      "after [119.56999969 127.73999786 122.34447479 122.5070343  122.42551422\n",
      " 122.25693512 122.07614899 121.89640808 121.71712494 121.53168488\n",
      " 121.33542633 121.1279068  120.91009521 120.67781067 120.43673706\n",
      " 120.18952942 119.93442535 119.67686462 119.41409302 119.14874268]\n",
      "yes\n",
      "before [119.56999969 127.73999786 122.34447479 122.5070343  122.42551422\n",
      " 122.25693512 122.07614899 121.89640808 121.71712494 121.53168488\n",
      " 121.33542633 121.1279068  120.91009521 120.67781067 120.43673706\n",
      " 120.18952942 119.93442535 119.67686462 119.41409302 119.14874268]\n",
      "1/1 [==============================] - 0s 57ms/step\n",
      "output 118.890366\n",
      "after [127.73999786 122.34447479 122.5070343  122.42551422 122.25693512\n",
      " 122.07614899 121.89640808 121.71712494 121.53168488 121.33542633\n",
      " 121.1279068  120.91009521 120.67781067 120.43673706 120.18952942\n",
      " 119.93442535 119.67686462 119.41409302 119.14874268 118.8903656 ]\n",
      "yes\n",
      "before [127.73999786 122.34447479 122.5070343  122.42551422 122.25693512\n",
      " 122.07614899 121.89640808 121.71712494 121.53168488 121.33542633\n",
      " 121.1279068  120.91009521 120.67781067 120.43673706 120.18952942\n",
      " 119.93442535 119.67686462 119.41409302 119.14874268 118.8903656 ]\n",
      "1/1 [==============================] - 0s 55ms/step\n",
      "output 118.632126\n",
      "after [122.34447479 122.5070343  122.42551422 122.25693512 122.07614899\n",
      " 121.89640808 121.71712494 121.53168488 121.33542633 121.1279068\n",
      " 120.91009521 120.67781067 120.43673706 120.18952942 119.93442535\n",
      " 119.67686462 119.41409302 119.14874268 118.8903656  118.63212585]\n",
      "yes\n",
      "before [122.34447479 122.5070343  122.42551422 122.25693512 122.07614899\n",
      " 121.89640808 121.71712494 121.53168488 121.33542633 121.1279068\n",
      " 120.91009521 120.67781067 120.43673706 120.18952942 119.93442535\n",
      " 119.67686462 119.41409302 119.14874268 118.8903656  118.63212585]\n",
      "1/1 [==============================] - 0s 55ms/step\n",
      "output 118.36736\n",
      "after [122.5070343  122.42551422 122.25693512 122.07614899 121.89640808\n",
      " 121.71712494 121.53168488 121.33542633 121.1279068  120.91009521\n",
      " 120.67781067 120.43673706 120.18952942 119.93442535 119.67686462\n",
      " 119.41409302 119.14874268 118.8903656  118.63212585 118.36736298]\n",
      "yes\n",
      "before [122.5070343  122.42551422 122.25693512 122.07614899 121.89640808\n",
      " 121.71712494 121.53168488 121.33542633 121.1279068  120.91009521\n",
      " 120.67781067 120.43673706 120.18952942 119.93442535 119.67686462\n",
      " 119.41409302 119.14874268 118.8903656  118.63212585 118.36736298]\n",
      "1/1 [==============================] - 0s 52ms/step\n",
      "output 118.11207\n",
      "after [122.42551422 122.25693512 122.07614899 121.89640808 121.71712494\n",
      " 121.53168488 121.33542633 121.1279068  120.91009521 120.67781067\n",
      " 120.43673706 120.18952942 119.93442535 119.67686462 119.41409302\n",
      " 119.14874268 118.8903656  118.63212585 118.36736298 118.11206818]\n"
     ]
    },
    {
     "data": {
      "text/plain": [
       "array([122.344475, 122.507034, 122.425514, 122.256935, 122.07615 ,\n",
       "       121.89641 , 121.717125, 121.531685, 121.33543 , 121.12791 ,\n",
       "       120.910095, 120.67781 , 120.43674 , 120.18953 , 119.934425,\n",
       "       119.676865, 119.41409 , 119.14874 , 118.890366, 118.632126,\n",
       "       118.36736 , 118.11207 ], dtype=float32)"
      ]
     },
     "execution_count": 40,
     "metadata": {},
     "output_type": "execute_result"
    }
   ],
   "source": [
    "result = prediction(future_data_to_predict, last_val, len(df_future))\n",
    "result = np.array(result)\n",
    "result"
   ]
  },
  {
   "cell_type": "code",
   "execution_count": 41,
   "id": "ad293520",
   "metadata": {},
   "outputs": [
    {
     "data": {
      "text/plain": [
       "<matplotlib.legend.Legend at 0x2d8c1bd73d0>"
      ]
     },
     "execution_count": 41,
     "metadata": {},
     "output_type": "execute_result"
    },
    {
     "data": {
      "image/png": "[encoded data removed]",
      "text/plain": [
       "<Figure size 640x480 with 1 Axes>"
      ]
     },
     "metadata": {},
     "output_type": "display_data"
    }
   ],
   "source": [
    "plt.title(f\"Amazon's Prediction using past {len(future_data_to_predict)} values\")\n",
    "plt.xlabel('Days')\n",
    "plt.ylabel('Price')\n",
    "plt.plot(df_future, color='orange', label='actual')\n",
    "plt.plot(result, color='green', label='predicted')\n",
    "plt.legend()"
   ]
  },
  {
   "cell_type": "code",
   "execution_count": 138,
   "id": "936795cf",
   "metadata": {},
   "outputs": [],
   "source": [
    "def get_control_vector(val):\n",
    "    return np.diff(np.sign(np.diff(val)))\n",
    "\n",
    "def buy_and_sell_bot(val,controls):\n",
    "    inv = []\n",
    "    curr_val = 1000\n",
    "    print(\"*******************\",np.where(controls))\n",
    "    \n",
    "    inds = np.where(controls)[0]\n",
    "    print(inds)\n",
    "    buy_inds = np.where(controls>0)[0]\n",
    "    sell_inds = np.where(controls<0)[0]\n",
    "    max_limit = sell_inds[-1] if sell_inds[-1]>buy_inds[-1] else buy_inds[-1]\n",
    "    for i in range(buy_inds[0]+2):\n",
    "        inv.append(curr_val)\n",
    "    for i in range(buy_inds[0],max_limit+1):\n",
    "        if controls[i]>0:\n",
    "            buy_val = val[i+1]\n",
    "        elif controls[i]<0:\n",
    "            sell_val = val[i+1]\n",
    "            curr_val = curr_val*sell_val/buy_val\n",
    "        inv.append(curr_val)\n",
    "        \n",
    "    if max_limit+1!=len(controls):\n",
    "        for i in range(len(controls)-max_limit-1):\n",
    "            inv.append(curr_val)\n",
    "    return inv"
   ]
  },
  {
   "cell_type": "code",
   "execution_count": 139,
   "id": "c7913e0a",
   "metadata": {},
   "outputs": [
    {
     "name": "stdout",
     "output_type": "stream",
     "text": [
      "******************* (array([0, 3, 4], dtype=int64),)\n",
      "[0 3 4]\n"
     ]
    },
    {
     "data": {
      "text/plain": [
       "(array([-2.,  0.,  0.,  2., -2.]),\n",
       " [1000, 1000, 1000, 1000, 1000, 1000, 1000.2609139551153])"
      ]
     },
     "execution_count": 139,
     "metadata": {},
     "output_type": "execute_result"
    }
   ],
   "source": [
    "controls_actual = get_control_vector(df_future)\n",
    "amount_actual = buy_and_sell_bot(df_future, controls_actual)\n",
    "controls_actual,amount_actual"
   ]
  },
  {
   "cell_type": "code",
   "execution_count": 140,
   "id": "65bcbbd8",
   "metadata": {},
   "outputs": [
    {
     "name": "stdout",
     "output_type": "stream",
     "text": [
      "******************* (array([0], dtype=int64),)\n",
      "[0]\n"
     ]
    },
    {
     "ename": "IndexError",
     "evalue": "index -1 is out of bounds for axis 0 with size 0",
     "output_type": "error",
     "traceback": [
      "\u001b[1;31m---------------------------------------------------------------------------\u001b[0m",
      "\u001b[1;31mIndexError\u001b[0m                                Traceback (most recent call last)",
      "Cell \u001b[1;32mIn[140], line 2\u001b[0m\n\u001b[0;32m      1\u001b[0m controls_pred\u001b[38;5;241m=\u001b[39m get_control_vector(np\u001b[38;5;241m.\u001b[39marray(result))\n\u001b[1;32m----> 2\u001b[0m amount_pred \u001b[38;5;241m=\u001b[39m \u001b[43mbuy_and_sell_bot\u001b[49m\u001b[43m(\u001b[49m\u001b[43mresult\u001b[49m\u001b[43m,\u001b[49m\u001b[43m \u001b[49m\u001b[43mcontrols_pred\u001b[49m\u001b[43m)\u001b[49m\n\u001b[0;32m      3\u001b[0m controls_pred,amount_pred\n",
      "Cell \u001b[1;32mIn[138], line 13\u001b[0m, in \u001b[0;36mbuy_and_sell_bot\u001b[1;34m(val, controls)\u001b[0m\n\u001b[0;32m     11\u001b[0m buy_inds \u001b[38;5;241m=\u001b[39m np\u001b[38;5;241m.\u001b[39mwhere(controls\u001b[38;5;241m>\u001b[39m\u001b[38;5;241m0\u001b[39m)[\u001b[38;5;241m0\u001b[39m]\n\u001b[0;32m     12\u001b[0m sell_inds \u001b[38;5;241m=\u001b[39m np\u001b[38;5;241m.\u001b[39mwhere(controls\u001b[38;5;241m<\u001b[39m\u001b[38;5;241m0\u001b[39m)[\u001b[38;5;241m0\u001b[39m]\n\u001b[1;32m---> 13\u001b[0m max_limit \u001b[38;5;241m=\u001b[39m sell_inds[\u001b[38;5;241m-\u001b[39m\u001b[38;5;241m1\u001b[39m] \u001b[38;5;28;01mif\u001b[39;00m sell_inds[\u001b[38;5;241m-\u001b[39m\u001b[38;5;241m1\u001b[39m]\u001b[38;5;241m>\u001b[39m\u001b[43mbuy_inds\u001b[49m\u001b[43m[\u001b[49m\u001b[38;5;241;43m-\u001b[39;49m\u001b[38;5;241;43m1\u001b[39;49m\u001b[43m]\u001b[49m \u001b[38;5;28;01melse\u001b[39;00m buy_inds[\u001b[38;5;241m-\u001b[39m\u001b[38;5;241m1\u001b[39m]\n\u001b[0;32m     14\u001b[0m \u001b[38;5;28;01mfor\u001b[39;00m i \u001b[38;5;129;01min\u001b[39;00m \u001b[38;5;28mrange\u001b[39m(buy_inds[\u001b[38;5;241m0\u001b[39m]\u001b[38;5;241m+\u001b[39m\u001b[38;5;241m2\u001b[39m):\n\u001b[0;32m     15\u001b[0m     inv\u001b[38;5;241m.\u001b[39mappend(curr_val)\n",
      "\u001b[1;31mIndexError\u001b[0m: index -1 is out of bounds for axis 0 with size 0"
     ]
    }
   ],
   "source": [
    "controls_pred= get_control_vector(np.array(result))\n",
    "amount_pred = buy_and_sell_bot(result, controls_pred)\n",
    "controls_pred,amount_pred"
   ]
  },
  {
   "cell_type": "code",
   "execution_count": 39,
   "id": "99c7cccb",
   "metadata": {},
   "outputs": [],
   "source": [
    "def Fpredict(days, past_data):\n",
    "    print(days, past_data)\n",
    "    for i in range(days):\n",
    "\n",
    "        temp = scaler.transform(past_data.reshape(-1, 1))\n",
    "        temp_scaled_reshape = temp.reshape(1, 20, 1)\n",
    "#         print(temp_scaled_reshape)\n",
    "        predicted_value = model.predict(temp_scaled_reshape)\n",
    "        actual_predicted = scaler.inverse_transform(predicted_value.reshape(1,-1))\n",
    "        \n",
    "        print(actual_predicted)"
   ]
  },
  {
   "cell_type": "code",
   "execution_count": 40,
   "id": "13e2b7e9",
   "metadata": {},
   "outputs": [
    {
     "name": "stdout",
     "output_type": "stream",
     "text": [
      "20 [137.         138.07000732 138.6000061  139.74000549 142.71000671\n",
      " 142.08000183 140.6000061  143.55999756 142.58999634 145.80000305\n",
      " 143.19999695 142.83000183 145.17999268 146.13000488 143.8999939\n",
      " 146.71000671 146.74000549 147.72999573 147.02999878 146.32000732]\n",
      "1/1 [==============================] - 0s 52ms/step\n",
      "[[147.05513]]\n",
      "1/1 [==============================] - 0s 55ms/step\n",
      "[[147.05513]]\n",
      "1/1 [==============================] - 0s 52ms/step\n",
      "[[147.05513]]\n",
      "1/1 [==============================] - 0s 59ms/step\n",
      "[[147.05513]]\n",
      "1/1 [==============================] - 0s 60ms/step\n",
      "[[147.05513]]\n",
      "1/1 [==============================] - 0s 55ms/step\n",
      "[[147.05513]]\n",
      "1/1 [==============================] - 0s 44ms/step\n",
      "[[147.05513]]\n",
      "1/1 [==============================] - 0s 82ms/step\n",
      "[[147.05513]]\n",
      "1/1 [==============================] - 0s 58ms/step\n",
      "[[147.05513]]\n",
      "1/1 [==============================] - 0s 55ms/step\n",
      "[[147.05513]]\n",
      "1/1 [==============================] - 0s 55ms/step\n",
      "[[147.05513]]\n",
      "1/1 [==============================] - 0s 68ms/step\n",
      "[[147.05513]]\n",
      "1/1 [==============================] - 0s 53ms/step\n",
      "[[147.05513]]\n",
      "1/1 [==============================] - 0s 51ms/step\n",
      "[[147.05513]]\n",
      "1/1 [==============================] - 0s 52ms/step\n",
      "[[147.05513]]\n",
      "1/1 [==============================] - 0s 73ms/step\n",
      "[[147.05513]]\n",
      "1/1 [==============================] - 0s 54ms/step\n",
      "[[147.05513]]\n",
      "1/1 [==============================] - 0s 53ms/step\n",
      "[[147.05513]]\n",
      "1/1 [==============================] - 0s 53ms/step\n",
      "[[147.05513]]\n",
      "1/1 [==============================] - 0s 52ms/step\n",
      "[[147.05513]]\n"
     ]
    }
   ],
   "source": [
    "Fpredict(20, future_data_to_predict)"
   ]
  },
  {
   "cell_type": "code",
   "execution_count": null,
   "id": "202f3c93",
   "metadata": {},
   "outputs": [],
   "source": []
  }
 ],
 "metadata": {
  "kernelspec": {
   "display_name": "Python 3 (ipykernel)",
   "language": "python",
   "name": "python3"
  },
  "language_info": {
   "codemirror_mode": {
    "name": "ipython",
    "version": 3
   },
   "file_extension": ".py",
   "mimetype": "text/x-python",
   "name": "python",
   "nbconvert_exporter": "python",
   "pygments_lexer": "ipython3",
   "version": "3.11.4"
  }
 },
 "nbformat": 4,
 "nbformat_minor": 5
}
