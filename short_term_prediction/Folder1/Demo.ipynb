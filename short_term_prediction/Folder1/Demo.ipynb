{
 "cells": [
  {
   "cell_type": "code",
   "execution_count": 1,
   "id": "fc6b9692",
   "metadata": {},
   "outputs": [],
   "source": [
    "import numpy as np\n",
    "import pandas as pd\n",
    "import yfinance as yf\n",
    "import matplotlib.pyplot as plt\n",
    "from sklearn.preprocessing import MinMaxScaler\n",
    "from keras.models import Sequential\n",
    "from keras.layers import LSTM, Dense\n",
    "import tensorflow as tf\n",
    "from sklearn.metrics import mean_squared_error, mean_absolute_error, accuracy_score\n",
    "from math import sqrt"
   ]
  },
  {
   "cell_type": "code",
   "execution_count": 52,
   "id": "b85b7fbc",
   "metadata": {},
   "outputs": [],
   "source": [
    "ticker = 'AMZN'\n",
    "start_date = '2018-01-01'\n",
    "end_date = '2023-12-20'"
   ]
  },
  {
   "cell_type": "code",
   "execution_count": 5,
   "id": "b386cf97",
   "metadata": {},
   "outputs": [
    {
     "name": "stdout",
     "output_type": "stream",
     "text": [
      "[*********************100%***********************]  1 of 1 completed\n"
     ]
    },
    {
     "data": {
      "text/html": [
       "<div>\n",
       "<style scoped>\n",
       "    .dataframe tbody tr th:only-of-type {\n",
       "        vertical-align: middle;\n",
       "    }\n",
       "\n",
       "    .dataframe tbody tr th {\n",
       "        vertical-align: top;\n",
       "    }\n",
       "\n",
       "    .dataframe thead th {\n",
       "        text-align: right;\n",
       "    }\n",
       "</style>\n",
       "<table border=\"1\" class=\"dataframe\">\n",
       "  <thead>\n",
       "    <tr style=\"text-align: right;\">\n",
       "      <th></th>\n",
       "      <th>Date</th>\n",
       "      <th>Open</th>\n",
       "      <th>High</th>\n",
       "      <th>Low</th>\n",
       "      <th>Close</th>\n",
       "      <th>Adj Close</th>\n",
       "      <th>Volume</th>\n",
       "    </tr>\n",
       "  </thead>\n",
       "  <tbody>\n",
       "    <tr>\n",
       "      <th>0</th>\n",
       "      <td>2018-01-02</td>\n",
       "      <td>58.599998</td>\n",
       "      <td>59.500000</td>\n",
       "      <td>58.525501</td>\n",
       "      <td>59.450500</td>\n",
       "      <td>59.450500</td>\n",
       "      <td>53890000</td>\n",
       "    </tr>\n",
       "    <tr>\n",
       "      <th>1</th>\n",
       "      <td>2018-01-03</td>\n",
       "      <td>59.415001</td>\n",
       "      <td>60.274502</td>\n",
       "      <td>59.415001</td>\n",
       "      <td>60.209999</td>\n",
       "      <td>60.209999</td>\n",
       "      <td>62176000</td>\n",
       "    </tr>\n",
       "    <tr>\n",
       "      <th>2</th>\n",
       "      <td>2018-01-04</td>\n",
       "      <td>60.250000</td>\n",
       "      <td>60.793499</td>\n",
       "      <td>60.233002</td>\n",
       "      <td>60.479500</td>\n",
       "      <td>60.479500</td>\n",
       "      <td>60442000</td>\n",
       "    </tr>\n",
       "    <tr>\n",
       "      <th>3</th>\n",
       "      <td>2018-01-05</td>\n",
       "      <td>60.875500</td>\n",
       "      <td>61.457001</td>\n",
       "      <td>60.500000</td>\n",
       "      <td>61.457001</td>\n",
       "      <td>61.457001</td>\n",
       "      <td>70894000</td>\n",
       "    </tr>\n",
       "    <tr>\n",
       "      <th>4</th>\n",
       "      <td>2018-01-08</td>\n",
       "      <td>61.799999</td>\n",
       "      <td>62.653999</td>\n",
       "      <td>61.601501</td>\n",
       "      <td>62.343498</td>\n",
       "      <td>62.343498</td>\n",
       "      <td>85590000</td>\n",
       "    </tr>\n",
       "    <tr>\n",
       "      <th>...</th>\n",
       "      <td>...</td>\n",
       "      <td>...</td>\n",
       "      <td>...</td>\n",
       "      <td>...</td>\n",
       "      <td>...</td>\n",
       "      <td>...</td>\n",
       "      <td>...</td>\n",
       "    </tr>\n",
       "    <tr>\n",
       "      <th>1497</th>\n",
       "      <td>2023-12-13</td>\n",
       "      <td>148.119995</td>\n",
       "      <td>149.460007</td>\n",
       "      <td>146.820007</td>\n",
       "      <td>148.839996</td>\n",
       "      <td>148.839996</td>\n",
       "      <td>52766200</td>\n",
       "    </tr>\n",
       "    <tr>\n",
       "      <th>1498</th>\n",
       "      <td>2023-12-14</td>\n",
       "      <td>149.929993</td>\n",
       "      <td>150.539993</td>\n",
       "      <td>145.520004</td>\n",
       "      <td>147.419998</td>\n",
       "      <td>147.419998</td>\n",
       "      <td>58400800</td>\n",
       "    </tr>\n",
       "    <tr>\n",
       "      <th>1499</th>\n",
       "      <td>2023-12-15</td>\n",
       "      <td>148.380005</td>\n",
       "      <td>150.570007</td>\n",
       "      <td>147.880005</td>\n",
       "      <td>149.970001</td>\n",
       "      <td>149.970001</td>\n",
       "      <td>110039100</td>\n",
       "    </tr>\n",
       "    <tr>\n",
       "      <th>1500</th>\n",
       "      <td>2023-12-18</td>\n",
       "      <td>150.559998</td>\n",
       "      <td>154.850006</td>\n",
       "      <td>150.050003</td>\n",
       "      <td>154.070007</td>\n",
       "      <td>154.070007</td>\n",
       "      <td>62512800</td>\n",
       "    </tr>\n",
       "    <tr>\n",
       "      <th>1501</th>\n",
       "      <td>2023-12-19</td>\n",
       "      <td>154.399994</td>\n",
       "      <td>155.119995</td>\n",
       "      <td>152.690002</td>\n",
       "      <td>153.789993</td>\n",
       "      <td>153.789993</td>\n",
       "      <td>43171300</td>\n",
       "    </tr>\n",
       "  </tbody>\n",
       "</table>\n",
       "<p>1502 rows × 7 columns</p>\n",
       "</div>"
      ],
      "text/plain": [
       "           Date        Open        High         Low       Close   Adj Close  \\\n",
       "0    2018-01-02   58.599998   59.500000   58.525501   59.450500   59.450500   \n",
       "1    2018-01-03   59.415001   60.274502   59.415001   60.209999   60.209999   \n",
       "2    2018-01-04   60.250000   60.793499   60.233002   60.479500   60.479500   \n",
       "3    2018-01-05   60.875500   61.457001   60.500000   61.457001   61.457001   \n",
       "4    2018-01-08   61.799999   62.653999   61.601501   62.343498   62.343498   \n",
       "...         ...         ...         ...         ...         ...         ...   \n",
       "1497 2023-12-13  148.119995  149.460007  146.820007  148.839996  148.839996   \n",
       "1498 2023-12-14  149.929993  150.539993  145.520004  147.419998  147.419998   \n",
       "1499 2023-12-15  148.380005  150.570007  147.880005  149.970001  149.970001   \n",
       "1500 2023-12-18  150.559998  154.850006  150.050003  154.070007  154.070007   \n",
       "1501 2023-12-19  154.399994  155.119995  152.690002  153.789993  153.789993   \n",
       "\n",
       "         Volume  \n",
       "0      53890000  \n",
       "1      62176000  \n",
       "2      60442000  \n",
       "3      70894000  \n",
       "4      85590000  \n",
       "...         ...  \n",
       "1497   52766200  \n",
       "1498   58400800  \n",
       "1499  110039100  \n",
       "1500   62512800  \n",
       "1501   43171300  \n",
       "\n",
       "[1502 rows x 7 columns]"
      ]
     },
     "execution_count": 5,
     "metadata": {},
     "output_type": "execute_result"
    }
   ],
   "source": [
    "df = yf.download(ticker, start_date, end_date).reset_index()\n",
    "df"
   ]
  },
  {
   "cell_type": "code",
   "execution_count": 6,
   "id": "9fb331be",
   "metadata": {},
   "outputs": [],
   "source": [
    "close = df['Close']"
   ]
  },
  {
   "cell_type": "code",
   "execution_count": 7,
   "id": "c57616bc",
   "metadata": {},
   "outputs": [
    {
     "name": "stdout",
     "output_type": "stream",
     "text": [
      "[ 59.45050049  60.20999908  60.47949982 ... 149.97000122 154.07000732\n",
      " 153.78999329]\n"
     ]
    }
   ],
   "source": [
    "print(close.values)"
   ]
  },
  {
   "cell_type": "code",
   "execution_count": 8,
   "id": "625da953",
   "metadata": {},
   "outputs": [
    {
     "data": {
      "text/plain": [
       "array([[0.        ],\n",
       "       [0.00597466],\n",
       "       [0.00809471],\n",
       "       ...,\n",
       "       [0.71207917],\n",
       "       [0.74433221],\n",
       "       [0.74212946]])"
      ]
     },
     "execution_count": 8,
     "metadata": {},
     "output_type": "execute_result"
    }
   ],
   "source": [
    "scaler = MinMaxScaler()\n",
    "data = scaler.fit_transform(close.values.reshape(-1, 1))\n",
    "data"
   ]
  },
  {
   "cell_type": "code",
   "execution_count": 9,
   "id": "77f1ba06",
   "metadata": {},
   "outputs": [
    {
     "data": {
      "text/plain": [
       "((1201, 1), (301, 1))"
      ]
     },
     "execution_count": 9,
     "metadata": {},
     "output_type": "execute_result"
    }
   ],
   "source": [
    "train_data = data[:int(len(data)*0.8)]\n",
    "test_data = data[int(len(data)*0.8):]\n",
    "train_data.shape, test_data.shape"
   ]
  },
  {
   "cell_type": "code",
   "execution_count": 10,
   "id": "8ee03551",
   "metadata": {},
   "outputs": [
    {
     "data": {
      "text/plain": [
       "array([0.24448945])"
      ]
     },
     "execution_count": 10,
     "metadata": {},
     "output_type": "execute_result"
    }
   ],
   "source": [
    "test_data[20]"
   ]
  },
  {
   "cell_type": "code",
   "execution_count": 11,
   "id": "9e65d13f",
   "metadata": {},
   "outputs": [],
   "source": [
    "past_values = 20\n",
    "def data_preparation(data,past_values):\n",
    "    X = []\n",
    "    y = []\n",
    "    for i in range(past_values, len(data)):\n",
    "        X.append(data[i-20:i])\n",
    "        y.append(data[i])\n",
    "    return np.array(X), np.array(y)"
   ]
  },
  {
   "cell_type": "code",
   "execution_count": 12,
   "id": "a360d6db",
   "metadata": {},
   "outputs": [],
   "source": [
    "X_train, y_train = data_preparation(train_data,past_values)\n",
    "X_test, y_test = data_preparation(test_data,past_values)"
   ]
  },
  {
   "cell_type": "code",
   "execution_count": 13,
   "id": "a0680369",
   "metadata": {},
   "outputs": [
    {
     "data": {
      "text/plain": [
       "(array([[[0.        ],\n",
       "         [0.00597466],\n",
       "         [0.00809471],\n",
       "         ...,\n",
       "         [0.08379485],\n",
       "         [0.08994259],\n",
       "         [0.09786421]],\n",
       " \n",
       "        [[0.00597466],\n",
       "         [0.00809471],\n",
       "         [0.0157843 ],\n",
       "         ...,\n",
       "         [0.08994259],\n",
       "         [0.09786421],\n",
       "         [0.10300505]],\n",
       " \n",
       "        [[0.00809471],\n",
       "         [0.0157843 ],\n",
       "         [0.02275801],\n",
       "         ...,\n",
       "         [0.09786421],\n",
       "         [0.10300505],\n",
       "         [0.07905522]],\n",
       " \n",
       "        ...,\n",
       " \n",
       "        [[0.55089284],\n",
       "         [0.55356757],\n",
       "         [0.58070726],\n",
       "         ...,\n",
       "         [0.42125159],\n",
       "         [0.44390732],\n",
       "         [0.48489221]],\n",
       " \n",
       "        [[0.55356757],\n",
       "         [0.58070726],\n",
       "         [0.60572293],\n",
       "         ...,\n",
       "         [0.44390732],\n",
       "         [0.48489221],\n",
       "         [0.4837909 ]],\n",
       " \n",
       "        [[0.58070726],\n",
       "         [0.60572293],\n",
       "         [0.52996776],\n",
       "         ...,\n",
       "         [0.48489221],\n",
       "         [0.4837909 ],\n",
       "         [0.47867767]]]),\n",
       " array([[0.10300505],\n",
       "        [0.07905522],\n",
       "        [0.0947687 ],\n",
       "        ...,\n",
       "        [0.4837909 ],\n",
       "        [0.47867767],\n",
       "        [0.43352344]]))"
      ]
     },
     "execution_count": 13,
     "metadata": {},
     "output_type": "execute_result"
    }
   ],
   "source": [
    "X_train, y_train"
   ]
  },
  {
   "cell_type": "code",
   "execution_count": 14,
   "id": "5cd01741",
   "metadata": {},
   "outputs": [
    {
     "data": {
      "text/plain": [
       "((1181, 20, 1), (1181, 1))"
      ]
     },
     "execution_count": 14,
     "metadata": {},
     "output_type": "execute_result"
    }
   ],
   "source": [
    "X_train.shape, y_train.shape"
   ]
  },
  {
   "cell_type": "code",
   "execution_count": 15,
   "id": "d36b381a",
   "metadata": {},
   "outputs": [
    {
     "name": "stdout",
     "output_type": "stream",
     "text": [
      "Epoch 1/200\n",
      "6/6 [==============================] - 6s 65ms/step - loss: 0.1542\n",
      "Epoch 2/200\n",
      "6/6 [==============================] - 0s 63ms/step - loss: 0.0343\n",
      "Epoch 3/200\n",
      "6/6 [==============================] - 0s 63ms/step - loss: 0.0215\n",
      "Epoch 4/200\n",
      "6/6 [==============================] - 0s 63ms/step - loss: 0.0130\n",
      "Epoch 5/200\n",
      "6/6 [==============================] - 0s 63ms/step - loss: 0.0104\n",
      "Epoch 6/200\n",
      "6/6 [==============================] - 0s 63ms/step - loss: 0.0060\n",
      "Epoch 7/200\n",
      "6/6 [==============================] - 0s 63ms/step - loss: 0.0044\n",
      "Epoch 8/200\n",
      "6/6 [==============================] - 0s 63ms/step - loss: 0.0041\n",
      "Epoch 9/200\n",
      "6/6 [==============================] - 0s 63ms/step - loss: 0.0036\n",
      "Epoch 10/200\n",
      "6/6 [==============================] - 0s 63ms/step - loss: 0.0035\n",
      "Epoch 11/200\n",
      "6/6 [==============================] - 0s 63ms/step - loss: 0.0033\n",
      "Epoch 12/200\n",
      "6/6 [==============================] - 0s 63ms/step - loss: 0.0033\n",
      "Epoch 13/200\n",
      "6/6 [==============================] - 0s 63ms/step - loss: 0.0032\n",
      "Epoch 14/200\n",
      "6/6 [==============================] - 0s 63ms/step - loss: 0.0032\n",
      "Epoch 15/200\n",
      "6/6 [==============================] - 0s 64ms/step - loss: 0.0032\n",
      "Epoch 16/200\n",
      "6/6 [==============================] - 0s 64ms/step - loss: 0.0032\n",
      "Epoch 17/200\n",
      "6/6 [==============================] - 0s 63ms/step - loss: 0.0032\n",
      "Epoch 18/200\n",
      "6/6 [==============================] - 0s 63ms/step - loss: 0.0031\n",
      "Epoch 19/200\n",
      "6/6 [==============================] - 0s 64ms/step - loss: 0.0031\n",
      "Epoch 20/200\n",
      "6/6 [==============================] - 0s 63ms/step - loss: 0.0031\n",
      "Epoch 21/200\n",
      "6/6 [==============================] - 0s 63ms/step - loss: 0.0031\n",
      "Epoch 22/200\n",
      "6/6 [==============================] - 0s 60ms/step - loss: 0.0031\n",
      "Epoch 23/200\n",
      "6/6 [==============================] - 0s 60ms/step - loss: 0.0031\n",
      "Epoch 24/200\n",
      "6/6 [==============================] - 0s 60ms/step - loss: 0.0031\n",
      "Epoch 25/200\n",
      "6/6 [==============================] - 0s 61ms/step - loss: 0.0031\n",
      "Epoch 26/200\n",
      "6/6 [==============================] - 0s 63ms/step - loss: 0.0030\n",
      "Epoch 27/200\n",
      "6/6 [==============================] - 0s 60ms/step - loss: 0.0030\n",
      "Epoch 28/200\n",
      "6/6 [==============================] - 0s 60ms/step - loss: 0.0030\n",
      "Epoch 29/200\n",
      "6/6 [==============================] - 0s 63ms/step - loss: 0.0030\n",
      "Epoch 30/200\n",
      "6/6 [==============================] - 0s 60ms/step - loss: 0.0029\n",
      "Epoch 31/200\n",
      "6/6 [==============================] - 0s 64ms/step - loss: 0.0029\n",
      "Epoch 32/200\n",
      "6/6 [==============================] - 0s 60ms/step - loss: 0.0029\n",
      "Epoch 33/200\n",
      "6/6 [==============================] - 0s 61ms/step - loss: 0.0029\n",
      "Epoch 34/200\n",
      "6/6 [==============================] - 0s 60ms/step - loss: 0.0028\n",
      "Epoch 35/200\n",
      "6/6 [==============================] - 0s 60ms/step - loss: 0.0028\n",
      "Epoch 36/200\n",
      "6/6 [==============================] - 0s 63ms/step - loss: 0.0028\n",
      "Epoch 37/200\n",
      "6/6 [==============================] - 0s 63ms/step - loss: 0.0028\n",
      "Epoch 38/200\n",
      "6/6 [==============================] - 0s 63ms/step - loss: 0.0027\n",
      "Epoch 39/200\n",
      "6/6 [==============================] - 0s 60ms/step - loss: 0.0027\n",
      "Epoch 40/200\n",
      "6/6 [==============================] - 0s 60ms/step - loss: 0.0026\n",
      "Epoch 41/200\n",
      "6/6 [==============================] - 0s 60ms/step - loss: 0.0026\n",
      "Epoch 42/200\n",
      "6/6 [==============================] - 0s 60ms/step - loss: 0.0025\n",
      "Epoch 43/200\n",
      "6/6 [==============================] - 0s 60ms/step - loss: 0.0025\n",
      "Epoch 44/200\n",
      "6/6 [==============================] - 0s 60ms/step - loss: 0.0025\n",
      "Epoch 45/200\n",
      "6/6 [==============================] - 0s 60ms/step - loss: 0.0024\n",
      "Epoch 46/200\n",
      "6/6 [==============================] - 0s 60ms/step - loss: 0.0025\n",
      "Epoch 47/200\n",
      "6/6 [==============================] - 0s 60ms/step - loss: 0.0024\n",
      "Epoch 48/200\n",
      "6/6 [==============================] - 0s 63ms/step - loss: 0.0024\n",
      "Epoch 49/200\n",
      "6/6 [==============================] - 0s 63ms/step - loss: 0.0024\n",
      "Epoch 50/200\n",
      "6/6 [==============================] - 0s 63ms/step - loss: 0.0024\n",
      "Epoch 51/200\n",
      "6/6 [==============================] - 0s 67ms/step - loss: 0.0022\n",
      "Epoch 52/200\n",
      "6/6 [==============================] - 0s 63ms/step - loss: 0.0022\n",
      "Epoch 53/200\n",
      "6/6 [==============================] - 0s 63ms/step - loss: 0.0021\n",
      "Epoch 54/200\n",
      "6/6 [==============================] - 0s 60ms/step - loss: 0.0022\n",
      "Epoch 55/200\n",
      "6/6 [==============================] - 0s 61ms/step - loss: 0.0021\n",
      "Epoch 56/200\n",
      "6/6 [==============================] - 0s 61ms/step - loss: 0.0021\n",
      "Epoch 57/200\n",
      "6/6 [==============================] - 0s 64ms/step - loss: 0.0021\n",
      "Epoch 58/200\n",
      "6/6 [==============================] - 0s 60ms/step - loss: 0.0021\n",
      "Epoch 59/200\n",
      "6/6 [==============================] - 0s 60ms/step - loss: 0.0021\n",
      "Epoch 60/200\n",
      "6/6 [==============================] - 0s 61ms/step - loss: 0.0020\n",
      "Epoch 61/200\n",
      "6/6 [==============================] - 0s 60ms/step - loss: 0.0020\n",
      "Epoch 62/200\n",
      "6/6 [==============================] - 0s 64ms/step - loss: 0.0023\n",
      "Epoch 63/200\n",
      "6/6 [==============================] - 0s 63ms/step - loss: 0.0022\n",
      "Epoch 64/200\n",
      "6/6 [==============================] - 0s 60ms/step - loss: 0.0020\n",
      "Epoch 65/200\n",
      "6/6 [==============================] - 0s 64ms/step - loss: 0.0019\n",
      "Epoch 66/200\n",
      "6/6 [==============================] - 0s 60ms/step - loss: 0.0020\n",
      "Epoch 67/200\n",
      "6/6 [==============================] - 0s 60ms/step - loss: 0.0019\n",
      "Epoch 68/200\n",
      "6/6 [==============================] - 0s 67ms/step - loss: 0.0019\n",
      "Epoch 69/200\n",
      "6/6 [==============================] - 0s 64ms/step - loss: 0.0019\n",
      "Epoch 70/200\n",
      "6/6 [==============================] - 0s 65ms/step - loss: 0.0019\n",
      "Epoch 71/200\n",
      "6/6 [==============================] - 0s 63ms/step - loss: 0.0019\n",
      "Epoch 72/200\n",
      "6/6 [==============================] - 0s 63ms/step - loss: 0.0018\n",
      "Epoch 73/200\n",
      "6/6 [==============================] - 0s 60ms/step - loss: 0.0019\n",
      "Epoch 74/200\n",
      "6/6 [==============================] - 0s 60ms/step - loss: 0.0019\n",
      "Epoch 75/200\n",
      "6/6 [==============================] - 0s 63ms/step - loss: 0.0020\n",
      "Epoch 76/200\n",
      "6/6 [==============================] - 0s 67ms/step - loss: 0.0021\n",
      "Epoch 77/200\n",
      "6/6 [==============================] - 0s 63ms/step - loss: 0.0021\n",
      "Epoch 78/200\n",
      "6/6 [==============================] - 0s 66ms/step - loss: 0.0021\n",
      "Epoch 79/200\n",
      "6/6 [==============================] - 0s 65ms/step - loss: 0.0019\n",
      "Epoch 80/200\n",
      "6/6 [==============================] - 0s 63ms/step - loss: 0.0018\n",
      "Epoch 81/200\n",
      "6/6 [==============================] - 0s 66ms/step - loss: 0.0018\n",
      "Epoch 82/200\n",
      "6/6 [==============================] - 0s 63ms/step - loss: 0.0017\n",
      "Epoch 83/200\n",
      "6/6 [==============================] - 0s 70ms/step - loss: 0.0017\n",
      "Epoch 84/200\n",
      "6/6 [==============================] - 0s 63ms/step - loss: 0.0017\n",
      "Epoch 85/200\n",
      "6/6 [==============================] - 0s 66ms/step - loss: 0.0017\n",
      "Epoch 86/200\n",
      "6/6 [==============================] - 0s 63ms/step - loss: 0.0017\n",
      "Epoch 87/200\n",
      "6/6 [==============================] - 0s 63ms/step - loss: 0.0017\n",
      "Epoch 88/200\n",
      "6/6 [==============================] - 0s 63ms/step - loss: 0.0017\n",
      "Epoch 89/200\n",
      "6/6 [==============================] - 0s 61ms/step - loss: 0.0017\n",
      "Epoch 90/200\n",
      "6/6 [==============================] - 0s 60ms/step - loss: 0.0017\n",
      "Epoch 91/200\n",
      "6/6 [==============================] - 0s 60ms/step - loss: 0.0016\n",
      "Epoch 92/200\n",
      "6/6 [==============================] - 0s 61ms/step - loss: 0.0016\n",
      "Epoch 93/200\n",
      "6/6 [==============================] - 0s 60ms/step - loss: 0.0016\n",
      "Epoch 94/200\n",
      "6/6 [==============================] - 0s 60ms/step - loss: 0.0016\n",
      "Epoch 95/200\n",
      "6/6 [==============================] - 0s 61ms/step - loss: 0.0016\n",
      "Epoch 96/200\n",
      "6/6 [==============================] - 0s 63ms/step - loss: 0.0016\n",
      "Epoch 97/200\n",
      "6/6 [==============================] - 0s 63ms/step - loss: 0.0016\n",
      "Epoch 98/200\n",
      "6/6 [==============================] - 0s 60ms/step - loss: 0.0016\n",
      "Epoch 99/200\n",
      "6/6 [==============================] - 0s 64ms/step - loss: 0.0015\n",
      "Epoch 100/200\n",
      "6/6 [==============================] - 0s 60ms/step - loss: 0.0016\n",
      "Epoch 101/200\n",
      "6/6 [==============================] - 0s 63ms/step - loss: 0.0016\n",
      "Epoch 102/200\n",
      "6/6 [==============================] - 0s 63ms/step - loss: 0.0015\n",
      "Epoch 103/200\n",
      "6/6 [==============================] - 0s 63ms/step - loss: 0.0015\n",
      "Epoch 104/200\n",
      "6/6 [==============================] - 0s 60ms/step - loss: 0.0015\n",
      "Epoch 105/200\n",
      "6/6 [==============================] - 0s 60ms/step - loss: 0.0015\n",
      "Epoch 106/200\n",
      "6/6 [==============================] - 0s 58ms/step - loss: 0.0015\n",
      "Epoch 107/200\n",
      "6/6 [==============================] - 0s 60ms/step - loss: 0.0015\n",
      "Epoch 108/200\n",
      "6/6 [==============================] - 0s 60ms/step - loss: 0.0015\n",
      "Epoch 109/200\n",
      "6/6 [==============================] - 0s 61ms/step - loss: 0.0015\n",
      "Epoch 110/200\n",
      "6/6 [==============================] - 0s 67ms/step - loss: 0.0014\n",
      "Epoch 111/200\n",
      "6/6 [==============================] - 0s 65ms/step - loss: 0.0014\n",
      "Epoch 112/200\n",
      "6/6 [==============================] - 0s 63ms/step - loss: 0.0014\n",
      "Epoch 113/200\n",
      "6/6 [==============================] - 0s 64ms/step - loss: 0.0014\n",
      "Epoch 114/200\n",
      "6/6 [==============================] - 0s 63ms/step - loss: 0.0014\n",
      "Epoch 115/200\n",
      "6/6 [==============================] - 0s 65ms/step - loss: 0.0014\n",
      "Epoch 116/200\n",
      "6/6 [==============================] - 0s 67ms/step - loss: 0.0015\n",
      "Epoch 117/200\n",
      "6/6 [==============================] - 0s 65ms/step - loss: 0.0014\n",
      "Epoch 118/200\n",
      "6/6 [==============================] - 0s 63ms/step - loss: 0.0013\n",
      "Epoch 119/200\n",
      "6/6 [==============================] - 0s 67ms/step - loss: 0.0013\n",
      "Epoch 120/200\n",
      "6/6 [==============================] - 0s 67ms/step - loss: 0.0013\n",
      "Epoch 121/200\n",
      "6/6 [==============================] - 0s 67ms/step - loss: 0.0014\n",
      "Epoch 122/200\n",
      "6/6 [==============================] - 0s 69ms/step - loss: 0.0014\n",
      "Epoch 123/200\n",
      "6/6 [==============================] - 0s 63ms/step - loss: 0.0013\n",
      "Epoch 124/200\n",
      "6/6 [==============================] - 0s 64ms/step - loss: 0.0013\n",
      "Epoch 125/200\n",
      "6/6 [==============================] - 0s 65ms/step - loss: 0.0012\n",
      "Epoch 126/200\n",
      "6/6 [==============================] - 0s 63ms/step - loss: 0.0012\n",
      "Epoch 127/200\n",
      "6/6 [==============================] - 0s 66ms/step - loss: 0.0012\n",
      "Epoch 128/200\n",
      "6/6 [==============================] - 0s 67ms/step - loss: 0.0012\n",
      "Epoch 129/200\n",
      "6/6 [==============================] - 0s 62ms/step - loss: 0.0012\n",
      "Epoch 130/200\n",
      "6/6 [==============================] - 0s 63ms/step - loss: 0.0012\n",
      "Epoch 131/200\n",
      "6/6 [==============================] - 0s 60ms/step - loss: 0.0012\n",
      "Epoch 132/200\n",
      "6/6 [==============================] - 0s 60ms/step - loss: 0.0012\n",
      "Epoch 133/200\n",
      "6/6 [==============================] - 0s 63ms/step - loss: 0.0011\n",
      "Epoch 134/200\n",
      "6/6 [==============================] - 0s 60ms/step - loss: 0.0012\n",
      "Epoch 135/200\n",
      "6/6 [==============================] - 0s 63ms/step - loss: 0.0011\n",
      "Epoch 136/200\n",
      "6/6 [==============================] - 0s 60ms/step - loss: 0.0011\n",
      "Epoch 137/200\n",
      "6/6 [==============================] - 0s 60ms/step - loss: 0.0011\n",
      "Epoch 138/200\n",
      "6/6 [==============================] - 0s 61ms/step - loss: 0.0012\n",
      "Epoch 139/200\n",
      "6/6 [==============================] - 0s 73ms/step - loss: 0.0011\n",
      "Epoch 140/200\n",
      "6/6 [==============================] - 0s 64ms/step - loss: 0.0012\n",
      "Epoch 141/200\n",
      "6/6 [==============================] - 0s 66ms/step - loss: 0.0018\n",
      "Epoch 142/200\n",
      "6/6 [==============================] - 0s 64ms/step - loss: 0.0014\n",
      "Epoch 143/200\n",
      "6/6 [==============================] - 0s 74ms/step - loss: 0.0012\n",
      "Epoch 144/200\n",
      "6/6 [==============================] - 0s 67ms/step - loss: 0.0012\n",
      "Epoch 145/200\n",
      "6/6 [==============================] - 0s 67ms/step - loss: 0.0012\n",
      "Epoch 146/200\n",
      "6/6 [==============================] - 0s 73ms/step - loss: 0.0012\n",
      "Epoch 147/200\n",
      "6/6 [==============================] - 0s 66ms/step - loss: 0.0011\n",
      "Epoch 148/200\n",
      "6/6 [==============================] - 0s 66ms/step - loss: 0.0011\n",
      "Epoch 149/200\n",
      "6/6 [==============================] - 0s 66ms/step - loss: 0.0012\n",
      "Epoch 150/200\n",
      "6/6 [==============================] - 0s 65ms/step - loss: 0.0011\n",
      "Epoch 151/200\n",
      "6/6 [==============================] - 0s 63ms/step - loss: 0.0011\n",
      "Epoch 152/200\n",
      "6/6 [==============================] - 0s 64ms/step - loss: 0.0011\n",
      "Epoch 153/200\n",
      "6/6 [==============================] - 0s 68ms/step - loss: 0.0011\n",
      "Epoch 154/200\n",
      "6/6 [==============================] - 0s 68ms/step - loss: 0.0011\n",
      "Epoch 155/200\n",
      "6/6 [==============================] - 0s 67ms/step - loss: 0.0010\n",
      "Epoch 156/200\n",
      "6/6 [==============================] - 0s 63ms/step - loss: 0.0010\n",
      "Epoch 157/200\n",
      "6/6 [==============================] - 0s 63ms/step - loss: 0.0010\n",
      "Epoch 158/200\n",
      "6/6 [==============================] - 0s 64ms/step - loss: 0.0010\n",
      "Epoch 159/200\n",
      "6/6 [==============================] - 0s 80ms/step - loss: 0.0010\n",
      "Epoch 160/200\n",
      "6/6 [==============================] - 0s 74ms/step - loss: 0.0010\n",
      "Epoch 161/200\n",
      "6/6 [==============================] - 0s 65ms/step - loss: 0.0010\n",
      "Epoch 162/200\n",
      "6/6 [==============================] - 0s 64ms/step - loss: 0.0011\n",
      "Epoch 163/200\n",
      "6/6 [==============================] - 0s 63ms/step - loss: 0.0011\n",
      "Epoch 164/200\n",
      "6/6 [==============================] - 0s 60ms/step - loss: 0.0010\n",
      "Epoch 165/200\n",
      "6/6 [==============================] - 0s 60ms/step - loss: 0.0011\n",
      "Epoch 166/200\n",
      "6/6 [==============================] - 0s 60ms/step - loss: 9.8305e-04\n",
      "Epoch 167/200\n",
      "6/6 [==============================] - 0s 60ms/step - loss: 9.5604e-04\n",
      "Epoch 168/200\n",
      "6/6 [==============================] - 0s 60ms/step - loss: 9.5821e-04\n",
      "Epoch 169/200\n",
      "6/6 [==============================] - 0s 61ms/step - loss: 9.7469e-04\n",
      "Epoch 170/200\n",
      "6/6 [==============================] - 0s 63ms/step - loss: 9.4585e-04\n",
      "Epoch 171/200\n",
      "6/6 [==============================] - 0s 68ms/step - loss: 9.6173e-04\n",
      "Epoch 172/200\n",
      "6/6 [==============================] - 0s 77ms/step - loss: 0.0011\n",
      "Epoch 173/200\n",
      "6/6 [==============================] - 0s 68ms/step - loss: 0.0011\n",
      "Epoch 174/200\n",
      "6/6 [==============================] - 0s 64ms/step - loss: 0.0011\n",
      "Epoch 175/200\n",
      "6/6 [==============================] - 0s 67ms/step - loss: 0.0010\n",
      "Epoch 176/200\n",
      "6/6 [==============================] - 0s 63ms/step - loss: 9.7653e-04\n",
      "Epoch 177/200\n",
      "6/6 [==============================] - 0s 68ms/step - loss: 9.2932e-04\n",
      "Epoch 178/200\n",
      "6/6 [==============================] - 0s 70ms/step - loss: 9.2497e-04\n",
      "Epoch 179/200\n",
      "6/6 [==============================] - 0s 77ms/step - loss: 8.9381e-04\n",
      "Epoch 180/200\n",
      "6/6 [==============================] - 0s 75ms/step - loss: 9.1628e-04\n",
      "Epoch 181/200\n",
      "6/6 [==============================] - 0s 67ms/step - loss: 9.2877e-04\n",
      "Epoch 182/200\n",
      "6/6 [==============================] - 0s 63ms/step - loss: 9.3377e-04\n",
      "Epoch 183/200\n",
      "6/6 [==============================] - 0s 63ms/step - loss: 9.1049e-04\n",
      "Epoch 184/200\n",
      "6/6 [==============================] - 0s 79ms/step - loss: 9.0574e-04\n",
      "Epoch 185/200\n",
      "6/6 [==============================] - 0s 67ms/step - loss: 0.0010\n",
      "Epoch 186/200\n",
      "6/6 [==============================] - 0s 74ms/step - loss: 0.0011\n",
      "Epoch 187/200\n",
      "6/6 [==============================] - 0s 70ms/step - loss: 0.0010\n",
      "Epoch 188/200\n",
      "6/6 [==============================] - 0s 71ms/step - loss: 8.6529e-04\n",
      "Epoch 189/200\n",
      "6/6 [==============================] - 0s 65ms/step - loss: 8.4416e-04\n",
      "Epoch 190/200\n",
      "6/6 [==============================] - 0s 72ms/step - loss: 8.4840e-04\n",
      "Epoch 191/200\n",
      "6/6 [==============================] - 0s 67ms/step - loss: 9.5226e-04\n",
      "Epoch 192/200\n",
      "6/6 [==============================] - 0s 67ms/step - loss: 8.8728e-04\n",
      "Epoch 193/200\n",
      "6/6 [==============================] - 0s 70ms/step - loss: 9.0862e-04\n",
      "Epoch 194/200\n",
      "6/6 [==============================] - 0s 65ms/step - loss: 8.5999e-04\n",
      "Epoch 195/200\n",
      "6/6 [==============================] - 0s 62ms/step - loss: 8.2362e-04\n",
      "Epoch 196/200\n",
      "6/6 [==============================] - 0s 77ms/step - loss: 8.1951e-04\n",
      "Epoch 197/200\n",
      "6/6 [==============================] - 0s 66ms/step - loss: 8.2547e-04\n",
      "Epoch 198/200\n",
      "6/6 [==============================] - 0s 63ms/step - loss: 8.0540e-04\n",
      "Epoch 199/200\n",
      "6/6 [==============================] - 0s 63ms/step - loss: 8.0004e-04\n",
      "Epoch 200/200\n",
      "6/6 [==============================] - 0s 63ms/step - loss: 8.0956e-04\n"
     ]
    },
    {
     "data": {
      "text/plain": [
       "<keras.src.callbacks.History at 0x28257448190>"
      ]
     },
     "execution_count": 15,
     "metadata": {},
     "output_type": "execute_result"
    }
   ],
   "source": [
    "model = Sequential()\n",
    "model.add(LSTM(50, return_sequences=True, input_shape=(X_train.shape[1], 1)))\n",
    "model.add(LSTM(50, return_sequences=True))\n",
    "model.add(LSTM(50, return_sequences=False))\n",
    "model.add(Dense(25))\n",
    "model.add(Dense(1))\n",
    "\n",
    "model.compile(optimizer='adam', loss='mean_squared_error')\n",
    "model.fit(X_train, y_train, batch_size=200, epochs=200, verbose=1)\n",
    "\n",
    "# callback = tf.keras.callbacks.EarlyStopping(\n",
    "#     monitor='val_loss',\n",
    "#     min_delta=0,\n",
    "#     patience=0,\n",
    "#     verbose=0,\n",
    "#     mode='auto',\n",
    "#     baseline=None,\n",
    "#     restore_best_weights=False,\n",
    "#     start_from_epoch=0\n",
    "# )\n",
    "# model.fit(X_train, y_train, batch_size=200, epochs=500, verbose=1, callbacks=[callback])"
   ]
  },
  {
   "cell_type": "code",
   "execution_count": 16,
   "id": "12e2ae5e",
   "metadata": {
    "scrolled": true
   },
   "outputs": [
    {
     "name": "stdout",
     "output_type": "stream",
     "text": [
      "37/37 [==============================] - 1s 9ms/step\n"
     ]
    }
   ],
   "source": [
    "pred_train = model.predict(X_train)"
   ]
  },
  {
   "cell_type": "code",
   "execution_count": 17,
   "id": "0d5c1469",
   "metadata": {},
   "outputs": [
    {
     "data": {
      "text/plain": [
       "array([[0.08497006],\n",
       "       [0.09194986],\n",
       "       [0.0957891 ],\n",
       "       ...,\n",
       "       [0.45668498],\n",
       "       [0.47306886],\n",
       "       [0.48576492]], dtype=float32)"
      ]
     },
     "execution_count": 17,
     "metadata": {},
     "output_type": "execute_result"
    }
   ],
   "source": [
    "pred_train"
   ]
  },
  {
   "cell_type": "code",
   "execution_count": 18,
   "id": "b513ec61",
   "metadata": {},
   "outputs": [
    {
     "name": "stdout",
     "output_type": "stream",
     "text": [
      "mean absolute error- 0.020454693449604003\n",
      "mean squared error- 0.0007885954637127474\n"
     ]
    }
   ],
   "source": [
    "mae = mean_absolute_error(y_train, pred_train)\n",
    "print('mean absolute error-', mae)\n",
    "mse = mean_squared_error(y_train, pred_train)\n",
    "print('mean squared error-', mse)"
   ]
  },
  {
   "cell_type": "code",
   "execution_count": 57,
   "id": "ce0baf19",
   "metadata": {},
   "outputs": [
    {
     "data": {
      "text/plain": [
       "<matplotlib.legend.Legend at 0x282655cc910>"
      ]
     },
     "execution_count": 57,
     "metadata": {},
     "output_type": "execute_result"
    },
    {
     "data": {
      "image/png": "[encoded data removed]",
      "text/plain": [
       "<Figure size 640x480 with 1 Axes>"
      ]
     },
     "metadata": {},
     "output_type": "display_data"
    }
   ],
   "source": [
    "plt.title(f\"{ticker}'s Prediction from {start_date} to {end_date}\\n Actual vs. Predicted on Training Data\")\n",
    "plt.xlabel('Days')\n",
    "plt.ylabel('Price')\n",
    "plt.plot(y_train, color='blue', label='actual')\n",
    "plt.plot(pred_train, color='red', label='predicted')\n",
    "plt.legend()"
   ]
  },
  {
   "cell_type": "code",
   "execution_count": 58,
   "id": "7e7be93a",
   "metadata": {},
   "outputs": [
    {
     "name": "stdout",
     "output_type": "stream",
     "text": [
      "9/9 [==============================] - 0s 10ms/step\n"
     ]
    }
   ],
   "source": [
    "pred_test = model.predict(X_test)"
   ]
  },
  {
   "cell_type": "code",
   "execution_count": 59,
   "id": "f62663ff",
   "metadata": {},
   "outputs": [
    {
     "name": "stdout",
     "output_type": "stream",
     "text": [
      "mean absolute error- 0.01923178102778413\n",
      "mean squared error- 0.0006147483249521814\n"
     ]
    }
   ],
   "source": [
    "mae = mean_absolute_error(y_test, pred_test)\n",
    "print('mean absolute error-', mae)\n",
    "mse = mean_squared_error(y_test, pred_test)\n",
    "print('mean squared error-', mse)"
   ]
  },
  {
   "cell_type": "code",
   "execution_count": 60,
   "id": "dce7e9a0",
   "metadata": {},
   "outputs": [
    {
     "data": {
      "text/plain": [
       "<matplotlib.legend.Legend at 0x28265652bd0>"
      ]
     },
     "execution_count": 60,
     "metadata": {},
     "output_type": "execute_result"
    },
    {
     "data": {
      "image/png": "[encoded data removed]",
      "text/plain": [
       "<Figure size 640x480 with 1 Axes>"
      ]
     },
     "metadata": {},
     "output_type": "display_data"
    }
   ],
   "source": [
    "plt.title(f\"{ticker}'s Prediction from {start_date} to {end_date}\\n Actual vs. Predicted on Training Data\")\n",
    "plt.xlabel('Days')\n",
    "plt.ylabel('Price')\n",
    "plt.plot(y_test, color='green', label='actual')\n",
    "plt.plot(pred_test, color='orange', label='predicted')\n",
    "plt.legend()"
   ]
  },
  {
   "cell_type": "code",
   "execution_count": 88,
   "id": "75846d04",
   "metadata": {},
   "outputs": [
    {
     "name": "stdout",
     "output_type": "stream",
     "text": [
      "[*********************100%***********************]  1 of 1 completed\n"
     ]
    },
    {
     "data": {
      "text/plain": [
       "0    152.119995\n",
       "1    153.839996\n",
       "2    153.419998\n",
       "3    153.410004\n",
       "4    153.339996\n",
       "5    153.380005\n",
       "6    151.940002\n",
       "Name: Close, dtype: float64"
      ]
     },
     "execution_count": 88,
     "metadata": {},
     "output_type": "execute_result"
    }
   ],
   "source": [
    "ticker = 'AMZN'\n",
    "start_date = '2023-12-20'\n",
    "end_date = '2023-12-30'\n",
    "df_future = yf.download(ticker, start_date, end_date).reset_index()['Close']\n",
    "df_future"
   ]
  },
  {
   "cell_type": "code",
   "execution_count": 92,
   "id": "65dd9002",
   "metadata": {},
   "outputs": [],
   "source": [
    "df_future = df_future.values"
   ]
  },
  {
   "cell_type": "code",
   "execution_count": 95,
   "id": "97ee7a64",
   "metadata": {},
   "outputs": [
    {
     "data": {
      "text/plain": [
       "array([143.8999939 , 146.71000671, 146.74000549, 147.72999573,\n",
       "       147.02999878, 146.32000732, 146.08999634, 147.02999878,\n",
       "       144.83999634, 146.88000488, 144.52000427, 146.88000488,\n",
       "       147.41999817, 145.88999939, 147.47999573, 148.83999634,\n",
       "       147.41999817, 149.97000122, 154.07000732, 153.78999329])"
      ]
     },
     "execution_count": 95,
     "metadata": {},
     "output_type": "execute_result"
    }
   ],
   "source": [
    "future_data_to_predict = np.array(close[-20:])\n",
    "future_data_to_predict"
   ]
  },
  {
   "cell_type": "code",
   "execution_count": 96,
   "id": "bfb2ddfc",
   "metadata": {},
   "outputs": [
    {
     "data": {
      "text/plain": [
       "153.7899932861328"
      ]
     },
     "execution_count": 96,
     "metadata": {},
     "output_type": "execute_result"
    }
   ],
   "source": [
    "last_val = future_data[-1]\n",
    "last_val"
   ]
  },
  {
   "cell_type": "markdown",
   "id": "6566cf7e",
   "metadata": {},
   "source": [
    "---------------------------------------------------------------------------------------------------------------------------"
   ]
  },
  {
   "cell_type": "code",
   "execution_count": 116,
   "id": "2e40312e",
   "metadata": {},
   "outputs": [],
   "source": [
    "def prediction(future_data, last_val, days):\n",
    "    \n",
    "    output_data = []\n",
    "    new_arr = []\n",
    "\n",
    "    for i in range(days):\n",
    "        \n",
    "        if future_data[-1] == last_val:\n",
    "            print('no')\n",
    "            print('before',future_data)\n",
    "            temp = scaler.transform(future_data.reshape(-1, 1))\n",
    "            temp_scaled_reshape = temp.reshape(1, 20, 1)\n",
    "            predicted_value = model.predict(temp_scaled_reshape)\n",
    "            actual_predicted = scaler.inverse_transform(predicted_value.reshape(1,-1))\n",
    "            output_data.append(actual_predicted[0,0])\n",
    "            print('output',actual_predicted[0,0])\n",
    "            future_data = future_data[1:]\n",
    "            future_data = np.append(future_data,actual_predicted)\n",
    "            print('after',future_data)\n",
    "        else:\n",
    "            print('yes')\n",
    "            print('before',future_data)\n",
    "            temp = scaler.transform(future_data.reshape(-1, 1))\n",
    "            temp_scaled_reshape = temp.reshape(1, 20, 1)\n",
    "            predicted_value = model.predict(temp_scaled_reshape)\n",
    "            actual_predicted = scaler.inverse_transform(predicted_value.reshape(1,-1))\n",
    "            output_data.append(actual_predicted[0,0])\n",
    "            print('output',actual_predicted[0,0])\n",
    "            future_data = future_data[1:]\n",
    "            future_data = np.append(future_data,actual_predicted)\n",
    "            print('after',future_data)\n",
    "\n",
    "    return output_data\n",
    "    "
   ]
  },
  {
   "cell_type": "code",
   "execution_count": 117,
   "id": "7ea91f79",
   "metadata": {},
   "outputs": [
    {
     "name": "stdout",
     "output_type": "stream",
     "text": [
      "no\n",
      "before [143.8999939  146.71000671 146.74000549 147.72999573 147.02999878\n",
      " 146.32000732 146.08999634 147.02999878 144.83999634 146.88000488\n",
      " 144.52000427 146.88000488 147.41999817 145.88999939 147.47999573\n",
      " 148.83999634 147.41999817 149.97000122 154.07000732 153.78999329]\n",
      "1/1 [==============================] - 0s 32ms/step\n",
      "output 153.55403\n",
      "after [146.71000671 146.74000549 147.72999573 147.02999878 146.32000732\n",
      " 146.08999634 147.02999878 144.83999634 146.88000488 144.52000427\n",
      " 146.88000488 147.41999817 145.88999939 147.47999573 148.83999634\n",
      " 147.41999817 149.97000122 154.07000732 153.78999329 153.55403137]\n",
      "yes\n",
      "before [146.71000671 146.74000549 147.72999573 147.02999878 146.32000732\n",
      " 146.08999634 147.02999878 144.83999634 146.88000488 144.52000427\n",
      " 146.88000488 147.41999817 145.88999939 147.47999573 148.83999634\n",
      " 147.41999817 149.97000122 154.07000732 153.78999329 153.55403137]\n",
      "1/1 [==============================] - 0s 24ms/step\n",
      "output 154.67691\n",
      "after [146.74000549 147.72999573 147.02999878 146.32000732 146.08999634\n",
      " 147.02999878 144.83999634 146.88000488 144.52000427 146.88000488\n",
      " 147.41999817 145.88999939 147.47999573 148.83999634 147.41999817\n",
      " 149.97000122 154.07000732 153.78999329 153.55403137 154.6769104 ]\n",
      "yes\n",
      "before [146.74000549 147.72999573 147.02999878 146.32000732 146.08999634\n",
      " 147.02999878 144.83999634 146.88000488 144.52000427 146.88000488\n",
      " 147.41999817 145.88999939 147.47999573 148.83999634 147.41999817\n",
      " 149.97000122 154.07000732 153.78999329 153.55403137 154.6769104 ]\n",
      "1/1 [==============================] - 0s 25ms/step\n",
      "output 155.34634\n",
      "after [147.72999573 147.02999878 146.32000732 146.08999634 147.02999878\n",
      " 144.83999634 146.88000488 144.52000427 146.88000488 147.41999817\n",
      " 145.88999939 147.47999573 148.83999634 147.41999817 149.97000122\n",
      " 154.07000732 153.78999329 153.55403137 154.6769104  155.34634399]\n",
      "yes\n",
      "before [147.72999573 147.02999878 146.32000732 146.08999634 147.02999878\n",
      " 144.83999634 146.88000488 144.52000427 146.88000488 147.41999817\n",
      " 145.88999939 147.47999573 148.83999634 147.41999817 149.97000122\n",
      " 154.07000732 153.78999329 153.55403137 154.6769104  155.34634399]\n",
      "1/1 [==============================] - 0s 20ms/step\n",
      "output 155.79456\n",
      "after [147.02999878 146.32000732 146.08999634 147.02999878 144.83999634\n",
      " 146.88000488 144.52000427 146.88000488 147.41999817 145.88999939\n",
      " 147.47999573 148.83999634 147.41999817 149.97000122 154.07000732\n",
      " 153.78999329 153.55403137 154.6769104  155.34634399 155.79455566]\n",
      "yes\n",
      "before [147.02999878 146.32000732 146.08999634 147.02999878 144.83999634\n",
      " 146.88000488 144.52000427 146.88000488 147.41999817 145.88999939\n",
      " 147.47999573 148.83999634 147.41999817 149.97000122 154.07000732\n",
      " 153.78999329 153.55403137 154.6769104  155.34634399 155.79455566]\n",
      "1/1 [==============================] - 0s 23ms/step\n",
      "output 156.12683\n",
      "after [146.32000732 146.08999634 147.02999878 144.83999634 146.88000488\n",
      " 144.52000427 146.88000488 147.41999817 145.88999939 147.47999573\n",
      " 148.83999634 147.41999817 149.97000122 154.07000732 153.78999329\n",
      " 153.55403137 154.6769104  155.34634399 155.79455566 156.12683105]\n",
      "yes\n",
      "before [146.32000732 146.08999634 147.02999878 144.83999634 146.88000488\n",
      " 144.52000427 146.88000488 147.41999817 145.88999939 147.47999573\n",
      " 148.83999634 147.41999817 149.97000122 154.07000732 153.78999329\n",
      " 153.55403137 154.6769104  155.34634399 155.79455566 156.12683105]\n",
      "1/1 [==============================] - 0s 24ms/step\n",
      "output 156.38371\n",
      "after [146.08999634 147.02999878 144.83999634 146.88000488 144.52000427\n",
      " 146.88000488 147.41999817 145.88999939 147.47999573 148.83999634\n",
      " 147.41999817 149.97000122 154.07000732 153.78999329 153.55403137\n",
      " 154.6769104  155.34634399 155.79455566 156.12683105 156.38371277]\n",
      "yes\n",
      "before [146.08999634 147.02999878 144.83999634 146.88000488 144.52000427\n",
      " 146.88000488 147.41999817 145.88999939 147.47999573 148.83999634\n",
      " 147.41999817 149.97000122 154.07000732 153.78999329 153.55403137\n",
      " 154.6769104  155.34634399 155.79455566 156.12683105 156.38371277]\n",
      "1/1 [==============================] - 0s 23ms/step\n",
      "output 156.59152\n",
      "after [147.02999878 144.83999634 146.88000488 144.52000427 146.88000488\n",
      " 147.41999817 145.88999939 147.47999573 148.83999634 147.41999817\n",
      " 149.97000122 154.07000732 153.78999329 153.55403137 154.6769104\n",
      " 155.34634399 155.79455566 156.12683105 156.38371277 156.59152222]\n"
     ]
    },
    {
     "data": {
      "text/plain": [
       "list"
      ]
     },
     "execution_count": 117,
     "metadata": {},
     "output_type": "execute_result"
    }
   ],
   "source": [
    "result = prediction(future_data_to_predict[-20:], last_val, len(df_future))\n",
    "type(result)\n",
    "# result = result.flatten()"
   ]
  },
  {
   "cell_type": "code",
   "execution_count": 82,
   "id": "ad293520",
   "metadata": {},
   "outputs": [
    {
     "data": {
      "text/plain": [
       "<matplotlib.legend.Legend at 0x28265cdd550>"
      ]
     },
     "execution_count": 82,
     "metadata": {},
     "output_type": "execute_result"
    },
    {
     "data": {
      "image/png": "[encoded data removed]",
      "text/plain": [
       "<Figure size 640x480 with 1 Axes>"
      ]
     },
     "metadata": {},
     "output_type": "display_data"
    }
   ],
   "source": [
    "plt.title(f\"Amazon's Prediction For Next {len(df_future)} Days\")\n",
    "plt.xlabel('Days')\n",
    "plt.ylabel('Price')\n",
    "plt.plot(df_future['Close'].values, color='orange', label='actual')\n",
    "plt.plot(result, color='green', label='predicted')\n",
    "plt.legend()"
   ]
  },
  {
   "cell_type": "code",
   "execution_count": 83,
   "id": "624dcb94",
   "metadata": {},
   "outputs": [
    {
     "name": "stdout",
     "output_type": "stream",
     "text": [
      "[*********************100%***********************]  1 of 1 completed\n"
     ]
    }
   ],
   "source": [
    "ticker = 'AMZN'\n",
    "start_date = '2018-01-01'\n",
    "end_date = '2023-12-30'\n",
    "FullData = yf.download(ticker, start_date, end_date).reset_index()\n",
    "full_arr = FullData.Close.values"
   ]
  },
  {
   "cell_type": "code",
   "execution_count": 84,
   "id": "0824fa0b",
   "metadata": {},
   "outputs": [
    {
     "data": {
      "image/png": "[encoded data removed]",
      "text/plain": [
       "<Figure size 640x480 with 1 Axes>"
      ]
     },
     "metadata": {},
     "output_type": "display_data"
    }
   ],
   "source": [
    "days = list(range(1,1510))\n",
    "day = list(range(1503,1510))\n",
    "plt.title('Complete Plot')\n",
    "plt.xlabel('Days')\n",
    "plt.ylabel('Price')\n",
    "plt.plot(days, full_arr, color='red')\n",
    "plt.plot(day, result, color='blue')\n",
    "plt.show()"
   ]
  },
  {
   "cell_type": "code",
   "execution_count": 138,
   "id": "936795cf",
   "metadata": {},
   "outputs": [],
   "source": [
    "def get_control_vector(val):\n",
    "    return np.diff(np.sign(np.diff(val)))\n",
    "\n",
    "def buy_and_sell_bot(val,controls):\n",
    "    inv = []\n",
    "    curr_val = 1000\n",
    "    print(\"*******************\",np.where(controls))\n",
    "    \n",
    "#     inds = np.where(controls)[0]\n",
    "#     print(inds)\n",
    "#     buy_inds = np.where(controls>0)[0]\n",
    "#     sell_inds = np.where(controls<0)[0]\n",
    "#     max_limit = sell_inds[-1] if sell_inds[-1]>buy_inds[-1] else buy_inds[-1]\n",
    "#     for i in range(buy_inds[0]+2):\n",
    "#         inv.append(curr_val)\n",
    "#     for i in range(buy_inds[0],max_limit+1):\n",
    "#         if controls[i]>0:\n",
    "#             buy_val = val[i+1]\n",
    "#         elif controls[i]<0:\n",
    "#             sell_val = val[i+1]\n",
    "#             curr_val = curr_val*sell_val/buy_val\n",
    "#         inv.append(curr_val)\n",
    "        \n",
    "#     if max_limit+1!=len(controls):\n",
    "#         for i in range(len(controls)-max_limit-1):\n",
    "#             inv.append(curr_val)\n",
    "#     return inv"
   ]
  },
  {
   "cell_type": "code",
   "execution_count": 139,
   "id": "c7913e0a",
   "metadata": {},
   "outputs": [],
   "source": [
    "# controls_actual = get_control_vector(df_future)\n",
    "# amount_actual = buy_and_sell_bot(future_data, controls_actual)\n",
    "# controls_actual,amount_actual"
   ]
  },
  {
   "cell_type": "code",
   "execution_count": 156,
   "id": "65bcbbd8",
   "metadata": {},
   "outputs": [
    {
     "data": {
      "text/plain": [
       "(array([1., 1., 1., 1., 1., 1.], dtype=float32),\n",
       " array([ 1., -1., -1., -1.,  1., -1.]))"
      ]
     },
     "execution_count": 156,
     "metadata": {},
     "output_type": "execute_result"
    }
   ],
   "source": [
    "controls_pred= get_control_vector(np.array(result))\n",
    "# amount_pred = buy_and_sell_bot(result, controls_pred)\n",
    "# amount_pred,\n",
    "np.sign(np.diff(np.array(result))), np.sign(np.diff(df_future))"
   ]
  },
  {
   "cell_type": "code",
   "execution_count": 154,
   "id": "6402e230",
   "metadata": {},
   "outputs": [
    {
     "data": {
      "text/plain": [
       "array([152.11999512, 153.83999634, 153.41999817, 153.41000366,\n",
       "       153.33999634, 153.38000488, 151.94000244])"
      ]
     },
     "execution_count": 154,
     "metadata": {},
     "output_type": "execute_result"
    }
   ],
   "source": [
    "df_future"
   ]
  },
  {
   "cell_type": "code",
   "execution_count": 155,
   "id": "e01d59d5",
   "metadata": {},
   "outputs": [
    {
     "data": {
      "text/plain": [
       "array([153.55403, 154.67691, 155.34634, 155.79456, 156.12683, 156.38371,\n",
       "       156.59152], dtype=float32)"
      ]
     },
     "execution_count": 155,
     "metadata": {},
     "output_type": "execute_result"
    }
   ],
   "source": [
    "result = np.array(result)\n",
    "result"
   ]
  },
  {
   "cell_type": "code",
   "execution_count": null,
   "id": "e1953645",
   "metadata": {},
   "outputs": [],
   "source": []
  }
 ],
 "metadata": {
  "kernelspec": {
   "display_name": "Python 3 (ipykernel)",
   "language": "python",
   "name": "python3"
  },
  "language_info": {
   "codemirror_mode": {
    "name": "ipython",
    "version": 3
   },
   "file_extension": ".py",
   "mimetype": "text/x-python",
   "name": "python",
   "nbconvert_exporter": "python",
   "pygments_lexer": "ipython3",
   "version": "3.11.4"
  }
 },
 "nbformat": 4,
 "nbformat_minor": 5
}
