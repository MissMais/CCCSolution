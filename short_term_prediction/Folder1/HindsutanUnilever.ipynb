{
 "cells": [
  {
   "cell_type": "code",
   "execution_count": 1,
   "id": "3e3175db",
   "metadata": {},
   "outputs": [],
   "source": [
    "import numpy as np\n",
    "import pandas as pd\n",
    "import yfinance as yf\n",
    "import matplotlib.pyplot as plt\n",
    "from sklearn.preprocessing import MinMaxScaler\n",
    "from keras.models import Sequential\n",
    "from keras.layers import LSTM, Dense\n",
    "from sklearn.metrics import mean_squared_error, mean_absolute_error, accuracy_score\n",
    "from math import sqrt"
   ]
  },
  {
   "cell_type": "code",
   "execution_count": 2,
   "id": "e6d21ac0",
   "metadata": {},
   "outputs": [],
   "source": [
    "ticker = \"HINDUNILVR.NS\"\n",
    "start = \"2018-01-01\"\n",
    "end = \"2023-10-30\""
   ]
  },
  {
   "cell_type": "code",
   "execution_count": 3,
   "id": "c4d883e3",
   "metadata": {},
   "outputs": [
    {
     "name": "stdout",
     "output_type": "stream",
     "text": [
      "[*********************100%***********************]  1 of 1 completed\n"
     ]
    },
    {
     "data": {
      "text/html": [
       "<div>\n",
       "<style scoped>\n",
       "    .dataframe tbody tr th:only-of-type {\n",
       "        vertical-align: middle;\n",
       "    }\n",
       "\n",
       "    .dataframe tbody tr th {\n",
       "        vertical-align: top;\n",
       "    }\n",
       "\n",
       "    .dataframe thead th {\n",
       "        text-align: right;\n",
       "    }\n",
       "</style>\n",
       "<table border=\"1\" class=\"dataframe\">\n",
       "  <thead>\n",
       "    <tr style=\"text-align: right;\">\n",
       "      <th></th>\n",
       "      <th>Open</th>\n",
       "      <th>High</th>\n",
       "      <th>Low</th>\n",
       "      <th>Close</th>\n",
       "      <th>Adj Close</th>\n",
       "      <th>Volume</th>\n",
       "    </tr>\n",
       "    <tr>\n",
       "      <th>Date</th>\n",
       "      <th></th>\n",
       "      <th></th>\n",
       "      <th></th>\n",
       "      <th></th>\n",
       "      <th></th>\n",
       "      <th></th>\n",
       "    </tr>\n",
       "  </thead>\n",
       "  <tbody>\n",
       "    <tr>\n",
       "      <th>2018-01-01</th>\n",
       "      <td>1367.000000</td>\n",
       "      <td>1367.000000</td>\n",
       "      <td>1340.050049</td>\n",
       "      <td>1344.500000</td>\n",
       "      <td>1221.111694</td>\n",
       "      <td>746852</td>\n",
       "    </tr>\n",
       "    <tr>\n",
       "      <th>2018-01-02</th>\n",
       "      <td>1345.000000</td>\n",
       "      <td>1349.800049</td>\n",
       "      <td>1328.550049</td>\n",
       "      <td>1338.599976</td>\n",
       "      <td>1215.753296</td>\n",
       "      <td>695988</td>\n",
       "    </tr>\n",
       "    <tr>\n",
       "      <th>2018-01-03</th>\n",
       "      <td>1344.699951</td>\n",
       "      <td>1356.800049</td>\n",
       "      <td>1335.000000</td>\n",
       "      <td>1350.349976</td>\n",
       "      <td>1226.424927</td>\n",
       "      <td>832810</td>\n",
       "    </tr>\n",
       "    <tr>\n",
       "      <th>2018-01-04</th>\n",
       "      <td>1350.099976</td>\n",
       "      <td>1356.150024</td>\n",
       "      <td>1341.449951</td>\n",
       "      <td>1352.250000</td>\n",
       "      <td>1228.150757</td>\n",
       "      <td>640189</td>\n",
       "    </tr>\n",
       "    <tr>\n",
       "      <th>2018-01-05</th>\n",
       "      <td>1351.000000</td>\n",
       "      <td>1362.949951</td>\n",
       "      <td>1348.250000</td>\n",
       "      <td>1356.550049</td>\n",
       "      <td>1232.056274</td>\n",
       "      <td>568451</td>\n",
       "    </tr>\n",
       "    <tr>\n",
       "      <th>...</th>\n",
       "      <td>...</td>\n",
       "      <td>...</td>\n",
       "      <td>...</td>\n",
       "      <td>...</td>\n",
       "      <td>...</td>\n",
       "      <td>...</td>\n",
       "    </tr>\n",
       "    <tr>\n",
       "      <th>2023-10-20</th>\n",
       "      <td>2520.000000</td>\n",
       "      <td>2543.550049</td>\n",
       "      <td>2485.050049</td>\n",
       "      <td>2495.149902</td>\n",
       "      <td>2476.983154</td>\n",
       "      <td>3608160</td>\n",
       "    </tr>\n",
       "    <tr>\n",
       "      <th>2023-10-23</th>\n",
       "      <td>2494.000000</td>\n",
       "      <td>2509.949951</td>\n",
       "      <td>2480.350098</td>\n",
       "      <td>2483.500000</td>\n",
       "      <td>2465.417969</td>\n",
       "      <td>922707</td>\n",
       "    </tr>\n",
       "    <tr>\n",
       "      <th>2023-10-25</th>\n",
       "      <td>2475.050049</td>\n",
       "      <td>2490.000000</td>\n",
       "      <td>2465.000000</td>\n",
       "      <td>2477.300049</td>\n",
       "      <td>2459.263184</td>\n",
       "      <td>1435836</td>\n",
       "    </tr>\n",
       "    <tr>\n",
       "      <th>2023-10-26</th>\n",
       "      <td>2461.000000</td>\n",
       "      <td>2490.000000</td>\n",
       "      <td>2455.649902</td>\n",
       "      <td>2476.399902</td>\n",
       "      <td>2458.369629</td>\n",
       "      <td>2650560</td>\n",
       "    </tr>\n",
       "    <tr>\n",
       "      <th>2023-10-27</th>\n",
       "      <td>2467.300049</td>\n",
       "      <td>2495.000000</td>\n",
       "      <td>2463.850098</td>\n",
       "      <td>2482.050049</td>\n",
       "      <td>2463.978760</td>\n",
       "      <td>1784812</td>\n",
       "    </tr>\n",
       "  </tbody>\n",
       "</table>\n",
       "<p>1439 rows × 6 columns</p>\n",
       "</div>"
      ],
      "text/plain": [
       "                   Open         High          Low        Close    Adj Close  \\\n",
       "Date                                                                          \n",
       "2018-01-01  1367.000000  1367.000000  1340.050049  1344.500000  1221.111694   \n",
       "2018-01-02  1345.000000  1349.800049  1328.550049  1338.599976  1215.753296   \n",
       "2018-01-03  1344.699951  1356.800049  1335.000000  1350.349976  1226.424927   \n",
       "2018-01-04  1350.099976  1356.150024  1341.449951  1352.250000  1228.150757   \n",
       "2018-01-05  1351.000000  1362.949951  1348.250000  1356.550049  1232.056274   \n",
       "...                 ...          ...          ...          ...          ...   \n",
       "2023-10-20  2520.000000  2543.550049  2485.050049  2495.149902  2476.983154   \n",
       "2023-10-23  2494.000000  2509.949951  2480.350098  2483.500000  2465.417969   \n",
       "2023-10-25  2475.050049  2490.000000  2465.000000  2477.300049  2459.263184   \n",
       "2023-10-26  2461.000000  2490.000000  2455.649902  2476.399902  2458.369629   \n",
       "2023-10-27  2467.300049  2495.000000  2463.850098  2482.050049  2463.978760   \n",
       "\n",
       "             Volume  \n",
       "Date                 \n",
       "2018-01-01   746852  \n",
       "2018-01-02   695988  \n",
       "2018-01-03   832810  \n",
       "2018-01-04   640189  \n",
       "2018-01-05   568451  \n",
       "...             ...  \n",
       "2023-10-20  3608160  \n",
       "2023-10-23   922707  \n",
       "2023-10-25  1435836  \n",
       "2023-10-26  2650560  \n",
       "2023-10-27  1784812  \n",
       "\n",
       "[1439 rows x 6 columns]"
      ]
     },
     "execution_count": 3,
     "metadata": {},
     "output_type": "execute_result"
    }
   ],
   "source": [
    "df = yf.download(ticker, start=start, end=end)\n",
    "df"
   ]
  },
  {
   "cell_type": "code",
   "execution_count": 4,
   "id": "4fd894f3",
   "metadata": {},
   "outputs": [],
   "source": [
    "data = df['Close']\n",
    "\n",
    "scaler = MinMaxScaler()\n",
    "data = scaler.fit_transform(data.values.reshape(-1, 1))"
   ]
  },
  {
   "cell_type": "code",
   "execution_count": 5,
   "id": "a28a79c7",
   "metadata": {},
   "outputs": [
    {
     "data": {
      "text/plain": [
       "(1151, 288)"
      ]
     },
     "execution_count": 5,
     "metadata": {},
     "output_type": "execute_result"
    }
   ],
   "source": [
    "training_data_len = int(len(data) * 0.8)\n",
    "training_data = data[0:training_data_len, :]\n",
    "testing_data = data[training_data_len:, :]\n",
    "\n",
    "len(training_data), len(testing_data)"
   ]
  },
  {
   "cell_type": "code",
   "execution_count": 6,
   "id": "a5a9517b",
   "metadata": {},
   "outputs": [],
   "source": [
    "past_values = 1\n",
    "\n",
    "def create_training_data(data, past_values):\n",
    "    if len(data) < past_values:\n",
    "        return np.array([]), np.array([])\n",
    "    X_train = []\n",
    "    y_train = []\n",
    "    for i in range(past_values, len(data)):\n",
    "        X_train.append(data[i-past_values:i, 0])\n",
    "        y_train.append(data[i, 0])\n",
    "    return np.array(X_train), np.array(y_train)\n",
    "\n",
    "X_train, y_train = create_training_data(training_data, past_values)\n",
    "X_train = np.reshape(X_train, (X_train.shape[0], X_train.shape[1], 1))\n",
    "\n",
    "X_test, y_test = create_training_data(testing_data, past_values)\n",
    "X_test = np.reshape(X_test, (X_test.shape[0], X_test.shape[1], 1))"
   ]
  },
  {
   "cell_type": "code",
   "execution_count": 7,
   "id": "70151e02",
   "metadata": {},
   "outputs": [
    {
     "data": {
      "text/plain": [
       "<keras.src.callbacks.History at 0x2e2c422b590>"
      ]
     },
     "execution_count": 7,
     "metadata": {},
     "output_type": "execute_result"
    }
   ],
   "source": [
    "model = Sequential()\n",
    "model.add(LSTM(50, return_sequences=True, input_shape=(X_train.shape[1], 1)))\n",
    "model.add(LSTM(50, return_sequences=True))\n",
    "model.add(LSTM(50, return_sequences=False))\n",
    "model.add(Dense(25))\n",
    "model.add(Dense(1))\n",
    "\n",
    "model.compile(optimizer='adam', loss='mean_squared_error')\n",
    "model.fit(X_train, y_train, batch_size=200, epochs=200, verbose=1)"
   ]
  },
  {
   "cell_type": "code",
   "execution_count": 11,
   "id": "92ef2e44",
   "metadata": {},
   "outputs": [
    {
     "name": "stdout",
     "output_type": "stream",
     "text": [
      "36/36 [==============================] - 0s 4ms/step\n",
      "9/9 [==============================] - 0s 6ms/step\n"
     ]
    }
   ],
   "source": [
    "pred_train = model.predict(X_train)\n",
    "pred = model.predict(X_test)"
   ]
  },
  {
   "cell_type": "code",
   "execution_count": 12,
   "id": "a77f781f",
   "metadata": {},
   "outputs": [],
   "source": [
    "pred_train = scaler.inverse_transform(pred_train)\n",
    "pred = scaler.inverse_transform(pred)\n",
    "y_test = scaler.inverse_transform([y_test])\n",
    "y_train = scaler.inverse_transform([y_train])"
   ]
  },
  {
   "cell_type": "code",
   "execution_count": 13,
   "id": "ab449e76",
   "metadata": {},
   "outputs": [],
   "source": [
    "y_test = y_test.flatten()\n",
    "y_train = y_train.flatten()"
   ]
  },
  {
   "cell_type": "code",
   "execution_count": 14,
   "id": "3003bbb6",
   "metadata": {},
   "outputs": [
    {
     "name": "stdout",
     "output_type": "stream",
     "text": [
      "Training Error\n",
      "Mean Absolute Error (MAE): 3097174.325167181\n",
      "Root Mean Squared Error (RMSE): 3142451.326067906\n"
     ]
    },
    {
     "data": {
      "image/png": "[encoded data removed]",
      "text/plain": [
       "<Figure size 640x480 with 1 Axes>"
      ]
     },
     "metadata": {},
     "output_type": "display_data"
    }
   ],
   "source": [
    "print(\"Training Error\")\n",
    "mae = mean_absolute_error(y_train, pred_train)\n",
    "print(\"Mean Absolute Error (MAE):\", mae)\n",
    "rmse = sqrt(mean_squared_error(y_train, pred_train))\n",
    "print(\"Root Mean Squared Error (RMSE):\", rmse)\n",
    "    \n",
    "plt.plot(y_train, label = 'actual '+str(ticker))\n",
    "plt.plot(pred_train, label = 'predicted '+str(ticker))\n",
    "plt.title(\"Training Plot\")\n",
    "plt.legend()\n",
    "plt.show()"
   ]
  },
  {
   "cell_type": "code",
   "execution_count": 15,
   "id": "01e9e93d",
   "metadata": {},
   "outputs": [
    {
     "name": "stdout",
     "output_type": "stream",
     "text": [
      "Testing Error\n",
      "Mean Absolute Error (MAE): 3909917.4263906777\n",
      "Root Mean Squared Error (RMSE): 3911608.99790353\n"
     ]
    },
    {
     "data": {
      "image/png": "[encoded data removed]",
      "text/plain": [
       "<Figure size 640x480 with 1 Axes>"
      ]
     },
     "metadata": {},
     "output_type": "display_data"
    }
   ],
   "source": [
    "print(\"Testing Error\")\n",
    "mae = mean_absolute_error(y_test, pred)\n",
    "print(\"Mean Absolute Error (MAE):\", mae)\n",
    "rmse = sqrt(mean_squared_error(y_test, pred))\n",
    "print(\"Root Mean Squared Error (RMSE):\", rmse)\n",
    "\n",
    "plt.plot(y_test, label = 'actual '+str(ticker))\n",
    "plt.plot(pred, label = 'predicted '+str(ticker))\n",
    "plt.title(\"Testing Plot\")\n",
    "plt.legend()\n",
    "plt.show()"
   ]
  },
  {
   "cell_type": "code",
   "execution_count": 16,
   "id": "5b2f562b",
   "metadata": {},
   "outputs": [
    {
     "data": {
      "text/plain": [
       "3772271.6074182093"
      ]
     },
     "execution_count": 16,
     "metadata": {},
     "output_type": "execute_result"
    }
   ],
   "source": [
    "y_test[-1]"
   ]
  },
  {
   "cell_type": "code",
   "execution_count": 17,
   "id": "861dfd44",
   "metadata": {},
   "outputs": [
    {
     "data": {
      "text/plain": [
       "array([2470.8757], dtype=float32)"
      ]
     },
     "execution_count": 17,
     "metadata": {},
     "output_type": "execute_result"
    }
   ],
   "source": [
    "pred[-1]"
   ]
  },
  {
   "cell_type": "code",
   "execution_count": 19,
   "id": "f38d0e04",
   "metadata": {},
   "outputs": [
    {
     "name": "stdout",
     "output_type": "stream",
     "text": [
      "[*********************100%***********************]  1 of 1 completed\n"
     ]
    },
    {
     "data": {
      "text/html": [
       "<div>\n",
       "<style scoped>\n",
       "    .dataframe tbody tr th:only-of-type {\n",
       "        vertical-align: middle;\n",
       "    }\n",
       "\n",
       "    .dataframe tbody tr th {\n",
       "        vertical-align: top;\n",
       "    }\n",
       "\n",
       "    .dataframe thead th {\n",
       "        text-align: right;\n",
       "    }\n",
       "</style>\n",
       "<table border=\"1\" class=\"dataframe\">\n",
       "  <thead>\n",
       "    <tr style=\"text-align: right;\">\n",
       "      <th></th>\n",
       "      <th>Open</th>\n",
       "      <th>High</th>\n",
       "      <th>Low</th>\n",
       "      <th>Close</th>\n",
       "      <th>Adj Close</th>\n",
       "      <th>Volume</th>\n",
       "    </tr>\n",
       "    <tr>\n",
       "      <th>Date</th>\n",
       "      <th></th>\n",
       "      <th></th>\n",
       "      <th></th>\n",
       "      <th></th>\n",
       "      <th></th>\n",
       "      <th></th>\n",
       "    </tr>\n",
       "  </thead>\n",
       "  <tbody>\n",
       "    <tr>\n",
       "      <th>2023-11-01</th>\n",
       "      <td>2485.000000</td>\n",
       "      <td>2493.949951</td>\n",
       "      <td>2466.800049</td>\n",
       "      <td>2472.250000</td>\n",
       "      <td>2454.250000</td>\n",
       "      <td>1267131</td>\n",
       "    </tr>\n",
       "    <tr>\n",
       "      <th>2023-11-02</th>\n",
       "      <td>2475.000000</td>\n",
       "      <td>2496.000000</td>\n",
       "      <td>2463.300049</td>\n",
       "      <td>2486.800049</td>\n",
       "      <td>2486.800049</td>\n",
       "      <td>1595123</td>\n",
       "    </tr>\n",
       "    <tr>\n",
       "      <th>2023-11-03</th>\n",
       "      <td>2497.000000</td>\n",
       "      <td>2512.500000</td>\n",
       "      <td>2485.800049</td>\n",
       "      <td>2509.250000</td>\n",
       "      <td>2509.250000</td>\n",
       "      <td>1125583</td>\n",
       "    </tr>\n",
       "    <tr>\n",
       "      <th>2023-11-06</th>\n",
       "      <td>2515.000000</td>\n",
       "      <td>2517.750000</td>\n",
       "      <td>2491.100098</td>\n",
       "      <td>2497.399902</td>\n",
       "      <td>2497.399902</td>\n",
       "      <td>1338677</td>\n",
       "    </tr>\n",
       "    <tr>\n",
       "      <th>2023-11-07</th>\n",
       "      <td>2496.000000</td>\n",
       "      <td>2505.199951</td>\n",
       "      <td>2485.250000</td>\n",
       "      <td>2496.449951</td>\n",
       "      <td>2496.449951</td>\n",
       "      <td>1473411</td>\n",
       "    </tr>\n",
       "    <tr>\n",
       "      <th>2023-11-08</th>\n",
       "      <td>2498.000000</td>\n",
       "      <td>2525.000000</td>\n",
       "      <td>2497.699951</td>\n",
       "      <td>2519.350098</td>\n",
       "      <td>2519.350098</td>\n",
       "      <td>745022</td>\n",
       "    </tr>\n",
       "    <tr>\n",
       "      <th>2023-11-09</th>\n",
       "      <td>2520.050049</td>\n",
       "      <td>2522.000000</td>\n",
       "      <td>2473.050049</td>\n",
       "      <td>2476.699951</td>\n",
       "      <td>2476.699951</td>\n",
       "      <td>1823094</td>\n",
       "    </tr>\n",
       "    <tr>\n",
       "      <th>2023-11-10</th>\n",
       "      <td>2477.000000</td>\n",
       "      <td>2488.600098</td>\n",
       "      <td>2465.350098</td>\n",
       "      <td>2486.550049</td>\n",
       "      <td>2486.550049</td>\n",
       "      <td>771062</td>\n",
       "    </tr>\n",
       "    <tr>\n",
       "      <th>2023-11-13</th>\n",
       "      <td>2477.199951</td>\n",
       "      <td>2487.199951</td>\n",
       "      <td>2471.000000</td>\n",
       "      <td>2478.149902</td>\n",
       "      <td>2478.149902</td>\n",
       "      <td>760809</td>\n",
       "    </tr>\n",
       "    <tr>\n",
       "      <th>2023-11-15</th>\n",
       "      <td>2501.899902</td>\n",
       "      <td>2503.050049</td>\n",
       "      <td>2476.000000</td>\n",
       "      <td>2486.399902</td>\n",
       "      <td>2486.399902</td>\n",
       "      <td>1457029</td>\n",
       "    </tr>\n",
       "    <tr>\n",
       "      <th>2023-11-16</th>\n",
       "      <td>2480.199951</td>\n",
       "      <td>2505.800049</td>\n",
       "      <td>2475.350098</td>\n",
       "      <td>2491.199951</td>\n",
       "      <td>2491.199951</td>\n",
       "      <td>1420578</td>\n",
       "    </tr>\n",
       "    <tr>\n",
       "      <th>2023-11-17</th>\n",
       "      <td>2465.000000</td>\n",
       "      <td>2533.500000</td>\n",
       "      <td>2465.000000</td>\n",
       "      <td>2528.800049</td>\n",
       "      <td>2528.800049</td>\n",
       "      <td>1756043</td>\n",
       "    </tr>\n",
       "    <tr>\n",
       "      <th>2023-11-20</th>\n",
       "      <td>2534.449951</td>\n",
       "      <td>2534.500000</td>\n",
       "      <td>2500.000000</td>\n",
       "      <td>2506.449951</td>\n",
       "      <td>2506.449951</td>\n",
       "      <td>944231</td>\n",
       "    </tr>\n",
       "    <tr>\n",
       "      <th>2023-11-21</th>\n",
       "      <td>2505.000000</td>\n",
       "      <td>2517.000000</td>\n",
       "      <td>2498.000000</td>\n",
       "      <td>2505.250000</td>\n",
       "      <td>2505.250000</td>\n",
       "      <td>1088806</td>\n",
       "    </tr>\n",
       "    <tr>\n",
       "      <th>2023-11-22</th>\n",
       "      <td>2507.750000</td>\n",
       "      <td>2524.250000</td>\n",
       "      <td>2504.000000</td>\n",
       "      <td>2521.899902</td>\n",
       "      <td>2521.899902</td>\n",
       "      <td>816610</td>\n",
       "    </tr>\n",
       "    <tr>\n",
       "      <th>2023-11-23</th>\n",
       "      <td>2506.199951</td>\n",
       "      <td>2527.750000</td>\n",
       "      <td>2506.199951</td>\n",
       "      <td>2519.899902</td>\n",
       "      <td>2519.899902</td>\n",
       "      <td>1023670</td>\n",
       "    </tr>\n",
       "    <tr>\n",
       "      <th>2023-11-24</th>\n",
       "      <td>2515.100098</td>\n",
       "      <td>2519.800049</td>\n",
       "      <td>2507.449951</td>\n",
       "      <td>2515.199951</td>\n",
       "      <td>2515.199951</td>\n",
       "      <td>735137</td>\n",
       "    </tr>\n",
       "    <tr>\n",
       "      <th>2023-11-28</th>\n",
       "      <td>2531.750000</td>\n",
       "      <td>2531.750000</td>\n",
       "      <td>2500.000000</td>\n",
       "      <td>2510.550049</td>\n",
       "      <td>2510.550049</td>\n",
       "      <td>1880641</td>\n",
       "    </tr>\n",
       "    <tr>\n",
       "      <th>2023-11-29</th>\n",
       "      <td>2512.000000</td>\n",
       "      <td>2528.649902</td>\n",
       "      <td>2508.100098</td>\n",
       "      <td>2525.050049</td>\n",
       "      <td>2525.050049</td>\n",
       "      <td>1265214</td>\n",
       "    </tr>\n",
       "    <tr>\n",
       "      <th>2023-11-30</th>\n",
       "      <td>2516.149902</td>\n",
       "      <td>2554.500000</td>\n",
       "      <td>2516.149902</td>\n",
       "      <td>2545.550049</td>\n",
       "      <td>2545.550049</td>\n",
       "      <td>3095684</td>\n",
       "    </tr>\n",
       "    <tr>\n",
       "      <th>2023-12-01</th>\n",
       "      <td>2547.500000</td>\n",
       "      <td>2581.949951</td>\n",
       "      <td>2542.000000</td>\n",
       "      <td>2563.649902</td>\n",
       "      <td>2563.649902</td>\n",
       "      <td>1345599</td>\n",
       "    </tr>\n",
       "    <tr>\n",
       "      <th>2023-12-04</th>\n",
       "      <td>2577.000000</td>\n",
       "      <td>2608.399902</td>\n",
       "      <td>2575.000000</td>\n",
       "      <td>2602.300049</td>\n",
       "      <td>2602.300049</td>\n",
       "      <td>2188039</td>\n",
       "    </tr>\n",
       "    <tr>\n",
       "      <th>2023-12-05</th>\n",
       "      <td>2637.000000</td>\n",
       "      <td>2637.000000</td>\n",
       "      <td>2556.300049</td>\n",
       "      <td>2563.250000</td>\n",
       "      <td>2563.250000</td>\n",
       "      <td>3108717</td>\n",
       "    </tr>\n",
       "    <tr>\n",
       "      <th>2023-12-06</th>\n",
       "      <td>2570.000000</td>\n",
       "      <td>2583.699951</td>\n",
       "      <td>2563.000000</td>\n",
       "      <td>2567.649902</td>\n",
       "      <td>2567.649902</td>\n",
       "      <td>1573754</td>\n",
       "    </tr>\n",
       "    <tr>\n",
       "      <th>2023-12-07</th>\n",
       "      <td>2551.100098</td>\n",
       "      <td>2559.800049</td>\n",
       "      <td>2498.600098</td>\n",
       "      <td>2518.250000</td>\n",
       "      <td>2518.250000</td>\n",
       "      <td>3925967</td>\n",
       "    </tr>\n",
       "    <tr>\n",
       "      <th>2023-12-08</th>\n",
       "      <td>2519.000000</td>\n",
       "      <td>2533.949951</td>\n",
       "      <td>2508.300049</td>\n",
       "      <td>2522.300049</td>\n",
       "      <td>2522.300049</td>\n",
       "      <td>1605805</td>\n",
       "    </tr>\n",
       "  </tbody>\n",
       "</table>\n",
       "</div>"
      ],
      "text/plain": [
       "                   Open         High          Low        Close    Adj Close  \\\n",
       "Date                                                                          \n",
       "2023-11-01  2485.000000  2493.949951  2466.800049  2472.250000  2454.250000   \n",
       "2023-11-02  2475.000000  2496.000000  2463.300049  2486.800049  2486.800049   \n",
       "2023-11-03  2497.000000  2512.500000  2485.800049  2509.250000  2509.250000   \n",
       "2023-11-06  2515.000000  2517.750000  2491.100098  2497.399902  2497.399902   \n",
       "2023-11-07  2496.000000  2505.199951  2485.250000  2496.449951  2496.449951   \n",
       "2023-11-08  2498.000000  2525.000000  2497.699951  2519.350098  2519.350098   \n",
       "2023-11-09  2520.050049  2522.000000  2473.050049  2476.699951  2476.699951   \n",
       "2023-11-10  2477.000000  2488.600098  2465.350098  2486.550049  2486.550049   \n",
       "2023-11-13  2477.199951  2487.199951  2471.000000  2478.149902  2478.149902   \n",
       "2023-11-15  2501.899902  2503.050049  2476.000000  2486.399902  2486.399902   \n",
       "2023-11-16  2480.199951  2505.800049  2475.350098  2491.199951  2491.199951   \n",
       "2023-11-17  2465.000000  2533.500000  2465.000000  2528.800049  2528.800049   \n",
       "2023-11-20  2534.449951  2534.500000  2500.000000  2506.449951  2506.449951   \n",
       "2023-11-21  2505.000000  2517.000000  2498.000000  2505.250000  2505.250000   \n",
       "2023-11-22  2507.750000  2524.250000  2504.000000  2521.899902  2521.899902   \n",
       "2023-11-23  2506.199951  2527.750000  2506.199951  2519.899902  2519.899902   \n",
       "2023-11-24  2515.100098  2519.800049  2507.449951  2515.199951  2515.199951   \n",
       "2023-11-28  2531.750000  2531.750000  2500.000000  2510.550049  2510.550049   \n",
       "2023-11-29  2512.000000  2528.649902  2508.100098  2525.050049  2525.050049   \n",
       "2023-11-30  2516.149902  2554.500000  2516.149902  2545.550049  2545.550049   \n",
       "2023-12-01  2547.500000  2581.949951  2542.000000  2563.649902  2563.649902   \n",
       "2023-12-04  2577.000000  2608.399902  2575.000000  2602.300049  2602.300049   \n",
       "2023-12-05  2637.000000  2637.000000  2556.300049  2563.250000  2563.250000   \n",
       "2023-12-06  2570.000000  2583.699951  2563.000000  2567.649902  2567.649902   \n",
       "2023-12-07  2551.100098  2559.800049  2498.600098  2518.250000  2518.250000   \n",
       "2023-12-08  2519.000000  2533.949951  2508.300049  2522.300049  2522.300049   \n",
       "\n",
       "             Volume  \n",
       "Date                 \n",
       "2023-11-01  1267131  \n",
       "2023-11-02  1595123  \n",
       "2023-11-03  1125583  \n",
       "2023-11-06  1338677  \n",
       "2023-11-07  1473411  \n",
       "2023-11-08   745022  \n",
       "2023-11-09  1823094  \n",
       "2023-11-10   771062  \n",
       "2023-11-13   760809  \n",
       "2023-11-15  1457029  \n",
       "2023-11-16  1420578  \n",
       "2023-11-17  1756043  \n",
       "2023-11-20   944231  \n",
       "2023-11-21  1088806  \n",
       "2023-11-22   816610  \n",
       "2023-11-23  1023670  \n",
       "2023-11-24   735137  \n",
       "2023-11-28  1880641  \n",
       "2023-11-29  1265214  \n",
       "2023-11-30  3095684  \n",
       "2023-12-01  1345599  \n",
       "2023-12-04  2188039  \n",
       "2023-12-05  3108717  \n",
       "2023-12-06  1573754  \n",
       "2023-12-07  3925967  \n",
       "2023-12-08  1605805  "
      ]
     },
     "execution_count": 19,
     "metadata": {},
     "output_type": "execute_result"
    }
   ],
   "source": [
    "future_start=\"2023-11-01\"\n",
    "future_end=\"2023-12-09\"\n",
    "\n",
    "future_data = yf.download(ticker, start=future_start, end=future_end)\n",
    "future_data"
   ]
  },
  {
   "cell_type": "code",
   "execution_count": 20,
   "id": "176fc21d",
   "metadata": {},
   "outputs": [
    {
     "data": {
      "text/plain": [
       "26"
      ]
     },
     "execution_count": 20,
     "metadata": {},
     "output_type": "execute_result"
    }
   ],
   "source": [
    "future_data = np.array(future_data['Close'])\n",
    "len(future_data)"
   ]
  },
  {
   "cell_type": "code",
   "execution_count": 21,
   "id": "1a364f25",
   "metadata": {},
   "outputs": [],
   "source": [
    "# model(april1) = (april2-pred) -> april2actual\n",
    "\n",
    "\n",
    "\n",
    "# model(april2-pred) = april3-pred"
   ]
  },
  {
   "cell_type": "code",
   "execution_count": 22,
   "id": "00d18721",
   "metadata": {},
   "outputs": [
    {
     "name": "stdout",
     "output_type": "stream",
     "text": [
      "1/1 [==============================] - 0s 68ms/step\n",
      "1/1 [==============================] - 0s 50ms/step\n",
      "1/1 [==============================] - 0s 37ms/step\n",
      "1/1 [==============================] - 0s 34ms/step\n",
      "1/1 [==============================] - 0s 39ms/step\n",
      "1/1 [==============================] - 0s 34ms/step\n",
      "1/1 [==============================] - 0s 37ms/step\n",
      "1/1 [==============================] - 0s 33ms/step\n",
      "1/1 [==============================] - 0s 44ms/step\n",
      "1/1 [==============================] - 0s 43ms/step\n",
      "1/1 [==============================] - 0s 38ms/step\n",
      "1/1 [==============================] - 0s 39ms/step\n",
      "1/1 [==============================] - 0s 42ms/step\n",
      "1/1 [==============================] - 0s 38ms/step\n",
      "1/1 [==============================] - 0s 38ms/step\n",
      "1/1 [==============================] - 0s 49ms/step\n",
      "1/1 [==============================] - 0s 44ms/step\n",
      "1/1 [==============================] - 0s 44ms/step\n",
      "1/1 [==============================] - 0s 40ms/step\n",
      "1/1 [==============================] - 0s 39ms/step\n",
      "1/1 [==============================] - 0s 33ms/step\n",
      "1/1 [==============================] - 0s 37ms/step\n",
      "1/1 [==============================] - 0s 37ms/step\n",
      "1/1 [==============================] - 0s 38ms/step\n",
      "1/1 [==============================] - 0s 40ms/step\n",
      "1/1 [==============================] - 0s 44ms/step\n"
     ]
    }
   ],
   "source": [
    "def predict_future(days, last_input, future_data):\n",
    "    Output = []\n",
    "    i = 0\n",
    "    temp = scaler.transform(future_data.reshape(-1, 1))\n",
    "    \n",
    "    while(i<days):\n",
    "        if(len(last_input)>past_values):\n",
    "            last_input = last_input[1:]\n",
    "            last_input = last_input.reshape((1, past_values, 1))\n",
    "            res = model.predict(last_input)\n",
    "            last_input = np.append(last_input, temp[i])\n",
    "            last_input = last_input[1:]\n",
    "            Output.extend(res.tolist())\n",
    "            i=i+1\n",
    "        else:\n",
    "            last_input = last_input.reshape((1, past_values, 1))\n",
    "            res = model.predict(last_input)\n",
    "            last_input = np.append(last_input, temp[i])\n",
    "            Output.extend(res.tolist())\n",
    "            i=i+1\n",
    "        \n",
    "    Output = scaler.inverse_transform(Output)\n",
    "    return Output, last_input\n",
    "    \n",
    "future_predictions, last_input = predict_future(len(future_data), X_test[-1], future_data)\n",
    "future_predictions = future_predictions.flatten()"
   ]
  },
  {
   "cell_type": "code",
   "execution_count": 23,
   "id": "6c06bc08",
   "metadata": {},
   "outputs": [
    {
     "data": {
      "image/png": "[encoded data removed]",
      "text/plain": [
       "<Figure size 640x480 with 1 Axes>"
      ]
     },
     "metadata": {},
     "output_type": "display_data"
    }
   ],
   "source": [
    "plt.plot(future_data, label = 'actual')\n",
    "plt.plot(future_predictions, label = 'predicted')\n",
    "plt.legend()\n",
    "plt.show()"
   ]
  },
  {
   "cell_type": "code",
   "execution_count": 24,
   "id": "75688026",
   "metadata": {},
   "outputs": [],
   "source": [
    "def get_control_vector(val):\n",
    "    return np.diff(np.sign(np.diff(val)))\n",
    "\n",
    "def buy_and_sell_bot(val,controls):\n",
    "    inv = []\n",
    "    curr_val = 1000\n",
    "    inds = np.where(controls)[0]\n",
    "    buy_inds = np.where(controls>0)[0]\n",
    "    sell_inds = np.where(controls<0)[0]\n",
    "    max_limit = sell_inds[-1] if sell_inds[-1]>buy_inds[-1] else buy_inds[-1]\n",
    "    for i in range(buy_inds[0]+2):\n",
    "        inv.append(curr_val)\n",
    "    for i in range(buy_inds[0],max_limit+1):\n",
    "        if controls[i]>0:\n",
    "            buy_val = val[i+1]\n",
    "        elif controls[i]<0:\n",
    "            sell_val = val[i+1]\n",
    "            curr_val = curr_val*sell_val/buy_val\n",
    "        inv.append(curr_val)\n",
    "        \n",
    "    if max_limit+1!=len(controls):\n",
    "        for i in range(len(controls)-max_limit-1):\n",
    "            inv.append(curr_val)\n",
    "    return inv"
   ]
  },
  {
   "cell_type": "code",
   "execution_count": 25,
   "id": "663fc334",
   "metadata": {},
   "outputs": [],
   "source": [
    "controls_actual = get_control_vector(future_data)\n",
    "amount_actual = buy_and_sell_bot(future_data, controls_actual)"
   ]
  },
  {
   "cell_type": "code",
   "execution_count": 26,
   "id": "6f554ec5",
   "metadata": {},
   "outputs": [],
   "source": [
    "controls_pred= get_control_vector(future_predictions)\n",
    "amount_pred = buy_and_sell_bot(future_predictions, controls_pred)"
   ]
  },
  {
   "cell_type": "code",
   "execution_count": 27,
   "id": "e35a9706",
   "metadata": {},
   "outputs": [
    {
     "data": {
      "image/png": "[encoded data removed]",
      "text/plain": [
       "<Figure size 640x480 with 1 Axes>"
      ]
     },
     "metadata": {},
     "output_type": "display_data"
    }
   ],
   "source": [
    "plt.plot(amount_actual, label=\"actual\")\n",
    "plt.plot(amount_pred, label=\"pred\")\n",
    "plt.legend()\n",
    "plt.title(\"Returns\")\n",
    "plt.show()"
   ]
  },
  {
   "cell_type": "code",
   "execution_count": null,
   "id": "3ec4b2bb",
   "metadata": {},
   "outputs": [],
   "source": []
  },
  {
   "cell_type": "code",
   "execution_count": null,
   "id": "7df64abe",
   "metadata": {},
   "outputs": [],
   "source": []
  }
 ],
 "metadata": {
  "kernelspec": {
   "display_name": "Python 3 (ipykernel)",
   "language": "python",
   "name": "python3"
  },
  "language_info": {
   "codemirror_mode": {
    "name": "ipython",
    "version": 3
   },
   "file_extension": ".py",
   "mimetype": "text/x-python",
   "name": "python",
   "nbconvert_exporter": "python",
   "pygments_lexer": "ipython3",
   "version": "3.11.4"
  }
 },
 "nbformat": 4,
 "nbformat_minor": 5
}
