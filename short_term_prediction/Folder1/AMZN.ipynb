{
 "cells": [
  {
   "cell_type": "code",
   "execution_count": 1,
   "id": "3e3175db",
   "metadata": {},
   "outputs": [],
   "source": [
    "import numpy as np\n",
    "import pandas as pd\n",
    "import yfinance as yf\n",
    "import matplotlib.pyplot as plt\n",
    "from sklearn.preprocessing import MinMaxScaler\n",
    "from keras.models import Sequential\n",
    "from keras.layers import LSTM, Dense\n",
    "from sklearn.metrics import mean_squared_error, mean_absolute_error, accuracy_score\n",
    "from math import sqrt"
   ]
  },
  {
   "cell_type": "code",
   "execution_count": 2,
   "id": "e6d21ac0",
   "metadata": {},
   "outputs": [],
   "source": [
    "ticker = 'AMZN'\n",
    "start_date = '2018-01-01'\n",
    "end_date = '2023-10-31'"
   ]
  },
  {
   "cell_type": "code",
   "execution_count": 3,
   "id": "c4d883e3",
   "metadata": {},
   "outputs": [
    {
     "name": "stdout",
     "output_type": "stream",
     "text": [
      "[*********************100%***********************]  1 of 1 completed\n"
     ]
    },
    {
     "data": {
      "text/html": [
       "<div>\n",
       "<style scoped>\n",
       "    .dataframe tbody tr th:only-of-type {\n",
       "        vertical-align: middle;\n",
       "    }\n",
       "\n",
       "    .dataframe tbody tr th {\n",
       "        vertical-align: top;\n",
       "    }\n",
       "\n",
       "    .dataframe thead th {\n",
       "        text-align: right;\n",
       "    }\n",
       "</style>\n",
       "<table border=\"1\" class=\"dataframe\">\n",
       "  <thead>\n",
       "    <tr style=\"text-align: right;\">\n",
       "      <th></th>\n",
       "      <th>Date</th>\n",
       "      <th>Open</th>\n",
       "      <th>High</th>\n",
       "      <th>Low</th>\n",
       "      <th>Close</th>\n",
       "      <th>Adj Close</th>\n",
       "      <th>Volume</th>\n",
       "    </tr>\n",
       "  </thead>\n",
       "  <tbody>\n",
       "    <tr>\n",
       "      <th>0</th>\n",
       "      <td>2018-01-02</td>\n",
       "      <td>58.599998</td>\n",
       "      <td>59.500000</td>\n",
       "      <td>58.525501</td>\n",
       "      <td>59.450500</td>\n",
       "      <td>59.450500</td>\n",
       "      <td>53890000</td>\n",
       "    </tr>\n",
       "    <tr>\n",
       "      <th>1</th>\n",
       "      <td>2018-01-03</td>\n",
       "      <td>59.415001</td>\n",
       "      <td>60.274502</td>\n",
       "      <td>59.415001</td>\n",
       "      <td>60.209999</td>\n",
       "      <td>60.209999</td>\n",
       "      <td>62176000</td>\n",
       "    </tr>\n",
       "    <tr>\n",
       "      <th>2</th>\n",
       "      <td>2018-01-04</td>\n",
       "      <td>60.250000</td>\n",
       "      <td>60.793499</td>\n",
       "      <td>60.233002</td>\n",
       "      <td>60.479500</td>\n",
       "      <td>60.479500</td>\n",
       "      <td>60442000</td>\n",
       "    </tr>\n",
       "    <tr>\n",
       "      <th>3</th>\n",
       "      <td>2018-01-05</td>\n",
       "      <td>60.875500</td>\n",
       "      <td>61.457001</td>\n",
       "      <td>60.500000</td>\n",
       "      <td>61.457001</td>\n",
       "      <td>61.457001</td>\n",
       "      <td>70894000</td>\n",
       "    </tr>\n",
       "    <tr>\n",
       "      <th>4</th>\n",
       "      <td>2018-01-08</td>\n",
       "      <td>61.799999</td>\n",
       "      <td>62.653999</td>\n",
       "      <td>61.601501</td>\n",
       "      <td>62.343498</td>\n",
       "      <td>62.343498</td>\n",
       "      <td>85590000</td>\n",
       "    </tr>\n",
       "    <tr>\n",
       "      <th>...</th>\n",
       "      <td>...</td>\n",
       "      <td>...</td>\n",
       "      <td>...</td>\n",
       "      <td>...</td>\n",
       "      <td>...</td>\n",
       "      <td>...</td>\n",
       "      <td>...</td>\n",
       "    </tr>\n",
       "    <tr>\n",
       "      <th>1462</th>\n",
       "      <td>2023-10-24</td>\n",
       "      <td>127.739998</td>\n",
       "      <td>128.800003</td>\n",
       "      <td>126.339996</td>\n",
       "      <td>128.559998</td>\n",
       "      <td>128.559998</td>\n",
       "      <td>46477400</td>\n",
       "    </tr>\n",
       "    <tr>\n",
       "      <th>1463</th>\n",
       "      <td>2023-10-25</td>\n",
       "      <td>126.040001</td>\n",
       "      <td>126.339996</td>\n",
       "      <td>120.790001</td>\n",
       "      <td>121.389999</td>\n",
       "      <td>121.389999</td>\n",
       "      <td>74577500</td>\n",
       "    </tr>\n",
       "    <tr>\n",
       "      <th>1464</th>\n",
       "      <td>2023-10-26</td>\n",
       "      <td>120.629997</td>\n",
       "      <td>121.639999</td>\n",
       "      <td>118.349998</td>\n",
       "      <td>119.570000</td>\n",
       "      <td>119.570000</td>\n",
       "      <td>100419500</td>\n",
       "    </tr>\n",
       "    <tr>\n",
       "      <th>1465</th>\n",
       "      <td>2023-10-27</td>\n",
       "      <td>126.199997</td>\n",
       "      <td>130.020004</td>\n",
       "      <td>125.519997</td>\n",
       "      <td>127.739998</td>\n",
       "      <td>127.739998</td>\n",
       "      <td>125309300</td>\n",
       "    </tr>\n",
       "    <tr>\n",
       "      <th>1466</th>\n",
       "      <td>2023-10-30</td>\n",
       "      <td>129.720001</td>\n",
       "      <td>133.000000</td>\n",
       "      <td>128.559998</td>\n",
       "      <td>132.710007</td>\n",
       "      <td>132.710007</td>\n",
       "      <td>72485500</td>\n",
       "    </tr>\n",
       "  </tbody>\n",
       "</table>\n",
       "<p>1467 rows × 7 columns</p>\n",
       "</div>"
      ],
      "text/plain": [
       "           Date        Open        High         Low       Close   Adj Close  \\\n",
       "0    2018-01-02   58.599998   59.500000   58.525501   59.450500   59.450500   \n",
       "1    2018-01-03   59.415001   60.274502   59.415001   60.209999   60.209999   \n",
       "2    2018-01-04   60.250000   60.793499   60.233002   60.479500   60.479500   \n",
       "3    2018-01-05   60.875500   61.457001   60.500000   61.457001   61.457001   \n",
       "4    2018-01-08   61.799999   62.653999   61.601501   62.343498   62.343498   \n",
       "...         ...         ...         ...         ...         ...         ...   \n",
       "1462 2023-10-24  127.739998  128.800003  126.339996  128.559998  128.559998   \n",
       "1463 2023-10-25  126.040001  126.339996  120.790001  121.389999  121.389999   \n",
       "1464 2023-10-26  120.629997  121.639999  118.349998  119.570000  119.570000   \n",
       "1465 2023-10-27  126.199997  130.020004  125.519997  127.739998  127.739998   \n",
       "1466 2023-10-30  129.720001  133.000000  128.559998  132.710007  132.710007   \n",
       "\n",
       "         Volume  \n",
       "0      53890000  \n",
       "1      62176000  \n",
       "2      60442000  \n",
       "3      70894000  \n",
       "4      85590000  \n",
       "...         ...  \n",
       "1462   46477400  \n",
       "1463   74577500  \n",
       "1464  100419500  \n",
       "1465  125309300  \n",
       "1466   72485500  \n",
       "\n",
       "[1467 rows x 7 columns]"
      ]
     },
     "execution_count": 3,
     "metadata": {},
     "output_type": "execute_result"
    }
   ],
   "source": [
    "df = yf.download(ticker, start_date, end_date).reset_index()\n",
    "df"
   ]
  },
  {
   "cell_type": "code",
   "execution_count": 4,
   "id": "4fd894f3",
   "metadata": {},
   "outputs": [],
   "source": [
    "data = df['Close']\n",
    "\n",
    "scaler = MinMaxScaler()\n",
    "data = scaler.fit_transform(data.values.reshape(-1, 1))"
   ]
  },
  {
   "cell_type": "code",
   "execution_count": 5,
   "id": "a28a79c7",
   "metadata": {},
   "outputs": [
    {
     "data": {
      "text/plain": [
       "(1173, 294)"
      ]
     },
     "execution_count": 5,
     "metadata": {},
     "output_type": "execute_result"
    }
   ],
   "source": [
    "training_data_len = int(len(data) * 0.8)\n",
    "training_data = data[0:training_data_len, :]\n",
    "testing_data = data[training_data_len:, :]\n",
    "\n",
    "len(training_data), len(testing_data)"
   ]
  },
  {
   "cell_type": "code",
   "execution_count": 6,
   "id": "a5a9517b",
   "metadata": {},
   "outputs": [],
   "source": [
    "past_values = 1\n",
    "\n",
    "def create_training_data(data, past_values):\n",
    "    if len(data) < past_values:\n",
    "        return np.array([]), np.array([])\n",
    "    X_train = []\n",
    "    y_train = []\n",
    "    for i in range(past_values, len(data)):\n",
    "        X_train.append(data[i-past_values:i, 0])\n",
    "        y_train.append(data[i, 0])\n",
    "    return np.array(X_train), np.array(y_train)\n",
    "\n",
    "X_train, y_train = create_training_data(training_data, past_values)\n",
    "X_train = np.reshape(X_train, (X_train.shape[0], X_train.shape[1], 1))\n",
    "\n",
    "X_test, y_test = create_training_data(testing_data, past_values)\n",
    "X_test = np.reshape(X_test, (X_test.shape[0], X_test.shape[1], 1))"
   ]
  },
  {
   "cell_type": "code",
   "execution_count": 7,
   "id": "70151e02",
   "metadata": {},
   "outputs": [
    {
     "name": "stdout",
     "output_type": "stream",
     "text": [
      "Epoch 1/200\n",
      "6/6 [==============================] - 5s 12ms/step - loss: 0.2935\n",
      "Epoch 2/200\n",
      "6/6 [==============================] - 0s 8ms/step - loss: 0.2377\n",
      "Epoch 3/200\n",
      "6/6 [==============================] - 0s 7ms/step - loss: 0.1800\n",
      "Epoch 4/200\n",
      "6/6 [==============================] - 0s 6ms/step - loss: 0.1237\n",
      "Epoch 5/200\n",
      "6/6 [==============================] - 0s 8ms/step - loss: 0.0790\n",
      "Epoch 6/200\n",
      "6/6 [==============================] - 0s 8ms/step - loss: 0.0653\n",
      "Epoch 7/200\n",
      "6/6 [==============================] - 0s 8ms/step - loss: 0.0690\n",
      "Epoch 8/200\n",
      "6/6 [==============================] - 0s 5ms/step - loss: 0.0596\n",
      "Epoch 9/200\n",
      "6/6 [==============================] - 0s 8ms/step - loss: 0.0520\n",
      "Epoch 10/200\n",
      "6/6 [==============================] - 0s 9ms/step - loss: 0.0454\n",
      "Epoch 11/200\n",
      "6/6 [==============================] - 0s 9ms/step - loss: 0.0361\n",
      "Epoch 12/200\n",
      "6/6 [==============================] - 0s 7ms/step - loss: 0.0270\n",
      "Epoch 13/200\n",
      "6/6 [==============================] - 0s 6ms/step - loss: 0.0175\n",
      "Epoch 14/200\n",
      "6/6 [==============================] - 0s 8ms/step - loss: 0.0093\n",
      "Epoch 15/200\n",
      "6/6 [==============================] - 0s 6ms/step - loss: 0.0036\n",
      "Epoch 16/200\n",
      "6/6 [==============================] - 0s 8ms/step - loss: 0.0012\n",
      "Epoch 17/200\n",
      "6/6 [==============================] - 0s 6ms/step - loss: 0.0011\n",
      "Epoch 18/200\n",
      "6/6 [==============================] - 0s 8ms/step - loss: 0.0014\n",
      "Epoch 19/200\n",
      "6/6 [==============================] - 0s 7ms/step - loss: 0.0013\n",
      "Epoch 20/200\n",
      "6/6 [==============================] - 0s 7ms/step - loss: 9.9355e-04\n",
      "Epoch 21/200\n",
      "6/6 [==============================] - 0s 8ms/step - loss: 8.8141e-04\n",
      "Epoch 22/200\n",
      "6/6 [==============================] - 0s 8ms/step - loss: 8.7379e-04\n",
      "Epoch 23/200\n",
      "6/6 [==============================] - 0s 7ms/step - loss: 8.7958e-04\n",
      "Epoch 24/200\n",
      "6/6 [==============================] - 0s 8ms/step - loss: 8.6266e-04\n",
      "Epoch 25/200\n",
      "6/6 [==============================] - 0s 6ms/step - loss: 8.3970e-04\n",
      "Epoch 26/200\n",
      "6/6 [==============================] - 0s 8ms/step - loss: 8.2780e-04\n",
      "Epoch 27/200\n",
      "6/6 [==============================] - 0s 7ms/step - loss: 8.1968e-04\n",
      "Epoch 28/200\n",
      "6/6 [==============================] - 0s 6ms/step - loss: 8.1000e-04\n",
      "Epoch 29/200\n",
      "6/6 [==============================] - 0s 6ms/step - loss: 8.0143e-04\n",
      "Epoch 30/200\n",
      "6/6 [==============================] - 0s 8ms/step - loss: 7.9057e-04\n",
      "Epoch 31/200\n",
      "6/6 [==============================] - 0s 6ms/step - loss: 7.8192e-04\n",
      "Epoch 32/200\n",
      "6/6 [==============================] - 0s 8ms/step - loss: 7.7362e-04\n",
      "Epoch 33/200\n",
      "6/6 [==============================] - 0s 7ms/step - loss: 7.6915e-04\n",
      "Epoch 34/200\n",
      "6/6 [==============================] - 0s 6ms/step - loss: 7.5596e-04\n",
      "Epoch 35/200\n",
      "6/6 [==============================] - 0s 8ms/step - loss: 7.5395e-04\n",
      "Epoch 36/200\n",
      "6/6 [==============================] - 0s 7ms/step - loss: 7.3915e-04\n",
      "Epoch 37/200\n",
      "6/6 [==============================] - 0s 8ms/step - loss: 7.3027e-04\n",
      "Epoch 38/200\n",
      "6/6 [==============================] - 0s 7ms/step - loss: 7.2236e-04\n",
      "Epoch 39/200\n",
      "6/6 [==============================] - 0s 7ms/step - loss: 7.1570e-04\n",
      "Epoch 40/200\n",
      "6/6 [==============================] - 0s 8ms/step - loss: 7.1009e-04\n",
      "Epoch 41/200\n",
      "6/6 [==============================] - 0s 10ms/step - loss: 7.0358e-04\n",
      "Epoch 42/200\n",
      "6/6 [==============================] - 0s 9ms/step - loss: 6.9130e-04\n",
      "Epoch 43/200\n",
      "6/6 [==============================] - 0s 12ms/step - loss: 6.8223e-04\n",
      "Epoch 44/200\n",
      "6/6 [==============================] - 0s 8ms/step - loss: 6.7811e-04\n",
      "Epoch 45/200\n",
      "6/6 [==============================] - 0s 6ms/step - loss: 6.7291e-04\n",
      "Epoch 46/200\n",
      "6/6 [==============================] - 0s 8ms/step - loss: 6.6256e-04\n",
      "Epoch 47/200\n",
      "6/6 [==============================] - 0s 7ms/step - loss: 6.5330e-04\n",
      "Epoch 48/200\n",
      "6/6 [==============================] - 0s 7ms/step - loss: 6.4618e-04\n",
      "Epoch 49/200\n",
      "6/6 [==============================] - 0s 8ms/step - loss: 6.4117e-04\n",
      "Epoch 50/200\n",
      "6/6 [==============================] - 0s 7ms/step - loss: 6.3479e-04\n",
      "Epoch 51/200\n",
      "6/6 [==============================] - 0s 6ms/step - loss: 6.3397e-04\n",
      "Epoch 52/200\n",
      "6/6 [==============================] - 0s 8ms/step - loss: 6.2873e-04\n",
      "Epoch 53/200\n",
      "6/6 [==============================] - 0s 9ms/step - loss: 6.1665e-04\n",
      "Epoch 54/200\n",
      "6/6 [==============================] - 0s 10ms/step - loss: 6.0889e-04\n",
      "Epoch 55/200\n",
      "6/6 [==============================] - 0s 7ms/step - loss: 6.0187e-04\n",
      "Epoch 56/200\n",
      "6/6 [==============================] - 0s 6ms/step - loss: 5.9451e-04\n",
      "Epoch 57/200\n",
      "6/6 [==============================] - 0s 7ms/step - loss: 5.9035e-04\n",
      "Epoch 58/200\n",
      "6/6 [==============================] - 0s 6ms/step - loss: 5.8673e-04\n",
      "Epoch 59/200\n",
      "6/6 [==============================] - 0s 7ms/step - loss: 5.7880e-04\n",
      "Epoch 60/200\n",
      "6/6 [==============================] - 0s 8ms/step - loss: 5.7542e-04\n",
      "Epoch 61/200\n",
      "6/6 [==============================] - 0s 8ms/step - loss: 5.6901e-04\n",
      "Epoch 62/200\n",
      "6/6 [==============================] - 0s 8ms/step - loss: 5.6343e-04\n",
      "Epoch 63/200\n",
      "6/6 [==============================] - 0s 8ms/step - loss: 5.5895e-04\n",
      "Epoch 64/200\n",
      "6/6 [==============================] - 0s 8ms/step - loss: 5.5574e-04\n",
      "Epoch 65/200\n",
      "6/6 [==============================] - 0s 8ms/step - loss: 5.5122e-04\n",
      "Epoch 66/200\n",
      "6/6 [==============================] - 0s 8ms/step - loss: 5.5066e-04\n",
      "Epoch 67/200\n",
      "6/6 [==============================] - 0s 7ms/step - loss: 5.5265e-04\n",
      "Epoch 68/200\n",
      "6/6 [==============================] - 0s 7ms/step - loss: 5.3829e-04\n",
      "Epoch 69/200\n",
      "6/6 [==============================] - 0s 6ms/step - loss: 5.3250e-04\n",
      "Epoch 70/200\n",
      "6/6 [==============================] - 0s 7ms/step - loss: 5.2975e-04\n",
      "Epoch 71/200\n",
      "6/6 [==============================] - 0s 8ms/step - loss: 5.2469e-04\n",
      "Epoch 72/200\n",
      "6/6 [==============================] - 0s 8ms/step - loss: 5.2084e-04\n",
      "Epoch 73/200\n",
      "6/6 [==============================] - 0s 8ms/step - loss: 5.1670e-04\n",
      "Epoch 74/200\n",
      "6/6 [==============================] - 0s 7ms/step - loss: 5.1415e-04\n",
      "Epoch 75/200\n",
      "6/6 [==============================] - 0s 11ms/step - loss: 5.1050e-04\n",
      "Epoch 76/200\n",
      "6/6 [==============================] - 0s 8ms/step - loss: 5.0746e-04\n",
      "Epoch 77/200\n",
      "6/6 [==============================] - 0s 8ms/step - loss: 5.0814e-04\n",
      "Epoch 78/200\n",
      "6/6 [==============================] - 0s 8ms/step - loss: 5.0619e-04\n",
      "Epoch 79/200\n",
      "6/6 [==============================] - 0s 7ms/step - loss: 4.9920e-04\n",
      "Epoch 80/200\n",
      "6/6 [==============================] - 0s 7ms/step - loss: 4.9933e-04\n",
      "Epoch 81/200\n",
      "6/6 [==============================] - 0s 6ms/step - loss: 4.9983e-04\n",
      "Epoch 82/200\n",
      "6/6 [==============================] - 0s 7ms/step - loss: 4.9940e-04\n",
      "Epoch 83/200\n",
      "6/6 [==============================] - 0s 7ms/step - loss: 4.9448e-04\n",
      "Epoch 84/200\n",
      "6/6 [==============================] - 0s 8ms/step - loss: 4.8934e-04\n",
      "Epoch 85/200\n",
      "6/6 [==============================] - 0s 8ms/step - loss: 4.8795e-04\n",
      "Epoch 86/200\n",
      "6/6 [==============================] - 0s 7ms/step - loss: 4.8740e-04\n",
      "Epoch 87/200\n",
      "6/6 [==============================] - 0s 7ms/step - loss: 4.8167e-04\n",
      "Epoch 88/200\n",
      "6/6 [==============================] - 0s 6ms/step - loss: 4.7876e-04\n",
      "Epoch 89/200\n",
      "6/6 [==============================] - 0s 8ms/step - loss: 4.8328e-04\n",
      "Epoch 90/200\n",
      "6/6 [==============================] - 0s 6ms/step - loss: 4.7650e-04\n",
      "Epoch 91/200\n",
      "6/6 [==============================] - 0s 10ms/step - loss: 4.7446e-04\n",
      "Epoch 92/200\n",
      "6/6 [==============================] - 0s 7ms/step - loss: 4.7412e-04\n",
      "Epoch 93/200\n",
      "6/6 [==============================] - 0s 6ms/step - loss: 4.7129e-04\n",
      "Epoch 94/200\n",
      "6/6 [==============================] - 0s 8ms/step - loss: 4.7192e-04\n",
      "Epoch 95/200\n",
      "6/6 [==============================] - 0s 6ms/step - loss: 4.6791e-04\n",
      "Epoch 96/200\n",
      "6/6 [==============================] - 0s 7ms/step - loss: 4.6870e-04\n",
      "Epoch 97/200\n",
      "6/6 [==============================] - 0s 7ms/step - loss: 4.6831e-04\n",
      "Epoch 98/200\n",
      "6/6 [==============================] - 0s 11ms/step - loss: 4.6920e-04\n",
      "Epoch 99/200\n",
      "6/6 [==============================] - 0s 8ms/step - loss: 4.6827e-04\n",
      "Epoch 100/200\n"
     ]
    },
    {
     "name": "stdout",
     "output_type": "stream",
     "text": [
      "6/6 [==============================] - 0s 8ms/step - loss: 4.6885e-04\n",
      "Epoch 101/200\n",
      "6/6 [==============================] - 0s 7ms/step - loss: 4.6338e-04\n",
      "Epoch 102/200\n",
      "6/6 [==============================] - 0s 7ms/step - loss: 4.6111e-04\n",
      "Epoch 103/200\n",
      "6/6 [==============================] - 0s 7ms/step - loss: 4.6071e-04\n",
      "Epoch 104/200\n",
      "6/6 [==============================] - 0s 7ms/step - loss: 4.6177e-04\n",
      "Epoch 105/200\n",
      "6/6 [==============================] - 0s 8ms/step - loss: 4.6181e-04\n",
      "Epoch 106/200\n",
      "6/6 [==============================] - 0s 8ms/step - loss: 4.5936e-04\n",
      "Epoch 107/200\n",
      "6/6 [==============================] - 0s 8ms/step - loss: 4.6153e-04\n",
      "Epoch 108/200\n",
      "6/6 [==============================] - 0s 7ms/step - loss: 4.5997e-04\n",
      "Epoch 109/200\n",
      "6/6 [==============================] - 0s 8ms/step - loss: 4.6392e-04\n",
      "Epoch 110/200\n",
      "6/6 [==============================] - 0s 7ms/step - loss: 4.7295e-04\n",
      "Epoch 111/200\n",
      "6/6 [==============================] - 0s 7ms/step - loss: 4.6306e-04\n",
      "Epoch 112/200\n",
      "6/6 [==============================] - 0s 8ms/step - loss: 4.6346e-04\n",
      "Epoch 113/200\n",
      "6/6 [==============================] - 0s 8ms/step - loss: 4.5494e-04\n",
      "Epoch 114/200\n",
      "6/6 [==============================] - 0s 7ms/step - loss: 4.6419e-04\n",
      "Epoch 115/200\n",
      "6/6 [==============================] - 0s 8ms/step - loss: 4.6944e-04\n",
      "Epoch 116/200\n",
      "6/6 [==============================] - 0s 7ms/step - loss: 4.5993e-04\n",
      "Epoch 117/200\n",
      "6/6 [==============================] - 0s 7ms/step - loss: 4.5574e-04\n",
      "Epoch 118/200\n",
      "6/6 [==============================] - 0s 7ms/step - loss: 4.5478e-04\n",
      "Epoch 119/200\n",
      "6/6 [==============================] - 0s 8ms/step - loss: 4.6521e-04\n",
      "Epoch 120/200\n",
      "6/6 [==============================] - 0s 7ms/step - loss: 4.7056e-04\n",
      "Epoch 121/200\n",
      "6/6 [==============================] - 0s 7ms/step - loss: 4.5604e-04\n",
      "Epoch 122/200\n",
      "6/6 [==============================] - 0s 7ms/step - loss: 4.5105e-04\n",
      "Epoch 123/200\n",
      "6/6 [==============================] - 0s 7ms/step - loss: 4.6417e-04\n",
      "Epoch 124/200\n",
      "6/6 [==============================] - 0s 7ms/step - loss: 4.6165e-04\n",
      "Epoch 125/200\n",
      "6/6 [==============================] - 0s 7ms/step - loss: 4.5712e-04\n",
      "Epoch 126/200\n",
      "6/6 [==============================] - 0s 8ms/step - loss: 4.5572e-04\n",
      "Epoch 127/200\n",
      "6/6 [==============================] - 0s 7ms/step - loss: 4.6197e-04\n",
      "Epoch 128/200\n",
      "6/6 [==============================] - 0s 7ms/step - loss: 4.6630e-04\n",
      "Epoch 129/200\n",
      "6/6 [==============================] - 0s 7ms/step - loss: 4.6501e-04\n",
      "Epoch 130/200\n",
      "6/6 [==============================] - 0s 8ms/step - loss: 4.5915e-04\n",
      "Epoch 131/200\n",
      "6/6 [==============================] - 0s 7ms/step - loss: 4.6058e-04\n",
      "Epoch 132/200\n",
      "6/6 [==============================] - 0s 7ms/step - loss: 4.5382e-04\n",
      "Epoch 133/200\n",
      "6/6 [==============================] - 0s 7ms/step - loss: 4.5306e-04\n",
      "Epoch 134/200\n",
      "6/6 [==============================] - 0s 8ms/step - loss: 4.5610e-04\n",
      "Epoch 135/200\n",
      "6/6 [==============================] - 0s 8ms/step - loss: 4.6287e-04\n",
      "Epoch 136/200\n",
      "6/6 [==============================] - 0s 7ms/step - loss: 4.5507e-04\n",
      "Epoch 137/200\n",
      "6/6 [==============================] - 0s 7ms/step - loss: 4.5214e-04\n",
      "Epoch 138/200\n",
      "6/6 [==============================] - 0s 8ms/step - loss: 4.5145e-04\n",
      "Epoch 139/200\n",
      "6/6 [==============================] - 0s 7ms/step - loss: 4.5079e-04\n",
      "Epoch 140/200\n",
      "6/6 [==============================] - 0s 7ms/step - loss: 4.5226e-04\n",
      "Epoch 141/200\n",
      "6/6 [==============================] - 0s 7ms/step - loss: 4.5526e-04\n",
      "Epoch 142/200\n",
      "6/6 [==============================] - 0s 7ms/step - loss: 4.5830e-04\n",
      "Epoch 143/200\n",
      "6/6 [==============================] - 0s 7ms/step - loss: 4.5405e-04\n",
      "Epoch 144/200\n",
      "6/6 [==============================] - 0s 7ms/step - loss: 4.5145e-04\n",
      "Epoch 145/200\n",
      "6/6 [==============================] - 0s 8ms/step - loss: 4.5034e-04\n",
      "Epoch 146/200\n",
      "6/6 [==============================] - 0s 9ms/step - loss: 4.5486e-04\n",
      "Epoch 147/200\n",
      "6/6 [==============================] - 0s 8ms/step - loss: 4.5459e-04\n",
      "Epoch 148/200\n",
      "6/6 [==============================] - 0s 7ms/step - loss: 4.5026e-04\n",
      "Epoch 149/200\n",
      "6/6 [==============================] - 0s 8ms/step - loss: 4.5048e-04\n",
      "Epoch 150/200\n",
      "6/6 [==============================] - 0s 7ms/step - loss: 4.5678e-04\n",
      "Epoch 151/200\n",
      "6/6 [==============================] - 0s 7ms/step - loss: 4.6224e-04\n",
      "Epoch 152/200\n",
      "6/6 [==============================] - 0s 7ms/step - loss: 4.6558e-04\n",
      "Epoch 153/200\n",
      "6/6 [==============================] - 0s 8ms/step - loss: 4.5505e-04\n",
      "Epoch 154/200\n",
      "6/6 [==============================] - 0s 7ms/step - loss: 4.5054e-04\n",
      "Epoch 155/200\n",
      "6/6 [==============================] - 0s 7ms/step - loss: 4.4920e-04\n",
      "Epoch 156/200\n",
      "6/6 [==============================] - 0s 7ms/step - loss: 4.5347e-04\n",
      "Epoch 157/200\n",
      "6/6 [==============================] - 0s 8ms/step - loss: 4.5662e-04\n",
      "Epoch 158/200\n",
      "6/6 [==============================] - 0s 7ms/step - loss: 4.5234e-04\n",
      "Epoch 159/200\n",
      "6/6 [==============================] - 0s 8ms/step - loss: 4.5079e-04\n",
      "Epoch 160/200\n",
      "6/6 [==============================] - 0s 8ms/step - loss: 4.5208e-04\n",
      "Epoch 161/200\n",
      "6/6 [==============================] - 0s 8ms/step - loss: 4.5536e-04\n",
      "Epoch 162/200\n",
      "6/6 [==============================] - 0s 9ms/step - loss: 4.5436e-04\n",
      "Epoch 163/200\n",
      "6/6 [==============================] - 0s 8ms/step - loss: 4.5226e-04\n",
      "Epoch 164/200\n",
      "6/6 [==============================] - 0s 7ms/step - loss: 4.5174e-04\n",
      "Epoch 165/200\n",
      "6/6 [==============================] - 0s 7ms/step - loss: 4.6224e-04\n",
      "Epoch 166/200\n",
      "6/6 [==============================] - 0s 7ms/step - loss: 4.5134e-04\n",
      "Epoch 167/200\n",
      "6/6 [==============================] - 0s 7ms/step - loss: 4.5950e-04\n",
      "Epoch 168/200\n",
      "6/6 [==============================] - 0s 7ms/step - loss: 4.7644e-04\n",
      "Epoch 169/200\n",
      "6/6 [==============================] - 0s 7ms/step - loss: 4.5717e-04\n",
      "Epoch 170/200\n",
      "6/6 [==============================] - 0s 7ms/step - loss: 4.5137e-04\n",
      "Epoch 171/200\n",
      "6/6 [==============================] - 0s 7ms/step - loss: 4.5181e-04\n",
      "Epoch 172/200\n",
      "6/6 [==============================] - 0s 8ms/step - loss: 4.5380e-04\n",
      "Epoch 173/200\n",
      "6/6 [==============================] - 0s 8ms/step - loss: 4.5139e-04\n",
      "Epoch 174/200\n",
      "6/6 [==============================] - 0s 7ms/step - loss: 4.5407e-04\n",
      "Epoch 175/200\n",
      "6/6 [==============================] - 0s 7ms/step - loss: 4.6008e-04\n",
      "Epoch 176/200\n",
      "6/6 [==============================] - 0s 7ms/step - loss: 4.6337e-04\n",
      "Epoch 177/200\n",
      "6/6 [==============================] - 0s 8ms/step - loss: 4.6907e-04\n",
      "Epoch 178/200\n",
      "6/6 [==============================] - 0s 7ms/step - loss: 4.5162e-04\n",
      "Epoch 179/200\n",
      "6/6 [==============================] - 0s 7ms/step - loss: 4.5115e-04\n",
      "Epoch 180/200\n",
      "6/6 [==============================] - 0s 7ms/step - loss: 4.5394e-04\n",
      "Epoch 181/200\n",
      "6/6 [==============================] - 0s 7ms/step - loss: 4.6303e-04\n",
      "Epoch 182/200\n",
      "6/6 [==============================] - 0s 7ms/step - loss: 4.5339e-04\n",
      "Epoch 183/200\n",
      "6/6 [==============================] - 0s 7ms/step - loss: 4.5225e-04\n",
      "Epoch 184/200\n",
      "6/6 [==============================] - 0s 7ms/step - loss: 4.5297e-04\n",
      "Epoch 185/200\n",
      "6/6 [==============================] - 0s 7ms/step - loss: 4.5272e-04\n",
      "Epoch 186/200\n",
      "6/6 [==============================] - 0s 7ms/step - loss: 4.5105e-04\n",
      "Epoch 187/200\n",
      "6/6 [==============================] - 0s 8ms/step - loss: 4.5242e-04\n",
      "Epoch 188/200\n",
      "6/6 [==============================] - 0s 7ms/step - loss: 4.5847e-04\n",
      "Epoch 189/200\n",
      "6/6 [==============================] - 0s 7ms/step - loss: 4.5256e-04\n",
      "Epoch 190/200\n",
      "6/6 [==============================] - 0s 7ms/step - loss: 4.5131e-04\n",
      "Epoch 191/200\n",
      "6/6 [==============================] - 0s 7ms/step - loss: 4.5076e-04\n",
      "Epoch 192/200\n",
      "6/6 [==============================] - 0s 7ms/step - loss: 4.5823e-04\n",
      "Epoch 193/200\n",
      "6/6 [==============================] - 0s 7ms/step - loss: 4.5479e-04\n",
      "Epoch 194/200\n",
      "6/6 [==============================] - 0s 7ms/step - loss: 4.5197e-04\n",
      "Epoch 195/200\n",
      "6/6 [==============================] - 0s 7ms/step - loss: 4.6792e-04\n",
      "Epoch 196/200\n",
      "6/6 [==============================] - 0s 7ms/step - loss: 4.5520e-04\n",
      "Epoch 197/200\n"
     ]
    },
    {
     "name": "stdout",
     "output_type": "stream",
     "text": [
      "6/6 [==============================] - 0s 7ms/step - loss: 4.5226e-04\n",
      "Epoch 198/200\n",
      "6/6 [==============================] - 0s 7ms/step - loss: 4.5096e-04\n",
      "Epoch 199/200\n",
      "6/6 [==============================] - 0s 7ms/step - loss: 4.5475e-04\n",
      "Epoch 200/200\n",
      "6/6 [==============================] - 0s 8ms/step - loss: 4.5475e-04\n"
     ]
    },
    {
     "data": {
      "text/plain": [
       "<keras.src.callbacks.History at 0x1567aec9d50>"
      ]
     },
     "execution_count": 7,
     "metadata": {},
     "output_type": "execute_result"
    }
   ],
   "source": [
    "model = Sequential()\n",
    "model.add(LSTM(50, return_sequences=True, input_shape=(X_train.shape[1], 1)))\n",
    "model.add(LSTM(50, return_sequences=True))\n",
    "model.add(LSTM(50, return_sequences=False))\n",
    "model.add(Dense(25))\n",
    "model.add(Dense(1))\n",
    "\n",
    "model.compile(optimizer='adam', loss='mean_squared_error')\n",
    "model.fit(X_train, y_train, batch_size=200, epochs=200, verbose=1)"
   ]
  },
  {
   "cell_type": "code",
   "execution_count": 8,
   "id": "92ef2e44",
   "metadata": {},
   "outputs": [
    {
     "name": "stdout",
     "output_type": "stream",
     "text": [
      "37/37 [==============================] - 1s 3ms/step\n",
      "10/10 [==============================] - 0s 2ms/step\n"
     ]
    }
   ],
   "source": [
    "pred_train = model.predict(X_train)\n",
    "pred = model.predict(X_test)"
   ]
  },
  {
   "cell_type": "code",
   "execution_count": 9,
   "id": "a77f781f",
   "metadata": {},
   "outputs": [],
   "source": [
    "pred_train = scaler.inverse_transform(pred_train)\n",
    "pred = scaler.inverse_transform(pred)\n",
    "y_test = scaler.inverse_transform([y_test])\n",
    "y_train = scaler.inverse_transform([y_train])"
   ]
  },
  {
   "cell_type": "code",
   "execution_count": 10,
   "id": "ab449e76",
   "metadata": {},
   "outputs": [],
   "source": [
    "y_test = y_test.flatten()\n",
    "y_train = y_train.flatten()"
   ]
  },
  {
   "cell_type": "code",
   "execution_count": 11,
   "id": "3003bbb6",
   "metadata": {},
   "outputs": [
    {
     "name": "stdout",
     "output_type": "stream",
     "text": [
      "Training Error\n",
      "Mean Absolute Error (MAE): 1.8445772489996901\n",
      "Root Mean Squared Error (RMSE): 2.6943054820674703\n"
     ]
    },
    {
     "data": {
      "image/png": "[encoded data removed]",
      "text/plain": [
       "<Figure size 640x480 with 1 Axes>"
      ]
     },
     "metadata": {},
     "output_type": "display_data"
    }
   ],
   "source": [
    "print(\"Training Error\")\n",
    "mae = mean_absolute_error(y_train, pred_train)\n",
    "print(\"Mean Absolute Error (MAE):\", mae)\n",
    "rmse = sqrt(mean_squared_error(y_train, pred_train))\n",
    "print(\"Root Mean Squared Error (RMSE):\", rmse)\n",
    "    \n",
    "plt.plot(y_train, label = 'actual '+str(ticker))\n",
    "plt.plot(pred_train, label = 'predicted '+str(ticker))\n",
    "plt.title(\"Training Plot\")\n",
    "plt.legend()\n",
    "plt.show()"
   ]
  },
  {
   "cell_type": "code",
   "execution_count": 12,
   "id": "01e9e93d",
   "metadata": {},
   "outputs": [
    {
     "name": "stdout",
     "output_type": "stream",
     "text": [
      "Testing Error\n",
      "Mean Absolute Error (MAE): 2.0505882237144704\n",
      "Root Mean Squared Error (RMSE): 2.740466683890633\n"
     ]
    },
    {
     "data": {
      "image/png": "[encoded data removed]",
      "text/plain": [
       "<Figure size 640x480 with 1 Axes>"
      ]
     },
     "metadata": {},
     "output_type": "display_data"
    }
   ],
   "source": [
    "print(\"Testing Error\")\n",
    "mae = mean_absolute_error(y_test, pred)\n",
    "print(\"Mean Absolute Error (MAE):\", mae)\n",
    "rmse = sqrt(mean_squared_error(y_test, pred))\n",
    "print(\"Root Mean Squared Error (RMSE):\", rmse)\n",
    "\n",
    "plt.plot(y_test, label = 'actual '+str(ticker))\n",
    "plt.plot(pred, label = 'predicted '+str(ticker))\n",
    "plt.title(\"Testing Plot\")\n",
    "plt.legend()\n",
    "plt.show()"
   ]
  },
  {
   "cell_type": "code",
   "execution_count": 13,
   "id": "5b2f562b",
   "metadata": {},
   "outputs": [
    {
     "data": {
      "text/plain": [
       "132.7100067138672"
      ]
     },
     "execution_count": 13,
     "metadata": {},
     "output_type": "execute_result"
    }
   ],
   "source": [
    "y_test[-1]"
   ]
  },
  {
   "cell_type": "code",
   "execution_count": 14,
   "id": "861dfd44",
   "metadata": {},
   "outputs": [
    {
     "data": {
      "text/plain": [
       "array([127.98802], dtype=float32)"
      ]
     },
     "execution_count": 14,
     "metadata": {},
     "output_type": "execute_result"
    }
   ],
   "source": [
    "pred[-1]"
   ]
  },
  {
   "cell_type": "code",
   "execution_count": 15,
   "id": "f38d0e04",
   "metadata": {},
   "outputs": [
    {
     "name": "stdout",
     "output_type": "stream",
     "text": [
      "[*********************100%***********************]  1 of 1 completed\n"
     ]
    },
    {
     "data": {
      "text/plain": [
       "0     137.000000\n",
       "1     138.070007\n",
       "2     138.600006\n",
       "3     139.740005\n",
       "4     142.710007\n",
       "5     142.080002\n",
       "6     140.600006\n",
       "7     143.559998\n",
       "8     142.589996\n",
       "9     145.800003\n",
       "10    143.199997\n",
       "11    142.830002\n",
       "12    145.179993\n",
       "13    146.130005\n",
       "14    143.899994\n",
       "15    146.710007\n",
       "16    146.740005\n",
       "17    147.729996\n",
       "18    147.029999\n",
       "19    146.320007\n",
       "20    146.089996\n",
       "21    147.029999\n",
       "22    144.839996\n",
       "23    146.880005\n",
       "24    144.520004\n",
       "25    146.880005\n",
       "Name: Close, dtype: float64"
      ]
     },
     "execution_count": 15,
     "metadata": {},
     "output_type": "execute_result"
    }
   ],
   "source": [
    "start_date = '2023-11-01'\n",
    "end_date = '2023-12-08'\n",
    "future_data = yf.download(ticker, start_date, end_date).reset_index()['Close']\n",
    "future_data"
   ]
  },
  {
   "cell_type": "code",
   "execution_count": 16,
   "id": "176fc21d",
   "metadata": {},
   "outputs": [
    {
     "data": {
      "text/plain": [
       "26"
      ]
     },
     "execution_count": 16,
     "metadata": {},
     "output_type": "execute_result"
    }
   ],
   "source": [
    "future_data = np.array(future_data)\n",
    "len(future_data)"
   ]
  },
  {
   "cell_type": "code",
   "execution_count": 17,
   "id": "1a364f25",
   "metadata": {},
   "outputs": [],
   "source": [
    "# model(april1) = (april2-pred) -> april2actual\n",
    "\n",
    "\n",
    "\n",
    "# model(april2-pred) = april3-pred"
   ]
  },
  {
   "cell_type": "code",
   "execution_count": 19,
   "id": "00d18721",
   "metadata": {},
   "outputs": [
    {
     "name": "stdout",
     "output_type": "stream",
     "text": [
      "1/1 [==============================] - 0s 23ms/step\n",
      "1/1 [==============================] - 0s 22ms/step\n",
      "1/1 [==============================] - 0s 21ms/step\n",
      "1/1 [==============================] - 0s 18ms/step\n",
      "1/1 [==============================] - 0s 21ms/step\n",
      "1/1 [==============================] - 0s 22ms/step\n",
      "1/1 [==============================] - 0s 20ms/step\n",
      "1/1 [==============================] - 0s 21ms/step\n",
      "1/1 [==============================] - 0s 18ms/step\n",
      "1/1 [==============================] - 0s 21ms/step\n",
      "1/1 [==============================] - 0s 22ms/step\n",
      "1/1 [==============================] - 0s 20ms/step\n",
      "1/1 [==============================] - 0s 22ms/step\n",
      "1/1 [==============================] - 0s 21ms/step\n",
      "1/1 [==============================] - 0s 18ms/step\n",
      "1/1 [==============================] - 0s 21ms/step\n",
      "1/1 [==============================] - 0s 22ms/step\n",
      "1/1 [==============================] - 0s 21ms/step\n",
      "1/1 [==============================] - 0s 20ms/step\n",
      "1/1 [==============================] - 0s 21ms/step\n",
      "1/1 [==============================] - 0s 22ms/step\n",
      "1/1 [==============================] - 0s 21ms/step\n",
      "1/1 [==============================] - 0s 20ms/step\n",
      "1/1 [==============================] - 0s 20ms/step\n",
      "1/1 [==============================] - 0s 21ms/step\n",
      "1/1 [==============================] - 0s 20ms/step\n"
     ]
    },
    {
     "data": {
      "text/plain": [
       "numpy.ndarray"
      ]
     },
     "execution_count": 19,
     "metadata": {},
     "output_type": "execute_result"
    }
   ],
   "source": [
    "def predict_future(days, last_input, future_data):\n",
    "    Output = []\n",
    "    i = 0\n",
    "    temp = scaler.transform(future_data.reshape(-1, 1))\n",
    "    \n",
    "    while(i<days):\n",
    "        if(len(last_input)>past_values):\n",
    "            last_input = last_input[1:]\n",
    "            last_input = last_input.reshape((1, past_values, 1))\n",
    "            res = model.predict(last_input)\n",
    "            last_input = np.append(last_input, temp[i])\n",
    "            last_input = last_input[1:]\n",
    "            Output.extend(res.tolist())\n",
    "            i=i+1\n",
    "        else:\n",
    "            last_input = last_input.reshape((1, past_values, 1))\n",
    "            res = model.predict(last_input)\n",
    "            last_input = np.append(last_input, temp[i])\n",
    "            Output.extend(res.tolist())\n",
    "            i=i+1\n",
    "        \n",
    "    Output = scaler.inverse_transform(Output)\n",
    "    return Output, last_input\n",
    "    \n",
    "future_predictions, last_input = predict_future(len(future_data), X_test[-1], future_data)\n",
    "# future_predictions = future_predictions.flatten()\n",
    "type(future_predictions)"
   ]
  },
  {
   "cell_type": "code",
   "execution_count": 19,
   "id": "6c06bc08",
   "metadata": {},
   "outputs": [
    {
     "data": {
      "image/png": "[encoded data removed]",
      "text/plain": [
       "<Figure size 640x480 with 1 Axes>"
      ]
     },
     "metadata": {},
     "output_type": "display_data"
    }
   ],
   "source": [
    "plt.plot(future_data, label = 'actual')\n",
    "plt.plot(future_predictions, label = 'predicted')\n",
    "plt.legend()\n",
    "plt.show()"
   ]
  },
  {
   "cell_type": "code",
   "execution_count": 22,
   "id": "75688026",
   "metadata": {},
   "outputs": [],
   "source": [
    "def get_control_vector(val):\n",
    "    return np.diff(np.sign(np.diff(val)))\n",
    "\n",
    "def buy_and_sell_bot(val,controls):\n",
    "    inv = []\n",
    "    curr_val = 1000\n",
    "    inds = np.where(controls)[0]\n",
    "    buy_inds = np.where(controls>0)[0]\n",
    "    sell_inds = np.where(controls<0)[0]\n",
    "    max_limit = sell_inds[-1] if sell_inds[-1]>buy_inds[-1] else buy_inds[-1]\n",
    "    for i in range(buy_inds[0]+2):\n",
    "        inv.append(curr_val)\n",
    "    for i in range(buy_inds[0],max_limit+1):\n",
    "        if controls[i]>0:\n",
    "            buy_val = val[i+1]\n",
    "        elif controls[i]<0:\n",
    "            sell_val = val[i+1]\n",
    "            curr_val = curr_val*sell_val/buy_val\n",
    "        inv.append(curr_val)\n",
    "        \n",
    "    if max_limit+1!=len(controls):\n",
    "        for i in range(len(controls)-max_limit-1):\n",
    "            inv.append(curr_val)\n",
    "    return inv"
   ]
  },
  {
   "cell_type": "code",
   "execution_count": 23,
   "id": "663fc334",
   "metadata": {},
   "outputs": [],
   "source": [
    "controls_actual = get_control_vector(future_data)\n",
    "amount_actual = buy_and_sell_bot(future_data, controls_actual)"
   ]
  },
  {
   "cell_type": "code",
   "execution_count": 24,
   "id": "6f554ec5",
   "metadata": {},
   "outputs": [],
   "source": [
    "controls_pred= get_control_vector(future_predictions)\n",
    "amount_pred = buy_and_sell_bot(future_predictions, controls_pred)"
   ]
  },
  {
   "cell_type": "code",
   "execution_count": 25,
   "id": "e35a9706",
   "metadata": {},
   "outputs": [
    {
     "data": {
      "image/png": "[encoded data removed]",
      "text/plain": [
       "<Figure size 640x480 with 1 Axes>"
      ]
     },
     "metadata": {},
     "output_type": "display_data"
    }
   ],
   "source": [
    "plt.plot(amount_actual, label=\"actual\")\n",
    "plt.plot(amount_pred, label=\"pred\")\n",
    "plt.legend()\n",
    "plt.title(\"Returns\")\n",
    "plt.show()"
   ]
  },
  {
   "cell_type": "code",
   "execution_count": null,
   "id": "3ec4b2bb",
   "metadata": {},
   "outputs": [],
   "source": []
  },
  {
   "cell_type": "code",
   "execution_count": null,
   "id": "7df64abe",
   "metadata": {},
   "outputs": [],
   "source": []
  }
 ],
 "metadata": {
  "kernelspec": {
   "display_name": "Python 3 (ipykernel)",
   "language": "python",
   "name": "python3"
  },
  "language_info": {
   "codemirror_mode": {
    "name": "ipython",
    "version": 3
   },
   "file_extension": ".py",
   "mimetype": "text/x-python",
   "name": "python",
   "nbconvert_exporter": "python",
   "pygments_lexer": "ipython3",
   "version": "3.11.4"
  }
 },
 "nbformat": 4,
 "nbformat_minor": 5
}
