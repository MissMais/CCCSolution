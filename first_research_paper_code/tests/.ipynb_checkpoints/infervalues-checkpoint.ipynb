{
 "cells": [
  {
   "cell_type": "code",
   "execution_count": null,
   "id": "d03efa9e",
   "metadata": {},
   "outputs": [],
   "source": [
    "def infer_values(self, xtest, ytest, ts):\n",
    "        '''\n",
    "        Infer values by using the test set\n",
    "        :param xtest: test dataset\n",
    "        :param ytest: actual value dataset\n",
    "        :param ts: tikcer symbol\n",
    "        :return: model variables that store predicted data\n",
    "        '''\n",
    "        self.pred = []\n",
    "        self.pred_update = []\n",
    "        self.usetest = xtest.copy()\n",
    "        if self.infer_train:\n",
    "            self.pred_train = []\n",
    "            self.pred_update_train = []\n",
    "            self.usetest_train = self.xtrain.copy()\n",
    "        for i in range(self.values):\n",
    "            self.y_pred = self.model.predict(xtest[i,:,:].reshape(1,xtest.shape[1],xtest.shape[2]))[0][:]\n",
    "            self.y_pred_update = self.model.predict(self.usetest[i,:,:].reshape(1,xtest.shape[1],xtest.shape[2]))[0][:]\n",
    "            self.pred.append(self.y_pred)\n",
    "            self.pred_update.append(self.y_pred_update)\n",
    "            self.usetest[np.linspace(i+1,i+self.past_history-1,self.past_history-1,dtype=int),np.linspace(self.past_history-2,0,self.past_history-1,dtype=int),:] =  self.y_pred_update[0]\n",
    "            if self.infer_train:\n",
    "                self.y_pred_train = self.model.predict(self.xtrain[i, :, :].reshape(1, self.xtrain.shape[1], self.xtrain.shape[2]))[0][:]\n",
    "                self.y_pred_update_train = \\\n",
    "                self.model.predict(self.usetest_train[i, :, :].reshape(1, self.xtrain.shape[1], self.xtrain.shape[2]))[0][:]\n",
    "                self.pred_train.append(self.y_pred_train)\n",
    "                self.pred_update_train.append(self.y_pred_update_train)\n",
    "                self.usetest_train[np.linspace(i + 1, i + self.past_history - 1, self.past_history - 1, dtype=int),\n",
    "                np.linspace(self.past_history - 2, 0, self.past_history - 1, dtype=int), :] = self.y_pred_update_train[0]\n",
    "        self.pred = np.array(self.pred)\n",
    "        self.pred_update = np.array(self.pred_update)\n",
    "        self.RMS_error = self.hist.history['val_mse'][-1]\n",
    "        self.RMS_error_train = self.hist.history['mse'][-1]\n",
    "        self.MAE_error = self.hist.history['val_mae'][-1]\n",
    "        self.MAE_error_train = self.hist.history['mae'][-1]\n",
    "        if self.infer_train:\n",
    "            self.pred = np.array(self.pred)\n",
    "            self.pred_update_train = np.array(self.pred_update_train)\n",
    "        if self.forward_look>1:\n",
    "            self.RMS_error_update = (np.mean(((self.ytest[:self.values - 1, 0, 0] - self.pred_update[1:, 0]) / (\n",
    "            self.ytest[:self.values - 1, 0, 0])) ** 2)) ** 0.5/self.batch_size\n",
    "            if self.infer_train:\n",
    "                self.RMS_error_update_train = (np.mean(((self.ytrain[:self.values - 1, 0, 0] - self.pred_update_train[1:, 0]) / (\n",
    "                    self.ytrain[:self.values - 1, 0, 0])) ** 2)) ** 0.5/self.batch_size\n",
    "        else:\n",
    "            self.RMS_error_update = (np.mean(\n",
    "                ((self.ytest[:self.values - 1] - self.pred_update[1:]) / (self.ytest[:self.values - 1])) ** 2)) ** 0.5/self.batch_size\n",
    "            if self.infer_train:\n",
    "                self.RMS_error_update_train = (np.mean(((self.ytrain[:self.values - 1] - self.pred_update_train[1:]) / (\n",
    "                    self.ytrain[:self.values - 1])) ** 2)) ** 0.5/self.batch_size\n"
   ]
  },
  {
   "cell_type": "code",
   "execution_count": null,
   "id": "d72252cc",
   "metadata": {},
   "outputs": [],
   "source": []
  },
  {
   "cell_type": "code",
   "execution_count": null,
   "id": "cf2c3f9f",
   "metadata": {},
   "outputs": [],
   "source": []
  }
 ],
 "metadata": {
  "kernelspec": {
   "display_name": "Python 3 (ipykernel)",
   "language": "python",
   "name": "python3"
  },
  "language_info": {
   "codemirror_mode": {
    "name": "ipython",
    "version": 3
   },
   "file_extension": ".py",
   "mimetype": "text/x-python",
   "name": "python",
   "nbconvert_exporter": "python",
   "pygments_lexer": "ipython3",
   "version": "3.10.5"
  }
 },
 "nbformat": 4,
 "nbformat_minor": 5
}
