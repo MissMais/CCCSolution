{
 "cells": [
  {
   "cell_type": "code",
   "execution_count": 9,
   "id": "2f124b17",
   "metadata": {},
   "outputs": [
    {
     "ename": "SyntaxError",
     "evalue": "invalid syntax (util.py, line 13)",
     "output_type": "error",
     "traceback": [
      "Traceback \u001b[1;36m(most recent call last)\u001b[0m:\n",
      "\u001b[0m  File \u001b[0;32m~\\AppData\\Local\\Programs\\Python\\Python310\\lib\\site-packages\\IPython\\core\\interactiveshell.py:3433\u001b[0m in \u001b[0;35mrun_code\u001b[0m\n    exec(code_obj, self.user_global_ns, self.user_ns)\u001b[0m\n",
      "\u001b[1;36m  Cell \u001b[1;32mIn[9], line 4\u001b[1;36m\n\u001b[1;33m    from util import *\u001b[1;36m\n",
      "\u001b[1;36m  File \u001b[1;32m~\\Desktop\\stock_price_prediction-main\\tests\\util.py:13\u001b[1;36m\u001b[0m\n\u001b[1;33m    %matplotlib notebook\u001b[0m\n\u001b[1;37m    ^\u001b[0m\n\u001b[1;31mSyntaxError\u001b[0m\u001b[1;31m:\u001b[0m invalid syntax\n"
     ]
    }
   ],
   "source": [
    "import sys, os\n",
    "# sys.path.append('../python')\n",
    "\n",
    "from util import *\n"
   ]
  },
  {
   "cell_type": "code",
   "execution_count": 8,
   "id": "eaa92632",
   "metadata": {},
   "outputs": [
    {
     "ename": "NameError",
     "evalue": "name 'get_categorical_tickers' is not defined",
     "output_type": "error",
     "traceback": [
      "\u001b[1;31m---------------------------------------------------------------------------\u001b[0m",
      "\u001b[1;31mNameError\u001b[0m                                 Traceback (most recent call last)",
      "Cell \u001b[1;32mIn[8], line 1\u001b[0m\n\u001b[1;32m----> 1\u001b[0m ticker_dict, tickerSymbols \u001b[38;5;241m=\u001b[39m \u001b[43mget_categorical_tickers\u001b[49m()\n\u001b[0;32m      2\u001b[0m start\u001b[38;5;241m=\u001b[39m\u001b[38;5;124m\"\u001b[39m\u001b[38;5;124m2010-01-01\u001b[39m\u001b[38;5;124m\"\u001b[39m\n\u001b[0;32m      3\u001b[0m end\u001b[38;5;241m=\u001b[39m\u001b[38;5;124m\"\u001b[39m\u001b[38;5;124m2019-12-31\u001b[39m\u001b[38;5;124m\"\u001b[39m\n",
      "\u001b[1;31mNameError\u001b[0m: name 'get_categorical_tickers' is not defined"
     ]
    }
   ],
   "source": [
    "ticker_dict, tickerSymbols = get_categorical_tickers()\n",
    "start=\"2010-01-01\"\n",
    "end=\"2019-12-31\""
   ]
  },
  {
   "cell_type": "code",
   "execution_count": 5,
   "id": "0bd30abd",
   "metadata": {},
   "outputs": [
    {
     "ename": "NameError",
     "evalue": "name 'tickerSymbols' is not defined",
     "output_type": "error",
     "traceback": [
      "\u001b[1;31m---------------------------------------------------------------------------\u001b[0m",
      "\u001b[1;31mNameError\u001b[0m                                 Traceback (most recent call last)",
      "Cell \u001b[1;32mIn[5], line 1\u001b[0m\n\u001b[1;32m----> 1\u001b[0m tickeranalysis \u001b[38;5;241m=\u001b[39m \u001b[43mtickerSymbols\u001b[49m[\u001b[38;5;241m0\u001b[39m]\n\u001b[0;32m      2\u001b[0m LSTM_1 \u001b[38;5;241m=\u001b[39m LSTM_Model(tickerSymbol \u001b[38;5;241m=\u001b[39m tickeranalysis, start \u001b[38;5;241m=\u001b[39m start, end \u001b[38;5;241m=\u001b[39m end, depth \u001b[38;5;241m=\u001b[39m \u001b[38;5;241m0\u001b[39m, naive \u001b[38;5;241m=\u001b[39m \u001b[38;5;28;01mTrue\u001b[39;00m)\n\u001b[0;32m      3\u001b[0m LSTM_1\u001b[38;5;241m.\u001b[39mfull_workflow_and_plot()\n",
      "\u001b[1;31mNameError\u001b[0m: name 'tickerSymbols' is not defined"
     ]
    }
   ],
   "source": [
    "\n",
    "tickeranalysis = tickerSymbols[0]\n",
    "LSTM_1 = LSTM_Model(tickerSymbol = tickeranalysis, start = start, end = end, depth = 0, naive = True)\n",
    "LSTM_1.full_workflow_and_plot()\n",
    "plt.clf()\n",
    "LSTM_1.plot_bot_decision()\n",
    "plt.clf()\n",
    "plt.show()"
   ]
  },
  {
   "cell_type": "code",
   "execution_count": 1,
   "id": "b529928a",
   "metadata": {},
   "outputs": [
    {
     "ename": "NameError",
     "evalue": "name 'LSTM_Model' is not defined",
     "output_type": "error",
     "traceback": [
      "\u001b[1;31m---------------------------------------------------------------------------\u001b[0m",
      "\u001b[1;31mNameError\u001b[0m                                 Traceback (most recent call last)",
      "Cell \u001b[1;32mIn[1], line 1\u001b[0m\n\u001b[1;32m----> 1\u001b[0m LSTM_2 \u001b[38;5;241m=\u001b[39m \u001b[43mLSTM_Model\u001b[49m(tickerSymbol \u001b[38;5;241m=\u001b[39m tickeranalysis, start \u001b[38;5;241m=\u001b[39m start, end \u001b[38;5;241m=\u001b[39m end, depth \u001b[38;5;241m=\u001b[39m \u001b[38;5;241m0\u001b[39m)\n\u001b[0;32m      2\u001b[0m LSTM_2\u001b[38;5;241m.\u001b[39mfull_workflow_and_plot()\n\u001b[0;32m      3\u001b[0m plt\u001b[38;5;241m.\u001b[39mclf()\n",
      "\u001b[1;31mNameError\u001b[0m: name 'LSTM_Model' is not defined"
     ]
    }
   ],
   "source": [
    "LSTM_2 = LSTM_Model(tickerSymbol = tickeranalysis, start = start, end = end, depth = 0)\n",
    "LSTM_2.full_workflow_and_plot()\n",
    "plt.clf()\n",
    "LSTM_2.plot_bot_decision()\n",
    "plt.clf()\n",
    "# LSTM_3 = LSTM_Model(tickerSymbol = tickeranalysis, start = start, end = end, depth = 1)\n",
    "# LSTM_3.full_workflow_and_plot()\n",
    "# plt.clf()\n",
    "# LSTM_3.plot_bot_decision()\n",
    "# plt.clf()"
   ]
  },
  {
   "cell_type": "code",
   "execution_count": null,
   "id": "cbd9fc06",
   "metadata": {},
   "outputs": [],
   "source": [
    "tickeranalysis = tickerSymbols[1]\n",
    "LSTM_4 = LSTM_Model(tickerSymbol = tickeranalysis, start = start, end = end, depth = 0, naive = True)\n",
    "LSTM_4.full_workflow_and_plot()\n",
    "plt.clf()\n",
    "LSTM_4.plot_bot_decision()\n",
    "plt.clf()\n",
    "LSTM_5 = LSTM_Model(tickerSymbol = tickeranalysis, start = start, end = end, depth = 0)\n",
    "LSTM_5.full_workflow_and_plot()\n",
    "plt.clf()\n",
    "LSTM_5.plot_bot_decision()\n",
    "plt.clf()\n",
    "LSTM_6 = LSTM_Model(tickerSymbol = tickeranalysis, start = start, end = end, depth = 1)\n",
    "LSTM_6.full_workflow_and_plot()\n",
    "plt.clf()\n",
    "LSTM_6.plot_bot_decision()\n",
    "plt.clf()"
   ]
  },
  {
   "cell_type": "code",
   "execution_count": null,
   "id": "d170d028",
   "metadata": {},
   "outputs": [],
   "source": [
    "tickeranalysis = tickerSymbols[2]\n",
    "LSTM_7 = LSTM_Model(tickerSymbol = tickeranalysis, start = start, end = end, depth = 0, naive = True)\n",
    "LSTM_7.full_workflow_and_plot()\n",
    "plt.clf()\n",
    "LSTM_7.plot_bot_decision()\n",
    "plt.clf()\n",
    "LSTM_8 = LSTM_Model(tickerSymbol = tickeranalysis, start = start, end = end, depth = 0)\n",
    "LSTM_8.full_workflow_and_plot()\n",
    "plt.clf()\n",
    "LSTM_8.plot_bot_decision()\n",
    "plt.clf()\n",
    "LSTM_9 = LSTM_Model(tickerSymbol = tickeranalysis, start = start, end = end, depth = 1)\n",
    "LSTM_9.full_workflow_and_plot()\n",
    "plt.clf()\n",
    "LSTM_9.plot_bot_decision()\n",
    "plt.clf()\n",
    "plt.show()"
   ]
  },
  {
   "cell_type": "code",
   "execution_count": 1,
   "id": "11d53d60",
   "metadata": {},
   "outputs": [
    {
     "ename": "NameError",
     "evalue": "name 'get_categorical_tickers' is not defined",
     "output_type": "error",
     "traceback": [
      "\u001b[1;31m---------------------------------------------------------------------------\u001b[0m",
      "\u001b[1;31mNameError\u001b[0m                                 Traceback (most recent call last)",
      "Cell \u001b[1;32mIn[1], line 3\u001b[0m\n\u001b[0;32m      1\u001b[0m \u001b[38;5;28;01mimport\u001b[39;00m \u001b[38;5;21;01myfinance\u001b[39;00m \u001b[38;5;28;01mas\u001b[39;00m \u001b[38;5;21;01myf\u001b[39;00m\n\u001b[1;32m----> 3\u001b[0m ticker_dict, tickerSymbols \u001b[38;5;241m=\u001b[39m \u001b[43mget_categorical_tickers\u001b[49m()\n\u001b[0;32m      4\u001b[0m start\u001b[38;5;241m=\u001b[39m\u001b[38;5;124m\"\u001b[39m\u001b[38;5;124m2010-01-01\u001b[39m\u001b[38;5;124m\"\u001b[39m\n\u001b[0;32m      5\u001b[0m end\u001b[38;5;241m=\u001b[39m\u001b[38;5;124m\"\u001b[39m\u001b[38;5;124m2019-12-31\u001b[39m\u001b[38;5;124m\"\u001b[39m\n",
      "\u001b[1;31mNameError\u001b[0m: name 'get_categorical_tickers' is not defined"
     ]
    }
   ],
   "source": [
    "import yfinance as yf\n",
    "\n",
    "ticker_dict, tickerSymbols = get_categorical_tickers()\n",
    "start=\"2010-01-01\"\n",
    "end=\"2019-12-31\"\n",
    "\n",
    "tickerData = yf.Ticker(tickerSymbols[0])\n",
    "tickerData\n",
    "# tickerDf = yf.download(tickerSymbols[0], start=start, end=end)\n",
    "# # tickerDf.head(15)\n",
    "# y = tickerDf['Adj Close'].values\n",
    "# tSize = int(y.size*.8)\n",
    "# m=y.mean()\n",
    "# s=y.std()\n",
    "\n",
    "# y = (y - m) / s\n",
    "# y\n",
    "# data_preprocess(y,0,tSize,60,1)\n",
    "# sy = data.values"
   ]
  },
  {
   "cell_type": "code",
   "execution_count": 62,
   "id": "a9090dda",
   "metadata": {},
   "outputs": [],
   "source": [
    "def data_preprocess(dataset, iStart, iEnd, sHistory, forward_look=1):\n",
    "        '''\n",
    "        Preprocess the data to make either the test set or the train set\n",
    "        :param dataset: np.array of time-series data\n",
    "        :param iStart: int of index start\n",
    "        :param iEnd: int of index end\n",
    "        :param sHistory: int number of days in history that we need to look at\n",
    "        :param forward_look: int of number of days in the future that needs to predicted\n",
    "        :return: returns a list of test/train data\n",
    "        '''\n",
    "        data = []\n",
    "        target = []\n",
    "        iStart += sHistory\n",
    "        if iEnd is None:\n",
    "            iEnd = len(dataset) - forward_look + 1\n",
    "        for i in range(iStart, iEnd):\n",
    "            indices = range(i - sHistory, i)  # set the order\n",
    "            if forward_look > 1:\n",
    "                fwd_ind = range(i, i + forward_look)\n",
    "                fwd_entity = np.asarray([])\n",
    "                fwd_entity = np.append(fwd_entity, dataset[fwd_ind])\n",
    "            reshape_entity = np.asarray([])\n",
    "            reshape_entity = np.append(reshape_entity, dataset[\n",
    "                indices])  # Comment this out if there are multiple identifiers in the feature vector\n",
    "            data.append(np.reshape(reshape_entity, (sHistory, 1)))  #\n",
    "            if forward_look > 1:\n",
    "                target.append(np.reshape(fwd_entity, (forward_look, 1)))\n",
    "            else:\n",
    "                target.append(dataset[i])\n",
    "#         data = np.array(data)\n",
    "#         target = np.array(target)\n",
    "        print(data)\n",
    "        print(target)"
   ]
  },
  {
   "cell_type": "code",
   "execution_count": null,
   "id": "42446aff",
   "metadata": {},
   "outputs": [],
   "source": []
  },
  {
   "cell_type": "code",
   "execution_count": null,
   "id": "7e6fbb55",
   "metadata": {},
   "outputs": [],
   "source": []
  }
 ],
 "metadata": {
  "kernelspec": {
   "display_name": "Python 3 (ipykernel)",
   "language": "python",
   "name": "python3"
  },
  "language_info": {
   "codemirror_mode": {
    "name": "ipython",
    "version": 3
   },
   "file_extension": ".py",
   "mimetype": "text/x-python",
   "name": "python",
   "nbconvert_exporter": "python",
   "pygments_lexer": "ipython3",
   "version": "3.10.5"
  }
 },
 "nbformat": 4,
 "nbformat_minor": 5
}
