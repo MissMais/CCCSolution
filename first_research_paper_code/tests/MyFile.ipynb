{
 "cells": [
  {
   "cell_type": "code",
   "execution_count": 3,
   "id": "2a8bbd7e",
   "metadata": {},
   "outputs": [],
   "source": [
    "import sys, os\n",
    "# sys.path.append('../python')\n",
    "\n",
    "from util import *"
   ]
  },
  {
   "cell_type": "code",
   "execution_count": 4,
   "id": "2aea12ba",
   "metadata": {},
   "outputs": [],
   "source": [
    "ticker_dict, tickerSymbols = get_categorical_tickers()\n",
    "start=\"2010-01-01\"\n",
    "end=\"2019-12-31\"\n",
    "tickeranalysis = tickerSymbols[0]\n",
    "tickerSymbol = tickeranalysis\n",
    "start = start\n",
    "end = end\n",
    "depth = 0\n",
    "naive = True"
   ]
  },
  {
   "cell_type": "code",
   "execution_count": 5,
   "id": "50f3d78a",
   "metadata": {},
   "outputs": [
    {
     "name": "stdout",
     "output_type": "stream",
     "text": [
      "[*********************100%***********************]  1 of 1 completed\n"
     ]
    },
    {
     "data": {
      "text/plain": [
       "array([ 99600.,  99710.,  99850., ..., 339650., 338920., 338750.])"
      ]
     },
     "execution_count": 5,
     "metadata": {},
     "output_type": "execute_result"
    }
   ],
   "source": [
    "tickerData = yf.Ticker(tickerSymbol)\n",
    "tickerDf = yf.download(tickerSymbol, start=start, end=end)\n",
    "tickerDf = tickerDf['Adj Close']\n",
    "data = tickerDf\n",
    "y = data.values\n",
    "y"
   ]
  },
  {
   "cell_type": "code",
   "execution_count": 8,
   "id": "d235bfd6",
   "metadata": {},
   "outputs": [],
   "source": [
    "past_history = 60\n",
    "forward_look = 1\n",
    "\n",
    "training_size = int(y.size * 0.8)\n",
    "# print(training_size)\n",
    "\n",
    "training_mean = y[:training_size].mean()\n",
    "# print(training_mean)  # get the average\n",
    "\n",
    "training_std = y[:training_size].std()\n",
    "# print(training_std)  # std = a measure of how far away individual measurements tend to be from the mean value of a data set.\n",
    "\n",
    "y = (y - training_mean) / training_std  # prep data, use mean and standard deviation to maintain distribution and ratios\n",
    "# print(y)\n",
    "\n",
    "xtrain, ytrain = data_preprocess(y, 0, training_size, past_history, forward_look)\n",
    "\n",
    "xtest, ytest = data_preprocess(y, training_size, None, past_history, forward_look)"
   ]
  },
  {
   "cell_type": "code",
   "execution_count": 7,
   "id": "445b3398",
   "metadata": {},
   "outputs": [],
   "source": [
    "def data_preprocess(dataset, iStart, iEnd, sHistory, forward_look):\n",
    "        data = []\n",
    "        target = []\n",
    "        iStart += sHistory\n",
    "        if iEnd is None:\n",
    "            iEnd = len(dataset) - forward_look + 1\n",
    "        for i in range(iStart, iEnd):\n",
    "            indices = range(i - sHistory, i)  # set the order\n",
    "            if forward_look > 1:\n",
    "                fwd_ind = range(i, i + forward_look)\n",
    "                fwd_entity = np.asarray([])\n",
    "                fwd_entity = np.append(fwd_entity, dataset[fwd_ind])\n",
    "            reshape_entity = np.asarray([])\n",
    "            reshape_entity = np.append(reshape_entity, dataset[\n",
    "                indices])  # Comment this out if there are multiple identifiers in the feature vector\n",
    "            data.append(np.reshape(reshape_entity, (sHistory, 1)))  #\n",
    "            if forward_look > 1:\n",
    "                target.append(np.reshape(fwd_entity, (forward_look, 1)))\n",
    "            else:\n",
    "                target.append(dataset[i])\n",
    "        data = np.array(data)\n",
    "        target = np.array(target)\n",
    "        return data, target"
   ]
  },
  {
   "cell_type": "code",
   "execution_count": 9,
   "id": "b8ea822f",
   "metadata": {},
   "outputs": [],
   "source": [
    "def custom_loss_def(y_true,y_pred):\n",
    "        weights = np.float32(1.0 + 1.0*np.linspace(0,forward_look-1,forward_look)/200.0)\n",
    "        return tf.math.reduce_mean(tf.math.square(tf.multiply(weights,y_true - y_pred)))"
   ]
  },
  {
   "cell_type": "code",
   "execution_count": 10,
   "id": "002a7790",
   "metadata": {},
   "outputs": [],
   "source": [
    "def create_p_test_train():\n",
    "        BATCH_SIZE = 30\n",
    "        BUFFER_SIZE = y.size\n",
    "        p_train = tf.data.Dataset.from_tensor_slices((xtrain, ytrain))\n",
    "        p_train = p_train.cache().shuffle(BUFFER_SIZE).batch(BATCH_SIZE, drop_remainder=True).repeat()\n",
    "        x = p_train\n",
    "        p_test = tf.data.Dataset.from_tensor_slices((xtest, ytest))\n",
    "        p_test = p_test.batch(BATCH_SIZE).repeat()\n",
    "        return p_train, p_test\n"
   ]
  },
  {
   "cell_type": "code",
   "execution_count": 11,
   "id": "15656fdd",
   "metadata": {},
   "outputs": [],
   "source": [
    "p_train, p_test = create_p_test_train()"
   ]
  },
  {
   "cell_type": "code",
   "execution_count": 21,
   "id": "84016daa",
   "metadata": {},
   "outputs": [],
   "source": [
    "custom_loss = False\n",
    "def model_LSTM():\n",
    "    \n",
    "        model = tf.keras.models.Sequential()\n",
    "        if naive:\n",
    "            model.add(tf.keras.layers.LSTM(20, input_shape = xtrain.shape[-2:]))\n",
    "        else:\n",
    "            model.add(tf.keras.layers.LSTM(20, return_sequences=True, input_shape = xtrain.shape[-2:]))\n",
    "        for i in range(depth):\n",
    "            model.add(tf.keras.layers.LSTM(20, return_sequences=True))\n",
    "        if naive is False:\n",
    "            model.add(tf.keras.layers.LSTM(20))\n",
    "        model.add(tf.keras.layers.Dense(forward_look))\n",
    "        if custom_loss:\n",
    "            model.compile(optimizer='Adam',\n",
    "                      loss=custom_loss_def, metrics=['mse','mae'])\n",
    "        else:\n",
    "            model.compile(optimizer='Adam',\n",
    "                               loss='mse', metrics=['mse','mae'])\n",
    "\n",
    "        create_p_test_train()\n",
    "        hist = model.fit(p_train, epochs = 50, steps_per_epoch = 200,\n",
    "                  validation_data = p_test, validation_steps = 50,\n",
    "                  verbose = 0)\n",
    "        xt = xtest\n",
    "        yt = ytest\n",
    "        ts = tickerSymbol\n",
    "        \n",
    "        infer_values(xt, yt, ts)"
   ]
  },
  {
   "cell_type": "code",
   "execution_count": 19,
   "id": "b8dec1b2",
   "metadata": {},
   "outputs": [],
   "source": [
    "infer_train = True\n",
    "values = 200\n",
    "# print(xtest[1,:,:])\n",
    "# print(xtest.shape[2])"
   ]
  },
  {
   "cell_type": "code",
   "execution_count": 27,
   "id": "7a7575dd",
   "metadata": {},
   "outputs": [
    {
     "ename": "IndexError",
     "evalue": "too many indices for array: array is 1-dimensional, but 3 were indexed",
     "output_type": "error",
     "traceback": [
      "\u001b[1;31m---------------------------------------------------------------------------\u001b[0m",
      "\u001b[1;31mIndexError\u001b[0m                                Traceback (most recent call last)",
      "Cell \u001b[1;32mIn[27], line 1\u001b[0m\n\u001b[1;32m----> 1\u001b[0m \u001b[43mytest\u001b[49m\u001b[43m[\u001b[49m\u001b[43m:\u001b[49m\u001b[43mvalues\u001b[49m\u001b[38;5;241;43m-\u001b[39;49m\u001b[38;5;241;43m1\u001b[39;49m\u001b[43m,\u001b[49m\u001b[38;5;241;43m0\u001b[39;49m\u001b[43m,\u001b[49m\u001b[38;5;241;43m0\u001b[39;49m\u001b[43m]\u001b[49m\n",
      "\u001b[1;31mIndexError\u001b[0m: too many indices for array: array is 1-dimensional, but 3 were indexed"
     ]
    }
   ],
   "source": [
    "ytest[:values-1,0,0]"
   ]
  },
  {
   "cell_type": "code",
   "execution_count": 20,
   "id": "7fc6929a",
   "metadata": {},
   "outputs": [],
   "source": [
    " def infer_values(xtest, ytest, ts):\n",
    "        pred = []\n",
    "        pred_update = []\n",
    "        usetest = xtest.copy()\n",
    "        if infer_train:\n",
    "            pred_train = []\n",
    "            pred_update_train = []\n",
    "            usetest_train = xtrain.copy()\n",
    "        for i in range(values):\n",
    "            y_pred = model.predict(xtest[i,:,:].reshape(1,xtest.shape[1],xtest.shape[2]))[0][:]\n",
    "#             print(y_pred)\n",
    "            y_pred_update = model.predict(usetest[i,:,:].reshape(1,xtest.shape[1],xtest.shape[2]))[0][:]\n",
    "            pred.append(y_pred)\n",
    "            pred_update.append(y_pred_update)\n",
    "            usetest[np.linspace(i+1,i+past_history-1,past_history-1,dtype=int),np.linspace(past_history-2,0,past_history-1,dtype=int),:] =  y_pred_update[0]\n",
    "            if infer_train:\n",
    "                y_pred_train = model.predict(xtrain[i, :, :].reshape(1, xtrain.shape[1], xtrain.shape[2]))[0][:]\n",
    "                y_pred_update_train = \\\n",
    "                model.predict(usetest_train[i, :, :].reshape(1, xtrain.shape[1], xtrain.shape[2]))[0][:]\n",
    "                pred_train.append(y_pred_train)\n",
    "                pred_update_train.append(y_pred_update_train)\n",
    "                usetest_train[np.linspace(i + 1, i + past_history - 1, past_history - 1, dtype=int),\n",
    "                np.linspace(past_history - 2, 0, past_history - 1, dtype=int), :] = y_pred_update_train[0]\n",
    "        pred = np.array(pred)\n",
    "#         print(pred)\n",
    "        pred_update = np.array(pred_update)\n",
    "        RMS_error = hist.history['val_mse'][-1]\n",
    "        RMS_error_train = hist.history['mse'][-1]\n",
    "        MAE_error = hist.history['val_mae'][-1]\n",
    "        MAE_error_train = hist.history['mae'][-1]\n",
    "        if infer_train:\n",
    "            pred = np.array(pred)\n",
    "            pred_update_train = np.array(pred_update_train)\n",
    "        if forward_look>1:\n",
    "            RMS_error_update = (np.mean(((ytest[:values - 1, 0, 0] - pred_update[1:, 0]) / (\n",
    "            ytest[:values - 1, 0, 0])) ** 2)) ** 0.5/batch_size\n",
    "            if infer_train:\n",
    "                RMS_error_update_train = (np.mean(((ytrain[:values - 1, 0, 0] - pred_update_train[1:, 0]) / (\n",
    "                    ytrain[:values - 1, 0, 0])) ** 2)) ** 0.5/batch_size\n",
    "        else:\n",
    "            RMS_error_update = (np.mean(\n",
    "                ((ytest[:values - 1] - pred_update[1:]) / (ytest[:values - 1])) ** 2)) ** 0.5/batch_size\n",
    "            if infer_train:\n",
    "                RMS_error_update_train = (np.mean(((ytrain[:values - 1] - pred_update_train[1:]) / (\n",
    "                    ytrain[:values - 1])) ** 2)) ** 0.5/batch_size\n"
   ]
  },
  {
   "cell_type": "code",
   "execution_count": 16,
   "id": "4a286ba2",
   "metadata": {},
   "outputs": [],
   "source": [
    "def arch_plot():\n",
    "        '''\n",
    "        Plot the network architecture\n",
    "        '''\n",
    "        dot_img_file = '../images/LSTM_arch_depth%d_naive%d.png' %(depth, int(naive))\n",
    "        tf.keras.utils.plot_model(model, to_file=dot_img_file, show_shapes=True)\n",
    "    "
   ]
  },
  {
   "cell_type": "code",
   "execution_count": null,
   "id": "a29a6807",
   "metadata": {},
   "outputs": [],
   "source": [
    "def plot_test_values(self):\n",
    "        '''\n",
    "        Plot predicted values against actual values\n",
    "        '''\n",
    "        plt.figure()\n",
    "        if self.forward_look>1:\n",
    "            plt.plot(self.yt[:self.values-1,0,0],label='actual (%s)'%self.ts)\n",
    "            plt.plot(self.pred[1:,0],label='predicted (%s)'%self.ts)\n",
    "            plt.plot(self.pred_update[1:,0],label='predicted (update)')\n",
    "            plt.xlabel(\"Days\")\n",
    "            plt.ylabel(\"Normalized stock price\")\n",
    "            plt.title('The relative RMS error is %f' % self.RMS_error)\n",
    "            plt.legend()\n",
    "            plt.savefig('../images/Stock_prediction_%d_%d_%d_%d_%s_%s.png' % (\n",
    "            self.depth, int(self.naive), self.past_history, self.forward_look, self.ts, int(self.custom_loss)))\n",
    "            plt.clf()\n",
    "            plt.figure()\n",
    "            plt.plot(self.pred[1:, 0]-self.pred_update[1:,0], label='difference (%s)' % self.ts)\n",
    "            plt.xlabel(\"Days\")\n",
    "            plt.ylabel(\"Prediction difference\")\n",
    "            plt.savefig('../images/Difference_%d_%d_%d_%d_%s_%s.png' % (\n",
    "            self.depth, int(self.naive), self.past_history, self.forward_look, self.ts, int(self.custom_loss)))\n",
    "            plt.clf()\n",
    "            np.savez('../save_mat/store_%d_%d_%d_%d_%s_%s.png'%(\n",
    "            self.depth,int(self.naive), self.past_history, self.forward_look, self.ts, int(self.custom_loss)),\n",
    "            y = self.yt[:self.values-1,0,0],pred = self.pred[1:,0],pred_up = self.pred_update[1:,0])\n",
    "        else:\n",
    "            plt.plot(self.yt[:self.values-1],label='actual (%s)'%self.ts)\n",
    "            plt.plot(self.pred[1:],label='predicted (%s)'%self.ts)\n",
    "            plt.plot(self.pred_update[1:],label='predicted (update)')\n",
    "            plt.xlabel(\"Days\")\n",
    "            plt.ylabel(\"Normalized stock price\")\n",
    "            plt.title('The relative RMS error is %f' % self.RMS_error)\n",
    "            plt.legend()\n",
    "            plt.savefig('../images/Stock_prediction_%d_%d_%d_%d_%s_%s.png'%(\n",
    "            self.depth,int(self.naive), self.past_history, self.forward_look, self.ts, int(self.custom_loss)))\n",
    "            plt.clf()\n",
    "            plt.figure()\n",
    "            plt.plot(self.pred[1:] - self.pred_update[1:], label='difference (%s)' % self.ts)\n",
    "            plt.xlabel(\"Days\")\n",
    "            plt.ylabel(\"Prediction difference\")\n",
    "            plt.savefig('../images/Difference_%d_%d_%d_%d_%s_%s.png' % (\n",
    "            self.depth, int(self.naive), self.past_history, self.forward_look, self.ts, int(self.custom_loss)))\n",
    "            plt.clf()\n",
    "            np.savez('../save_mat/store_%d_%d_%d_%d_%s_%s.png' % (\n",
    "            self.depth, int(self.naive), self.past_history, self.forward_look, self.ts, int(self.custom_loss)),\n",
    "            y=self.yt[:self.values - 1], pred=self.pred[1:], pred_up=self.pred_update[1:])\n",
    "        print('The relative test RMS error is %f'%self.RMS_error)\n",
    "        print('The relative test MAE is %f' % self.MAE_error)\n",
    "        print('The relative test RMS error for the updated dataset is %f' % self.RMS_error_update)\n",
    "        if self.infer_train:\n",
    "            print('The relative train RMS error is %f' % self.RMS_error_train)\n",
    "            print('The relative train MAE is %f' % self.MAE_error_train)\n",
    "            print('The relative train RMS error for the updated dataset is %f' % self.RMS_error_update_train)\n",
    "  "
   ]
  },
  {
   "cell_type": "code",
   "execution_count": null,
   "id": "bd483f0d",
   "metadata": {},
   "outputs": [],
   "source": [
    "def plot_bot_decision(self):\n",
    "        '''\n",
    "        calculate investment growth from the inferred prediction value and plot the resulting growth\n",
    "        '''\n",
    "        if self.forward_look > 1:\n",
    "            ideal = self.yt[:self.values - 1, 0, 0]\n",
    "            pred = np.asarray(self.pred[1:, 0]).reshape(-1,)\n",
    "            pred_update = np.asarray(self.pred_update[1:, 0]).reshape(-1,)\n",
    "        else:\n",
    "            ideal = self.yt[:self.values - 1]\n",
    "            pred = np.asarray(self.pred[1:]).reshape(-1,)\n",
    "            pred_update = np.asarray(self.pred_update[1:]).reshape(-1,)\n",
    "        control_ideal = get_control_vector(ideal)\n",
    "        control_pred = get_control_vector(pred)\n",
    "        control_pred_update = get_control_vector(pred_update)\n",
    "        bot_ideal = buy_and_sell_bot(ideal, control_ideal)\n",
    "        bot_pred = buy_and_sell_bot(ideal, control_pred)\n",
    "        bot_pred_update = buy_and_sell_bot(ideal, control_pred_update)\n",
    "        plt.figure()\n",
    "        plt.plot(bot_ideal, label='Ideal case (%.2f)'%bot_ideal[-1])\n",
    "        plt.plot(bot_pred, label='From prediction (%.2f)'%bot_pred[-1])\n",
    "        plt.plot(bot_pred_update, label='From prediction (updated) (%.2f)'%bot_pred_update[-1])\n",
    "        plt.plot(ideal / ideal[0] * 100.0, label='Stock value(%s)' % self.ts)\n",
    "        plt.xlabel(\"Days\")\n",
    "        plt.ylabel(\"Percentage growth\")\n",
    "        plt.legend()\n",
    "        plt.savefig('../images/Bot_prediction_%d_%d_%d_%d_%s_%s.png' % (self.depth, int(self.naive), self.past_history, self.forward_look, self.ts, int(self.custom_loss)))\n",
    "        np.savez('../save_mat/bot_%d_%d_%d_%d_%s_%s.png' % (\n",
    "        self.depth, int(self.naive), self.past_history, self.forward_look, self.ts, int(self.custom_loss)),\n",
    "        ideal = bot_ideal, pred  = bot_pred, pred_up = bot_pred_update)\n",
    "        plt.clf()\n"
   ]
  }
 ],
 "metadata": {
  "kernelspec": {
   "display_name": "Python 3 (ipykernel)",
   "language": "python",
   "name": "python3"
  },
  "language_info": {
   "codemirror_mode": {
    "name": "ipython",
    "version": 3
   },
   "file_extension": ".py",
   "mimetype": "text/x-python",
   "name": "python",
   "nbconvert_exporter": "python",
   "pygments_lexer": "ipython3",
   "version": "3.11.4"
  }
 },
 "nbformat": 4,
 "nbformat_minor": 5
}
