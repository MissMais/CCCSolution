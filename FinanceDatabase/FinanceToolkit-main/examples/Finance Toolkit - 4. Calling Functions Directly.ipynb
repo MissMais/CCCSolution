{
 "cells": [
  {
   "cell_type": "markdown",
   "id": "55822295",
   "metadata": {},
   "source": [
    "![Finance Toolkit](https://github.com/JerBouma/FinanceToolkit/assets/46355364/198d47bd-e1b3-492d-acc4-5d9f02d1d009)\n",
    "\n",
    "**The FinanceToolkit** is an open-source toolkit in which all relevant financial ratios (50+), indicators and performance measurements are written down in the most simplistic way allowing for complete transparency of the calculation method. This allows you to not have to rely on metrics from other providers and, given a financial statement, allow for efficient manual calculations. This leads to one uniform method of calculation being applied that is available and understood by everyone."
   ]
  },
  {
   "cell_type": "markdown",
   "id": "2937a8f2",
   "metadata": {},
   "source": [
    "# Installation\n",
    "To install the FinanceToolkit it simply requires the following:\n",
    "\n",
    "```\n",
    "pip install financetoolkit -U\n",
    "```\n",
    "\n",
    "The dependencies of the package are on purpose *very slim* so that it will work well with any combination of packages and not result in conflicts."
   ]
  },
  {
   "cell_type": "code",
   "execution_count": 1,
   "id": "d129800c",
   "metadata": {},
   "outputs": [],
   "source": [
    "import pandas as pd\n",
    "import numpy as np"
   ]
  },
  {
   "cell_type": "markdown",
   "id": "1ba74257",
   "metadata": {},
   "source": [
    "While the `Toolkit` package itself is class-based, this doesn't mean that you are unable to call each functionality individually as well. This accepts virtually any input, from `np.array` to `pd.Series` and regular `floats`."
   ]
  },
  {
   "cell_type": "code",
   "execution_count": 2,
   "id": "3d6451f0",
   "metadata": {},
   "outputs": [
    {
     "data": {
      "text/plain": [
       "0    0.500000\n",
       "1    0.666667\n",
       "2    1.300000\n",
       "3    2.200000\n",
       "4   -6.000000\n",
       "dtype: float64"
      ]
     },
     "execution_count": 2,
     "metadata": {},
     "output_type": "execute_result"
    }
   ],
   "source": [
    "from financetoolkit.ratios import efficiency\n",
    "from financetoolkit.technical import momentum\n",
    "\n",
    "\n",
    "efficiency.get_asset_turnover_ratio(\n",
    "    sales=pd.Series([100, 110, 120, 130, 80]),\n",
    "    total_assets_begin=pd.Series([500, 400, 300, 200, 100]),\n",
    "    total_assets_end=pd.Series([500, 430, 320, 200, 100]),\n",
    ")\n",
    "\n",
    "momentum.get_balance_of_power(\n",
    "    prices_open=pd.Series([100, 105, 113, 126, 148]),\n",
    "    prices_high=pd.Series([110, 115, 130, 150, 103]),\n",
    "    prices_low=pd.Series([100, 103, 120, 140, 95]),\n",
    "    prices_close=pd.Series([105, 113, 126, 148, 100]),\n",
    ")"
   ]
  },
  {
   "cell_type": "markdown",
   "id": "49037c8e",
   "metadata": {},
   "source": [
    "It is also relatively straight forward to group a selection of ratios into one DataFrame."
   ]
  },
  {
   "cell_type": "code",
   "execution_count": 3,
   "id": "2dc6388e",
   "metadata": {},
   "outputs": [
    {
     "data": {
      "text/html": [
       "<div>\n",
       "<style scoped>\n",
       "    .dataframe tbody tr th:only-of-type {\n",
       "        vertical-align: middle;\n",
       "    }\n",
       "\n",
       "    .dataframe tbody tr th {\n",
       "        vertical-align: top;\n",
       "    }\n",
       "\n",
       "    .dataframe thead th {\n",
       "        text-align: right;\n",
       "    }\n",
       "</style>\n",
       "<table border=\"1\" class=\"dataframe\">\n",
       "  <thead>\n",
       "    <tr style=\"text-align: right;\">\n",
       "      <th></th>\n",
       "      <th>Asset Turnover</th>\n",
       "      <th>Quick Ratio</th>\n",
       "      <th>Return on Assets</th>\n",
       "      <th>Debt to Assets</th>\n",
       "      <th>Price to Earnings</th>\n",
       "    </tr>\n",
       "  </thead>\n",
       "  <tbody>\n",
       "    <tr>\n",
       "      <th>0</th>\n",
       "      <td>0.200000</td>\n",
       "      <td>1.230769</td>\n",
       "      <td>0.457143</td>\n",
       "      <td>0.500000</td>\n",
       "      <td>60.000000</td>\n",
       "    </tr>\n",
       "    <tr>\n",
       "      <th>1</th>\n",
       "      <td>0.265060</td>\n",
       "      <td>1.166667</td>\n",
       "      <td>0.160000</td>\n",
       "      <td>0.785714</td>\n",
       "      <td>27.500000</td>\n",
       "    </tr>\n",
       "    <tr>\n",
       "      <th>2</th>\n",
       "      <td>0.387097</td>\n",
       "      <td>1.636364</td>\n",
       "      <td>0.114286</td>\n",
       "      <td>0.750000</td>\n",
       "      <td>120.000000</td>\n",
       "    </tr>\n",
       "    <tr>\n",
       "      <th>3</th>\n",
       "      <td>0.650000</td>\n",
       "      <td>1.133333</td>\n",
       "      <td>0.066667</td>\n",
       "      <td>0.812500</td>\n",
       "      <td>9.090909</td>\n",
       "    </tr>\n",
       "    <tr>\n",
       "      <th>4</th>\n",
       "      <td>0.800000</td>\n",
       "      <td>1.600000</td>\n",
       "      <td>0.042105</td>\n",
       "      <td>0.266667</td>\n",
       "      <td>25.000000</td>\n",
       "    </tr>\n",
       "  </tbody>\n",
       "</table>\n",
       "</div>"
      ],
      "text/plain": [
       "   Asset Turnover  Quick Ratio  Return on Assets  Debt to Assets  \\\n",
       "0        0.200000     1.230769          0.457143        0.500000   \n",
       "1        0.265060     1.166667          0.160000        0.785714   \n",
       "2        0.387097     1.636364          0.114286        0.750000   \n",
       "3        0.650000     1.133333          0.066667        0.812500   \n",
       "4        0.800000     1.600000          0.042105        0.266667   \n",
       "\n",
       "   Price to Earnings  \n",
       "0          60.000000  \n",
       "1          27.500000  \n",
       "2         120.000000  \n",
       "3           9.090909  \n",
       "4          25.000000  "
      ]
     },
     "execution_count": 3,
     "metadata": {},
     "output_type": "execute_result"
    }
   ],
   "source": [
    "from financetoolkit.ratios import (\n",
    "    efficiency,\n",
    "    liquidity,\n",
    "    profitability,\n",
    "    solvency,\n",
    "    valuation,\n",
    ")\n",
    "\n",
    "# Note: this is dummy data, not actual data\n",
    "\n",
    "asset_turnover = efficiency.get_asset_turnover_ratio(\n",
    "    sales=pd.Series([100, 110, 120, 130, 80]),\n",
    "    total_assets_begin=pd.Series([500, 400, 300, 200, 100]),\n",
    "    total_assets_end=pd.Series([500, 430, 320, 200, 100]),\n",
    ")\n",
    "\n",
    "quick_ratio = liquidity.get_quick_ratio(\n",
    "    cash_and_equivalents=pd.Series([100, 110, 120, 130, 80]),\n",
    "    accounts_receivable=pd.Series([30, 20, 30, 20, 40]),\n",
    "    marketable_securities=pd.Series([30, 10, 30, 20, 40]),\n",
    "    current_liabilities=pd.Series([130, 120, 110, 150, 100]),\n",
    ")\n",
    "\n",
    "return_on_assets = profitability.get_return_on_assets(\n",
    "    net_income=pd.Series([80, 40, 40, 30, 20]),\n",
    "    total_assets_begin=pd.Series([150, 200, 300, 400, 500]),\n",
    "    total_assets_end=pd.Series([200, 300, 400, 500, 450]),\n",
    ")\n",
    "\n",
    "debt_to_assets = solvency.get_debt_to_assets_ratio(\n",
    "    total_debt=pd.Series([100, 110, 120, 130, 80]),\n",
    "    total_assets=pd.Series([200, 140, 160, 160, 300]),\n",
    ")\n",
    "\n",
    "price_to_earnings = valuation.get_price_earnings_ratio(\n",
    "    stock_price=pd.Series([30, 11, 12, 10, 30]),\n",
    "    earnings_per_share=pd.Series([0.5, 0.4, 0.1, 1.1, 1.2]),\n",
    ")\n",
    "\n",
    "components = {\n",
    "    \"Asset Turnover\": asset_turnover,\n",
    "    \"Quick Ratio\": quick_ratio,\n",
    "    \"Return on Assets\": return_on_assets,\n",
    "    \"Debt to Assets\": debt_to_assets,\n",
    "    \"Price to Earnings\": price_to_earnings,\n",
    "}\n",
    "\n",
    "\n",
    "pd.DataFrame(components)"
   ]
  },
  {
   "cell_type": "markdown",
   "id": "fb45967d",
   "metadata": {},
   "source": [
    "The Dupont analysis functionality was filled with actual data from Apple and therefore it returns the results that closely match their actual metrics given the reporting dates in October."
   ]
  },
  {
   "cell_type": "code",
   "execution_count": 4,
   "id": "a528524b",
   "metadata": {},
   "outputs": [
    {
     "data": {
      "text/html": [
       "<div>\n",
       "<style scoped>\n",
       "    .dataframe tbody tr th:only-of-type {\n",
       "        vertical-align: middle;\n",
       "    }\n",
       "\n",
       "    .dataframe tbody tr th {\n",
       "        vertical-align: top;\n",
       "    }\n",
       "\n",
       "    .dataframe thead th {\n",
       "        text-align: right;\n",
       "    }\n",
       "</style>\n",
       "<table border=\"1\" class=\"dataframe\">\n",
       "  <thead>\n",
       "    <tr style=\"text-align: right;\">\n",
       "      <th></th>\n",
       "      <th>2018</th>\n",
       "      <th>2019</th>\n",
       "      <th>2020</th>\n",
       "      <th>2021</th>\n",
       "      <th>2022</th>\n",
       "    </tr>\n",
       "  </thead>\n",
       "  <tbody>\n",
       "    <tr>\n",
       "      <th>Net Profit Margin</th>\n",
       "      <td>0.224142</td>\n",
       "      <td>0.212381</td>\n",
       "      <td>0.209136</td>\n",
       "      <td>0.258818</td>\n",
       "      <td>0.253096</td>\n",
       "    </tr>\n",
       "    <tr>\n",
       "      <th>Asset Turnover</th>\n",
       "      <td>NaN</td>\n",
       "      <td>0.738878</td>\n",
       "      <td>0.828845</td>\n",
       "      <td>1.084079</td>\n",
       "      <td>1.120637</td>\n",
       "    </tr>\n",
       "    <tr>\n",
       "      <th>Equity Multiplier</th>\n",
       "      <td>NaN</td>\n",
       "      <td>3.563342</td>\n",
       "      <td>4.250894</td>\n",
       "      <td>5.254966</td>\n",
       "      <td>6.186222</td>\n",
       "    </tr>\n",
       "    <tr>\n",
       "      <th>Return on Equity</th>\n",
       "      <td>NaN</td>\n",
       "      <td>0.559172</td>\n",
       "      <td>0.736856</td>\n",
       "      <td>1.474433</td>\n",
       "      <td>1.754593</td>\n",
       "    </tr>\n",
       "  </tbody>\n",
       "</table>\n",
       "</div>"
      ],
      "text/plain": [
       "                       2018      2019      2020      2021      2022\n",
       "Net Profit Margin  0.224142  0.212381  0.209136  0.258818  0.253096\n",
       "Asset Turnover          NaN  0.738878  0.828845  1.084079  1.120637\n",
       "Equity Multiplier       NaN  3.563342  4.250894  5.254966  6.186222\n",
       "Return on Equity        NaN  0.559172  0.736856  1.474433  1.754593"
      ]
     },
     "execution_count": 4,
     "metadata": {},
     "output_type": "execute_result"
    }
   ],
   "source": [
    "from financetoolkit.models import dupont\n",
    "\n",
    "years = [2018, 2019, 2020, 2021, 2022]\n",
    "\n",
    "dupont.get_dupont_analysis(\n",
    "    net_income=pd.Series(\n",
    "        [59531000000, 55256000000, 57411000000, 94680000000, 99803000000], index=years\n",
    "    ),\n",
    "    total_revenue=pd.Series(\n",
    "        [265595000000, 260174000000, 274515000000, 365817000000, 394328000000],\n",
    "        index=years,\n",
    "    ),\n",
    "    total_assets_begin=pd.Series(\n",
    "        [np.nan, 365725000000, 338516000000, 323888000000, 351002000000],\n",
    "        index=years,\n",
    "    ),\n",
    "    total_assets_end=pd.Series(\n",
    "        [365725000000, 338516000000, 323888000000, 351002000000, 352755000000],\n",
    "        index=years,\n",
    "    ),\n",
    "    total_equity_begin=pd.Series(\n",
    "        [np.nan, 107147000000, 90488000000, 65339000000, 63090000000], index=years\n",
    "    ),\n",
    "    total_equity_end=pd.Series(\n",
    "        [107147000000, 90488000000, 65339000000, 63090000000, 50672000000], index=years\n",
    "    ),\n",
    ")"
   ]
  },
  {
   "cell_type": "code",
   "execution_count": null,
   "id": "eca8ec5b",
   "metadata": {},
   "outputs": [],
   "source": []
  },
  {
   "cell_type": "code",
   "execution_count": null,
   "id": "858abcd9",
   "metadata": {},
   "outputs": [],
   "source": []
  }
 ],
 "metadata": {
  "kernelspec": {
   "display_name": "Python 3 (ipykernel)",
   "language": "python",
   "name": "python3"
  },
  "language_info": {
   "codemirror_mode": {
    "name": "ipython",
    "version": 3
   },
   "file_extension": ".py",
   "mimetype": "text/x-python",
   "name": "python",
   "nbconvert_exporter": "python",
   "pygments_lexer": "ipython3",
   "version": "3.11.4"
  }
 },
 "nbformat": 4,
 "nbformat_minor": 5
}
